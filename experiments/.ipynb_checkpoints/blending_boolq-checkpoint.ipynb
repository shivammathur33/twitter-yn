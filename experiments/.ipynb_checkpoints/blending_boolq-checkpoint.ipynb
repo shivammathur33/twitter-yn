{
 "cells": [
  {
   "cell_type": "code",
   "execution_count": 1,
   "metadata": {
    "colab": {
     "base_uri": "https://localhost:8080/"
    },
    "executionInfo": {
     "elapsed": 6622,
     "status": "ok",
     "timestamp": 1686764446072,
     "user": {
      "displayName": "Shivam Mathur",
      "userId": "13996464205483377357"
     },
     "user_tz": 420
    },
    "id": "k26gV5Sk8WzG",
    "outputId": "bea04f62-2cf6-48ae-8579-12b9d51d1ef4"
   },
   "outputs": [
    {
     "name": "stdout",
     "output_type": "stream",
     "text": [
      "Looking in indexes: https://pypi.org/simple, https://us-python.pkg.dev/colab-wheels/public/simple/\n",
      "Collecting tensorflow_text\n",
      "  Downloading tensorflow_text-2.12.1-cp310-cp310-manylinux_2_17_x86_64.manylinux2014_x86_64.whl (6.0 MB)\n",
      "\u001b[2K     \u001b[90m━━━━━━━━━━━━━━━━━━━━━━━━━━━━━━━━━━━━━━━━\u001b[0m \u001b[32m6.0/6.0 MB\u001b[0m \u001b[31m47.1 MB/s\u001b[0m eta \u001b[36m0:00:00\u001b[0m\n",
      "\u001b[?25hRequirement already satisfied: tensorflow-hub>=0.8.0 in /usr/local/lib/python3.10/dist-packages (from tensorflow_text) (0.13.0)\n",
      "Requirement already satisfied: tensorflow<2.13,>=2.12.0 in /usr/local/lib/python3.10/dist-packages (from tensorflow_text) (2.12.0)\n",
      "Requirement already satisfied: absl-py>=1.0.0 in /usr/local/lib/python3.10/dist-packages (from tensorflow<2.13,>=2.12.0->tensorflow_text) (1.4.0)\n",
      "Requirement already satisfied: astunparse>=1.6.0 in /usr/local/lib/python3.10/dist-packages (from tensorflow<2.13,>=2.12.0->tensorflow_text) (1.6.3)\n",
      "Requirement already satisfied: flatbuffers>=2.0 in /usr/local/lib/python3.10/dist-packages (from tensorflow<2.13,>=2.12.0->tensorflow_text) (23.3.3)\n",
      "Requirement already satisfied: gast<=0.4.0,>=0.2.1 in /usr/local/lib/python3.10/dist-packages (from tensorflow<2.13,>=2.12.0->tensorflow_text) (0.4.0)\n",
      "Requirement already satisfied: google-pasta>=0.1.1 in /usr/local/lib/python3.10/dist-packages (from tensorflow<2.13,>=2.12.0->tensorflow_text) (0.2.0)\n",
      "Requirement already satisfied: grpcio<2.0,>=1.24.3 in /usr/local/lib/python3.10/dist-packages (from tensorflow<2.13,>=2.12.0->tensorflow_text) (1.54.0)\n",
      "Requirement already satisfied: h5py>=2.9.0 in /usr/local/lib/python3.10/dist-packages (from tensorflow<2.13,>=2.12.0->tensorflow_text) (3.8.0)\n",
      "Requirement already satisfied: jax>=0.3.15 in /usr/local/lib/python3.10/dist-packages (from tensorflow<2.13,>=2.12.0->tensorflow_text) (0.4.10)\n",
      "Requirement already satisfied: keras<2.13,>=2.12.0 in /usr/local/lib/python3.10/dist-packages (from tensorflow<2.13,>=2.12.0->tensorflow_text) (2.12.0)\n",
      "Requirement already satisfied: libclang>=13.0.0 in /usr/local/lib/python3.10/dist-packages (from tensorflow<2.13,>=2.12.0->tensorflow_text) (16.0.0)\n",
      "Requirement already satisfied: numpy<1.24,>=1.22 in /usr/local/lib/python3.10/dist-packages (from tensorflow<2.13,>=2.12.0->tensorflow_text) (1.22.4)\n",
      "Requirement already satisfied: opt-einsum>=2.3.2 in /usr/local/lib/python3.10/dist-packages (from tensorflow<2.13,>=2.12.0->tensorflow_text) (3.3.0)\n",
      "Requirement already satisfied: packaging in /usr/local/lib/python3.10/dist-packages (from tensorflow<2.13,>=2.12.0->tensorflow_text) (23.1)\n",
      "Requirement already satisfied: protobuf!=4.21.0,!=4.21.1,!=4.21.2,!=4.21.3,!=4.21.4,!=4.21.5,<5.0.0dev,>=3.20.3 in /usr/local/lib/python3.10/dist-packages (from tensorflow<2.13,>=2.12.0->tensorflow_text) (3.20.3)\n",
      "Requirement already satisfied: setuptools in /usr/local/lib/python3.10/dist-packages (from tensorflow<2.13,>=2.12.0->tensorflow_text) (67.7.2)\n",
      "Requirement already satisfied: six>=1.12.0 in /usr/local/lib/python3.10/dist-packages (from tensorflow<2.13,>=2.12.0->tensorflow_text) (1.16.0)\n",
      "Requirement already satisfied: tensorboard<2.13,>=2.12 in /usr/local/lib/python3.10/dist-packages (from tensorflow<2.13,>=2.12.0->tensorflow_text) (2.12.2)\n",
      "Requirement already satisfied: tensorflow-estimator<2.13,>=2.12.0 in /usr/local/lib/python3.10/dist-packages (from tensorflow<2.13,>=2.12.0->tensorflow_text) (2.12.0)\n",
      "Requirement already satisfied: termcolor>=1.1.0 in /usr/local/lib/python3.10/dist-packages (from tensorflow<2.13,>=2.12.0->tensorflow_text) (2.3.0)\n",
      "Requirement already satisfied: typing-extensions>=3.6.6 in /usr/local/lib/python3.10/dist-packages (from tensorflow<2.13,>=2.12.0->tensorflow_text) (4.5.0)\n",
      "Requirement already satisfied: wrapt<1.15,>=1.11.0 in /usr/local/lib/python3.10/dist-packages (from tensorflow<2.13,>=2.12.0->tensorflow_text) (1.14.1)\n",
      "Requirement already satisfied: tensorflow-io-gcs-filesystem>=0.23.1 in /usr/local/lib/python3.10/dist-packages (from tensorflow<2.13,>=2.12.0->tensorflow_text) (0.32.0)\n",
      "Requirement already satisfied: wheel<1.0,>=0.23.0 in /usr/local/lib/python3.10/dist-packages (from astunparse>=1.6.0->tensorflow<2.13,>=2.12.0->tensorflow_text) (0.40.0)\n",
      "Requirement already satisfied: ml-dtypes>=0.1.0 in /usr/local/lib/python3.10/dist-packages (from jax>=0.3.15->tensorflow<2.13,>=2.12.0->tensorflow_text) (0.1.0)\n",
      "Requirement already satisfied: scipy>=1.7 in /usr/local/lib/python3.10/dist-packages (from jax>=0.3.15->tensorflow<2.13,>=2.12.0->tensorflow_text) (1.10.1)\n",
      "Requirement already satisfied: google-auth<3,>=1.6.3 in /usr/local/lib/python3.10/dist-packages (from tensorboard<2.13,>=2.12->tensorflow<2.13,>=2.12.0->tensorflow_text) (2.17.3)\n",
      "Requirement already satisfied: google-auth-oauthlib<1.1,>=0.5 in /usr/local/lib/python3.10/dist-packages (from tensorboard<2.13,>=2.12->tensorflow<2.13,>=2.12.0->tensorflow_text) (1.0.0)\n",
      "Requirement already satisfied: markdown>=2.6.8 in /usr/local/lib/python3.10/dist-packages (from tensorboard<2.13,>=2.12->tensorflow<2.13,>=2.12.0->tensorflow_text) (3.4.3)\n",
      "Requirement already satisfied: requests<3,>=2.21.0 in /usr/local/lib/python3.10/dist-packages (from tensorboard<2.13,>=2.12->tensorflow<2.13,>=2.12.0->tensorflow_text) (2.27.1)\n",
      "Requirement already satisfied: tensorboard-data-server<0.8.0,>=0.7.0 in /usr/local/lib/python3.10/dist-packages (from tensorboard<2.13,>=2.12->tensorflow<2.13,>=2.12.0->tensorflow_text) (0.7.0)\n",
      "Requirement already satisfied: tensorboard-plugin-wit>=1.6.0 in /usr/local/lib/python3.10/dist-packages (from tensorboard<2.13,>=2.12->tensorflow<2.13,>=2.12.0->tensorflow_text) (1.8.1)\n",
      "Requirement already satisfied: werkzeug>=1.0.1 in /usr/local/lib/python3.10/dist-packages (from tensorboard<2.13,>=2.12->tensorflow<2.13,>=2.12.0->tensorflow_text) (2.3.0)\n",
      "Requirement already satisfied: cachetools<6.0,>=2.0.0 in /usr/local/lib/python3.10/dist-packages (from google-auth<3,>=1.6.3->tensorboard<2.13,>=2.12->tensorflow<2.13,>=2.12.0->tensorflow_text) (5.3.0)\n",
      "Requirement already satisfied: pyasn1-modules>=0.2.1 in /usr/local/lib/python3.10/dist-packages (from google-auth<3,>=1.6.3->tensorboard<2.13,>=2.12->tensorflow<2.13,>=2.12.0->tensorflow_text) (0.3.0)\n",
      "Requirement already satisfied: rsa<5,>=3.1.4 in /usr/local/lib/python3.10/dist-packages (from google-auth<3,>=1.6.3->tensorboard<2.13,>=2.12->tensorflow<2.13,>=2.12.0->tensorflow_text) (4.9)\n",
      "Requirement already satisfied: requests-oauthlib>=0.7.0 in /usr/local/lib/python3.10/dist-packages (from google-auth-oauthlib<1.1,>=0.5->tensorboard<2.13,>=2.12->tensorflow<2.13,>=2.12.0->tensorflow_text) (1.3.1)\n",
      "Requirement already satisfied: urllib3<1.27,>=1.21.1 in /usr/local/lib/python3.10/dist-packages (from requests<3,>=2.21.0->tensorboard<2.13,>=2.12->tensorflow<2.13,>=2.12.0->tensorflow_text) (1.26.15)\n",
      "Requirement already satisfied: certifi>=2017.4.17 in /usr/local/lib/python3.10/dist-packages (from requests<3,>=2.21.0->tensorboard<2.13,>=2.12->tensorflow<2.13,>=2.12.0->tensorflow_text) (2022.12.7)\n",
      "Requirement already satisfied: charset-normalizer~=2.0.0 in /usr/local/lib/python3.10/dist-packages (from requests<3,>=2.21.0->tensorboard<2.13,>=2.12->tensorflow<2.13,>=2.12.0->tensorflow_text) (2.0.12)\n",
      "Requirement already satisfied: idna<4,>=2.5 in /usr/local/lib/python3.10/dist-packages (from requests<3,>=2.21.0->tensorboard<2.13,>=2.12->tensorflow<2.13,>=2.12.0->tensorflow_text) (3.4)\n",
      "Requirement already satisfied: MarkupSafe>=2.1.1 in /usr/local/lib/python3.10/dist-packages (from werkzeug>=1.0.1->tensorboard<2.13,>=2.12->tensorflow<2.13,>=2.12.0->tensorflow_text) (2.1.2)\n",
      "Requirement already satisfied: pyasn1<0.6.0,>=0.4.6 in /usr/local/lib/python3.10/dist-packages (from pyasn1-modules>=0.2.1->google-auth<3,>=1.6.3->tensorboard<2.13,>=2.12->tensorflow<2.13,>=2.12.0->tensorflow_text) (0.5.0)\n",
      "Requirement already satisfied: oauthlib>=3.0.0 in /usr/local/lib/python3.10/dist-packages (from requests-oauthlib>=0.7.0->google-auth-oauthlib<1.1,>=0.5->tensorboard<2.13,>=2.12->tensorflow<2.13,>=2.12.0->tensorflow_text) (3.2.2)\n",
      "Installing collected packages: tensorflow_text\n",
      "Successfully installed tensorflow_text-2.12.1\n"
     ]
    }
   ],
   "source": [
    "pip install tensorflow_text"
   ]
  },
  {
   "cell_type": "code",
   "execution_count": 2,
   "metadata": {
    "executionInfo": {
     "elapsed": 3342,
     "status": "ok",
     "timestamp": 1686764449410,
     "user": {
      "displayName": "Shivam Mathur",
      "userId": "13996464205483377357"
     },
     "user_tz": 420
    },
    "id": "7T0ZxAsrIkOL"
   },
   "outputs": [],
   "source": [
    "import tensorflow as tf\n",
    "tf.config.run_functions_eagerly(True)\n",
    "tf.data.experimental.enable_debug_mode()\n",
    "\n",
    "import keras\n",
    "import tensorflow_hub as hub\n",
    "import tensorflow_text as text"
   ]
  },
  {
   "cell_type": "code",
   "execution_count": 3,
   "metadata": {
    "executionInfo": {
     "elapsed": 6,
     "status": "ok",
     "timestamp": 1686764449411,
     "user": {
      "displayName": "Shivam Mathur",
      "userId": "13996464205483377357"
     },
     "user_tz": 420
    },
    "id": "y9LKOVa1Irvs"
   },
   "outputs": [],
   "source": [
    "import pandas as pd\n",
    "import numpy as np"
   ]
  },
  {
   "cell_type": "code",
   "execution_count": 4,
   "metadata": {
    "executionInfo": {
     "elapsed": 3179,
     "status": "ok",
     "timestamp": 1686764452585,
     "user": {
      "displayName": "Shivam Mathur",
      "userId": "13996464205483377357"
     },
     "user_tz": 420
    },
    "id": "a0EneFQYJMU6"
   },
   "outputs": [],
   "source": [
    "df_train = pd.read_csv('TR_a.csv')\n",
    "df_train=df_train.rename(columns={\"gold_adj\": \"gold\"})\n",
    "\n",
    "df_dev = pd.read_csv('TD_a.csv')\n",
    "df_dev=df_dev.rename(columns={\"gold_adj\": \"gold\"})\n",
    "\n",
    "df_test = pd.read_csv('TE_a.csv')\n",
    "df_test=df_test.rename(columns={\"gold_adj\": \"gold\"})"
   ]
  },
  {
   "cell_type": "code",
   "execution_count": 5,
   "metadata": {
    "executionInfo": {
     "elapsed": 17,
     "status": "ok",
     "timestamp": 1686764452586,
     "user": {
      "displayName": "Shivam Mathur",
      "userId": "13996464205483377357"
     },
     "user_tz": 420
    },
    "id": "T88OdXSI39Hm"
   },
   "outputs": [],
   "source": [
    "df_train['QA'] = df_train['Main_tweet'] + '[SEP]' + df_train['Reply_tweet']\n",
    "df_dev['QA'] = df_dev['Main_tweet'] + '[SEP]' + df_dev['Reply_tweet']\n",
    "df_test['QA'] = df_test['Main_tweet'] + '[SEP]' + df_test['Reply_tweet']\n"
   ]
  },
  {
   "cell_type": "code",
   "execution_count": 6,
   "metadata": {
    "colab": {
     "base_uri": "https://localhost:8080/"
    },
    "executionInfo": {
     "elapsed": 16,
     "status": "ok",
     "timestamp": 1686764452586,
     "user": {
      "displayName": "Shivam Mathur",
      "userId": "13996464205483377357"
     },
     "user_tz": 420
    },
    "id": "YUARNa3iJMdN",
    "outputId": "66c7d2bc-2e7b-4940-c192-bab5f28b403c"
   },
   "outputs": [
    {
     "data": {
      "text/plain": [
       "y     212\n",
       "n     157\n",
       "uk     80\n",
       "py     49\n",
       "pn     29\n",
       "Name: gold, dtype: int64"
      ]
     },
     "execution_count": 6,
     "metadata": {},
     "output_type": "execute_result"
    }
   ],
   "source": [
    "df_test['gold'].value_counts()"
   ]
  },
  {
   "cell_type": "code",
   "execution_count": 7,
   "metadata": {
    "colab": {
     "base_uri": "https://localhost:8080/",
     "height": 424
    },
    "executionInfo": {
     "elapsed": 13,
     "status": "ok",
     "timestamp": 1686764452586,
     "user": {
      "displayName": "Shivam Mathur",
      "userId": "13996464205483377357"
     },
     "user_tz": 420
    },
    "id": "-YhdRdMwK4P-",
    "outputId": "f64c1d50-c37e-424e-eb1a-54c436bc90e5"
   },
   "outputs": [
    {
     "data": {
      "text/html": [
       "\n",
       "  <div id=\"df-14cae400-493a-406c-9dca-40a63182188f\">\n",
       "    <div class=\"colab-df-container\">\n",
       "      <div>\n",
       "<style scoped>\n",
       "    .dataframe tbody tr th:only-of-type {\n",
       "        vertical-align: middle;\n",
       "    }\n",
       "\n",
       "    .dataframe tbody tr th {\n",
       "        vertical-align: top;\n",
       "    }\n",
       "\n",
       "    .dataframe thead th {\n",
       "        text-align: right;\n",
       "    }\n",
       "</style>\n",
       "<table border=\"1\" class=\"dataframe\">\n",
       "  <thead>\n",
       "    <tr style=\"text-align: right;\">\n",
       "      <th></th>\n",
       "      <th>gold_n</th>\n",
       "      <th>gold_pn</th>\n",
       "      <th>gold_py</th>\n",
       "      <th>gold_uk</th>\n",
       "      <th>gold_y</th>\n",
       "    </tr>\n",
       "  </thead>\n",
       "  <tbody>\n",
       "    <tr>\n",
       "      <th>0</th>\n",
       "      <td>0</td>\n",
       "      <td>0</td>\n",
       "      <td>0</td>\n",
       "      <td>0</td>\n",
       "      <td>1</td>\n",
       "    </tr>\n",
       "    <tr>\n",
       "      <th>1</th>\n",
       "      <td>0</td>\n",
       "      <td>0</td>\n",
       "      <td>0</td>\n",
       "      <td>0</td>\n",
       "      <td>1</td>\n",
       "    </tr>\n",
       "    <tr>\n",
       "      <th>2</th>\n",
       "      <td>1</td>\n",
       "      <td>0</td>\n",
       "      <td>0</td>\n",
       "      <td>0</td>\n",
       "      <td>0</td>\n",
       "    </tr>\n",
       "    <tr>\n",
       "      <th>3</th>\n",
       "      <td>1</td>\n",
       "      <td>0</td>\n",
       "      <td>0</td>\n",
       "      <td>0</td>\n",
       "      <td>0</td>\n",
       "    </tr>\n",
       "    <tr>\n",
       "      <th>4</th>\n",
       "      <td>0</td>\n",
       "      <td>0</td>\n",
       "      <td>0</td>\n",
       "      <td>0</td>\n",
       "      <td>1</td>\n",
       "    </tr>\n",
       "    <tr>\n",
       "      <th>...</th>\n",
       "      <td>...</td>\n",
       "      <td>...</td>\n",
       "      <td>...</td>\n",
       "      <td>...</td>\n",
       "      <td>...</td>\n",
       "    </tr>\n",
       "    <tr>\n",
       "      <th>3310</th>\n",
       "      <td>0</td>\n",
       "      <td>0</td>\n",
       "      <td>1</td>\n",
       "      <td>0</td>\n",
       "      <td>0</td>\n",
       "    </tr>\n",
       "    <tr>\n",
       "      <th>3311</th>\n",
       "      <td>1</td>\n",
       "      <td>0</td>\n",
       "      <td>0</td>\n",
       "      <td>0</td>\n",
       "      <td>0</td>\n",
       "    </tr>\n",
       "    <tr>\n",
       "      <th>3312</th>\n",
       "      <td>1</td>\n",
       "      <td>0</td>\n",
       "      <td>0</td>\n",
       "      <td>0</td>\n",
       "      <td>0</td>\n",
       "    </tr>\n",
       "    <tr>\n",
       "      <th>3313</th>\n",
       "      <td>0</td>\n",
       "      <td>0</td>\n",
       "      <td>0</td>\n",
       "      <td>1</td>\n",
       "      <td>0</td>\n",
       "    </tr>\n",
       "    <tr>\n",
       "      <th>3314</th>\n",
       "      <td>0</td>\n",
       "      <td>0</td>\n",
       "      <td>0</td>\n",
       "      <td>1</td>\n",
       "      <td>0</td>\n",
       "    </tr>\n",
       "  </tbody>\n",
       "</table>\n",
       "<p>3315 rows × 5 columns</p>\n",
       "</div>\n",
       "      <button class=\"colab-df-convert\" onclick=\"convertToInteractive('df-14cae400-493a-406c-9dca-40a63182188f')\"\n",
       "              title=\"Convert this dataframe to an interactive table.\"\n",
       "              style=\"display:none;\">\n",
       "        \n",
       "  <svg xmlns=\"http://www.w3.org/2000/svg\" height=\"24px\"viewBox=\"0 0 24 24\"\n",
       "       width=\"24px\">\n",
       "    <path d=\"M0 0h24v24H0V0z\" fill=\"none\"/>\n",
       "    <path d=\"M18.56 5.44l.94 2.06.94-2.06 2.06-.94-2.06-.94-.94-2.06-.94 2.06-2.06.94zm-11 1L8.5 8.5l.94-2.06 2.06-.94-2.06-.94L8.5 2.5l-.94 2.06-2.06.94zm10 10l.94 2.06.94-2.06 2.06-.94-2.06-.94-.94-2.06-.94 2.06-2.06.94z\"/><path d=\"M17.41 7.96l-1.37-1.37c-.4-.4-.92-.59-1.43-.59-.52 0-1.04.2-1.43.59L10.3 9.45l-7.72 7.72c-.78.78-.78 2.05 0 2.83L4 21.41c.39.39.9.59 1.41.59.51 0 1.02-.2 1.41-.59l7.78-7.78 2.81-2.81c.8-.78.8-2.07 0-2.86zM5.41 20L4 18.59l7.72-7.72 1.47 1.35L5.41 20z\"/>\n",
       "  </svg>\n",
       "      </button>\n",
       "      \n",
       "  <style>\n",
       "    .colab-df-container {\n",
       "      display:flex;\n",
       "      flex-wrap:wrap;\n",
       "      gap: 12px;\n",
       "    }\n",
       "\n",
       "    .colab-df-convert {\n",
       "      background-color: #E8F0FE;\n",
       "      border: none;\n",
       "      border-radius: 50%;\n",
       "      cursor: pointer;\n",
       "      display: none;\n",
       "      fill: #1967D2;\n",
       "      height: 32px;\n",
       "      padding: 0 0 0 0;\n",
       "      width: 32px;\n",
       "    }\n",
       "\n",
       "    .colab-df-convert:hover {\n",
       "      background-color: #E2EBFA;\n",
       "      box-shadow: 0px 1px 2px rgba(60, 64, 67, 0.3), 0px 1px 3px 1px rgba(60, 64, 67, 0.15);\n",
       "      fill: #174EA6;\n",
       "    }\n",
       "\n",
       "    [theme=dark] .colab-df-convert {\n",
       "      background-color: #3B4455;\n",
       "      fill: #D2E3FC;\n",
       "    }\n",
       "\n",
       "    [theme=dark] .colab-df-convert:hover {\n",
       "      background-color: #434B5C;\n",
       "      box-shadow: 0px 1px 3px 1px rgba(0, 0, 0, 0.15);\n",
       "      filter: drop-shadow(0px 1px 2px rgba(0, 0, 0, 0.3));\n",
       "      fill: #FFFFFF;\n",
       "    }\n",
       "  </style>\n",
       "\n",
       "      <script>\n",
       "        const buttonEl =\n",
       "          document.querySelector('#df-14cae400-493a-406c-9dca-40a63182188f button.colab-df-convert');\n",
       "        buttonEl.style.display =\n",
       "          google.colab.kernel.accessAllowed ? 'block' : 'none';\n",
       "\n",
       "        async function convertToInteractive(key) {\n",
       "          const element = document.querySelector('#df-14cae400-493a-406c-9dca-40a63182188f');\n",
       "          const dataTable =\n",
       "            await google.colab.kernel.invokeFunction('convertToInteractive',\n",
       "                                                     [key], {});\n",
       "          if (!dataTable) return;\n",
       "\n",
       "          const docLinkHtml = 'Like what you see? Visit the ' +\n",
       "            '<a target=\"_blank\" href=https://colab.research.google.com/notebooks/data_table.ipynb>data table notebook</a>'\n",
       "            + ' to learn more about interactive tables.';\n",
       "          element.innerHTML = '';\n",
       "          dataTable['output_type'] = 'display_data';\n",
       "          await google.colab.output.renderOutput(dataTable, element);\n",
       "          const docLink = document.createElement('div');\n",
       "          docLink.innerHTML = docLinkHtml;\n",
       "          element.appendChild(docLink);\n",
       "        }\n",
       "      </script>\n",
       "    </div>\n",
       "  </div>\n",
       "  "
      ],
      "text/plain": [
       "      gold_n  gold_pn  gold_py  gold_uk  gold_y\n",
       "0          0        0        0        0       1\n",
       "1          0        0        0        0       1\n",
       "2          1        0        0        0       0\n",
       "3          1        0        0        0       0\n",
       "4          0        0        0        0       1\n",
       "...      ...      ...      ...      ...     ...\n",
       "3310       0        0        1        0       0\n",
       "3311       1        0        0        0       0\n",
       "3312       1        0        0        0       0\n",
       "3313       0        0        0        1       0\n",
       "3314       0        0        0        1       0\n",
       "\n",
       "[3315 rows x 5 columns]"
      ]
     },
     "execution_count": 7,
     "metadata": {},
     "output_type": "execute_result"
    }
   ],
   "source": [
    "y = pd.get_dummies(df_train.gold, prefix='gold')\n",
    "y"
   ]
  },
  {
   "cell_type": "code",
   "execution_count": 8,
   "metadata": {
    "colab": {
     "base_uri": "https://localhost:8080/",
     "height": 424
    },
    "executionInfo": {
     "elapsed": 10,
     "status": "ok",
     "timestamp": 1686764452586,
     "user": {
      "displayName": "Shivam Mathur",
      "userId": "13996464205483377357"
     },
     "user_tz": 420
    },
    "id": "EV2fBI3iMMom",
    "outputId": "4faae214-fd36-4b1d-ed51-f251d8428c68"
   },
   "outputs": [
    {
     "data": {
      "text/html": [
       "\n",
       "  <div id=\"df-767aa7c3-5c15-44ad-8644-3299b6f68c7a\">\n",
       "    <div class=\"colab-df-container\">\n",
       "      <div>\n",
       "<style scoped>\n",
       "    .dataframe tbody tr th:only-of-type {\n",
       "        vertical-align: middle;\n",
       "    }\n",
       "\n",
       "    .dataframe tbody tr th {\n",
       "        vertical-align: top;\n",
       "    }\n",
       "\n",
       "    .dataframe thead th {\n",
       "        text-align: right;\n",
       "    }\n",
       "</style>\n",
       "<table border=\"1\" class=\"dataframe\">\n",
       "  <thead>\n",
       "    <tr style=\"text-align: right;\">\n",
       "      <th></th>\n",
       "      <th>gold_n</th>\n",
       "      <th>gold_pn</th>\n",
       "      <th>gold_py</th>\n",
       "      <th>gold_uk</th>\n",
       "      <th>gold_y</th>\n",
       "    </tr>\n",
       "  </thead>\n",
       "  <tbody>\n",
       "    <tr>\n",
       "      <th>0</th>\n",
       "      <td>0</td>\n",
       "      <td>0</td>\n",
       "      <td>0</td>\n",
       "      <td>0</td>\n",
       "      <td>1</td>\n",
       "    </tr>\n",
       "    <tr>\n",
       "      <th>1</th>\n",
       "      <td>0</td>\n",
       "      <td>0</td>\n",
       "      <td>0</td>\n",
       "      <td>0</td>\n",
       "      <td>1</td>\n",
       "    </tr>\n",
       "    <tr>\n",
       "      <th>2</th>\n",
       "      <td>0</td>\n",
       "      <td>0</td>\n",
       "      <td>0</td>\n",
       "      <td>0</td>\n",
       "      <td>1</td>\n",
       "    </tr>\n",
       "    <tr>\n",
       "      <th>3</th>\n",
       "      <td>1</td>\n",
       "      <td>0</td>\n",
       "      <td>0</td>\n",
       "      <td>0</td>\n",
       "      <td>0</td>\n",
       "    </tr>\n",
       "    <tr>\n",
       "      <th>4</th>\n",
       "      <td>0</td>\n",
       "      <td>0</td>\n",
       "      <td>0</td>\n",
       "      <td>0</td>\n",
       "      <td>1</td>\n",
       "    </tr>\n",
       "    <tr>\n",
       "      <th>...</th>\n",
       "      <td>...</td>\n",
       "      <td>...</td>\n",
       "      <td>...</td>\n",
       "      <td>...</td>\n",
       "      <td>...</td>\n",
       "    </tr>\n",
       "    <tr>\n",
       "      <th>595</th>\n",
       "      <td>1</td>\n",
       "      <td>0</td>\n",
       "      <td>0</td>\n",
       "      <td>0</td>\n",
       "      <td>0</td>\n",
       "    </tr>\n",
       "    <tr>\n",
       "      <th>596</th>\n",
       "      <td>0</td>\n",
       "      <td>0</td>\n",
       "      <td>1</td>\n",
       "      <td>0</td>\n",
       "      <td>0</td>\n",
       "    </tr>\n",
       "    <tr>\n",
       "      <th>597</th>\n",
       "      <td>0</td>\n",
       "      <td>0</td>\n",
       "      <td>0</td>\n",
       "      <td>1</td>\n",
       "      <td>0</td>\n",
       "    </tr>\n",
       "    <tr>\n",
       "      <th>598</th>\n",
       "      <td>0</td>\n",
       "      <td>0</td>\n",
       "      <td>1</td>\n",
       "      <td>0</td>\n",
       "      <td>0</td>\n",
       "    </tr>\n",
       "    <tr>\n",
       "      <th>599</th>\n",
       "      <td>0</td>\n",
       "      <td>0</td>\n",
       "      <td>1</td>\n",
       "      <td>0</td>\n",
       "      <td>0</td>\n",
       "    </tr>\n",
       "  </tbody>\n",
       "</table>\n",
       "<p>600 rows × 5 columns</p>\n",
       "</div>\n",
       "      <button class=\"colab-df-convert\" onclick=\"convertToInteractive('df-767aa7c3-5c15-44ad-8644-3299b6f68c7a')\"\n",
       "              title=\"Convert this dataframe to an interactive table.\"\n",
       "              style=\"display:none;\">\n",
       "        \n",
       "  <svg xmlns=\"http://www.w3.org/2000/svg\" height=\"24px\"viewBox=\"0 0 24 24\"\n",
       "       width=\"24px\">\n",
       "    <path d=\"M0 0h24v24H0V0z\" fill=\"none\"/>\n",
       "    <path d=\"M18.56 5.44l.94 2.06.94-2.06 2.06-.94-2.06-.94-.94-2.06-.94 2.06-2.06.94zm-11 1L8.5 8.5l.94-2.06 2.06-.94-2.06-.94L8.5 2.5l-.94 2.06-2.06.94zm10 10l.94 2.06.94-2.06 2.06-.94-2.06-.94-.94-2.06-.94 2.06-2.06.94z\"/><path d=\"M17.41 7.96l-1.37-1.37c-.4-.4-.92-.59-1.43-.59-.52 0-1.04.2-1.43.59L10.3 9.45l-7.72 7.72c-.78.78-.78 2.05 0 2.83L4 21.41c.39.39.9.59 1.41.59.51 0 1.02-.2 1.41-.59l7.78-7.78 2.81-2.81c.8-.78.8-2.07 0-2.86zM5.41 20L4 18.59l7.72-7.72 1.47 1.35L5.41 20z\"/>\n",
       "  </svg>\n",
       "      </button>\n",
       "      \n",
       "  <style>\n",
       "    .colab-df-container {\n",
       "      display:flex;\n",
       "      flex-wrap:wrap;\n",
       "      gap: 12px;\n",
       "    }\n",
       "\n",
       "    .colab-df-convert {\n",
       "      background-color: #E8F0FE;\n",
       "      border: none;\n",
       "      border-radius: 50%;\n",
       "      cursor: pointer;\n",
       "      display: none;\n",
       "      fill: #1967D2;\n",
       "      height: 32px;\n",
       "      padding: 0 0 0 0;\n",
       "      width: 32px;\n",
       "    }\n",
       "\n",
       "    .colab-df-convert:hover {\n",
       "      background-color: #E2EBFA;\n",
       "      box-shadow: 0px 1px 2px rgba(60, 64, 67, 0.3), 0px 1px 3px 1px rgba(60, 64, 67, 0.15);\n",
       "      fill: #174EA6;\n",
       "    }\n",
       "\n",
       "    [theme=dark] .colab-df-convert {\n",
       "      background-color: #3B4455;\n",
       "      fill: #D2E3FC;\n",
       "    }\n",
       "\n",
       "    [theme=dark] .colab-df-convert:hover {\n",
       "      background-color: #434B5C;\n",
       "      box-shadow: 0px 1px 3px 1px rgba(0, 0, 0, 0.15);\n",
       "      filter: drop-shadow(0px 1px 2px rgba(0, 0, 0, 0.3));\n",
       "      fill: #FFFFFF;\n",
       "    }\n",
       "  </style>\n",
       "\n",
       "      <script>\n",
       "        const buttonEl =\n",
       "          document.querySelector('#df-767aa7c3-5c15-44ad-8644-3299b6f68c7a button.colab-df-convert');\n",
       "        buttonEl.style.display =\n",
       "          google.colab.kernel.accessAllowed ? 'block' : 'none';\n",
       "\n",
       "        async function convertToInteractive(key) {\n",
       "          const element = document.querySelector('#df-767aa7c3-5c15-44ad-8644-3299b6f68c7a');\n",
       "          const dataTable =\n",
       "            await google.colab.kernel.invokeFunction('convertToInteractive',\n",
       "                                                     [key], {});\n",
       "          if (!dataTable) return;\n",
       "\n",
       "          const docLinkHtml = 'Like what you see? Visit the ' +\n",
       "            '<a target=\"_blank\" href=https://colab.research.google.com/notebooks/data_table.ipynb>data table notebook</a>'\n",
       "            + ' to learn more about interactive tables.';\n",
       "          element.innerHTML = '';\n",
       "          dataTable['output_type'] = 'display_data';\n",
       "          await google.colab.output.renderOutput(dataTable, element);\n",
       "          const docLink = document.createElement('div');\n",
       "          docLink.innerHTML = docLinkHtml;\n",
       "          element.appendChild(docLink);\n",
       "        }\n",
       "      </script>\n",
       "    </div>\n",
       "  </div>\n",
       "  "
      ],
      "text/plain": [
       "     gold_n  gold_pn  gold_py  gold_uk  gold_y\n",
       "0         0        0        0        0       1\n",
       "1         0        0        0        0       1\n",
       "2         0        0        0        0       1\n",
       "3         1        0        0        0       0\n",
       "4         0        0        0        0       1\n",
       "..      ...      ...      ...      ...     ...\n",
       "595       1        0        0        0       0\n",
       "596       0        0        1        0       0\n",
       "597       0        0        0        1       0\n",
       "598       0        0        1        0       0\n",
       "599       0        0        1        0       0\n",
       "\n",
       "[600 rows x 5 columns]"
      ]
     },
     "execution_count": 8,
     "metadata": {},
     "output_type": "execute_result"
    }
   ],
   "source": [
    "y_dev = pd.get_dummies(df_dev.gold, prefix='gold')\n",
    "y_dev"
   ]
  },
  {
   "cell_type": "markdown",
   "metadata": {
    "id": "rN9cqeh2LQ2_"
   },
   "source": [
    "Roberta Init"
   ]
  },
  {
   "cell_type": "code",
   "execution_count": 9,
   "metadata": {
    "executionInfo": {
     "elapsed": 33901,
     "status": "ok",
     "timestamp": 1686764486478,
     "user": {
      "displayName": "Shivam Mathur",
      "userId": "13996464205483377357"
     },
     "user_tz": 420
    },
    "id": "CudBiqE0LNRU"
   },
   "outputs": [],
   "source": [
    "# Changed to roberta\n",
    "\n",
    "bert_preprocess = hub.KerasLayer(\"https://tfhub.dev/jeongukjae/roberta_en_cased_preprocess/1\", trainable=True)\n",
    "bert_encoder = hub.KerasLayer(\"https://tfhub.dev/jeongukjae/roberta_en_cased_L-12_H-768_A-12/1\", trainable=True)"
   ]
  },
  {
   "cell_type": "code",
   "execution_count": 10,
   "metadata": {
    "colab": {
     "base_uri": "https://localhost:8080/"
    },
    "executionInfo": {
     "elapsed": 570,
     "status": "ok",
     "timestamp": 1686764487041,
     "user": {
      "displayName": "Shivam Mathur",
      "userId": "13996464205483377357"
     },
     "user_tz": 420
    },
    "id": "4QxXfAuVLXLs",
    "outputId": "7305ae6d-ed9e-473b-9000-0c81c7f3a5b1"
   },
   "outputs": [
    {
     "name": "stderr",
     "output_type": "stream",
     "text": [
      "ERROR:absl:hub.KerasLayer is trainable but has zero trainable weights.\n"
     ]
    }
   ],
   "source": [
    "# RoBerta layers\n",
    "text_input = tf.keras.layers.Input(shape=(), dtype=tf.string, name='text') # Textual input layer\n",
    "preprocessed_text = bert_preprocess(text_input) # The preprocessing of text\n",
    "outputs = bert_encoder(preprocessed_text) # Encoded o/p\n",
    "\n",
    "# Neural network layers\n",
    "# l = tf.keras.layers.Dense(50, activation='sigmoid', name=\"output\")(outputs['pooled_output'])\n",
    "# l = tf.keras.layers.Dense(6, activation='softmax', name=\"soft_output\")(l)\n",
    "\n",
    "# # adding drop out layer\n",
    "# l = tf.keras.layers.Dropout(0.2, name=\"dropout\")(outputs['pooled_output'])\n",
    "# l = tf.keras.layers.Dense(5, activation='softmax', name=\"soft_output\")(l)\n",
    "\n",
    "#use this if without dropout, instead of the two layers above\n",
    "l = tf.keras.layers.Dense(5, activation='softmax', name=\"soft_output\")(outputs['pooled_output'])\n",
    "\n",
    "# Use inputs and outputs to construct a final model\n",
    "model = tf.keras.Model(inputs=[text_input], outputs = [l])"
   ]
  },
  {
   "cell_type": "code",
   "execution_count": 11,
   "metadata": {
    "colab": {
     "base_uri": "https://localhost:8080/"
    },
    "executionInfo": {
     "elapsed": 16,
     "status": "ok",
     "timestamp": 1686764487041,
     "user": {
      "displayName": "Shivam Mathur",
      "userId": "13996464205483377357"
     },
     "user_tz": 420
    },
    "id": "zPPz7n5DLZ-0",
    "outputId": "ade44195-753f-4773-de1b-6df7cc0d34d2"
   },
   "outputs": [
    {
     "name": "stdout",
     "output_type": "stream",
     "text": [
      "Model: \"model\"\n",
      "__________________________________________________________________________________________________\n",
      " Layer (type)                   Output Shape         Param #     Connected to                     \n",
      "==================================================================================================\n",
      " text (InputLayer)              [(None,)]            0           []                               \n",
      "                                                                                                  \n",
      " keras_layer (KerasLayer)       {'input_word_ids':   0           ['text[0][0]']                   \n",
      "                                (None, 128),                                                      \n",
      "                                 'input_mask': (Non                                               \n",
      "                                e, 128),                                                          \n",
      "                                 'input_type_ids':                                                \n",
      "                                (None, 128)}                                                      \n",
      "                                                                                                  \n",
      " keras_layer_1 (KerasLayer)     {'pooled_output': (  124644096   ['keras_layer[0][0]',            \n",
      "                                None, 768),                       'keras_layer[0][1]',            \n",
      "                                 'encoder_outputs':               'keras_layer[0][2]']            \n",
      "                                 [(None, 128, 768),                                               \n",
      "                                 (None, 128, 768),                                                \n",
      "                                 (None, 128, 768),                                                \n",
      "                                 (None, 128, 768),                                                \n",
      "                                 (None, 128, 768),                                                \n",
      "                                 (None, 128, 768),                                                \n",
      "                                 (None, 128, 768),                                                \n",
      "                                 (None, 128, 768),                                                \n",
      "                                 (None, 128, 768),                                                \n",
      "                                 (None, 128, 768),                                                \n",
      "                                 (None, 128, 768),                                                \n",
      "                                 (None, 128, 768)],                                               \n",
      "                                 'sequence_output':                                               \n",
      "                                 (None, 128, 768)}                                                \n",
      "                                                                                                  \n",
      " soft_output (Dense)            (None, 5)            3845        ['keras_layer_1[0][12]']         \n",
      "                                                                                                  \n",
      "==================================================================================================\n",
      "Total params: 124,647,941\n",
      "Trainable params: 124,647,941\n",
      "Non-trainable params: 0\n",
      "__________________________________________________________________________________________________\n"
     ]
    }
   ],
   "source": [
    "model.summary()"
   ]
  },
  {
   "cell_type": "code",
   "execution_count": 12,
   "metadata": {
    "executionInfo": {
     "elapsed": 4,
     "status": "ok",
     "timestamp": 1686764487042,
     "user": {
      "displayName": "Shivam Mathur",
      "userId": "13996464205483377357"
     },
     "user_tz": 420
    },
    "id": "6ydnPOcfLgTU"
   },
   "outputs": [],
   "source": [
    "import keras\n",
    "\n",
    "def get_lr_metric(optimizer):\n",
    "    def lr(y_true, y_pred):\n",
    "        return optimizer.learning_rate # I use ._decayed_lr method instead of .lr\n",
    "    return lr\n",
    "\n",
    "\n",
    "callback = tf.keras.callbacks.EarlyStopping(monitor='val_loss', patience=3, min_delta=0.01, restore_best_weights=True)\n",
    "\n",
    "initial_learning_rate = 0.00001\n",
    "lr_schedule = tf.keras.optimizers.schedules.ExponentialDecay(\n",
    "    initial_learning_rate,\n",
    "    decay_steps=10000,\n",
    "    decay_rate=0.96,\n",
    "    staircase=True)\n",
    "\n",
    "optimizer = tf.keras.optimizers.Adam(learning_rate=lr_schedule)\n",
    "\n",
    "lr_metric = get_lr_metric(optimizer)\n",
    "\n",
    "METRICS = [\n",
    "      tf.keras.metrics.CategoricalAccuracy(name='accuracy'),\n",
    "      tf.keras.metrics.Precision(name='precision'),\n",
    "      tf.keras.metrics.Recall(name='recall'),\n",
    "      lr_metric\n",
    "]\n",
    "\n",
    "# optimizer.learning_rate.assign(0.00002)\n",
    "model.compile(optimizer=optimizer,\n",
    "              loss='CategoricalCrossentropy',\n",
    "              metrics=METRICS)"
   ]
  },
  {
   "cell_type": "code",
   "execution_count": 13,
   "metadata": {
    "executionInfo": {
     "elapsed": 3298,
     "status": "ok",
     "timestamp": 1686764490337,
     "user": {
      "displayName": "Shivam Mathur",
      "userId": "13996464205483377357"
     },
     "user_tz": 420
    },
    "id": "cXxKNHxRIkTY"
   },
   "outputs": [],
   "source": [
    "# get pretraining corpus data\n",
    "df_boolq_train = pd.read_json(r'boolq_train.jsonl', lines=True)\n",
    "df_boolq_dev = pd.read_json(r'boolq_dev.jsonl', lines=True)\n",
    "df_boolq = pd.concat([df_boolq_train, df_boolq_dev]).reset_index().drop(['index'], axis = 1)\n",
    "df_boolq['QA'] = df_boolq['question'] + '[SEP]' + df_boolq['passage']\n",
    "df_boolq = df_boolq.rename(columns={\"answer\": \"gold\"})\n",
    "df_boolq = df_boolq[['QA','gold']].copy()\n",
    "df_boolq['corpus_type'] = 'boolq'\n",
    "\n",
    "df_boolq['gold'] = df_boolq['gold'].astype(str)\n",
    "df_boolq['gold'] = df_boolq['gold'].str.replace('True', 'y')\n",
    "df_boolq['gold'] = df_boolq['gold'].str.replace('False', 'n')\n",
    "\n",
    "\n",
    "# main corpus\n",
    "df_twitter=pd.read_csv('TR_a.csv')\n",
    "df_twitter=df_twitter.rename(columns={\"gold_adj\": \"gold\"})\n",
    "\n",
    "df_twitter['QA'] = df_twitter['Main_tweet'] + '[SEP]' + df_twitter['Reply_tweet']\n",
    "df_twitter = df_twitter[['QA','gold']].copy()\n",
    "df_twitter['corpus_type'] = 'twitter'"
   ]
  },
  {
   "cell_type": "code",
   "execution_count": 14,
   "metadata": {
    "colab": {
     "base_uri": "https://localhost:8080/",
     "height": 424
    },
    "executionInfo": {
     "elapsed": 19,
     "status": "ok",
     "timestamp": 1686764490337,
     "user": {
      "displayName": "Shivam Mathur",
      "userId": "13996464205483377357"
     },
     "user_tz": 420
    },
    "id": "dcBCrNkIEuxJ",
    "outputId": "1381e417-696c-4f2c-9e24-bdae074a3c7e"
   },
   "outputs": [
    {
     "data": {
      "text/html": [
       "\n",
       "  <div id=\"df-f1e48be5-e999-4e33-8eb5-af60bebf1914\">\n",
       "    <div class=\"colab-df-container\">\n",
       "      <div>\n",
       "<style scoped>\n",
       "    .dataframe tbody tr th:only-of-type {\n",
       "        vertical-align: middle;\n",
       "    }\n",
       "\n",
       "    .dataframe tbody tr th {\n",
       "        vertical-align: top;\n",
       "    }\n",
       "\n",
       "    .dataframe thead th {\n",
       "        text-align: right;\n",
       "    }\n",
       "</style>\n",
       "<table border=\"1\" class=\"dataframe\">\n",
       "  <thead>\n",
       "    <tr style=\"text-align: right;\">\n",
       "      <th></th>\n",
       "      <th>QA</th>\n",
       "      <th>gold</th>\n",
       "      <th>corpus_type</th>\n",
       "    </tr>\n",
       "  </thead>\n",
       "  <tbody>\n",
       "    <tr>\n",
       "      <th>0</th>\n",
       "      <td>do iran and afghanistan speak the same languag...</td>\n",
       "      <td>y</td>\n",
       "      <td>boolq</td>\n",
       "    </tr>\n",
       "    <tr>\n",
       "      <th>1</th>\n",
       "      <td>do good samaritan laws protect those who help ...</td>\n",
       "      <td>y</td>\n",
       "      <td>boolq</td>\n",
       "    </tr>\n",
       "    <tr>\n",
       "      <th>2</th>\n",
       "      <td>is windows movie maker part of windows essenti...</td>\n",
       "      <td>y</td>\n",
       "      <td>boolq</td>\n",
       "    </tr>\n",
       "    <tr>\n",
       "      <th>3</th>\n",
       "      <td>is confectionary sugar the same as powdered su...</td>\n",
       "      <td>y</td>\n",
       "      <td>boolq</td>\n",
       "    </tr>\n",
       "    <tr>\n",
       "      <th>4</th>\n",
       "      <td>is elder scrolls online the same as skyrim[SEP...</td>\n",
       "      <td>n</td>\n",
       "      <td>boolq</td>\n",
       "    </tr>\n",
       "    <tr>\n",
       "      <th>...</th>\n",
       "      <td>...</td>\n",
       "      <td>...</td>\n",
       "      <td>...</td>\n",
       "    </tr>\n",
       "    <tr>\n",
       "      <th>12692</th>\n",
       "      <td>is manic depression the same as bi polar[SEP]B...</td>\n",
       "      <td>y</td>\n",
       "      <td>boolq</td>\n",
       "    </tr>\n",
       "    <tr>\n",
       "      <th>12693</th>\n",
       "      <td>was whiskey galore based on a true story[SEP]S...</td>\n",
       "      <td>y</td>\n",
       "      <td>boolq</td>\n",
       "    </tr>\n",
       "    <tr>\n",
       "      <th>12694</th>\n",
       "      <td>are there plants on the international space st...</td>\n",
       "      <td>y</td>\n",
       "      <td>boolq</td>\n",
       "    </tr>\n",
       "    <tr>\n",
       "      <th>12695</th>\n",
       "      <td>does the hockey puck have to cross the line to...</td>\n",
       "      <td>y</td>\n",
       "      <td>boolq</td>\n",
       "    </tr>\n",
       "    <tr>\n",
       "      <th>12696</th>\n",
       "      <td>will there be a season 5 of shadowhunters[SEP]...</td>\n",
       "      <td>n</td>\n",
       "      <td>boolq</td>\n",
       "    </tr>\n",
       "  </tbody>\n",
       "</table>\n",
       "<p>12697 rows × 3 columns</p>\n",
       "</div>\n",
       "      <button class=\"colab-df-convert\" onclick=\"convertToInteractive('df-f1e48be5-e999-4e33-8eb5-af60bebf1914')\"\n",
       "              title=\"Convert this dataframe to an interactive table.\"\n",
       "              style=\"display:none;\">\n",
       "        \n",
       "  <svg xmlns=\"http://www.w3.org/2000/svg\" height=\"24px\"viewBox=\"0 0 24 24\"\n",
       "       width=\"24px\">\n",
       "    <path d=\"M0 0h24v24H0V0z\" fill=\"none\"/>\n",
       "    <path d=\"M18.56 5.44l.94 2.06.94-2.06 2.06-.94-2.06-.94-.94-2.06-.94 2.06-2.06.94zm-11 1L8.5 8.5l.94-2.06 2.06-.94-2.06-.94L8.5 2.5l-.94 2.06-2.06.94zm10 10l.94 2.06.94-2.06 2.06-.94-2.06-.94-.94-2.06-.94 2.06-2.06.94z\"/><path d=\"M17.41 7.96l-1.37-1.37c-.4-.4-.92-.59-1.43-.59-.52 0-1.04.2-1.43.59L10.3 9.45l-7.72 7.72c-.78.78-.78 2.05 0 2.83L4 21.41c.39.39.9.59 1.41.59.51 0 1.02-.2 1.41-.59l7.78-7.78 2.81-2.81c.8-.78.8-2.07 0-2.86zM5.41 20L4 18.59l7.72-7.72 1.47 1.35L5.41 20z\"/>\n",
       "  </svg>\n",
       "      </button>\n",
       "      \n",
       "  <style>\n",
       "    .colab-df-container {\n",
       "      display:flex;\n",
       "      flex-wrap:wrap;\n",
       "      gap: 12px;\n",
       "    }\n",
       "\n",
       "    .colab-df-convert {\n",
       "      background-color: #E8F0FE;\n",
       "      border: none;\n",
       "      border-radius: 50%;\n",
       "      cursor: pointer;\n",
       "      display: none;\n",
       "      fill: #1967D2;\n",
       "      height: 32px;\n",
       "      padding: 0 0 0 0;\n",
       "      width: 32px;\n",
       "    }\n",
       "\n",
       "    .colab-df-convert:hover {\n",
       "      background-color: #E2EBFA;\n",
       "      box-shadow: 0px 1px 2px rgba(60, 64, 67, 0.3), 0px 1px 3px 1px rgba(60, 64, 67, 0.15);\n",
       "      fill: #174EA6;\n",
       "    }\n",
       "\n",
       "    [theme=dark] .colab-df-convert {\n",
       "      background-color: #3B4455;\n",
       "      fill: #D2E3FC;\n",
       "    }\n",
       "\n",
       "    [theme=dark] .colab-df-convert:hover {\n",
       "      background-color: #434B5C;\n",
       "      box-shadow: 0px 1px 3px 1px rgba(0, 0, 0, 0.15);\n",
       "      filter: drop-shadow(0px 1px 2px rgba(0, 0, 0, 0.3));\n",
       "      fill: #FFFFFF;\n",
       "    }\n",
       "  </style>\n",
       "\n",
       "      <script>\n",
       "        const buttonEl =\n",
       "          document.querySelector('#df-f1e48be5-e999-4e33-8eb5-af60bebf1914 button.colab-df-convert');\n",
       "        buttonEl.style.display =\n",
       "          google.colab.kernel.accessAllowed ? 'block' : 'none';\n",
       "\n",
       "        async function convertToInteractive(key) {\n",
       "          const element = document.querySelector('#df-f1e48be5-e999-4e33-8eb5-af60bebf1914');\n",
       "          const dataTable =\n",
       "            await google.colab.kernel.invokeFunction('convertToInteractive',\n",
       "                                                     [key], {});\n",
       "          if (!dataTable) return;\n",
       "\n",
       "          const docLinkHtml = 'Like what you see? Visit the ' +\n",
       "            '<a target=\"_blank\" href=https://colab.research.google.com/notebooks/data_table.ipynb>data table notebook</a>'\n",
       "            + ' to learn more about interactive tables.';\n",
       "          element.innerHTML = '';\n",
       "          dataTable['output_type'] = 'display_data';\n",
       "          await google.colab.output.renderOutput(dataTable, element);\n",
       "          const docLink = document.createElement('div');\n",
       "          docLink.innerHTML = docLinkHtml;\n",
       "          element.appendChild(docLink);\n",
       "        }\n",
       "      </script>\n",
       "    </div>\n",
       "  </div>\n",
       "  "
      ],
      "text/plain": [
       "                                                      QA gold corpus_type\n",
       "0      do iran and afghanistan speak the same languag...    y       boolq\n",
       "1      do good samaritan laws protect those who help ...    y       boolq\n",
       "2      is windows movie maker part of windows essenti...    y       boolq\n",
       "3      is confectionary sugar the same as powdered su...    y       boolq\n",
       "4      is elder scrolls online the same as skyrim[SEP...    n       boolq\n",
       "...                                                  ...  ...         ...\n",
       "12692  is manic depression the same as bi polar[SEP]B...    y       boolq\n",
       "12693  was whiskey galore based on a true story[SEP]S...    y       boolq\n",
       "12694  are there plants on the international space st...    y       boolq\n",
       "12695  does the hockey puck have to cross the line to...    y       boolq\n",
       "12696  will there be a season 5 of shadowhunters[SEP]...    n       boolq\n",
       "\n",
       "[12697 rows x 3 columns]"
      ]
     },
     "execution_count": 14,
     "metadata": {},
     "output_type": "execute_result"
    }
   ],
   "source": [
    "df_boolq"
   ]
  },
  {
   "cell_type": "code",
   "execution_count": 15,
   "metadata": {
    "colab": {
     "base_uri": "https://localhost:8080/",
     "height": 424
    },
    "executionInfo": {
     "elapsed": 15,
     "status": "ok",
     "timestamp": 1686764490337,
     "user": {
      "displayName": "Shivam Mathur",
      "userId": "13996464205483377357"
     },
     "user_tz": 420
    },
    "id": "bOuOH6tprLHP",
    "outputId": "a4f0013b-0e76-456d-f56f-5627004e7f9c"
   },
   "outputs": [
    {
     "data": {
      "text/html": [
       "\n",
       "  <div id=\"df-1563cd6f-1094-4024-9524-d8a165481b87\">\n",
       "    <div class=\"colab-df-container\">\n",
       "      <div>\n",
       "<style scoped>\n",
       "    .dataframe tbody tr th:only-of-type {\n",
       "        vertical-align: middle;\n",
       "    }\n",
       "\n",
       "    .dataframe tbody tr th {\n",
       "        vertical-align: top;\n",
       "    }\n",
       "\n",
       "    .dataframe thead th {\n",
       "        text-align: right;\n",
       "    }\n",
       "</style>\n",
       "<table border=\"1\" class=\"dataframe\">\n",
       "  <thead>\n",
       "    <tr style=\"text-align: right;\">\n",
       "      <th></th>\n",
       "      <th>QA</th>\n",
       "      <th>gold</th>\n",
       "      <th>corpus_type</th>\n",
       "    </tr>\n",
       "  </thead>\n",
       "  <tbody>\n",
       "    <tr>\n",
       "      <th>0</th>\n",
       "      <td>Do you believe in the 'rookie wall'?[SEP] yes....</td>\n",
       "      <td>y</td>\n",
       "      <td>twitter</td>\n",
       "    </tr>\n",
       "    <tr>\n",
       "      <th>1</th>\n",
       "      <td>Do you have my post notifications on my people...</td>\n",
       "      <td>y</td>\n",
       "      <td>twitter</td>\n",
       "    </tr>\n",
       "    <tr>\n",
       "      <th>2</th>\n",
       "      <td>Do you work in coffee?[SEP] i often bath in co...</td>\n",
       "      <td>n</td>\n",
       "      <td>twitter</td>\n",
       "    </tr>\n",
       "    <tr>\n",
       "      <th>3</th>\n",
       "      <td>Do you believe you are great?[SEP] news flash ...</td>\n",
       "      <td>n</td>\n",
       "      <td>twitter</td>\n",
       "    </tr>\n",
       "    <tr>\n",
       "      <th>4</th>\n",
       "      <td>is it illegal to drive with a sheet mask on?[S...</td>\n",
       "      <td>y</td>\n",
       "      <td>twitter</td>\n",
       "    </tr>\n",
       "    <tr>\n",
       "      <th>...</th>\n",
       "      <td>...</td>\n",
       "      <td>...</td>\n",
       "      <td>...</td>\n",
       "    </tr>\n",
       "    <tr>\n",
       "      <th>3310</th>\n",
       "      <td>Is it weird that I sometimes watch basketball ...</td>\n",
       "      <td>py</td>\n",
       "      <td>twitter</td>\n",
       "    </tr>\n",
       "    <tr>\n",
       "      <th>3311</th>\n",
       "      <td>Is it too early for leftovers?[SEP] have a dri...</td>\n",
       "      <td>n</td>\n",
       "      <td>twitter</td>\n",
       "    </tr>\n",
       "    <tr>\n",
       "      <th>3312</th>\n",
       "      <td>Do you have a standardised memory cue system f...</td>\n",
       "      <td>n</td>\n",
       "      <td>twitter</td>\n",
       "    </tr>\n",
       "    <tr>\n",
       "      <th>3313</th>\n",
       "      <td>Love that my new welcome greeting to visitors ...</td>\n",
       "      <td>uk</td>\n",
       "      <td>twitter</td>\n",
       "    </tr>\n",
       "    <tr>\n",
       "      <th>3314</th>\n",
       "      <td>Do you think students of tertiary institutions...</td>\n",
       "      <td>uk</td>\n",
       "      <td>twitter</td>\n",
       "    </tr>\n",
       "  </tbody>\n",
       "</table>\n",
       "<p>3315 rows × 3 columns</p>\n",
       "</div>\n",
       "      <button class=\"colab-df-convert\" onclick=\"convertToInteractive('df-1563cd6f-1094-4024-9524-d8a165481b87')\"\n",
       "              title=\"Convert this dataframe to an interactive table.\"\n",
       "              style=\"display:none;\">\n",
       "        \n",
       "  <svg xmlns=\"http://www.w3.org/2000/svg\" height=\"24px\"viewBox=\"0 0 24 24\"\n",
       "       width=\"24px\">\n",
       "    <path d=\"M0 0h24v24H0V0z\" fill=\"none\"/>\n",
       "    <path d=\"M18.56 5.44l.94 2.06.94-2.06 2.06-.94-2.06-.94-.94-2.06-.94 2.06-2.06.94zm-11 1L8.5 8.5l.94-2.06 2.06-.94-2.06-.94L8.5 2.5l-.94 2.06-2.06.94zm10 10l.94 2.06.94-2.06 2.06-.94-2.06-.94-.94-2.06-.94 2.06-2.06.94z\"/><path d=\"M17.41 7.96l-1.37-1.37c-.4-.4-.92-.59-1.43-.59-.52 0-1.04.2-1.43.59L10.3 9.45l-7.72 7.72c-.78.78-.78 2.05 0 2.83L4 21.41c.39.39.9.59 1.41.59.51 0 1.02-.2 1.41-.59l7.78-7.78 2.81-2.81c.8-.78.8-2.07 0-2.86zM5.41 20L4 18.59l7.72-7.72 1.47 1.35L5.41 20z\"/>\n",
       "  </svg>\n",
       "      </button>\n",
       "      \n",
       "  <style>\n",
       "    .colab-df-container {\n",
       "      display:flex;\n",
       "      flex-wrap:wrap;\n",
       "      gap: 12px;\n",
       "    }\n",
       "\n",
       "    .colab-df-convert {\n",
       "      background-color: #E8F0FE;\n",
       "      border: none;\n",
       "      border-radius: 50%;\n",
       "      cursor: pointer;\n",
       "      display: none;\n",
       "      fill: #1967D2;\n",
       "      height: 32px;\n",
       "      padding: 0 0 0 0;\n",
       "      width: 32px;\n",
       "    }\n",
       "\n",
       "    .colab-df-convert:hover {\n",
       "      background-color: #E2EBFA;\n",
       "      box-shadow: 0px 1px 2px rgba(60, 64, 67, 0.3), 0px 1px 3px 1px rgba(60, 64, 67, 0.15);\n",
       "      fill: #174EA6;\n",
       "    }\n",
       "\n",
       "    [theme=dark] .colab-df-convert {\n",
       "      background-color: #3B4455;\n",
       "      fill: #D2E3FC;\n",
       "    }\n",
       "\n",
       "    [theme=dark] .colab-df-convert:hover {\n",
       "      background-color: #434B5C;\n",
       "      box-shadow: 0px 1px 3px 1px rgba(0, 0, 0, 0.15);\n",
       "      filter: drop-shadow(0px 1px 2px rgba(0, 0, 0, 0.3));\n",
       "      fill: #FFFFFF;\n",
       "    }\n",
       "  </style>\n",
       "\n",
       "      <script>\n",
       "        const buttonEl =\n",
       "          document.querySelector('#df-1563cd6f-1094-4024-9524-d8a165481b87 button.colab-df-convert');\n",
       "        buttonEl.style.display =\n",
       "          google.colab.kernel.accessAllowed ? 'block' : 'none';\n",
       "\n",
       "        async function convertToInteractive(key) {\n",
       "          const element = document.querySelector('#df-1563cd6f-1094-4024-9524-d8a165481b87');\n",
       "          const dataTable =\n",
       "            await google.colab.kernel.invokeFunction('convertToInteractive',\n",
       "                                                     [key], {});\n",
       "          if (!dataTable) return;\n",
       "\n",
       "          const docLinkHtml = 'Like what you see? Visit the ' +\n",
       "            '<a target=\"_blank\" href=https://colab.research.google.com/notebooks/data_table.ipynb>data table notebook</a>'\n",
       "            + ' to learn more about interactive tables.';\n",
       "          element.innerHTML = '';\n",
       "          dataTable['output_type'] = 'display_data';\n",
       "          await google.colab.output.renderOutput(dataTable, element);\n",
       "          const docLink = document.createElement('div');\n",
       "          docLink.innerHTML = docLinkHtml;\n",
       "          element.appendChild(docLink);\n",
       "        }\n",
       "      </script>\n",
       "    </div>\n",
       "  </div>\n",
       "  "
      ],
      "text/plain": [
       "                                                     QA gold corpus_type\n",
       "0     Do you believe in the 'rookie wall'?[SEP] yes....    y     twitter\n",
       "1     Do you have my post notifications on my people...    y     twitter\n",
       "2     Do you work in coffee?[SEP] i often bath in co...    n     twitter\n",
       "3     Do you believe you are great?[SEP] news flash ...    n     twitter\n",
       "4     is it illegal to drive with a sheet mask on?[S...    y     twitter\n",
       "...                                                 ...  ...         ...\n",
       "3310  Is it weird that I sometimes watch basketball ...   py     twitter\n",
       "3311  Is it too early for leftovers?[SEP] have a dri...    n     twitter\n",
       "3312  Do you have a standardised memory cue system f...    n     twitter\n",
       "3313  Love that my new welcome greeting to visitors ...   uk     twitter\n",
       "3314  Do you think students of tertiary institutions...   uk     twitter\n",
       "\n",
       "[3315 rows x 3 columns]"
      ]
     },
     "execution_count": 15,
     "metadata": {},
     "output_type": "execute_result"
    }
   ],
   "source": [
    "df_twitter"
   ]
  },
  {
   "cell_type": "code",
   "execution_count": 16,
   "metadata": {
    "colab": {
     "base_uri": "https://localhost:8080/",
     "height": 424
    },
    "executionInfo": {
     "elapsed": 15,
     "status": "ok",
     "timestamp": 1686764490338,
     "user": {
      "displayName": "Shivam Mathur",
      "userId": "13996464205483377357"
     },
     "user_tz": 420
    },
    "id": "OpqP73SOrhsP",
    "outputId": "e4bb78de-cd32-43a9-d6ca-da22c7a9211d"
   },
   "outputs": [
    {
     "data": {
      "text/html": [
       "\n",
       "  <div id=\"df-b3442468-5de9-495d-8df8-8c1da5e981c6\">\n",
       "    <div class=\"colab-df-container\">\n",
       "      <div>\n",
       "<style scoped>\n",
       "    .dataframe tbody tr th:only-of-type {\n",
       "        vertical-align: middle;\n",
       "    }\n",
       "\n",
       "    .dataframe tbody tr th {\n",
       "        vertical-align: top;\n",
       "    }\n",
       "\n",
       "    .dataframe thead th {\n",
       "        text-align: right;\n",
       "    }\n",
       "</style>\n",
       "<table border=\"1\" class=\"dataframe\">\n",
       "  <thead>\n",
       "    <tr style=\"text-align: right;\">\n",
       "      <th></th>\n",
       "      <th>QA</th>\n",
       "      <th>gold</th>\n",
       "      <th>corpus_type</th>\n",
       "    </tr>\n",
       "  </thead>\n",
       "  <tbody>\n",
       "    <tr>\n",
       "      <th>0</th>\n",
       "      <td>Do you believe in the 'rookie wall'?[SEP] yes....</td>\n",
       "      <td>y</td>\n",
       "      <td>twitter</td>\n",
       "    </tr>\n",
       "    <tr>\n",
       "      <th>1</th>\n",
       "      <td>Do you have my post notifications on my people...</td>\n",
       "      <td>y</td>\n",
       "      <td>twitter</td>\n",
       "    </tr>\n",
       "    <tr>\n",
       "      <th>2</th>\n",
       "      <td>Do you work in coffee?[SEP] i often bath in co...</td>\n",
       "      <td>n</td>\n",
       "      <td>twitter</td>\n",
       "    </tr>\n",
       "    <tr>\n",
       "      <th>3</th>\n",
       "      <td>Do you believe you are great?[SEP] news flash ...</td>\n",
       "      <td>n</td>\n",
       "      <td>twitter</td>\n",
       "    </tr>\n",
       "    <tr>\n",
       "      <th>4</th>\n",
       "      <td>is it illegal to drive with a sheet mask on?[S...</td>\n",
       "      <td>y</td>\n",
       "      <td>twitter</td>\n",
       "    </tr>\n",
       "    <tr>\n",
       "      <th>...</th>\n",
       "      <td>...</td>\n",
       "      <td>...</td>\n",
       "      <td>...</td>\n",
       "    </tr>\n",
       "    <tr>\n",
       "      <th>3310</th>\n",
       "      <td>Is it weird that I sometimes watch basketball ...</td>\n",
       "      <td>py</td>\n",
       "      <td>twitter</td>\n",
       "    </tr>\n",
       "    <tr>\n",
       "      <th>3311</th>\n",
       "      <td>Is it too early for leftovers?[SEP] have a dri...</td>\n",
       "      <td>n</td>\n",
       "      <td>twitter</td>\n",
       "    </tr>\n",
       "    <tr>\n",
       "      <th>3312</th>\n",
       "      <td>Do you have a standardised memory cue system f...</td>\n",
       "      <td>n</td>\n",
       "      <td>twitter</td>\n",
       "    </tr>\n",
       "    <tr>\n",
       "      <th>3313</th>\n",
       "      <td>Love that my new welcome greeting to visitors ...</td>\n",
       "      <td>uk</td>\n",
       "      <td>twitter</td>\n",
       "    </tr>\n",
       "    <tr>\n",
       "      <th>3314</th>\n",
       "      <td>Do you think students of tertiary institutions...</td>\n",
       "      <td>uk</td>\n",
       "      <td>twitter</td>\n",
       "    </tr>\n",
       "  </tbody>\n",
       "</table>\n",
       "<p>3315 rows × 3 columns</p>\n",
       "</div>\n",
       "      <button class=\"colab-df-convert\" onclick=\"convertToInteractive('df-b3442468-5de9-495d-8df8-8c1da5e981c6')\"\n",
       "              title=\"Convert this dataframe to an interactive table.\"\n",
       "              style=\"display:none;\">\n",
       "        \n",
       "  <svg xmlns=\"http://www.w3.org/2000/svg\" height=\"24px\"viewBox=\"0 0 24 24\"\n",
       "       width=\"24px\">\n",
       "    <path d=\"M0 0h24v24H0V0z\" fill=\"none\"/>\n",
       "    <path d=\"M18.56 5.44l.94 2.06.94-2.06 2.06-.94-2.06-.94-.94-2.06-.94 2.06-2.06.94zm-11 1L8.5 8.5l.94-2.06 2.06-.94-2.06-.94L8.5 2.5l-.94 2.06-2.06.94zm10 10l.94 2.06.94-2.06 2.06-.94-2.06-.94-.94-2.06-.94 2.06-2.06.94z\"/><path d=\"M17.41 7.96l-1.37-1.37c-.4-.4-.92-.59-1.43-.59-.52 0-1.04.2-1.43.59L10.3 9.45l-7.72 7.72c-.78.78-.78 2.05 0 2.83L4 21.41c.39.39.9.59 1.41.59.51 0 1.02-.2 1.41-.59l7.78-7.78 2.81-2.81c.8-.78.8-2.07 0-2.86zM5.41 20L4 18.59l7.72-7.72 1.47 1.35L5.41 20z\"/>\n",
       "  </svg>\n",
       "      </button>\n",
       "      \n",
       "  <style>\n",
       "    .colab-df-container {\n",
       "      display:flex;\n",
       "      flex-wrap:wrap;\n",
       "      gap: 12px;\n",
       "    }\n",
       "\n",
       "    .colab-df-convert {\n",
       "      background-color: #E8F0FE;\n",
       "      border: none;\n",
       "      border-radius: 50%;\n",
       "      cursor: pointer;\n",
       "      display: none;\n",
       "      fill: #1967D2;\n",
       "      height: 32px;\n",
       "      padding: 0 0 0 0;\n",
       "      width: 32px;\n",
       "    }\n",
       "\n",
       "    .colab-df-convert:hover {\n",
       "      background-color: #E2EBFA;\n",
       "      box-shadow: 0px 1px 2px rgba(60, 64, 67, 0.3), 0px 1px 3px 1px rgba(60, 64, 67, 0.15);\n",
       "      fill: #174EA6;\n",
       "    }\n",
       "\n",
       "    [theme=dark] .colab-df-convert {\n",
       "      background-color: #3B4455;\n",
       "      fill: #D2E3FC;\n",
       "    }\n",
       "\n",
       "    [theme=dark] .colab-df-convert:hover {\n",
       "      background-color: #434B5C;\n",
       "      box-shadow: 0px 1px 3px 1px rgba(0, 0, 0, 0.15);\n",
       "      filter: drop-shadow(0px 1px 2px rgba(0, 0, 0, 0.3));\n",
       "      fill: #FFFFFF;\n",
       "    }\n",
       "  </style>\n",
       "\n",
       "      <script>\n",
       "        const buttonEl =\n",
       "          document.querySelector('#df-b3442468-5de9-495d-8df8-8c1da5e981c6 button.colab-df-convert');\n",
       "        buttonEl.style.display =\n",
       "          google.colab.kernel.accessAllowed ? 'block' : 'none';\n",
       "\n",
       "        async function convertToInteractive(key) {\n",
       "          const element = document.querySelector('#df-b3442468-5de9-495d-8df8-8c1da5e981c6');\n",
       "          const dataTable =\n",
       "            await google.colab.kernel.invokeFunction('convertToInteractive',\n",
       "                                                     [key], {});\n",
       "          if (!dataTable) return;\n",
       "\n",
       "          const docLinkHtml = 'Like what you see? Visit the ' +\n",
       "            '<a target=\"_blank\" href=https://colab.research.google.com/notebooks/data_table.ipynb>data table notebook</a>'\n",
       "            + ' to learn more about interactive tables.';\n",
       "          element.innerHTML = '';\n",
       "          dataTable['output_type'] = 'display_data';\n",
       "          await google.colab.output.renderOutput(dataTable, element);\n",
       "          const docLink = document.createElement('div');\n",
       "          docLink.innerHTML = docLinkHtml;\n",
       "          element.appendChild(docLink);\n",
       "        }\n",
       "      </script>\n",
       "    </div>\n",
       "  </div>\n",
       "  "
      ],
      "text/plain": [
       "                                                     QA gold corpus_type\n",
       "0     Do you believe in the 'rookie wall'?[SEP] yes....    y     twitter\n",
       "1     Do you have my post notifications on my people...    y     twitter\n",
       "2     Do you work in coffee?[SEP] i often bath in co...    n     twitter\n",
       "3     Do you believe you are great?[SEP] news flash ...    n     twitter\n",
       "4     is it illegal to drive with a sheet mask on?[S...    y     twitter\n",
       "...                                                 ...  ...         ...\n",
       "3310  Is it weird that I sometimes watch basketball ...   py     twitter\n",
       "3311  Is it too early for leftovers?[SEP] have a dri...    n     twitter\n",
       "3312  Do you have a standardised memory cue system f...    n     twitter\n",
       "3313  Love that my new welcome greeting to visitors ...   uk     twitter\n",
       "3314  Do you think students of tertiary institutions...   uk     twitter\n",
       "\n",
       "[3315 rows x 3 columns]"
      ]
     },
     "execution_count": 16,
     "metadata": {},
     "output_type": "execute_result"
    }
   ],
   "source": [
    "df_twitter"
   ]
  },
  {
   "cell_type": "code",
   "execution_count": 17,
   "metadata": {
    "colab": {
     "base_uri": "https://localhost:8080/"
    },
    "executionInfo": {
     "elapsed": 14,
     "status": "ok",
     "timestamp": 1686764490338,
     "user": {
      "displayName": "Shivam Mathur",
      "userId": "13996464205483377357"
     },
     "user_tz": 420
    },
    "id": "PuZiNSYC5_VL",
    "outputId": "8b068bfc-a95a-4b2d-a510-65d559271326"
   },
   "outputs": [
    {
     "data": {
      "text/plain": [
       "(12697, 3)"
      ]
     },
     "execution_count": 17,
     "metadata": {},
     "output_type": "execute_result"
    }
   ],
   "source": [
    "df_boolq.shape"
   ]
  },
  {
   "cell_type": "code",
   "execution_count": 18,
   "metadata": {
    "colab": {
     "base_uri": "https://localhost:8080/"
    },
    "executionInfo": {
     "elapsed": 10495173,
     "status": "ok",
     "timestamp": 1686774985500,
     "user": {
      "displayName": "Shivam Mathur",
      "userId": "13996464205483377357"
     },
     "user_tz": 420
    },
    "id": "X8jNhYkBWCqX",
    "outputId": "6d010f4f-669c-4ed3-9947-f6c9b4e49044"
   },
   "outputs": [
    {
     "name": "stdout",
     "output_type": "stream",
     "text": [
      "(16012, 3)\n",
      "(16012, 5)\n",
      "1001/1001 [==============================] - 4928s 5s/step - loss: 0.7563 - accuracy: 0.6177 - precision: 0.6572 - recall: 0.5527 - lr: 1.0000e-05 - val_loss: 1.1582 - val_accuracy: 0.5283 - val_precision: 0.6724 - val_recall: 0.3900 - val_lr: 1.0000e-05\n",
      "patience: 0\n",
      "epoch: 0\n",
      "(9663, 3)\n",
      "(9663, 5)\n",
      "604/604 [==============================] - 2659s 4s/step - loss: 0.6538 - accuracy: 0.7113 - precision: 0.7529 - recall: 0.6617 - lr: 1.0000e-05 - val_loss: 1.0077 - val_accuracy: 0.6117 - val_precision: 0.7136 - val_recall: 0.4733 - val_lr: 1.0000e-05\n",
      "patience: 0\n",
      "epoch: 1\n",
      "(6489, 3)\n",
      "(6489, 5)\n",
      "406/406 [==============================] - 1451s 4s/step - loss: 0.5846 - accuracy: 0.7645 - precision: 0.8042 - recall: 0.7211 - lr: 1.0000e-05 - val_loss: 1.0169 - val_accuracy: 0.6050 - val_precision: 0.7100 - val_recall: 0.5183 - val_lr: 1.0000e-05\n",
      "patience: 0\n",
      "epoch: 2\n",
      "(4902, 3)\n",
      "(4902, 5)\n",
      "307/307 [==============================] - 870s 3s/step - loss: 0.4966 - accuracy: 0.8131 - precision: 0.8457 - recall: 0.7795 - lr: 1.0000e-05 - val_loss: 1.3540 - val_accuracy: 0.5917 - val_precision: 0.6280 - val_recall: 0.5683 - val_lr: 1.0000e-05\n",
      "patience: 1\n",
      "epoch: 3\n",
      "(4109, 3)\n",
      "(4109, 5)\n",
      "257/257 [==============================] - 587s 2s/step - loss: 0.4009 - accuracy: 0.8547 - precision: 0.8765 - recall: 0.8311 - lr: 1.0000e-05 - val_loss: 1.3838 - val_accuracy: 0.6067 - val_precision: 0.6275 - val_recall: 0.5783 - val_lr: 1.0000e-05\n",
      "breaking now.....\n"
     ]
    }
   ],
   "source": [
    "epochs = 200\n",
    "val_loss = 100\n",
    "patience = 0\n",
    "alpha = 0.5\n",
    "corpus_frac = 1 # initially\n",
    "for e in range(epochs):\n",
    "\n",
    "  df_train = pd.concat([df_twitter, df_boolq.sample(frac = corpus_frac)])\n",
    "  df_train = df_train.sample(frac = 1)\n",
    "  y_train = pd.get_dummies(df_train.gold, prefix='gold')\n",
    "  print(df_train.shape)\n",
    "  print(y_train.shape)\n",
    "\n",
    "  # # shortening blending corpus for quick sanity results\n",
    "  # df_train = df_train.iloc[0:100]\n",
    "  # y_train = y_train.iloc[0:100]\n",
    "  # df_dev = df_dev.iloc[0:100]\n",
    "  # y_dev = y_dev.iloc[0:100]\n",
    "\n",
    "  corpus_frac = alpha * corpus_frac\n",
    "\n",
    "  model.fit(df_train['QA'], y_train, epochs=1, batch_size=16, callbacks=[callback], validation_data = (df_dev['QA'], y_dev))\n",
    "  if model.history.history['val_loss'][0] - val_loss <= 0.01:\n",
    "    val_loss = model.history.history['val_loss'][0]\n",
    "    saved_model = model\n",
    "    patience = 0\n",
    "  else:\n",
    "    patience +=1\n",
    "  if patience == 2:\n",
    "    print('breaking now.....')\n",
    "    break\n",
    "  print('patience:',patience)\n",
    "  print('epoch:',e)"
   ]
  },
  {
   "cell_type": "markdown",
   "metadata": {
    "id": "mQOhkwQCwG_x"
   },
   "source": [
    "Dev set"
   ]
  },
  {
   "cell_type": "code",
   "execution_count": 19,
   "metadata": {
    "colab": {
     "base_uri": "https://localhost:8080/"
    },
    "executionInfo": {
     "elapsed": 36101,
     "status": "ok",
     "timestamp": 1686775021592,
     "user": {
      "displayName": "Shivam Mathur",
      "userId": "13996464205483377357"
     },
     "user_tz": 420
    },
    "id": "n5daD7ZtTgiV",
    "outputId": "7490b579-fd80-4465-9e4f-bb0ca7312a4b"
   },
   "outputs": [
    {
     "name": "stdout",
     "output_type": "stream",
     "text": [
      "19/19 [==============================] - 18s 948ms/step - loss: 1.3838 - accuracy: 0.6067 - precision: 0.6275 - recall: 0.5783 - lr: 1.0000e-05\n",
      "[1.383789300918579, 0.6066666841506958, 0.6274864673614502, 0.57833331823349, 1.0000001566368155e-05]\n",
      "19/19 [==============================] - 17s 912ms/step\n",
      "DEV\n",
      "              precision    recall  f1-score   support\n",
      "\n",
      "           n       0.63      0.61      0.62       166\n",
      "          pn       0.38      0.16      0.22        19\n",
      "          py       0.44      0.46      0.45        61\n",
      "          uk       0.71      0.42      0.53       113\n",
      "           y       0.61      0.77      0.68       241\n",
      "\n",
      "    accuracy                           0.61       600\n",
      "   macro avg       0.55      0.48      0.50       600\n",
      "weighted avg       0.61      0.61      0.60       600\n",
      "\n"
     ]
    }
   ],
   "source": [
    "y_dev = pd.get_dummies(df_dev.gold, prefix = 'gold')\n",
    "print(saved_model.evaluate(df_dev['QA'], y_dev))\n",
    "y_predicted = saved_model.predict(df_dev['QA'])\n",
    "\n",
    "pred_results = tf.cast(tf.equal(y_predicted, tf.reduce_max(y_predicted, axis = 1, keepdims=True)), tf.float32)\n",
    "\n",
    "pred_results = pd.DataFrame(pred_results.numpy(), columns = ['gold_n',\n",
    "                                       'gold_pn',\n",
    "                                       'gold_py',\n",
    "                                       'gold_uk',\n",
    "                                       'gold_y'])\n",
    "\n",
    "pred_results.shape\n",
    "pred_results.to_numpy()\n",
    "pred_results = [np.where(r==1)[0][0] for r in pred_results.to_numpy()]\n",
    "pred_results = pd.DataFrame(pred_results, columns=['gold'])\n",
    "\n",
    "pred_results['gold'] = pred_results['gold'].map({0:'n',\n",
    "                                                   1:'pn',\n",
    "                                                   2:'py',\n",
    "                                                   3:'uk',\n",
    "                                                   4:'y'})\n",
    "\n",
    "dev_gtruths = [np.where(r==1)[0][0] for r in y_dev.to_numpy()]\n",
    "dev_gtruths = pd.DataFrame(dev_gtruths, columns=['gold'])\n",
    "\n",
    "dev_gtruths['gold'] = dev_gtruths['gold'].map({0:'n',\n",
    "                                                   1:'pn',\n",
    "                                                   2:'py',\n",
    "                                                   3:'uk',\n",
    "                                                   4:'y'})\n",
    "\n",
    "print('DEV')\n",
    "from sklearn.metrics import classification_report\n",
    "print(classification_report(y_true = dev_gtruths['gold'], y_pred = pred_results['gold']))"
   ]
  },
  {
   "cell_type": "markdown",
   "metadata": {
    "id": "lTyWJmr5pARe"
   },
   "source": [
    "Test Set"
   ]
  },
  {
   "cell_type": "code",
   "execution_count": 20,
   "metadata": {
    "colab": {
     "base_uri": "https://localhost:8080/"
    },
    "executionInfo": {
     "elapsed": 29661,
     "status": "ok",
     "timestamp": 1686775051245,
     "user": {
      "displayName": "Shivam Mathur",
      "userId": "13996464205483377357"
     },
     "user_tz": 420
    },
    "id": "eLU-_h6tWNpj",
    "outputId": "4e119e05-0863-46ff-c84c-359a7c4db634"
   },
   "outputs": [
    {
     "name": "stdout",
     "output_type": "stream",
     "text": [
      "17/17 [==============================] - 15s 872ms/step - loss: 1.3915 - accuracy: 0.6622 - precision: 0.6841 - recall: 0.6452 - lr: 1.0000e-05\n",
      "[1.3914947509765625, 0.6622390747070312, 0.6841046214103699, 0.6451612710952759, 1.0000001566368155e-05]\n",
      "17/17 [==============================] - 15s 863ms/step\n",
      "TEST\n",
      "              precision    recall  f1-score   support\n",
      "\n",
      "           n       0.65      0.73      0.69       157\n",
      "          pn       0.67      0.14      0.23        29\n",
      "          py       0.52      0.33      0.40        49\n",
      "          uk       0.73      0.45      0.56        80\n",
      "           y       0.67      0.84      0.75       212\n",
      "\n",
      "    accuracy                           0.66       527\n",
      "   macro avg       0.65      0.50      0.52       527\n",
      "weighted avg       0.66      0.66      0.64       527\n",
      "\n"
     ]
    }
   ],
   "source": [
    "df_test= df_test.rename(columns={\"gold_adj\": \"gold\"})\n",
    "y_test = pd.get_dummies(df_test.gold, prefix = 'gold')\n",
    "print(saved_model.evaluate(df_test['QA'], y_test))\n",
    "y_predicted = saved_model.predict(df_test['QA'])\n",
    "\n",
    "pred_results = tf.cast(tf.equal(y_predicted, tf.reduce_max(y_predicted, axis = 1, keepdims=True)), tf.float32)\n",
    "\n",
    "pred_results = pd.DataFrame(pred_results.numpy(), columns = ['gold_n',\n",
    "                                       'gold_pn',\n",
    "                                       'gold_py',\n",
    "                                       'gold_uk',\n",
    "                                       'gold_y'])\n",
    "\n",
    "pred_results.shape\n",
    "pred_results.to_numpy()\n",
    "pred_results = [np.where(r==1)[0][0] for r in pred_results.to_numpy()]\n",
    "pred_results = pd.DataFrame(pred_results, columns=['gold'])\n",
    "\n",
    "pred_results['gold'] = pred_results['gold'].map({0:'n',\n",
    "                                                   1:'pn',\n",
    "                                                   2:'py',\n",
    "                                                   3:'uk',\n",
    "                                                   4:'y'})\n",
    "\n",
    "test_gtruths = [np.where(r==1)[0][0] for r in y_test.to_numpy()]\n",
    "test_gtruths = pd.DataFrame(test_gtruths, columns=['gold'])\n",
    "\n",
    "test_gtruths['gold'] = test_gtruths['gold'].map({0:'n',\n",
    "                                                   1:'pn',\n",
    "                                                   2:'py',\n",
    "                                                   3:'uk',\n",
    "                                                   4:'y'})\n",
    "\n",
    "print('TEST')\n",
    "from sklearn.metrics import classification_report\n",
    "print(classification_report(y_true = test_gtruths['gold'], y_pred = pred_results['gold']))"
   ]
  },
  {
   "cell_type": "code",
   "execution_count": 21,
   "metadata": {
    "colab": {
     "base_uri": "https://localhost:8080/",
     "height": 0
    },
    "executionInfo": {
     "elapsed": 385,
     "status": "ok",
     "timestamp": 1686775051628,
     "user": {
      "displayName": "Shivam Mathur",
      "userId": "13996464205483377357"
     },
     "user_tz": 420
    },
    "id": "OgszQsXPWfO0",
    "outputId": "6d13a899-3a97-4038-978e-785bf8c6b4df"
   },
   "outputs": [
    {
     "data": {
      "image/png": "[encoded data removed]",
      "text/plain": [
       "<Figure size 640x480 with 2 Axes>"
      ]
     },
     "metadata": {},
     "output_type": "display_data"
    },
    {
     "name": "stdout",
     "output_type": "stream",
     "text": [
      "gold         n  pn  py  uk    y\n",
      "predicted                      \n",
      "n          115  14  10  14   23\n",
      "pn           1   4   0   0    1\n",
      "py           1   5  16   3    6\n",
      "uk           8   0   1  36    4\n",
      "y           32   6  22  27  178\n"
     ]
    }
   ],
   "source": [
    "import seaborn as sns\n",
    "import matplotlib.pyplot as plt\n",
    "\n",
    "confusion_matrix = pd.crosstab(pred_results['gold'],test_gtruths['gold'],rownames=['predicted'], colnames=['gold'])\n",
    "\n",
    "sns.heatmap(confusion_matrix,annot=True,cmap='Blues', fmt='g')\n",
    "plt.show()\n",
    "print(confusion_matrix)"
   ]
  },
  {
   "cell_type": "code",
   "execution_count": 22,
   "metadata": {
    "executionInfo": {
     "elapsed": 5,
     "status": "ok",
     "timestamp": 1686775051628,
     "user": {
      "displayName": "Shivam Mathur",
      "userId": "13996464205483377357"
     },
     "user_tz": 420
    },
    "id": "dvMDtli5KNsy"
   },
   "outputs": [],
   "source": [
    "pred_results = pred_results.rename(columns={\"gold\": \"predict\"})\n",
    "pred_results['Main_Tweet_ID'] = df_test['Main_Tweet_ID']\n",
    "pred_results['Reply_id'] = df_test['Reply_id']"
   ]
  },
  {
   "cell_type": "code",
   "execution_count": 23,
   "metadata": {
    "colab": {
     "base_uri": "https://localhost:8080/"
    },
    "executionInfo": {
     "elapsed": 5,
     "status": "ok",
     "timestamp": 1686775051628,
     "user": {
      "displayName": "Shivam Mathur",
      "userId": "13996464205483377357"
     },
     "user_tz": 420
    },
    "id": "1VZtuiJx4lBH",
    "outputId": "ebaf904a-c259-4ef6-bacc-acea801c3553"
   },
   "outputs": [
    {
     "data": {
      "text/plain": [
       "y     265\n",
       "n     176\n",
       "uk     49\n",
       "py     31\n",
       "pn      6\n",
       "Name: predict, dtype: int64"
      ]
     },
     "execution_count": 23,
     "metadata": {},
     "output_type": "execute_result"
    }
   ],
   "source": [
    "pred_results['predict'].value_counts()"
   ]
  },
  {
   "cell_type": "code",
   "execution_count": 24,
   "metadata": {
    "executionInfo": {
     "elapsed": 352,
     "status": "ok",
     "timestamp": 1686775051977,
     "user": {
      "displayName": "Shivam Mathur",
      "userId": "13996464205483377357"
     },
     "user_tz": 420
    },
    "id": "cpX5qr6A_yZL"
   },
   "outputs": [],
   "source": [
    "pred_results.to_csv('/content/drive/MyDrive/expts_emnlp23/results/A_boolq_blend.csv')"
   ]
  }
 ],
 "metadata": {
  "accelerator": "GPU",
  "colab": {
   "authorship_tag": "ABX9TyO9VuWhDgFJNhzZOAzulxh8",
   "gpuType": "A100",
   "machine_shape": "hm",
   "mount_file_id": "1K7-3plrEGkgDUSbs6CdEI8ZEm_8W4ExT",
   "provenance": []
  },
  "kernelspec": {
   "display_name": "Python 3 (ipykernel)",
   "language": "python",
   "name": "python3"
  },
  "language_info": {
   "codemirror_mode": {
    "name": "ipython",
    "version": 3
   },
   "file_extension": ".py",
   "mimetype": "text/x-python",
   "name": "python",
   "nbconvert_exporter": "python",
   "pygments_lexer": "ipython3",
   "version": "3.9.7"
  }
 },
 "nbformat": 4,
 "nbformat_minor": 1
}
