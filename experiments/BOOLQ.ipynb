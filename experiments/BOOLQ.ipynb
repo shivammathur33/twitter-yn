{
 "cells": [
  {
   "cell_type": "code",
   "execution_count": 1,
   "metadata": {
    "colab": {
     "base_uri": "https://localhost:8080/"
    },
    "executionInfo": {
     "elapsed": 5782,
     "status": "ok",
     "timestamp": 1686695594055,
     "user": {
      "displayName": "Shivam Mathur",
      "userId": "13996464205483377357"
     },
     "user_tz": 420
    },
    "id": "fpyGx8MCcm-A",
    "outputId": "e9c5ed3d-8263-48af-c96e-d32820b7d2a1"
   },
   "outputs": [
    {
     "name": "stdout",
     "output_type": "stream",
     "text": [
      "Looking in indexes: https://pypi.org/simple, https://us-python.pkg.dev/colab-wheels/public/simple/\n",
      "Collecting tensorflow_text\n",
      "  Downloading tensorflow_text-2.12.1-cp310-cp310-manylinux_2_17_x86_64.manylinux2014_x86_64.whl (6.0 MB)\n",
      "\u001b[2K     \u001b[90m━━━━━━━━━━━━━━━━━━━━━━━━━━━━━━━━━━━━━━━━\u001b[0m \u001b[32m6.0/6.0 MB\u001b[0m \u001b[31m61.5 MB/s\u001b[0m eta \u001b[36m0:00:00\u001b[0m\n",
      "\u001b[?25hRequirement already satisfied: tensorflow-hub>=0.8.0 in /usr/local/lib/python3.10/dist-packages (from tensorflow_text) (0.13.0)\n",
      "Requirement already satisfied: tensorflow<2.13,>=2.12.0 in /usr/local/lib/python3.10/dist-packages (from tensorflow_text) (2.12.0)\n",
      "Requirement already satisfied: absl-py>=1.0.0 in /usr/local/lib/python3.10/dist-packages (from tensorflow<2.13,>=2.12.0->tensorflow_text) (1.4.0)\n",
      "Requirement already satisfied: astunparse>=1.6.0 in /usr/local/lib/python3.10/dist-packages (from tensorflow<2.13,>=2.12.0->tensorflow_text) (1.6.3)\n",
      "Requirement already satisfied: flatbuffers>=2.0 in /usr/local/lib/python3.10/dist-packages (from tensorflow<2.13,>=2.12.0->tensorflow_text) (23.3.3)\n",
      "Requirement already satisfied: gast<=0.4.0,>=0.2.1 in /usr/local/lib/python3.10/dist-packages (from tensorflow<2.13,>=2.12.0->tensorflow_text) (0.4.0)\n",
      "Requirement already satisfied: google-pasta>=0.1.1 in /usr/local/lib/python3.10/dist-packages (from tensorflow<2.13,>=2.12.0->tensorflow_text) (0.2.0)\n",
      "Requirement already satisfied: grpcio<2.0,>=1.24.3 in /usr/local/lib/python3.10/dist-packages (from tensorflow<2.13,>=2.12.0->tensorflow_text) (1.54.0)\n",
      "Requirement already satisfied: h5py>=2.9.0 in /usr/local/lib/python3.10/dist-packages (from tensorflow<2.13,>=2.12.0->tensorflow_text) (3.8.0)\n",
      "Requirement already satisfied: jax>=0.3.15 in /usr/local/lib/python3.10/dist-packages (from tensorflow<2.13,>=2.12.0->tensorflow_text) (0.4.10)\n",
      "Requirement already satisfied: keras<2.13,>=2.12.0 in /usr/local/lib/python3.10/dist-packages (from tensorflow<2.13,>=2.12.0->tensorflow_text) (2.12.0)\n",
      "Requirement already satisfied: libclang>=13.0.0 in /usr/local/lib/python3.10/dist-packages (from tensorflow<2.13,>=2.12.0->tensorflow_text) (16.0.0)\n",
      "Requirement already satisfied: numpy<1.24,>=1.22 in /usr/local/lib/python3.10/dist-packages (from tensorflow<2.13,>=2.12.0->tensorflow_text) (1.22.4)\n",
      "Requirement already satisfied: opt-einsum>=2.3.2 in /usr/local/lib/python3.10/dist-packages (from tensorflow<2.13,>=2.12.0->tensorflow_text) (3.3.0)\n",
      "Requirement already satisfied: packaging in /usr/local/lib/python3.10/dist-packages (from tensorflow<2.13,>=2.12.0->tensorflow_text) (23.1)\n",
      "Requirement already satisfied: protobuf!=4.21.0,!=4.21.1,!=4.21.2,!=4.21.3,!=4.21.4,!=4.21.5,<5.0.0dev,>=3.20.3 in /usr/local/lib/python3.10/dist-packages (from tensorflow<2.13,>=2.12.0->tensorflow_text) (3.20.3)\n",
      "Requirement already satisfied: setuptools in /usr/local/lib/python3.10/dist-packages (from tensorflow<2.13,>=2.12.0->tensorflow_text) (67.7.2)\n",
      "Requirement already satisfied: six>=1.12.0 in /usr/local/lib/python3.10/dist-packages (from tensorflow<2.13,>=2.12.0->tensorflow_text) (1.16.0)\n",
      "Requirement already satisfied: tensorboard<2.13,>=2.12 in /usr/local/lib/python3.10/dist-packages (from tensorflow<2.13,>=2.12.0->tensorflow_text) (2.12.2)\n",
      "Requirement already satisfied: tensorflow-estimator<2.13,>=2.12.0 in /usr/local/lib/python3.10/dist-packages (from tensorflow<2.13,>=2.12.0->tensorflow_text) (2.12.0)\n",
      "Requirement already satisfied: termcolor>=1.1.0 in /usr/local/lib/python3.10/dist-packages (from tensorflow<2.13,>=2.12.0->tensorflow_text) (2.3.0)\n",
      "Requirement already satisfied: typing-extensions>=3.6.6 in /usr/local/lib/python3.10/dist-packages (from tensorflow<2.13,>=2.12.0->tensorflow_text) (4.5.0)\n",
      "Requirement already satisfied: wrapt<1.15,>=1.11.0 in /usr/local/lib/python3.10/dist-packages (from tensorflow<2.13,>=2.12.0->tensorflow_text) (1.14.1)\n",
      "Requirement already satisfied: tensorflow-io-gcs-filesystem>=0.23.1 in /usr/local/lib/python3.10/dist-packages (from tensorflow<2.13,>=2.12.0->tensorflow_text) (0.32.0)\n",
      "Requirement already satisfied: wheel<1.0,>=0.23.0 in /usr/local/lib/python3.10/dist-packages (from astunparse>=1.6.0->tensorflow<2.13,>=2.12.0->tensorflow_text) (0.40.0)\n",
      "Requirement already satisfied: ml-dtypes>=0.1.0 in /usr/local/lib/python3.10/dist-packages (from jax>=0.3.15->tensorflow<2.13,>=2.12.0->tensorflow_text) (0.1.0)\n",
      "Requirement already satisfied: scipy>=1.7 in /usr/local/lib/python3.10/dist-packages (from jax>=0.3.15->tensorflow<2.13,>=2.12.0->tensorflow_text) (1.10.1)\n",
      "Requirement already satisfied: google-auth<3,>=1.6.3 in /usr/local/lib/python3.10/dist-packages (from tensorboard<2.13,>=2.12->tensorflow<2.13,>=2.12.0->tensorflow_text) (2.17.3)\n",
      "Requirement already satisfied: google-auth-oauthlib<1.1,>=0.5 in /usr/local/lib/python3.10/dist-packages (from tensorboard<2.13,>=2.12->tensorflow<2.13,>=2.12.0->tensorflow_text) (1.0.0)\n",
      "Requirement already satisfied: markdown>=2.6.8 in /usr/local/lib/python3.10/dist-packages (from tensorboard<2.13,>=2.12->tensorflow<2.13,>=2.12.0->tensorflow_text) (3.4.3)\n",
      "Requirement already satisfied: requests<3,>=2.21.0 in /usr/local/lib/python3.10/dist-packages (from tensorboard<2.13,>=2.12->tensorflow<2.13,>=2.12.0->tensorflow_text) (2.27.1)\n",
      "Requirement already satisfied: tensorboard-data-server<0.8.0,>=0.7.0 in /usr/local/lib/python3.10/dist-packages (from tensorboard<2.13,>=2.12->tensorflow<2.13,>=2.12.0->tensorflow_text) (0.7.0)\n",
      "Requirement already satisfied: tensorboard-plugin-wit>=1.6.0 in /usr/local/lib/python3.10/dist-packages (from tensorboard<2.13,>=2.12->tensorflow<2.13,>=2.12.0->tensorflow_text) (1.8.1)\n",
      "Requirement already satisfied: werkzeug>=1.0.1 in /usr/local/lib/python3.10/dist-packages (from tensorboard<2.13,>=2.12->tensorflow<2.13,>=2.12.0->tensorflow_text) (2.3.0)\n",
      "Requirement already satisfied: cachetools<6.0,>=2.0.0 in /usr/local/lib/python3.10/dist-packages (from google-auth<3,>=1.6.3->tensorboard<2.13,>=2.12->tensorflow<2.13,>=2.12.0->tensorflow_text) (5.3.0)\n",
      "Requirement already satisfied: pyasn1-modules>=0.2.1 in /usr/local/lib/python3.10/dist-packages (from google-auth<3,>=1.6.3->tensorboard<2.13,>=2.12->tensorflow<2.13,>=2.12.0->tensorflow_text) (0.3.0)\n",
      "Requirement already satisfied: rsa<5,>=3.1.4 in /usr/local/lib/python3.10/dist-packages (from google-auth<3,>=1.6.3->tensorboard<2.13,>=2.12->tensorflow<2.13,>=2.12.0->tensorflow_text) (4.9)\n",
      "Requirement already satisfied: requests-oauthlib>=0.7.0 in /usr/local/lib/python3.10/dist-packages (from google-auth-oauthlib<1.1,>=0.5->tensorboard<2.13,>=2.12->tensorflow<2.13,>=2.12.0->tensorflow_text) (1.3.1)\n",
      "Requirement already satisfied: urllib3<1.27,>=1.21.1 in /usr/local/lib/python3.10/dist-packages (from requests<3,>=2.21.0->tensorboard<2.13,>=2.12->tensorflow<2.13,>=2.12.0->tensorflow_text) (1.26.15)\n",
      "Requirement already satisfied: certifi>=2017.4.17 in /usr/local/lib/python3.10/dist-packages (from requests<3,>=2.21.0->tensorboard<2.13,>=2.12->tensorflow<2.13,>=2.12.0->tensorflow_text) (2022.12.7)\n",
      "Requirement already satisfied: charset-normalizer~=2.0.0 in /usr/local/lib/python3.10/dist-packages (from requests<3,>=2.21.0->tensorboard<2.13,>=2.12->tensorflow<2.13,>=2.12.0->tensorflow_text) (2.0.12)\n",
      "Requirement already satisfied: idna<4,>=2.5 in /usr/local/lib/python3.10/dist-packages (from requests<3,>=2.21.0->tensorboard<2.13,>=2.12->tensorflow<2.13,>=2.12.0->tensorflow_text) (3.4)\n",
      "Requirement already satisfied: MarkupSafe>=2.1.1 in /usr/local/lib/python3.10/dist-packages (from werkzeug>=1.0.1->tensorboard<2.13,>=2.12->tensorflow<2.13,>=2.12.0->tensorflow_text) (2.1.2)\n",
      "Requirement already satisfied: pyasn1<0.6.0,>=0.4.6 in /usr/local/lib/python3.10/dist-packages (from pyasn1-modules>=0.2.1->google-auth<3,>=1.6.3->tensorboard<2.13,>=2.12->tensorflow<2.13,>=2.12.0->tensorflow_text) (0.5.0)\n",
      "Requirement already satisfied: oauthlib>=3.0.0 in /usr/local/lib/python3.10/dist-packages (from requests-oauthlib>=0.7.0->google-auth-oauthlib<1.1,>=0.5->tensorboard<2.13,>=2.12->tensorflow<2.13,>=2.12.0->tensorflow_text) (3.2.2)\n",
      "Installing collected packages: tensorflow_text\n",
      "Successfully installed tensorflow_text-2.12.1\n"
     ]
    }
   ],
   "source": [
    "pip install tensorflow_text\n"
   ]
  },
  {
   "cell_type": "code",
   "execution_count": 2,
   "metadata": {
    "executionInfo": {
     "elapsed": 3242,
     "status": "ok",
     "timestamp": 1686695597293,
     "user": {
      "displayName": "Shivam Mathur",
      "userId": "13996464205483377357"
     },
     "user_tz": 420
    },
    "id": "7xX_JBwtc2Z7"
   },
   "outputs": [],
   "source": [
    "import tensorflow as tf\n",
    "tf.config.run_functions_eagerly(True)\n",
    "tf.data.experimental.enable_debug_mode()\n",
    "\n",
    "import keras\n",
    "import tensorflow_hub as hub\n",
    "import tensorflow_text as text"
   ]
  },
  {
   "cell_type": "code",
   "execution_count": 3,
   "metadata": {
    "executionInfo": {
     "elapsed": 6,
     "status": "ok",
     "timestamp": 1686695597294,
     "user": {
      "displayName": "Shivam Mathur",
      "userId": "13996464205483377357"
     },
     "user_tz": 420
    },
    "id": "1iFU3QxAc8PF"
   },
   "outputs": [],
   "source": [
    "import pandas as pd\n",
    "import numpy as np"
   ]
  },
  {
   "cell_type": "code",
   "execution_count": 4,
   "metadata": {
    "executionInfo": {
     "elapsed": 3262,
     "status": "ok",
     "timestamp": 1686695600551,
     "user": {
      "displayName": "Shivam Mathur",
      "userId": "13996464205483377357"
     },
     "user_tz": 420
    },
    "id": "qORgRCEBeANa"
   },
   "outputs": [],
   "source": [
    "# get pretraining corpus data\n",
    "df_boolq_train = pd.read_json(r'boolq_train.jsonl', lines=True)\n",
    "df_boolq_dev = pd.read_json(r'boolq_dev.jsonl', lines=True)"
   ]
  },
  {
   "cell_type": "code",
   "execution_count": 5,
   "metadata": {
    "colab": {
     "base_uri": "https://localhost:8080/"
    },
    "executionInfo": {
     "elapsed": 15,
     "status": "ok",
     "timestamp": 1686695600552,
     "user": {
      "displayName": "Shivam Mathur",
      "userId": "13996464205483377357"
     },
     "user_tz": 420
    },
    "id": "_zdWoXPKXlMk",
    "outputId": "ffae132d-ae16-4918-f5bb-83fc0df06205"
   },
   "outputs": [
    {
     "data": {
      "text/plain": [
       "True     5874\n",
       "False    3553\n",
       "Name: answer, dtype: int64"
      ]
     },
     "execution_count": 5,
     "metadata": {},
     "output_type": "execute_result"
    }
   ],
   "source": [
    "df_boolq_train['answer'].value_counts()"
   ]
  },
  {
   "cell_type": "code",
   "execution_count": 6,
   "metadata": {
    "executionInfo": {
     "elapsed": 10,
     "status": "ok",
     "timestamp": 1686695600552,
     "user": {
      "displayName": "Shivam Mathur",
      "userId": "13996464205483377357"
     },
     "user_tz": 420
    },
    "id": "-1Ey4Wc4apYk"
   },
   "outputs": [],
   "source": [
    "df_boolq_train['question'] = df_boolq_train['question'].astype(str)\n",
    "df_boolq_train['passage'] = df_boolq_train['passage'].astype(str)\n",
    "df_boolq_train['QA'] = df_boolq_train['question'] + '[SEP]' + df_boolq_train['passage']\n",
    "\n",
    "df_boolq_train = df_boolq_train.rename(columns={\"answer\": \"gold\"})\n",
    "df_boolq_train['gold'] = df_boolq_train['gold'].astype(str)\n",
    "df_boolq_train['gold'] = df_boolq_train['gold'].str.replace('True', 'y')\n",
    "df_boolq_train['gold'] = df_boolq_train['gold'].str.replace('False', 'n')\n",
    "\n",
    "\n",
    "df_boolq_dev['question'] = df_boolq_dev['question'].astype(str)\n",
    "df_boolq_dev['passage'] = df_boolq_dev['passage'].astype(str)\n",
    "df_boolq_dev['QA'] = df_boolq_dev['question'] + '[SEP]' + df_boolq_train['passage']\n",
    "\n",
    "df_boolq_dev = df_boolq_dev.rename(columns={\"answer\": \"gold\"})\n",
    "df_boolq_dev['gold'] = df_boolq_dev['gold'].astype(str)\n",
    "df_boolq_dev['gold'] = df_boolq_dev['gold'].str.replace('True', 'y')\n",
    "df_boolq_dev['gold'] = df_boolq_dev['gold'].str.replace('False', 'n')\n",
    "\n",
    "\n"
   ]
  },
  {
   "cell_type": "code",
   "execution_count": 7,
   "metadata": {
    "colab": {
     "base_uri": "https://localhost:8080/",
     "height": 424
    },
    "executionInfo": {
     "elapsed": 10,
     "status": "ok",
     "timestamp": 1686695600552,
     "user": {
      "displayName": "Shivam Mathur",
      "userId": "13996464205483377357"
     },
     "user_tz": 420
    },
    "id": "Gu5TB3GQmGhy",
    "outputId": "37b08646-daa5-4f30-fa13-ca6cce09d1f7"
   },
   "outputs": [
    {
     "data": {
      "text/html": [
       "\n",
       "  <div id=\"df-c0c8f2fa-854f-4cc6-8d20-25c3fffd54c8\">\n",
       "    <div class=\"colab-df-container\">\n",
       "      <div>\n",
       "<style scoped>\n",
       "    .dataframe tbody tr th:only-of-type {\n",
       "        vertical-align: middle;\n",
       "    }\n",
       "\n",
       "    .dataframe tbody tr th {\n",
       "        vertical-align: top;\n",
       "    }\n",
       "\n",
       "    .dataframe thead th {\n",
       "        text-align: right;\n",
       "    }\n",
       "</style>\n",
       "<table border=\"1\" class=\"dataframe\">\n",
       "  <thead>\n",
       "    <tr style=\"text-align: right;\">\n",
       "      <th></th>\n",
       "      <th>gold_n</th>\n",
       "      <th>gold_pn</th>\n",
       "      <th>gold_py</th>\n",
       "      <th>gold_uk</th>\n",
       "      <th>gold_y</th>\n",
       "    </tr>\n",
       "  </thead>\n",
       "  <tbody>\n",
       "    <tr>\n",
       "      <th>0</th>\n",
       "      <td>1</td>\n",
       "      <td>0</td>\n",
       "      <td>0</td>\n",
       "      <td>0</td>\n",
       "      <td>0</td>\n",
       "    </tr>\n",
       "    <tr>\n",
       "      <th>1</th>\n",
       "      <td>0</td>\n",
       "      <td>0</td>\n",
       "      <td>0</td>\n",
       "      <td>0</td>\n",
       "      <td>1</td>\n",
       "    </tr>\n",
       "    <tr>\n",
       "      <th>2</th>\n",
       "      <td>0</td>\n",
       "      <td>0</td>\n",
       "      <td>0</td>\n",
       "      <td>0</td>\n",
       "      <td>1</td>\n",
       "    </tr>\n",
       "    <tr>\n",
       "      <th>3</th>\n",
       "      <td>0</td>\n",
       "      <td>0</td>\n",
       "      <td>0</td>\n",
       "      <td>0</td>\n",
       "      <td>1</td>\n",
       "    </tr>\n",
       "    <tr>\n",
       "      <th>4</th>\n",
       "      <td>0</td>\n",
       "      <td>0</td>\n",
       "      <td>0</td>\n",
       "      <td>0</td>\n",
       "      <td>1</td>\n",
       "    </tr>\n",
       "    <tr>\n",
       "      <th>...</th>\n",
       "      <td>...</td>\n",
       "      <td>...</td>\n",
       "      <td>...</td>\n",
       "      <td>...</td>\n",
       "      <td>...</td>\n",
       "    </tr>\n",
       "    <tr>\n",
       "      <th>3265</th>\n",
       "      <td>0</td>\n",
       "      <td>0</td>\n",
       "      <td>0</td>\n",
       "      <td>0</td>\n",
       "      <td>1</td>\n",
       "    </tr>\n",
       "    <tr>\n",
       "      <th>3266</th>\n",
       "      <td>0</td>\n",
       "      <td>0</td>\n",
       "      <td>0</td>\n",
       "      <td>0</td>\n",
       "      <td>1</td>\n",
       "    </tr>\n",
       "    <tr>\n",
       "      <th>3267</th>\n",
       "      <td>0</td>\n",
       "      <td>0</td>\n",
       "      <td>0</td>\n",
       "      <td>0</td>\n",
       "      <td>1</td>\n",
       "    </tr>\n",
       "    <tr>\n",
       "      <th>3268</th>\n",
       "      <td>0</td>\n",
       "      <td>0</td>\n",
       "      <td>0</td>\n",
       "      <td>0</td>\n",
       "      <td>1</td>\n",
       "    </tr>\n",
       "    <tr>\n",
       "      <th>3269</th>\n",
       "      <td>1</td>\n",
       "      <td>0</td>\n",
       "      <td>0</td>\n",
       "      <td>0</td>\n",
       "      <td>0</td>\n",
       "    </tr>\n",
       "  </tbody>\n",
       "</table>\n",
       "<p>3270 rows × 5 columns</p>\n",
       "</div>\n",
       "      <button class=\"colab-df-convert\" onclick=\"convertToInteractive('df-c0c8f2fa-854f-4cc6-8d20-25c3fffd54c8')\"\n",
       "              title=\"Convert this dataframe to an interactive table.\"\n",
       "              style=\"display:none;\">\n",
       "        \n",
       "  <svg xmlns=\"http://www.w3.org/2000/svg\" height=\"24px\"viewBox=\"0 0 24 24\"\n",
       "       width=\"24px\">\n",
       "    <path d=\"M0 0h24v24H0V0z\" fill=\"none\"/>\n",
       "    <path d=\"M18.56 5.44l.94 2.06.94-2.06 2.06-.94-2.06-.94-.94-2.06-.94 2.06-2.06.94zm-11 1L8.5 8.5l.94-2.06 2.06-.94-2.06-.94L8.5 2.5l-.94 2.06-2.06.94zm10 10l.94 2.06.94-2.06 2.06-.94-2.06-.94-.94-2.06-.94 2.06-2.06.94z\"/><path d=\"M17.41 7.96l-1.37-1.37c-.4-.4-.92-.59-1.43-.59-.52 0-1.04.2-1.43.59L10.3 9.45l-7.72 7.72c-.78.78-.78 2.05 0 2.83L4 21.41c.39.39.9.59 1.41.59.51 0 1.02-.2 1.41-.59l7.78-7.78 2.81-2.81c.8-.78.8-2.07 0-2.86zM5.41 20L4 18.59l7.72-7.72 1.47 1.35L5.41 20z\"/>\n",
       "  </svg>\n",
       "      </button>\n",
       "      \n",
       "  <style>\n",
       "    .colab-df-container {\n",
       "      display:flex;\n",
       "      flex-wrap:wrap;\n",
       "      gap: 12px;\n",
       "    }\n",
       "\n",
       "    .colab-df-convert {\n",
       "      background-color: #E8F0FE;\n",
       "      border: none;\n",
       "      border-radius: 50%;\n",
       "      cursor: pointer;\n",
       "      display: none;\n",
       "      fill: #1967D2;\n",
       "      height: 32px;\n",
       "      padding: 0 0 0 0;\n",
       "      width: 32px;\n",
       "    }\n",
       "\n",
       "    .colab-df-convert:hover {\n",
       "      background-color: #E2EBFA;\n",
       "      box-shadow: 0px 1px 2px rgba(60, 64, 67, 0.3), 0px 1px 3px 1px rgba(60, 64, 67, 0.15);\n",
       "      fill: #174EA6;\n",
       "    }\n",
       "\n",
       "    [theme=dark] .colab-df-convert {\n",
       "      background-color: #3B4455;\n",
       "      fill: #D2E3FC;\n",
       "    }\n",
       "\n",
       "    [theme=dark] .colab-df-convert:hover {\n",
       "      background-color: #434B5C;\n",
       "      box-shadow: 0px 1px 3px 1px rgba(0, 0, 0, 0.15);\n",
       "      filter: drop-shadow(0px 1px 2px rgba(0, 0, 0, 0.3));\n",
       "      fill: #FFFFFF;\n",
       "    }\n",
       "  </style>\n",
       "\n",
       "      <script>\n",
       "        const buttonEl =\n",
       "          document.querySelector('#df-c0c8f2fa-854f-4cc6-8d20-25c3fffd54c8 button.colab-df-convert');\n",
       "        buttonEl.style.display =\n",
       "          google.colab.kernel.accessAllowed ? 'block' : 'none';\n",
       "\n",
       "        async function convertToInteractive(key) {\n",
       "          const element = document.querySelector('#df-c0c8f2fa-854f-4cc6-8d20-25c3fffd54c8');\n",
       "          const dataTable =\n",
       "            await google.colab.kernel.invokeFunction('convertToInteractive',\n",
       "                                                     [key], {});\n",
       "          if (!dataTable) return;\n",
       "\n",
       "          const docLinkHtml = 'Like what you see? Visit the ' +\n",
       "            '<a target=\"_blank\" href=https://colab.research.google.com/notebooks/data_table.ipynb>data table notebook</a>'\n",
       "            + ' to learn more about interactive tables.';\n",
       "          element.innerHTML = '';\n",
       "          dataTable['output_type'] = 'display_data';\n",
       "          await google.colab.output.renderOutput(dataTable, element);\n",
       "          const docLink = document.createElement('div');\n",
       "          docLink.innerHTML = docLinkHtml;\n",
       "          element.appendChild(docLink);\n",
       "        }\n",
       "      </script>\n",
       "    </div>\n",
       "  </div>\n",
       "  "
      ],
      "text/plain": [
       "      gold_n  gold_pn  gold_py  gold_uk  gold_y\n",
       "0          1        0        0        0       0\n",
       "1          0        0        0        0       1\n",
       "2          0        0        0        0       1\n",
       "3          0        0        0        0       1\n",
       "4          0        0        0        0       1\n",
       "...      ...      ...      ...      ...     ...\n",
       "3265       0        0        0        0       1\n",
       "3266       0        0        0        0       1\n",
       "3267       0        0        0        0       1\n",
       "3268       0        0        0        0       1\n",
       "3269       1        0        0        0       0\n",
       "\n",
       "[3270 rows x 5 columns]"
      ]
     },
     "execution_count": 7,
     "metadata": {},
     "output_type": "execute_result"
    }
   ],
   "source": [
    "y_boolq_train = pd.get_dummies(df_boolq_train.gold, prefix='gold')\n",
    "y_boolq_train['gold_pn'] = 0\n",
    "y_boolq_train['gold_py'] = 0\n",
    "y_boolq_train['gold_uk'] = 0\n",
    "y_boolq_train = y_boolq_train[['gold_n','gold_pn','gold_py','gold_uk','gold_y']].copy()\n",
    "y_boolq_train\n",
    "# y_boolq_dev = pd.get_dummies(df_boolq_dev.gold, prefix='gold')\n",
    "y_boolq_dev = pd.get_dummies(df_boolq_dev.gold, prefix='gold')\n",
    "y_boolq_dev['gold_pn'] = 0\n",
    "y_boolq_dev['gold_py'] = 0\n",
    "y_boolq_dev['gold_uk'] = 0\n",
    "y_boolq_dev = y_boolq_dev[['gold_n','gold_pn','gold_py','gold_uk','gold_y']].copy()\n",
    "y_boolq_dev"
   ]
  },
  {
   "cell_type": "code",
   "execution_count": 8,
   "metadata": {
    "executionInfo": {
     "elapsed": 2760,
     "status": "ok",
     "timestamp": 1686695603305,
     "user": {
      "displayName": "Shivam Mathur",
      "userId": "13996464205483377357"
     },
     "user_tz": 420
    },
    "id": "XlqX2gpFGxfm"
   },
   "outputs": [],
   "source": [
    "# Also get the finetunning dataset\n",
    "# setting A\n",
    "df_train = pd.read_csv('twitter-yn/setting_a/TR_a.csv')\n",
    "df_train=df_train.rename(columns={\"gold_adj\": \"gold\"})\n",
    "\n",
    "df_dev = pd.read_csv('twitter-yn/setting_a/TD_a.csv')\n",
    "df_dev=df_dev.rename(columns={\"gold_adj\": \"gold\"})\n",
    "\n",
    "df_test = pd.read_csv('twitter-yn/setting_a/TE_a.csv')\n",
    "df_test=df_test.rename(columns={\"gold_adj\": \"gold\"})\n",
    "\n",
    "\n",
    "df_train['QA'] = df_train['Main_tweet'] + '[SEP]' + df_train['Reply_tweet']\n",
    "\n",
    "df_dev['QA'] = df_dev['Main_tweet'] + '[SEP]' + df_dev['Reply_tweet']\n",
    "df_dev = df_dev.rename(columns={\"gold_adj\": \"gold\"})\n",
    "\n",
    "df_test['QA'] = df_test['Main_tweet'] + '[SEP]' + df_test['Reply_tweet']\n",
    "df_test = df_test.rename(columns={\"gold_adj\": \"gold\"})"
   ]
  },
  {
   "cell_type": "code",
   "execution_count": 9,
   "metadata": {
    "executionInfo": {
     "elapsed": 32804,
     "status": "ok",
     "timestamp": 1686695636107,
     "user": {
      "displayName": "Shivam Mathur",
      "userId": "13996464205483377357"
     },
     "user_tz": 420
    },
    "id": "B8_NOYqMhkVP"
   },
   "outputs": [],
   "source": [
    "# roberta initialization\n",
    "bert_preprocess = hub.KerasLayer(\"https://tfhub.dev/jeongukjae/roberta_en_cased_preprocess/1\", trainable=True)\n",
    "bert_encoder = hub.KerasLayer(\"https://tfhub.dev/jeongukjae/roberta_en_cased_L-12_H-768_A-12/1\", trainable=True)"
   ]
  },
  {
   "cell_type": "code",
   "execution_count": 10,
   "metadata": {
    "colab": {
     "base_uri": "https://localhost:8080/"
    },
    "executionInfo": {
     "elapsed": 1044,
     "status": "ok",
     "timestamp": 1686695637146,
     "user": {
      "displayName": "Shivam Mathur",
      "userId": "13996464205483377357"
     },
     "user_tz": 420
    },
    "id": "4Ru5kNBkhrgH",
    "outputId": "c53a36da-8cbb-4a55-8086-42e7bfcb2216"
   },
   "outputs": [
    {
     "name": "stderr",
     "output_type": "stream",
     "text": [
      "ERROR:absl:hub.KerasLayer is trainable but has zero trainable weights.\n"
     ]
    }
   ],
   "source": [
    "# RoBerta layers\n",
    "text_input = tf.keras.layers.Input(shape=(), dtype=tf.string, name='text') # Textual input layer\n",
    "preprocessed_text = bert_preprocess(text_input) # The preprocessing of text\n",
    "outputs = bert_encoder(preprocessed_text) # Encoded o/p\n",
    "\n",
    "# softmax layers\n",
    "l = tf.keras.layers.Dense(5, activation='softmax', name=\"soft_output\")(outputs['pooled_output'])\n",
    "\n",
    "# Use inputs and outputs to construct a final model\n",
    "model = tf.keras.Model(inputs=[text_input], outputs = [l])"
   ]
  },
  {
   "cell_type": "code",
   "execution_count": 11,
   "metadata": {
    "colab": {
     "base_uri": "https://localhost:8080/"
    },
    "executionInfo": {
     "elapsed": 14,
     "status": "ok",
     "timestamp": 1686695637146,
     "user": {
      "displayName": "Shivam Mathur",
      "userId": "13996464205483377357"
     },
     "user_tz": 420
    },
    "id": "no36pn3Gi3mN",
    "outputId": "499a2b7d-289f-4be3-9025-67a688d27349"
   },
   "outputs": [
    {
     "name": "stdout",
     "output_type": "stream",
     "text": [
      "Model: \"model\"\n",
      "__________________________________________________________________________________________________\n",
      " Layer (type)                   Output Shape         Param #     Connected to                     \n",
      "==================================================================================================\n",
      " text (InputLayer)              [(None,)]            0           []                               \n",
      "                                                                                                  \n",
      " keras_layer (KerasLayer)       {'input_mask': (Non  0           ['text[0][0]']                   \n",
      "                                e, 128),                                                          \n",
      "                                 'input_type_ids':                                                \n",
      "                                (None, 128),                                                      \n",
      "                                 'input_word_ids':                                                \n",
      "                                (None, 128)}                                                      \n",
      "                                                                                                  \n",
      " keras_layer_1 (KerasLayer)     {'encoder_outputs':  124644096   ['keras_layer[0][0]',            \n",
      "                                 [(None, 128, 768),               'keras_layer[0][1]',            \n",
      "                                 (None, 128, 768),                'keras_layer[0][2]']            \n",
      "                                 (None, 128, 768),                                                \n",
      "                                 (None, 128, 768),                                                \n",
      "                                 (None, 128, 768),                                                \n",
      "                                 (None, 128, 768),                                                \n",
      "                                 (None, 128, 768),                                                \n",
      "                                 (None, 128, 768),                                                \n",
      "                                 (None, 128, 768),                                                \n",
      "                                 (None, 128, 768),                                                \n",
      "                                 (None, 128, 768),                                                \n",
      "                                 (None, 128, 768)],                                               \n",
      "                                 'pooled_output': (                                               \n",
      "                                None, 768),                                                       \n",
      "                                 'sequence_output':                                               \n",
      "                                 (None, 128, 768)}                                                \n",
      "                                                                                                  \n",
      " soft_output (Dense)            (None, 5)            3845        ['keras_layer_1[0][12]']         \n",
      "                                                                                                  \n",
      "==================================================================================================\n",
      "Total params: 124,647,941\n",
      "Trainable params: 124,647,941\n",
      "Non-trainable params: 0\n",
      "__________________________________________________________________________________________________\n"
     ]
    }
   ],
   "source": [
    "model.summary()"
   ]
  },
  {
   "cell_type": "code",
   "execution_count": 12,
   "metadata": {
    "executionInfo": {
     "elapsed": 4,
     "status": "ok",
     "timestamp": 1686695637147,
     "user": {
      "displayName": "Shivam Mathur",
      "userId": "13996464205483377357"
     },
     "user_tz": 420
    },
    "id": "8hEuXcNEi6aK"
   },
   "outputs": [],
   "source": [
    "import keras\n",
    "\n",
    "def get_lr_metric(optimizer):\n",
    "    def lr(y_true, y_pred):\n",
    "        return optimizer.learning_rate # I use ._decayed_lr method instead of .lr\n",
    "    return lr\n",
    "\n",
    "\n",
    "callback = tf.keras.callbacks.EarlyStopping(monitor='val_loss', patience=3, min_delta=0.01, restore_best_weights=True)\n",
    "\n",
    "initial_learning_rate = 0.00001\n",
    "lr_schedule = tf.keras.optimizers.schedules.ExponentialDecay(\n",
    "    initial_learning_rate,\n",
    "    decay_steps=10000,\n",
    "    decay_rate=0.96,\n",
    "    staircase=True)\n",
    "\n",
    "optimizer = tf.keras.optimizers.Adam(learning_rate=lr_schedule)\n",
    "\n",
    "lr_metric = get_lr_metric(optimizer)\n",
    "\n",
    "METRICS = [\n",
    "      tf.keras.metrics.CategoricalAccuracy(name='accuracy'),\n",
    "      tf.keras.metrics.Precision(name='precision'),\n",
    "      tf.keras.metrics.Recall(name='recall'),\n",
    "      lr_metric\n",
    "]\n",
    "\n",
    "# optimizer.learning_rate.assign(0.00002)\n",
    "model.compile(optimizer=optimizer,\n",
    "              loss='CategoricalCrossentropy',\n",
    "              metrics=METRICS)"
   ]
  },
  {
   "cell_type": "code",
   "execution_count": 13,
   "metadata": {
    "colab": {
     "base_uri": "https://localhost:8080/"
    },
    "executionInfo": {
     "elapsed": 6600225,
     "status": "ok",
     "timestamp": 1686712742629,
     "user": {
      "displayName": "Shivam Mathur",
      "userId": "13996464205483377357"
     },
     "user_tz": 420
    },
    "id": "Ui75kWjCiwfQ",
    "outputId": "770315cd-ebda-4491-dcce-5b78487c318f"
   },
   "outputs": [
    {
     "name": "stdout",
     "output_type": "stream",
     "text": [
      "Epoch 1/200\n",
      "590/590 [==============================] - 4289s 7s/step - loss: 0.6611 - accuracy: 0.6376 - precision: 0.6385 - recall: 0.6231 - lr: 1.0000e-05 - val_loss: 0.6882 - val_accuracy: 0.6076 - val_precision: 0.6080 - val_recall: 0.6076 - val_lr: 1.0000e-05\n",
      "Epoch 2/200\n",
      "590/590 [==============================] - 4274s 7s/step - loss: 0.5283 - accuracy: 0.7385 - precision: 0.7388 - recall: 0.7379 - lr: 1.0000e-05 - val_loss: 0.7335 - val_accuracy: 0.5832 - val_precision: 0.5828 - val_recall: 0.5823 - val_lr: 1.0000e-05\n",
      "Epoch 3/200\n",
      "590/590 [==============================] - 4269s 7s/step - loss: 0.3997 - accuracy: 0.8230 - precision: 0.8232 - recall: 0.8227 - lr: 1.0000e-05 - val_loss: 0.9348 - val_accuracy: 0.5180 - val_precision: 0.5181 - val_recall: 0.5174 - val_lr: 1.0000e-05\n",
      "Epoch 4/200\n",
      "590/590 [==============================] - 4273s 7s/step - loss: 0.2987 - accuracy: 0.8739 - precision: 0.8742 - recall: 0.8739 - lr: 1.0000e-05 - val_loss: 1.1125 - val_accuracy: 0.5483 - val_precision: 0.5483 - val_recall: 0.5483 - val_lr: 1.0000e-05\n"
     ]
    },
    {
     "data": {
      "text/plain": [
       "<keras.callbacks.History at 0x7f70df84eb90>"
      ]
     },
     "execution_count": 13,
     "metadata": {},
     "output_type": "execute_result"
    }
   ],
   "source": [
    "from pandas.compat.numpy.function import validate_take_with_convert\n",
    "# pretraining\n",
    "model.fit(df_boolq_train['QA'], y_boolq_train, epochs=200, batch_size=16, callbacks=[callback], validation_data = (df_boolq_dev['QA'],y_boolq_dev))"
   ]
  },
  {
   "cell_type": "code",
   "execution_count": 14,
   "metadata": {
    "colab": {
     "base_uri": "https://localhost:8080/"
    },
    "executionInfo": {
     "elapsed": 25540,
     "status": "ok",
     "timestamp": 1686712768169,
     "user": {
      "displayName": "Shivam Mathur",
      "userId": "13996464205483377357"
     },
     "user_tz": 420
    },
    "id": "M2VSImQW6lhf",
    "outputId": "83b4ecb1-611a-4a1d-dec9-976ce0ac8f2d"
   },
   "outputs": [
    {
     "name": "stdout",
     "output_type": "stream",
     "text": [
      "19/19 [==============================] - 13s 668ms/step - loss: 2.6979 - accuracy: 0.4967 - precision: 0.4966 - recall: 0.4933 - lr: 1.0000e-05\n",
      "[2.697908639907837, 0.49666666984558105, 0.4966442883014679, 0.4933333396911621, 1.0000001566368155e-05]\n",
      "19/19 [==============================] - 12s 641ms/step\n",
      "TWITTER TEST\n",
      "              precision    recall  f1-score   support\n",
      "\n",
      "           n       0.54      0.45      0.49       177\n",
      "          pn       0.00      0.00      0.00        32\n",
      "          py       0.00      0.00      0.00        51\n",
      "          uk       0.00      0.00      0.00        96\n",
      "           y       0.48      0.89      0.63       244\n",
      "\n",
      "    accuracy                           0.50       600\n",
      "   macro avg       0.20      0.27      0.22       600\n",
      "weighted avg       0.36      0.50      0.40       600\n",
      "\n"
     ]
    },
    {
     "name": "stderr",
     "output_type": "stream",
     "text": [
      "/usr/local/lib/python3.10/dist-packages/sklearn/metrics/_classification.py:1344: UndefinedMetricWarning: Precision and F-score are ill-defined and being set to 0.0 in labels with no predicted samples. Use `zero_division` parameter to control this behavior.\n",
      "  _warn_prf(average, modifier, msg_start, len(result))\n",
      "/usr/local/lib/python3.10/dist-packages/sklearn/metrics/_classification.py:1344: UndefinedMetricWarning: Precision and F-score are ill-defined and being set to 0.0 in labels with no predicted samples. Use `zero_division` parameter to control this behavior.\n",
      "  _warn_prf(average, modifier, msg_start, len(result))\n",
      "/usr/local/lib/python3.10/dist-packages/sklearn/metrics/_classification.py:1344: UndefinedMetricWarning: Precision and F-score are ill-defined and being set to 0.0 in labels with no predicted samples. Use `zero_division` parameter to control this behavior.\n",
      "  _warn_prf(average, modifier, msg_start, len(result))\n"
     ]
    }
   ],
   "source": [
    "y_test = pd.get_dummies(df_test.gold, prefix = 'gold')\n",
    "print(model.evaluate(df_test['QA'], y_test))\n",
    "y_predicted = model.predict(df_test['QA'])\n",
    "\n",
    "pred_results = tf.cast(tf.equal(y_predicted, tf.reduce_max(y_predicted, axis = 1, keepdims=True)), tf.float32)\n",
    "\n",
    "pred_results = pd.DataFrame(pred_results.numpy(), columns = ['gold_n',\n",
    "                                       'gold_pn',\n",
    "                                       'gold_py',\n",
    "                                       'gold_uk',\n",
    "                                       'gold_y'])\n",
    "\n",
    "pred_results.shape\n",
    "pred_results.to_numpy()\n",
    "pred_results = [np.where(r==1)[0][0] for r in pred_results.to_numpy()]\n",
    "pred_results = pd.DataFrame(pred_results, columns=['gold'])\n",
    "\n",
    "pred_results['gold'] = pred_results['gold'].map({0:'n',\n",
    "                                                   1:'pn',\n",
    "                                                   2:'py',\n",
    "                                                   3:'uk',\n",
    "                                                   4:'y'})\n",
    "\n",
    "test_gtruths = [np.where(r==1)[0][0] for r in y_test.to_numpy()]\n",
    "test_gtruths = pd.DataFrame(test_gtruths, columns=['gold'])\n",
    "\n",
    "test_gtruths['gold'] = test_gtruths['gold'].map({0:'n',\n",
    "                                                   1:'pn',\n",
    "                                                   2:'py',\n",
    "                                                   3:'uk',\n",
    "                                                   4:'y'})\n",
    "\n",
    "print('TWITTER TEST')\n",
    "from sklearn.metrics import classification_report\n",
    "print(classification_report(y_true = test_gtruths['gold'], y_pred = pred_results['gold']))"
   ]
  },
  {
   "cell_type": "code",
   "execution_count": null,
   "metadata": {
    "id": "2a-LwSpXWk5w"
   },
   "outputs": [],
   "source": [
    "import seaborn as sns\n",
    "import matplotlib.pyplot as plt\n",
    "\n",
    "confusion_matrix = pd.crosstab(pred_results['gold'],test_gtruths['gold'],rownames=['predicted'], colnames=['gold'])\n",
    "\n",
    "sns.heatmap(confusion_matrix,annot=True,cmap='Blues', fmt='g')\n",
    "plt.show()\n",
    "print(confusion_matrix)"
   ]
  },
  {
   "cell_type": "code",
   "execution_count": 16,
   "metadata": {
    "executionInfo": {
     "elapsed": 369,
     "status": "ok",
     "timestamp": 1686712768940,
     "user": {
      "displayName": "Shivam Mathur",
      "userId": "13996464205483377357"
     },
     "user_tz": 420
    },
    "id": "gHdAZF3pLM8N"
   },
   "outputs": [],
   "source": [
    "pred_results.to_csv('A_boolq.csv')"
   ]
  },
  {
   "cell_type": "code",
   "execution_count": 17,
   "metadata": {
    "executionInfo": {
     "elapsed": 2,
     "status": "ok",
     "timestamp": 1686712768941,
     "user": {
      "displayName": "Shivam Mathur",
      "userId": "13996464205483377357"
     },
     "user_tz": 420
    },
    "id": "D54ZgCgRCTio"
   },
   "outputs": [],
   "source": [
    "df_train['QA'] = df_train['Main_tweet'] + '[SEP]' + df_train['Reply_tweet']\n",
    "y_train = pd.get_dummies(df_train.gold, prefix='gold')\n",
    "y_dev = pd.get_dummies(df_dev.gold, prefix='gold')\n",
    "y_test = pd.get_dummies(df_test.gold, prefix='gold')"
   ]
  },
  {
   "cell_type": "code",
   "execution_count": 17,
   "metadata": {
    "executionInfo": {
     "elapsed": 1,
     "status": "ok",
     "timestamp": 1686712768941,
     "user": {
      "displayName": "Shivam Mathur",
      "userId": "13996464205483377357"
     },
     "user_tz": 420
    },
    "id": "o_LDrRZVIDrT"
   },
   "outputs": [],
   "source": []
  },
  {
   "cell_type": "code",
   "execution_count": 18,
   "metadata": {
    "colab": {
     "base_uri": "https://localhost:8080/"
    },
    "executionInfo": {
     "elapsed": 723230,
     "status": "ok",
     "timestamp": 1686713492170,
     "user": {
      "displayName": "Shivam Mathur",
      "userId": "13996464205483377357"
     },
     "user_tz": 420
    },
    "id": "aSdr27_pFQAd",
    "outputId": "fbe47e72-56ba-4f20-b02f-5c60832235fe"
   },
   "outputs": [
    {
     "name": "stdout",
     "output_type": "stream",
     "text": [
      "Epoch 1/200\n",
      "118/118 [==============================] - 125s 1s/step - loss: 1.3227 - accuracy: 0.5292 - precision: 0.6352 - recall: 0.2431 - lr: 1.0000e-05 - val_loss: 1.2373 - val_accuracy: 0.5533 - val_precision: 0.6137 - val_recall: 0.4633 - val_lr: 1.0000e-05\n",
      "Epoch 2/200\n",
      "118/118 [==============================] - 120s 1s/step - loss: 1.0520 - accuracy: 0.6056 - precision: 0.7296 - recall: 0.4368 - lr: 1.0000e-05 - val_loss: 1.0551 - val_accuracy: 0.5983 - val_precision: 0.7143 - val_recall: 0.4750 - val_lr: 1.0000e-05\n",
      "Epoch 3/200\n",
      "118/118 [==============================] - 120s 1s/step - loss: 0.8813 - accuracy: 0.6635 - precision: 0.7755 - recall: 0.5536 - lr: 1.0000e-05 - val_loss: 1.0117 - val_accuracy: 0.6167 - val_precision: 0.7181 - val_recall: 0.4883 - val_lr: 1.0000e-05\n",
      "Epoch 4/200\n",
      "118/118 [==============================] - 119s 1s/step - loss: 0.7006 - accuracy: 0.7611 - precision: 0.8297 - recall: 0.6699 - lr: 1.0000e-05 - val_loss: 1.0985 - val_accuracy: 0.6283 - val_precision: 0.7016 - val_recall: 0.5683 - val_lr: 1.0000e-05\n",
      "Epoch 5/200\n",
      "118/118 [==============================] - 119s 1s/step - loss: 0.5194 - accuracy: 0.8275 - precision: 0.8794 - recall: 0.7776 - lr: 1.0000e-05 - val_loss: 1.3127 - val_accuracy: 0.6233 - val_precision: 0.6594 - val_recall: 0.6067 - val_lr: 1.0000e-05\n",
      "Epoch 6/200\n",
      "118/118 [==============================] - 120s 1s/step - loss: 0.4271 - accuracy: 0.8567 - precision: 0.8839 - recall: 0.8206 - lr: 1.0000e-05 - val_loss: 1.4603 - val_accuracy: 0.6183 - val_precision: 0.6537 - val_recall: 0.5883 - val_lr: 1.0000e-05\n"
     ]
    },
    {
     "data": {
      "text/plain": [
       "<keras.callbacks.History at 0x7f70dd538490>"
      ]
     },
     "execution_count": 18,
     "metadata": {},
     "output_type": "execute_result"
    }
   ],
   "source": [
    "# optimizer.learning_rate.assign(0.00002)\n",
    "model.fit(df_train['QA'], y_train, epochs=200, batch_size=16, callbacks=[callback], validation_data = (df_dev['QA'], y_dev))"
   ]
  },
  {
   "cell_type": "code",
   "execution_count": null,
   "metadata": {
    "id": "_kGHPL6SFjDe"
   },
   "outputs": [],
   "source": [
    "print(model.evaluate(df_dev['QA'], y_dev))\n",
    "y_predicted = model.predict(df_dev['QA'])\n",
    "\n",
    "pred_results = tf.cast(tf.equal(y_predicted, tf.reduce_max(y_predicted, axis = 1, keepdims=True)), tf.float32)\n",
    "\n",
    "pred_results = pd.DataFrame(pred_results.numpy(), columns = ['gold_n',\n",
    "                                       'gold_pn',\n",
    "                                       'gold_py',\n",
    "                                       'gold_uk',\n",
    "                                       'gold_y'])\n",
    "\n",
    "pred_results.shape\n",
    "pred_results.to_numpy()\n",
    "pred_results = [np.where(r==1)[0][0] for r in pred_results.to_numpy()]\n",
    "pred_results = pd.DataFrame(pred_results, columns=['gold'])\n",
    "\n",
    "pred_results['gold'] = pred_results['gold'].map({0:'n',\n",
    "                                                   1:'pn',\n",
    "                                                   2:'py',\n",
    "                                                   3:'uk',\n",
    "                                                   4:'y'})\n",
    "\n",
    "dev_gtruths = [np.where(r==1)[0][0] for r in y_dev.to_numpy()]\n",
    "dev_gtruths = pd.DataFrame(dev_gtruths, columns=['gold'])\n",
    "\n",
    "dev_gtruths['gold'] = dev_gtruths['gold'].map({0:'n',\n",
    "                                                   1:'pn',\n",
    "                                                   2:'py',\n",
    "                                                   3:'uk',\n",
    "                                                   4:'y'})\n",
    "\n",
    "print('DEV')\n",
    "from sklearn.metrics import classification_report\n",
    "print(classification_report(y_true = dev_gtruths['gold'], y_pred = pred_results['gold']))"
   ]
  },
  {
   "cell_type": "code",
   "execution_count": null,
   "metadata": {
    "id": "nRjol-xFFoIf"
   },
   "outputs": [],
   "source": [
    "print(model.evaluate(df_test['QA'], y_test))\n",
    "y_predicted = model.predict(df_test['QA'])\n",
    "\n",
    "pred_results = tf.cast(tf.equal(y_predicted, tf.reduce_max(y_predicted, axis = 1, keepdims=True)), tf.float32)\n",
    "\n",
    "pred_results = pd.DataFrame(pred_results.numpy(), columns = ['gold_n',\n",
    "                                       'gold_pn',\n",
    "                                       'gold_py',\n",
    "                                       'gold_uk',\n",
    "                                       'gold_y'])\n",
    "\n",
    "pred_results.shape\n",
    "pred_results.to_numpy()\n",
    "pred_results = [np.where(r==1)[0][0] for r in pred_results.to_numpy()]\n",
    "pred_results = pd.DataFrame(pred_results, columns=['gold'])\n",
    "\n",
    "pred_results['gold'] = pred_results['gold'].map({0:'n',\n",
    "                                                   1:'pn',\n",
    "                                                   2:'py',\n",
    "                                                   3:'uk',\n",
    "                                                   4:'y'})\n",
    "\n",
    "test_gtruths = [np.where(r==1)[0][0] for r in y_test.to_numpy()]\n",
    "test_gtruths = pd.DataFrame(test_gtruths, columns=['gold'])\n",
    "\n",
    "test_gtruths['gold'] = test_gtruths['gold'].map({0:'n',\n",
    "                                                   1:'pn',\n",
    "                                                   2:'py',\n",
    "                                                   3:'uk',\n",
    "                                                   4:'y'})\n",
    "\n",
    "print('TEST')\n",
    "from sklearn.metrics import classification_report\n",
    "print(classification_report(y_true = test_gtruths['gold'], y_pred = pred_results['gold']))"
   ]
  },
  {
   "cell_type": "code",
   "execution_count": null,
   "metadata": {
    "id": "CP0sgARSFq0V"
   },
   "outputs": [],
   "source": [
    "import seaborn as sns\n",
    "import matplotlib.pyplot as plt\n",
    "\n",
    "confusion_matrix = pd.crosstab(pred_results['gold'],test_gtruths['gold'],rownames=['predicted'], colnames=['gold'])\n",
    "\n",
    "sns.heatmap(confusion_matrix,annot=True,cmap='Blues', fmt='g')\n",
    "plt.show()\n",
    "print(confusion_matrix)"
   ]
  }
 ],
 "metadata": {
  "accelerator": "GPU",
  "colab": {
   "authorship_tag": "ABX9TyOQ1poNLaA4+WTXpkYmz2Wj",
   "gpuType": "A100",
   "machine_shape": "hm",
   "mount_file_id": "1Lds-xctSjWQhjJtDAw1XgOV3P9nd4QDn",
   "provenance": []
  },
  "kernelspec": {
   "display_name": "Python 3 (ipykernel)",
   "language": "python",
   "name": "python3"
  },
  "language_info": {
   "codemirror_mode": {
    "name": "ipython",
    "version": 3
   },
   "file_extension": ".py",
   "mimetype": "text/x-python",
   "name": "python",
   "nbconvert_exporter": "python",
   "pygments_lexer": "ipython3",
   "version": "3.9.7"
  }
 },
 "nbformat": 4,
 "nbformat_minor": 1
}
