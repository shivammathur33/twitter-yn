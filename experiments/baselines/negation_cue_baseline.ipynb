{
 "cells": [
  {
   "cell_type": "code",
   "execution_count": null,
   "metadata": {
    "id": "OEdcximhYO1_"
   },
   "outputs": [],
   "source": [
    "import pandas as pd\n",
    "import re\n",
    "import random\n",
    "from sklearn.metrics import classification_report"
   ]
  },
  {
   "cell_type": "code",
   "execution_count": null,
   "metadata": {
    "id": "Yy2Tf5DrYWkU"
   },
   "outputs": [],
   "source": [
    "df_neg=pd.read_excel('additional_data/twitteryn_negation_cues.xlsx')"
   ]
  },
  {
   "cell_type": "code",
   "execution_count": null,
   "metadata": {
    "id": "dIR0qGuzbymm"
   },
   "outputs": [],
   "source": [
    "df_neg = df_neg[['Reply_id','reply','reply_with_neg_cues','neg_bool']].copy()"
   ]
  },
  {
   "cell_type": "code",
   "execution_count": null,
   "metadata": {
    "id": "PtfvwwhVZZhR"
   },
   "outputs": [],
   "source": [
    "# get the three settings:\n",
    "df_a=pd.read_csv('/content/drive/MyDrive/twitter-IA/setting_a/TE_a.csv')\n",
    "df_b=pd.read_csv('/content/drive/MyDrive/twitter-IA/setting_b/TE_b.csv')\n",
    "df_c=pd.read_csv('/content/drive/MyDrive/twitter-IA/setting_c/TE_c.csv')"
   ]
  },
  {
   "cell_type": "code",
   "execution_count": null,
   "metadata": {
    "id": "_tJ7HgXeamyy"
   },
   "outputs": [],
   "source": [
    "df_a = pd.merge(df_a, df_neg, on = 'Reply_id')\n",
    "df_b = pd.merge(df_b, df_neg, on = 'Reply_id')\n",
    "df_c = pd.merge(df_c, df_neg, on = 'Reply_id')"
   ]
  },
  {
   "cell_type": "code",
   "execution_count": null,
   "metadata": {
    "colab": {
     "base_uri": "https://localhost:8080/"
    },
    "id": "sb-nvDDXiZRo",
    "outputId": "4ed167f1-7420-455e-8528-52e96098f680"
   },
   "outputs": [
    {
     "data": {
      "text/plain": [
       "(600, 12)"
      ]
     },
     "execution_count": 6,
     "metadata": {},
     "output_type": "execute_result"
    }
   ],
   "source": [
    "df_a.shape"
   ]
  },
  {
   "cell_type": "code",
   "execution_count": null,
   "metadata": {
    "id": "hTYI9Nj1dY1i"
   },
   "outputs": [],
   "source": [
    "def convert_neg_pred(df):\n",
    "  df=df.astype(str)\n",
    "  df['predict'] = df['neg_bool']\n",
    "  df['predict'] = df['predict'].str.replace('1','n')\n",
    "  df['predict'] = df['predict'].str.replace('0','y')\n",
    "  return df"
   ]
  },
  {
   "cell_type": "code",
   "execution_count": null,
   "metadata": {
    "id": "2FV46OdKfscQ"
   },
   "outputs": [],
   "source": [
    "df_a = convert_neg_pred(df_a)\n",
    "df_b = convert_neg_pred(df_b)\n",
    "df_c = convert_neg_pred(df_c)\n"
   ]
  },
  {
   "cell_type": "code",
   "execution_count": null,
   "metadata": {
    "colab": {
     "base_uri": "https://localhost:8080/"
    },
    "id": "xv0pRfB2ljEc",
    "outputId": "b6a27514-e2f0-463c-99ac-96620d741fcc"
   },
   "outputs": [
    {
     "data": {
      "text/plain": [
       "Index(['Unnamed: 0', 'Main_Tweet_ID', 'Reply_id', 'temporal_setting',\n",
       "       'Main_tweet', 'Reply_tweet', 'gold_1', 'gold_2', 'gold_adj', 'reply',\n",
       "       'reply_with_neg_cues', 'neg_bool', 'predict'],\n",
       "      dtype='object')"
      ]
     },
     "execution_count": 286,
     "metadata": {},
     "output_type": "execute_result"
    }
   ],
   "source": [
    "df_a.columns"
   ]
  },
  {
   "cell_type": "code",
   "execution_count": null,
   "metadata": {
    "id": "9Hrt5VlPwEmq"
   },
   "outputs": [],
   "source": [
    "# Keyword baseline\n",
    "yes_keyword_regex = \"(yes|yea|yeah|sure|right|you bet|of course|certainly|definitely|uh huh)(\\W*?)\"\n",
    "no_keyword_regex = \"(no|nope|no way|never|n't)(\\W*?)\"\n",
    "probably_keyword_regex = \"(maybe|may|sometimes|can|perhaps|if)(\\W*?)\""
   ]
  },
  {
   "cell_type": "code",
   "execution_count": null,
   "metadata": {
    "id": "9YcLh8Qjwh_X"
   },
   "outputs": [],
   "source": [
    "def keyword_classify(sent):\n",
    "  predict = []\n",
    "\n",
    "  if re.findall(yes_keyword_regex, str(sent)):\n",
    "    if re.findall(probably_keyword_regex, str(sent)):\n",
    "      predict.append('py')\n",
    "    else:\n",
    "      predict.append('y')\n",
    "\n",
    "  if re.findall(no_keyword_regex, str(sent)):\n",
    "    if re.findall(probably_keyword_regex, str(sent)):\n",
    "      predict.append('pn')\n",
    "    else:\n",
    "      predict.append('n')\n",
    "  # print(predict)\n",
    "  if len(predict) == 0:\n",
    "    return 'uk'\n",
    "  else:\n",
    "    return random.choice(predict)"
   ]
  },
  {
   "cell_type": "code",
   "execution_count": null,
   "metadata": {
    "id": "4Zldki1ie8wR"
   },
   "outputs": [],
   "source": [
    "temp=df_a.set_index('Unnamed: 0').T.to_dict('list')\n"
   ]
  },
  {
   "cell_type": "code",
   "execution_count": null,
   "metadata": {
    "colab": {
     "base_uri": "https://localhost:8080/"
    },
    "id": "svrCUPNNgaJu",
    "outputId": "c80208f0-6963-43d2-cfa6-b1d98e55359c"
   },
   "outputs": [
    {
     "data": {
      "text/plain": [
       "Index(['Unnamed: 0', 'Main_Tweet_ID', 'Reply_id', 'temporal_setting',\n",
       "       'Main_tweet', 'Reply_tweet', 'gold_1', 'gold_2', 'gold_adj', 'reply',\n",
       "       'reply_with_neg_cues', 'neg_bool', 'predict'],\n",
       "      dtype='object')"
      ]
     },
     "execution_count": 267,
     "metadata": {},
     "output_type": "execute_result"
    }
   ],
   "source": [
    "df_a.columns"
   ]
  },
  {
   "cell_type": "code",
   "execution_count": null,
   "metadata": {
    "colab": {
     "base_uri": "https://localhost:8080/"
    },
    "id": "pmeGkMZJe9su",
    "outputId": "0511478d-65ea-4423-cdd2-429550051afe"
   },
   "outputs": [
    {
     "data": {
      "text/plain": [
       "['1529794531897614337',\n",
       " '1529797807695138816',\n",
       " 'new',\n",
       " 'Do you think student loans should be forgiven?',\n",
       " ' no, unless there is a period of service to uncle sam in return.',\n",
       " 'pn',\n",
       " 'n',\n",
       " 'pn',\n",
       " 'no, unless there is a period of service to uncle sam in return.',\n",
       " 'no/Y ,/N unless/N there/N is/N a/N period/N of/N service/N to/N uncle/N sam/N in/N return/N ./N',\n",
       " '1',\n",
       " 'n']"
      ]
     },
     "execution_count": 288,
     "metadata": {},
     "output_type": "execute_result"
    }
   ],
   "source": [
    "temp['0']"
   ]
  },
  {
   "cell_type": "code",
   "execution_count": null,
   "metadata": {
    "colab": {
     "base_uri": "https://localhost:8080/"
    },
    "id": "e2hEYlHFkXc4",
    "outputId": "a02dee93-613b-4063-a7e9-7da1608a3d8b"
   },
   "outputs": [
    {
     "name": "stdout",
     "output_type": "stream",
     "text": [
      "pn\n"
     ]
    }
   ],
   "source": [
    "for i in range(len(temp)):\n",
    "  print(temp[str(i)][7])\n",
    "  break"
   ]
  },
  {
   "cell_type": "code",
   "execution_count": null,
   "metadata": {
    "colab": {
     "base_uri": "https://localhost:8080/"
    },
    "id": "wMd-On0_yGgs",
    "outputId": "e7b874ac-94c3-40c3-a108-e4484db10c6d"
   },
   "outputs": [
    {
     "name": "stdout",
     "output_type": "stream",
     "text": [
      "              precision    recall  f1-score   support\n",
      "\n",
      "           n       0.44      0.43      0.44       155\n",
      "          pn       0.14      0.23      0.18        31\n",
      "          py       0.27      0.04      0.08        69\n",
      "          uk       0.21      0.68      0.33       109\n",
      "           y       0.73      0.13      0.22       236\n",
      "\n",
      "    accuracy                           0.30       600\n",
      "   macro avg       0.36      0.30      0.25       600\n",
      "weighted avg       0.48      0.30      0.27       600\n",
      "\n"
     ]
    }
   ],
   "source": [
    "temp=df_a.set_index('Unnamed: 0').T.to_dict('list')\n",
    "for i in range(len(temp)):\n",
    "  predict = []\n",
    "\n",
    "  if re.findall(yes_keyword_regex, temp[str(i)][4]):\n",
    "    if re.findall(probably_keyword_regex, temp[str(i)][4]):\n",
    "      predict.append('py')\n",
    "    else:\n",
    "      predict.append('y')\n",
    "\n",
    "  if temp[str(i)][11] == 'n':\n",
    "    if re.findall(probably_keyword_regex, temp[str(i)][4]):\n",
    "      predict.append('pn')\n",
    "    else:\n",
    "      predict.append('n')\n",
    "\n",
    "  else:\n",
    "    predict.append('uk')\n",
    "\n",
    "  temp[str(i)][11] = random.choice(predict)\n",
    "\n",
    "df = pd.DataFrame.from_dict(temp, orient ='index')\n",
    "\n",
    "print(classification_report(y_true = df[7], y_pred = df[11]))"
   ]
  },
  {
   "cell_type": "code",
   "execution_count": null,
   "metadata": {
    "colab": {
     "base_uri": "https://localhost:8080/"
    },
    "id": "wtLwF1lu0aDY",
    "outputId": "2c279b62-fba2-4cc9-bbca-95ce3b76d06e"
   },
   "outputs": [
    {
     "name": "stdout",
     "output_type": "stream",
     "text": [
      "              precision    recall  f1-score   support\n",
      "\n",
      "           n       0.47      0.42      0.45       157\n",
      "          pn       0.14      0.21      0.17        29\n",
      "          py       0.29      0.10      0.15        49\n",
      "          uk       0.17      0.62      0.27        80\n",
      "           y       0.78      0.13      0.23       212\n",
      "\n",
      "    accuracy                           0.29       527\n",
      "   macro avg       0.37      0.30      0.25       527\n",
      "weighted avg       0.52      0.29      0.29       527\n",
      "\n"
     ]
    }
   ],
   "source": [
    "temp=df_b.set_index('Unnamed: 0').T.to_dict('list')\n",
    "for i in range(len(temp)):\n",
    "  predict = []\n",
    "\n",
    "  if re.findall(yes_keyword_regex, temp[str(i)][4]):\n",
    "    if re.findall(probably_keyword_regex, temp[str(i)][4]):\n",
    "      predict.append('py')\n",
    "    else:\n",
    "      predict.append('y')\n",
    "\n",
    "  if temp[str(i)][11] == 'n':\n",
    "    if re.findall(probably_keyword_regex, temp[str(i)][4]):\n",
    "      predict.append('pn')\n",
    "    else:\n",
    "      predict.append('n')\n",
    "\n",
    "  else:\n",
    "    predict.append('uk')\n",
    "\n",
    "  temp[str(i)][11] = random.choice(predict)\n",
    "\n",
    "df = pd.DataFrame.from_dict(temp, orient ='index')\n",
    "\n",
    "print(classification_report(y_true = df[7], y_pred = df[11]))"
   ]
  },
  {
   "cell_type": "code",
   "execution_count": null,
   "metadata": {
    "colab": {
     "base_uri": "https://localhost:8080/"
    },
    "id": "FxnvwuXX4Q-d",
    "outputId": "4cbbf7d5-e812-404f-ae83-3f44885eea10"
   },
   "outputs": [
    {
     "name": "stdout",
     "output_type": "stream",
     "text": [
      "              precision    recall  f1-score   support\n",
      "\n",
      "           n       0.48      0.41      0.44       177\n",
      "          pn       0.24      0.38      0.29        32\n",
      "          py       0.27      0.08      0.12        51\n",
      "          uk       0.20      0.70      0.31        96\n",
      "           y       0.71      0.14      0.23       244\n",
      "\n",
      "    accuracy                           0.32       600\n",
      "   macro avg       0.38      0.34      0.28       600\n",
      "weighted avg       0.50      0.32      0.30       600\n",
      "\n"
     ]
    }
   ],
   "source": [
    "temp=df_c.set_index('Unnamed: 0').T.to_dict('list')\n",
    "for i in range(len(temp)):\n",
    "  predict = []\n",
    "\n",
    "  if re.findall(yes_keyword_regex, temp[str(i)][4]):\n",
    "    if re.findall(probably_keyword_regex, temp[str(i)][4]):\n",
    "      predict.append('py')\n",
    "    else:\n",
    "      predict.append('y')\n",
    "\n",
    "  if temp[str(i)][11] == 'n':\n",
    "    if re.findall(probably_keyword_regex, temp[str(i)][4]):\n",
    "      predict.append('pn')\n",
    "    else:\n",
    "      predict.append('n')\n",
    "\n",
    "  else:\n",
    "    predict.append('uk')\n",
    "\n",
    "  temp[str(i)][11] = random.choice(predict)\n",
    "\n",
    "df = pd.DataFrame.from_dict(temp, orient ='index')\n",
    "\n",
    "print(classification_report(y_true = df[7], y_pred = df[11]))"
   ]
  }
 ],
 "metadata": {
  "colab": {
   "provenance": []
  },
  "kernelspec": {
   "display_name": "Python 3 (ipykernel)",
   "language": "python",
   "name": "python3"
  },
  "language_info": {
   "codemirror_mode": {
    "name": "ipython",
    "version": 3
   },
   "file_extension": ".py",
   "mimetype": "text/x-python",
   "name": "python",
   "nbconvert_exporter": "python",
   "pygments_lexer": "ipython3",
   "version": "3.9.7"
  }
 },
 "nbformat": 4,
 "nbformat_minor": 1
}
