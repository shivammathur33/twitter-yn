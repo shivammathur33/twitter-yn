{
 "cells": [
  {
   "cell_type": "code",
   "execution_count": 1,
   "metadata": {
    "colab": {
     "base_uri": "https://localhost:8080/"
    },
    "executionInfo": {
     "elapsed": 4894,
     "status": "ok",
     "timestamp": 1686607144529,
     "user": {
      "displayName": "Shivam Mathur",
      "userId": "13996464205483377357"
     },
     "user_tz": 420
    },
    "id": "k26gV5Sk8WzG",
    "outputId": "38531b0b-91bb-4a01-abbf-9802aaad4428"
   },
   "outputs": [
    {
     "name": "stdout",
     "output_type": "stream",
     "text": [
      "Looking in indexes: https://pypi.org/simple, https://us-python.pkg.dev/colab-wheels/public/simple/\n",
      "Collecting tensorflow_text\n",
      "  Downloading tensorflow_text-2.12.1-cp310-cp310-manylinux_2_17_x86_64.manylinux2014_x86_64.whl (6.0 MB)\n",
      "\u001b[2K     \u001b[90m━━━━━━━━━━━━━━━━━━━━━━━━━━━━━━━━━━━━━━━━\u001b[0m \u001b[32m6.0/6.0 MB\u001b[0m \u001b[31m104.1 MB/s\u001b[0m eta \u001b[36m0:00:00\u001b[0m\n",
      "\u001b[?25hRequirement already satisfied: tensorflow-hub>=0.8.0 in /usr/local/lib/python3.10/dist-packages (from tensorflow_text) (0.13.0)\n",
      "Requirement already satisfied: tensorflow<2.13,>=2.12.0 in /usr/local/lib/python3.10/dist-packages (from tensorflow_text) (2.12.0)\n",
      "Requirement already satisfied: absl-py>=1.0.0 in /usr/local/lib/python3.10/dist-packages (from tensorflow<2.13,>=2.12.0->tensorflow_text) (1.4.0)\n",
      "Requirement already satisfied: astunparse>=1.6.0 in /usr/local/lib/python3.10/dist-packages (from tensorflow<2.13,>=2.12.0->tensorflow_text) (1.6.3)\n",
      "Requirement already satisfied: flatbuffers>=2.0 in /usr/local/lib/python3.10/dist-packages (from tensorflow<2.13,>=2.12.0->tensorflow_text) (23.3.3)\n",
      "Requirement already satisfied: gast<=0.4.0,>=0.2.1 in /usr/local/lib/python3.10/dist-packages (from tensorflow<2.13,>=2.12.0->tensorflow_text) (0.4.0)\n",
      "Requirement already satisfied: google-pasta>=0.1.1 in /usr/local/lib/python3.10/dist-packages (from tensorflow<2.13,>=2.12.0->tensorflow_text) (0.2.0)\n",
      "Requirement already satisfied: grpcio<2.0,>=1.24.3 in /usr/local/lib/python3.10/dist-packages (from tensorflow<2.13,>=2.12.0->tensorflow_text) (1.54.0)\n",
      "Requirement already satisfied: h5py>=2.9.0 in /usr/local/lib/python3.10/dist-packages (from tensorflow<2.13,>=2.12.0->tensorflow_text) (3.8.0)\n",
      "Requirement already satisfied: jax>=0.3.15 in /usr/local/lib/python3.10/dist-packages (from tensorflow<2.13,>=2.12.0->tensorflow_text) (0.4.10)\n",
      "Requirement already satisfied: keras<2.13,>=2.12.0 in /usr/local/lib/python3.10/dist-packages (from tensorflow<2.13,>=2.12.0->tensorflow_text) (2.12.0)\n",
      "Requirement already satisfied: libclang>=13.0.0 in /usr/local/lib/python3.10/dist-packages (from tensorflow<2.13,>=2.12.0->tensorflow_text) (16.0.0)\n",
      "Requirement already satisfied: numpy<1.24,>=1.22 in /usr/local/lib/python3.10/dist-packages (from tensorflow<2.13,>=2.12.0->tensorflow_text) (1.22.4)\n",
      "Requirement already satisfied: opt-einsum>=2.3.2 in /usr/local/lib/python3.10/dist-packages (from tensorflow<2.13,>=2.12.0->tensorflow_text) (3.3.0)\n",
      "Requirement already satisfied: packaging in /usr/local/lib/python3.10/dist-packages (from tensorflow<2.13,>=2.12.0->tensorflow_text) (23.1)\n",
      "Requirement already satisfied: protobuf!=4.21.0,!=4.21.1,!=4.21.2,!=4.21.3,!=4.21.4,!=4.21.5,<5.0.0dev,>=3.20.3 in /usr/local/lib/python3.10/dist-packages (from tensorflow<2.13,>=2.12.0->tensorflow_text) (3.20.3)\n",
      "Requirement already satisfied: setuptools in /usr/local/lib/python3.10/dist-packages (from tensorflow<2.13,>=2.12.0->tensorflow_text) (67.7.2)\n",
      "Requirement already satisfied: six>=1.12.0 in /usr/local/lib/python3.10/dist-packages (from tensorflow<2.13,>=2.12.0->tensorflow_text) (1.16.0)\n",
      "Requirement already satisfied: tensorboard<2.13,>=2.12 in /usr/local/lib/python3.10/dist-packages (from tensorflow<2.13,>=2.12.0->tensorflow_text) (2.12.2)\n",
      "Requirement already satisfied: tensorflow-estimator<2.13,>=2.12.0 in /usr/local/lib/python3.10/dist-packages (from tensorflow<2.13,>=2.12.0->tensorflow_text) (2.12.0)\n",
      "Requirement already satisfied: termcolor>=1.1.0 in /usr/local/lib/python3.10/dist-packages (from tensorflow<2.13,>=2.12.0->tensorflow_text) (2.3.0)\n",
      "Requirement already satisfied: typing-extensions>=3.6.6 in /usr/local/lib/python3.10/dist-packages (from tensorflow<2.13,>=2.12.0->tensorflow_text) (4.5.0)\n",
      "Requirement already satisfied: wrapt<1.15,>=1.11.0 in /usr/local/lib/python3.10/dist-packages (from tensorflow<2.13,>=2.12.0->tensorflow_text) (1.14.1)\n",
      "Requirement already satisfied: tensorflow-io-gcs-filesystem>=0.23.1 in /usr/local/lib/python3.10/dist-packages (from tensorflow<2.13,>=2.12.0->tensorflow_text) (0.32.0)\n",
      "Requirement already satisfied: wheel<1.0,>=0.23.0 in /usr/local/lib/python3.10/dist-packages (from astunparse>=1.6.0->tensorflow<2.13,>=2.12.0->tensorflow_text) (0.40.0)\n",
      "Requirement already satisfied: ml-dtypes>=0.1.0 in /usr/local/lib/python3.10/dist-packages (from jax>=0.3.15->tensorflow<2.13,>=2.12.0->tensorflow_text) (0.1.0)\n",
      "Requirement already satisfied: scipy>=1.7 in /usr/local/lib/python3.10/dist-packages (from jax>=0.3.15->tensorflow<2.13,>=2.12.0->tensorflow_text) (1.10.1)\n",
      "Requirement already satisfied: google-auth<3,>=1.6.3 in /usr/local/lib/python3.10/dist-packages (from tensorboard<2.13,>=2.12->tensorflow<2.13,>=2.12.0->tensorflow_text) (2.17.3)\n",
      "Requirement already satisfied: google-auth-oauthlib<1.1,>=0.5 in /usr/local/lib/python3.10/dist-packages (from tensorboard<2.13,>=2.12->tensorflow<2.13,>=2.12.0->tensorflow_text) (1.0.0)\n",
      "Requirement already satisfied: markdown>=2.6.8 in /usr/local/lib/python3.10/dist-packages (from tensorboard<2.13,>=2.12->tensorflow<2.13,>=2.12.0->tensorflow_text) (3.4.3)\n",
      "Requirement already satisfied: requests<3,>=2.21.0 in /usr/local/lib/python3.10/dist-packages (from tensorboard<2.13,>=2.12->tensorflow<2.13,>=2.12.0->tensorflow_text) (2.27.1)\n",
      "Requirement already satisfied: tensorboard-data-server<0.8.0,>=0.7.0 in /usr/local/lib/python3.10/dist-packages (from tensorboard<2.13,>=2.12->tensorflow<2.13,>=2.12.0->tensorflow_text) (0.7.0)\n",
      "Requirement already satisfied: tensorboard-plugin-wit>=1.6.0 in /usr/local/lib/python3.10/dist-packages (from tensorboard<2.13,>=2.12->tensorflow<2.13,>=2.12.0->tensorflow_text) (1.8.1)\n",
      "Requirement already satisfied: werkzeug>=1.0.1 in /usr/local/lib/python3.10/dist-packages (from tensorboard<2.13,>=2.12->tensorflow<2.13,>=2.12.0->tensorflow_text) (2.3.0)\n",
      "Requirement already satisfied: cachetools<6.0,>=2.0.0 in /usr/local/lib/python3.10/dist-packages (from google-auth<3,>=1.6.3->tensorboard<2.13,>=2.12->tensorflow<2.13,>=2.12.0->tensorflow_text) (5.3.0)\n",
      "Requirement already satisfied: pyasn1-modules>=0.2.1 in /usr/local/lib/python3.10/dist-packages (from google-auth<3,>=1.6.3->tensorboard<2.13,>=2.12->tensorflow<2.13,>=2.12.0->tensorflow_text) (0.3.0)\n",
      "Requirement already satisfied: rsa<5,>=3.1.4 in /usr/local/lib/python3.10/dist-packages (from google-auth<3,>=1.6.3->tensorboard<2.13,>=2.12->tensorflow<2.13,>=2.12.0->tensorflow_text) (4.9)\n",
      "Requirement already satisfied: requests-oauthlib>=0.7.0 in /usr/local/lib/python3.10/dist-packages (from google-auth-oauthlib<1.1,>=0.5->tensorboard<2.13,>=2.12->tensorflow<2.13,>=2.12.0->tensorflow_text) (1.3.1)\n",
      "Requirement already satisfied: urllib3<1.27,>=1.21.1 in /usr/local/lib/python3.10/dist-packages (from requests<3,>=2.21.0->tensorboard<2.13,>=2.12->tensorflow<2.13,>=2.12.0->tensorflow_text) (1.26.15)\n",
      "Requirement already satisfied: certifi>=2017.4.17 in /usr/local/lib/python3.10/dist-packages (from requests<3,>=2.21.0->tensorboard<2.13,>=2.12->tensorflow<2.13,>=2.12.0->tensorflow_text) (2022.12.7)\n",
      "Requirement already satisfied: charset-normalizer~=2.0.0 in /usr/local/lib/python3.10/dist-packages (from requests<3,>=2.21.0->tensorboard<2.13,>=2.12->tensorflow<2.13,>=2.12.0->tensorflow_text) (2.0.12)\n",
      "Requirement already satisfied: idna<4,>=2.5 in /usr/local/lib/python3.10/dist-packages (from requests<3,>=2.21.0->tensorboard<2.13,>=2.12->tensorflow<2.13,>=2.12.0->tensorflow_text) (3.4)\n",
      "Requirement already satisfied: MarkupSafe>=2.1.1 in /usr/local/lib/python3.10/dist-packages (from werkzeug>=1.0.1->tensorboard<2.13,>=2.12->tensorflow<2.13,>=2.12.0->tensorflow_text) (2.1.2)\n",
      "Requirement already satisfied: pyasn1<0.6.0,>=0.4.6 in /usr/local/lib/python3.10/dist-packages (from pyasn1-modules>=0.2.1->google-auth<3,>=1.6.3->tensorboard<2.13,>=2.12->tensorflow<2.13,>=2.12.0->tensorflow_text) (0.5.0)\n",
      "Requirement already satisfied: oauthlib>=3.0.0 in /usr/local/lib/python3.10/dist-packages (from requests-oauthlib>=0.7.0->google-auth-oauthlib<1.1,>=0.5->tensorboard<2.13,>=2.12->tensorflow<2.13,>=2.12.0->tensorflow_text) (3.2.2)\n",
      "Installing collected packages: tensorflow_text\n",
      "Successfully installed tensorflow_text-2.12.1\n"
     ]
    }
   ],
   "source": [
    "pip install tensorflow_text"
   ]
  },
  {
   "cell_type": "code",
   "execution_count": 2,
   "metadata": {
    "executionInfo": {
     "elapsed": 3970,
     "status": "ok",
     "timestamp": 1686607156381,
     "user": {
      "displayName": "Shivam Mathur",
      "userId": "13996464205483377357"
     },
     "user_tz": 420
    },
    "id": "7T0ZxAsrIkOL"
   },
   "outputs": [],
   "source": [
    "import tensorflow as tf\n",
    "tf.config.run_functions_eagerly(True)\n",
    "tf.data.experimental.enable_debug_mode()\n",
    "\n",
    "import keras\n",
    "import tensorflow_hub as hub\n",
    "import tensorflow_text as text"
   ]
  },
  {
   "cell_type": "code",
   "execution_count": 3,
   "metadata": {
    "executionInfo": {
     "elapsed": 4,
     "status": "ok",
     "timestamp": 1686607157254,
     "user": {
      "displayName": "Shivam Mathur",
      "userId": "13996464205483377357"
     },
     "user_tz": 420
    },
    "id": "y9LKOVa1Irvs"
   },
   "outputs": [],
   "source": [
    "import pandas as pd\n",
    "import numpy as np"
   ]
  },
  {
   "cell_type": "code",
   "execution_count": 5,
   "metadata": {
    "executionInfo": {
     "elapsed": 2252,
     "status": "ok",
     "timestamp": 1686607195591,
     "user": {
      "displayName": "Shivam Mathur",
      "userId": "13996464205483377357"
     },
     "user_tz": 420
    },
    "id": "a0EneFQYJMU6"
   },
   "outputs": [],
   "source": [
    "# setting A\n",
    "df_train = pd.read_csv('TR_a.csv')\n",
    "df_train=df_train.rename(columns={\"gold_adj\": \"gold\"})\n",
    "\n",
    "df_dev = pd.read_csv('TD_a.csv')\n",
    "df_dev=df_dev.rename(columns={\"gold_adj\": \"gold\"})\n",
    "\n",
    "df_test = pd.read_csv('TE_a.csv')\n",
    "df_test=df_test.rename(columns={\"gold_adj\": \"gold\"})"
   ]
  },
  {
   "cell_type": "code",
   "execution_count": 6,
   "metadata": {
    "colab": {
     "base_uri": "https://localhost:8080/"
    },
    "executionInfo": {
     "elapsed": 443,
     "status": "ok",
     "timestamp": 1686607199044,
     "user": {
      "displayName": "Shivam Mathur",
      "userId": "13996464205483377357"
     },
     "user_tz": 420
    },
    "id": "YUARNa3iJMdN",
    "outputId": "143f0b26-0268-440e-fdb3-ef0c1d616151"
   },
   "outputs": [
    {
     "data": {
      "text/plain": [
       "y     212\n",
       "n     157\n",
       "uk     80\n",
       "py     49\n",
       "pn     29\n",
       "Name: gold, dtype: int64"
      ]
     },
     "execution_count": 6,
     "metadata": {},
     "output_type": "execute_result"
    }
   ],
   "source": [
    "df_test['gold'].value_counts()"
   ]
  },
  {
   "cell_type": "code",
   "execution_count": 7,
   "metadata": {
    "colab": {
     "base_uri": "https://localhost:8080/",
     "height": 424
    },
    "executionInfo": {
     "elapsed": 529,
     "status": "ok",
     "timestamp": 1686607209752,
     "user": {
      "displayName": "Shivam Mathur",
      "userId": "13996464205483377357"
     },
     "user_tz": 420
    },
    "id": "-YhdRdMwK4P-",
    "outputId": "2d665880-2f41-4a0c-83ea-f1e286012209"
   },
   "outputs": [
    {
     "data": {
      "text/html": [
       "\n",
       "  <div id=\"df-70225715-dcfa-49f8-9511-40e5eeacec90\">\n",
       "    <div class=\"colab-df-container\">\n",
       "      <div>\n",
       "<style scoped>\n",
       "    .dataframe tbody tr th:only-of-type {\n",
       "        vertical-align: middle;\n",
       "    }\n",
       "\n",
       "    .dataframe tbody tr th {\n",
       "        vertical-align: top;\n",
       "    }\n",
       "\n",
       "    .dataframe thead th {\n",
       "        text-align: right;\n",
       "    }\n",
       "</style>\n",
       "<table border=\"1\" class=\"dataframe\">\n",
       "  <thead>\n",
       "    <tr style=\"text-align: right;\">\n",
       "      <th></th>\n",
       "      <th>gold_n</th>\n",
       "      <th>gold_pn</th>\n",
       "      <th>gold_py</th>\n",
       "      <th>gold_uk</th>\n",
       "      <th>gold_y</th>\n",
       "    </tr>\n",
       "  </thead>\n",
       "  <tbody>\n",
       "    <tr>\n",
       "      <th>0</th>\n",
       "      <td>0</td>\n",
       "      <td>0</td>\n",
       "      <td>0</td>\n",
       "      <td>0</td>\n",
       "      <td>1</td>\n",
       "    </tr>\n",
       "    <tr>\n",
       "      <th>1</th>\n",
       "      <td>0</td>\n",
       "      <td>0</td>\n",
       "      <td>0</td>\n",
       "      <td>0</td>\n",
       "      <td>1</td>\n",
       "    </tr>\n",
       "    <tr>\n",
       "      <th>2</th>\n",
       "      <td>1</td>\n",
       "      <td>0</td>\n",
       "      <td>0</td>\n",
       "      <td>0</td>\n",
       "      <td>0</td>\n",
       "    </tr>\n",
       "    <tr>\n",
       "      <th>3</th>\n",
       "      <td>1</td>\n",
       "      <td>0</td>\n",
       "      <td>0</td>\n",
       "      <td>0</td>\n",
       "      <td>0</td>\n",
       "    </tr>\n",
       "    <tr>\n",
       "      <th>4</th>\n",
       "      <td>0</td>\n",
       "      <td>0</td>\n",
       "      <td>0</td>\n",
       "      <td>0</td>\n",
       "      <td>1</td>\n",
       "    </tr>\n",
       "    <tr>\n",
       "      <th>...</th>\n",
       "      <td>...</td>\n",
       "      <td>...</td>\n",
       "      <td>...</td>\n",
       "      <td>...</td>\n",
       "      <td>...</td>\n",
       "    </tr>\n",
       "    <tr>\n",
       "      <th>3310</th>\n",
       "      <td>0</td>\n",
       "      <td>0</td>\n",
       "      <td>1</td>\n",
       "      <td>0</td>\n",
       "      <td>0</td>\n",
       "    </tr>\n",
       "    <tr>\n",
       "      <th>3311</th>\n",
       "      <td>1</td>\n",
       "      <td>0</td>\n",
       "      <td>0</td>\n",
       "      <td>0</td>\n",
       "      <td>0</td>\n",
       "    </tr>\n",
       "    <tr>\n",
       "      <th>3312</th>\n",
       "      <td>1</td>\n",
       "      <td>0</td>\n",
       "      <td>0</td>\n",
       "      <td>0</td>\n",
       "      <td>0</td>\n",
       "    </tr>\n",
       "    <tr>\n",
       "      <th>3313</th>\n",
       "      <td>0</td>\n",
       "      <td>0</td>\n",
       "      <td>0</td>\n",
       "      <td>1</td>\n",
       "      <td>0</td>\n",
       "    </tr>\n",
       "    <tr>\n",
       "      <th>3314</th>\n",
       "      <td>0</td>\n",
       "      <td>0</td>\n",
       "      <td>0</td>\n",
       "      <td>1</td>\n",
       "      <td>0</td>\n",
       "    </tr>\n",
       "  </tbody>\n",
       "</table>\n",
       "<p>3315 rows × 5 columns</p>\n",
       "</div>\n",
       "      <button class=\"colab-df-convert\" onclick=\"convertToInteractive('df-70225715-dcfa-49f8-9511-40e5eeacec90')\"\n",
       "              title=\"Convert this dataframe to an interactive table.\"\n",
       "              style=\"display:none;\">\n",
       "        \n",
       "  <svg xmlns=\"http://www.w3.org/2000/svg\" height=\"24px\"viewBox=\"0 0 24 24\"\n",
       "       width=\"24px\">\n",
       "    <path d=\"M0 0h24v24H0V0z\" fill=\"none\"/>\n",
       "    <path d=\"M18.56 5.44l.94 2.06.94-2.06 2.06-.94-2.06-.94-.94-2.06-.94 2.06-2.06.94zm-11 1L8.5 8.5l.94-2.06 2.06-.94-2.06-.94L8.5 2.5l-.94 2.06-2.06.94zm10 10l.94 2.06.94-2.06 2.06-.94-2.06-.94-.94-2.06-.94 2.06-2.06.94z\"/><path d=\"M17.41 7.96l-1.37-1.37c-.4-.4-.92-.59-1.43-.59-.52 0-1.04.2-1.43.59L10.3 9.45l-7.72 7.72c-.78.78-.78 2.05 0 2.83L4 21.41c.39.39.9.59 1.41.59.51 0 1.02-.2 1.41-.59l7.78-7.78 2.81-2.81c.8-.78.8-2.07 0-2.86zM5.41 20L4 18.59l7.72-7.72 1.47 1.35L5.41 20z\"/>\n",
       "  </svg>\n",
       "      </button>\n",
       "      \n",
       "  <style>\n",
       "    .colab-df-container {\n",
       "      display:flex;\n",
       "      flex-wrap:wrap;\n",
       "      gap: 12px;\n",
       "    }\n",
       "\n",
       "    .colab-df-convert {\n",
       "      background-color: #E8F0FE;\n",
       "      border: none;\n",
       "      border-radius: 50%;\n",
       "      cursor: pointer;\n",
       "      display: none;\n",
       "      fill: #1967D2;\n",
       "      height: 32px;\n",
       "      padding: 0 0 0 0;\n",
       "      width: 32px;\n",
       "    }\n",
       "\n",
       "    .colab-df-convert:hover {\n",
       "      background-color: #E2EBFA;\n",
       "      box-shadow: 0px 1px 2px rgba(60, 64, 67, 0.3), 0px 1px 3px 1px rgba(60, 64, 67, 0.15);\n",
       "      fill: #174EA6;\n",
       "    }\n",
       "\n",
       "    [theme=dark] .colab-df-convert {\n",
       "      background-color: #3B4455;\n",
       "      fill: #D2E3FC;\n",
       "    }\n",
       "\n",
       "    [theme=dark] .colab-df-convert:hover {\n",
       "      background-color: #434B5C;\n",
       "      box-shadow: 0px 1px 3px 1px rgba(0, 0, 0, 0.15);\n",
       "      filter: drop-shadow(0px 1px 2px rgba(0, 0, 0, 0.3));\n",
       "      fill: #FFFFFF;\n",
       "    }\n",
       "  </style>\n",
       "\n",
       "      <script>\n",
       "        const buttonEl =\n",
       "          document.querySelector('#df-70225715-dcfa-49f8-9511-40e5eeacec90 button.colab-df-convert');\n",
       "        buttonEl.style.display =\n",
       "          google.colab.kernel.accessAllowed ? 'block' : 'none';\n",
       "\n",
       "        async function convertToInteractive(key) {\n",
       "          const element = document.querySelector('#df-70225715-dcfa-49f8-9511-40e5eeacec90');\n",
       "          const dataTable =\n",
       "            await google.colab.kernel.invokeFunction('convertToInteractive',\n",
       "                                                     [key], {});\n",
       "          if (!dataTable) return;\n",
       "\n",
       "          const docLinkHtml = 'Like what you see? Visit the ' +\n",
       "            '<a target=\"_blank\" href=https://colab.research.google.com/notebooks/data_table.ipynb>data table notebook</a>'\n",
       "            + ' to learn more about interactive tables.';\n",
       "          element.innerHTML = '';\n",
       "          dataTable['output_type'] = 'display_data';\n",
       "          await google.colab.output.renderOutput(dataTable, element);\n",
       "          const docLink = document.createElement('div');\n",
       "          docLink.innerHTML = docLinkHtml;\n",
       "          element.appendChild(docLink);\n",
       "        }\n",
       "      </script>\n",
       "    </div>\n",
       "  </div>\n",
       "  "
      ],
      "text/plain": [
       "      gold_n  gold_pn  gold_py  gold_uk  gold_y\n",
       "0          0        0        0        0       1\n",
       "1          0        0        0        0       1\n",
       "2          1        0        0        0       0\n",
       "3          1        0        0        0       0\n",
       "4          0        0        0        0       1\n",
       "...      ...      ...      ...      ...     ...\n",
       "3310       0        0        1        0       0\n",
       "3311       1        0        0        0       0\n",
       "3312       1        0        0        0       0\n",
       "3313       0        0        0        1       0\n",
       "3314       0        0        0        1       0\n",
       "\n",
       "[3315 rows x 5 columns]"
      ]
     },
     "execution_count": 7,
     "metadata": {},
     "output_type": "execute_result"
    }
   ],
   "source": [
    "y = pd.get_dummies(df_train.gold, prefix='gold')\n",
    "y"
   ]
  },
  {
   "cell_type": "code",
   "execution_count": 8,
   "metadata": {
    "colab": {
     "base_uri": "https://localhost:8080/",
     "height": 424
    },
    "executionInfo": {
     "elapsed": 348,
     "status": "ok",
     "timestamp": 1686607213921,
     "user": {
      "displayName": "Shivam Mathur",
      "userId": "13996464205483377357"
     },
     "user_tz": 420
    },
    "id": "9Y9j7rgb2mFM",
    "outputId": "e56fc9e9-2b35-4008-fdf0-ed7ae762fbe4"
   },
   "outputs": [
    {
     "data": {
      "text/html": [
       "\n",
       "  <div id=\"df-d94ca224-7b6f-453f-a57b-06f95fac2b51\">\n",
       "    <div class=\"colab-df-container\">\n",
       "      <div>\n",
       "<style scoped>\n",
       "    .dataframe tbody tr th:only-of-type {\n",
       "        vertical-align: middle;\n",
       "    }\n",
       "\n",
       "    .dataframe tbody tr th {\n",
       "        vertical-align: top;\n",
       "    }\n",
       "\n",
       "    .dataframe thead th {\n",
       "        text-align: right;\n",
       "    }\n",
       "</style>\n",
       "<table border=\"1\" class=\"dataframe\">\n",
       "  <thead>\n",
       "    <tr style=\"text-align: right;\">\n",
       "      <th></th>\n",
       "      <th>gold_n</th>\n",
       "      <th>gold_pn</th>\n",
       "      <th>gold_py</th>\n",
       "      <th>gold_uk</th>\n",
       "      <th>gold_y</th>\n",
       "    </tr>\n",
       "  </thead>\n",
       "  <tbody>\n",
       "    <tr>\n",
       "      <th>0</th>\n",
       "      <td>0</td>\n",
       "      <td>0</td>\n",
       "      <td>0</td>\n",
       "      <td>0</td>\n",
       "      <td>1</td>\n",
       "    </tr>\n",
       "    <tr>\n",
       "      <th>1</th>\n",
       "      <td>0</td>\n",
       "      <td>0</td>\n",
       "      <td>0</td>\n",
       "      <td>0</td>\n",
       "      <td>1</td>\n",
       "    </tr>\n",
       "    <tr>\n",
       "      <th>2</th>\n",
       "      <td>0</td>\n",
       "      <td>0</td>\n",
       "      <td>0</td>\n",
       "      <td>0</td>\n",
       "      <td>1</td>\n",
       "    </tr>\n",
       "    <tr>\n",
       "      <th>3</th>\n",
       "      <td>1</td>\n",
       "      <td>0</td>\n",
       "      <td>0</td>\n",
       "      <td>0</td>\n",
       "      <td>0</td>\n",
       "    </tr>\n",
       "    <tr>\n",
       "      <th>4</th>\n",
       "      <td>0</td>\n",
       "      <td>0</td>\n",
       "      <td>0</td>\n",
       "      <td>0</td>\n",
       "      <td>1</td>\n",
       "    </tr>\n",
       "    <tr>\n",
       "      <th>...</th>\n",
       "      <td>...</td>\n",
       "      <td>...</td>\n",
       "      <td>...</td>\n",
       "      <td>...</td>\n",
       "      <td>...</td>\n",
       "    </tr>\n",
       "    <tr>\n",
       "      <th>595</th>\n",
       "      <td>1</td>\n",
       "      <td>0</td>\n",
       "      <td>0</td>\n",
       "      <td>0</td>\n",
       "      <td>0</td>\n",
       "    </tr>\n",
       "    <tr>\n",
       "      <th>596</th>\n",
       "      <td>0</td>\n",
       "      <td>0</td>\n",
       "      <td>1</td>\n",
       "      <td>0</td>\n",
       "      <td>0</td>\n",
       "    </tr>\n",
       "    <tr>\n",
       "      <th>597</th>\n",
       "      <td>0</td>\n",
       "      <td>0</td>\n",
       "      <td>0</td>\n",
       "      <td>1</td>\n",
       "      <td>0</td>\n",
       "    </tr>\n",
       "    <tr>\n",
       "      <th>598</th>\n",
       "      <td>0</td>\n",
       "      <td>0</td>\n",
       "      <td>1</td>\n",
       "      <td>0</td>\n",
       "      <td>0</td>\n",
       "    </tr>\n",
       "    <tr>\n",
       "      <th>599</th>\n",
       "      <td>0</td>\n",
       "      <td>0</td>\n",
       "      <td>1</td>\n",
       "      <td>0</td>\n",
       "      <td>0</td>\n",
       "    </tr>\n",
       "  </tbody>\n",
       "</table>\n",
       "<p>600 rows × 5 columns</p>\n",
       "</div>\n",
       "      <button class=\"colab-df-convert\" onclick=\"convertToInteractive('df-d94ca224-7b6f-453f-a57b-06f95fac2b51')\"\n",
       "              title=\"Convert this dataframe to an interactive table.\"\n",
       "              style=\"display:none;\">\n",
       "        \n",
       "  <svg xmlns=\"http://www.w3.org/2000/svg\" height=\"24px\"viewBox=\"0 0 24 24\"\n",
       "       width=\"24px\">\n",
       "    <path d=\"M0 0h24v24H0V0z\" fill=\"none\"/>\n",
       "    <path d=\"M18.56 5.44l.94 2.06.94-2.06 2.06-.94-2.06-.94-.94-2.06-.94 2.06-2.06.94zm-11 1L8.5 8.5l.94-2.06 2.06-.94-2.06-.94L8.5 2.5l-.94 2.06-2.06.94zm10 10l.94 2.06.94-2.06 2.06-.94-2.06-.94-.94-2.06-.94 2.06-2.06.94z\"/><path d=\"M17.41 7.96l-1.37-1.37c-.4-.4-.92-.59-1.43-.59-.52 0-1.04.2-1.43.59L10.3 9.45l-7.72 7.72c-.78.78-.78 2.05 0 2.83L4 21.41c.39.39.9.59 1.41.59.51 0 1.02-.2 1.41-.59l7.78-7.78 2.81-2.81c.8-.78.8-2.07 0-2.86zM5.41 20L4 18.59l7.72-7.72 1.47 1.35L5.41 20z\"/>\n",
       "  </svg>\n",
       "      </button>\n",
       "      \n",
       "  <style>\n",
       "    .colab-df-container {\n",
       "      display:flex;\n",
       "      flex-wrap:wrap;\n",
       "      gap: 12px;\n",
       "    }\n",
       "\n",
       "    .colab-df-convert {\n",
       "      background-color: #E8F0FE;\n",
       "      border: none;\n",
       "      border-radius: 50%;\n",
       "      cursor: pointer;\n",
       "      display: none;\n",
       "      fill: #1967D2;\n",
       "      height: 32px;\n",
       "      padding: 0 0 0 0;\n",
       "      width: 32px;\n",
       "    }\n",
       "\n",
       "    .colab-df-convert:hover {\n",
       "      background-color: #E2EBFA;\n",
       "      box-shadow: 0px 1px 2px rgba(60, 64, 67, 0.3), 0px 1px 3px 1px rgba(60, 64, 67, 0.15);\n",
       "      fill: #174EA6;\n",
       "    }\n",
       "\n",
       "    [theme=dark] .colab-df-convert {\n",
       "      background-color: #3B4455;\n",
       "      fill: #D2E3FC;\n",
       "    }\n",
       "\n",
       "    [theme=dark] .colab-df-convert:hover {\n",
       "      background-color: #434B5C;\n",
       "      box-shadow: 0px 1px 3px 1px rgba(0, 0, 0, 0.15);\n",
       "      filter: drop-shadow(0px 1px 2px rgba(0, 0, 0, 0.3));\n",
       "      fill: #FFFFFF;\n",
       "    }\n",
       "  </style>\n",
       "\n",
       "      <script>\n",
       "        const buttonEl =\n",
       "          document.querySelector('#df-d94ca224-7b6f-453f-a57b-06f95fac2b51 button.colab-df-convert');\n",
       "        buttonEl.style.display =\n",
       "          google.colab.kernel.accessAllowed ? 'block' : 'none';\n",
       "\n",
       "        async function convertToInteractive(key) {\n",
       "          const element = document.querySelector('#df-d94ca224-7b6f-453f-a57b-06f95fac2b51');\n",
       "          const dataTable =\n",
       "            await google.colab.kernel.invokeFunction('convertToInteractive',\n",
       "                                                     [key], {});\n",
       "          if (!dataTable) return;\n",
       "\n",
       "          const docLinkHtml = 'Like what you see? Visit the ' +\n",
       "            '<a target=\"_blank\" href=https://colab.research.google.com/notebooks/data_table.ipynb>data table notebook</a>'\n",
       "            + ' to learn more about interactive tables.';\n",
       "          element.innerHTML = '';\n",
       "          dataTable['output_type'] = 'display_data';\n",
       "          await google.colab.output.renderOutput(dataTable, element);\n",
       "          const docLink = document.createElement('div');\n",
       "          docLink.innerHTML = docLinkHtml;\n",
       "          element.appendChild(docLink);\n",
       "        }\n",
       "      </script>\n",
       "    </div>\n",
       "  </div>\n",
       "  "
      ],
      "text/plain": [
       "     gold_n  gold_pn  gold_py  gold_uk  gold_y\n",
       "0         0        0        0        0       1\n",
       "1         0        0        0        0       1\n",
       "2         0        0        0        0       1\n",
       "3         1        0        0        0       0\n",
       "4         0        0        0        0       1\n",
       "..      ...      ...      ...      ...     ...\n",
       "595       1        0        0        0       0\n",
       "596       0        0        1        0       0\n",
       "597       0        0        0        1       0\n",
       "598       0        0        1        0       0\n",
       "599       0        0        1        0       0\n",
       "\n",
       "[600 rows x 5 columns]"
      ]
     },
     "execution_count": 8,
     "metadata": {},
     "output_type": "execute_result"
    }
   ],
   "source": [
    "y_dev = pd.get_dummies(df_dev.gold, prefix='gold')\n",
    "y_dev"
   ]
  },
  {
   "cell_type": "markdown",
   "metadata": {
    "id": "rN9cqeh2LQ2_"
   },
   "source": [
    "Roberta Init"
   ]
  },
  {
   "cell_type": "code",
   "execution_count": 9,
   "metadata": {
    "executionInfo": {
     "elapsed": 36877,
     "status": "ok",
     "timestamp": 1686607257209,
     "user": {
      "displayName": "Shivam Mathur",
      "userId": "13996464205483377357"
     },
     "user_tz": 420
    },
    "id": "CudBiqE0LNRU"
   },
   "outputs": [],
   "source": [
    "# Changed to roberta\n",
    "\n",
    "bert_preprocess = hub.KerasLayer(\"https://tfhub.dev/jeongukjae/roberta_en_cased_preprocess/1\", trainable=True)\n",
    "bert_encoder = hub.KerasLayer(\"https://tfhub.dev/jeongukjae/roberta_en_cased_L-12_H-768_A-12/1\", trainable=True)"
   ]
  },
  {
   "cell_type": "code",
   "execution_count": 10,
   "metadata": {
    "colab": {
     "base_uri": "https://localhost:8080/"
    },
    "executionInfo": {
     "elapsed": 794,
     "status": "ok",
     "timestamp": 1686607259019,
     "user": {
      "displayName": "Shivam Mathur",
      "userId": "13996464205483377357"
     },
     "user_tz": 420
    },
    "id": "4QxXfAuVLXLs",
    "outputId": "a950e6be-3f85-4a0b-a3af-12ed6f4f4ae0"
   },
   "outputs": [
    {
     "name": "stderr",
     "output_type": "stream",
     "text": [
      "ERROR:absl:hub.KerasLayer is trainable but has zero trainable weights.\n"
     ]
    }
   ],
   "source": [
    "# RoBerta layers\n",
    "text_input = tf.keras.layers.Input(shape=(), dtype=tf.string, name='text') # Textual input layer\n",
    "preprocessed_text = bert_preprocess(text_input) # The preprocessing of text\n",
    "outputs = bert_encoder(preprocessed_text) # Encoded o/p\n",
    "\n",
    "# Neural network layers\n",
    "# l = tf.keras.layers.Dense(50, activation='sigmoid', name=\"output\")(outputs['pooled_output'])\n",
    "# l = tf.keras.layers.Dense(6, activation='softmax', name=\"soft_output\")(l)\n",
    "\n",
    "l = tf.keras.layers.Dense(5, activation='softmax', name=\"soft_output\")(outputs['pooled_output'])\n",
    "\n",
    "# Use inputs and outputs to construct a final model\n",
    "model = tf.keras.Model(inputs=[text_input], outputs = [l])"
   ]
  },
  {
   "cell_type": "code",
   "execution_count": 11,
   "metadata": {
    "colab": {
     "base_uri": "https://localhost:8080/"
    },
    "executionInfo": {
     "elapsed": 11,
     "status": "ok",
     "timestamp": 1686607259019,
     "user": {
      "displayName": "Shivam Mathur",
      "userId": "13996464205483377357"
     },
     "user_tz": 420
    },
    "id": "zPPz7n5DLZ-0",
    "outputId": "f63e122d-1ee4-4c73-de06-e54e5e658726"
   },
   "outputs": [
    {
     "name": "stdout",
     "output_type": "stream",
     "text": [
      "Model: \"model\"\n",
      "__________________________________________________________________________________________________\n",
      " Layer (type)                   Output Shape         Param #     Connected to                     \n",
      "==================================================================================================\n",
      " text (InputLayer)              [(None,)]            0           []                               \n",
      "                                                                                                  \n",
      " keras_layer (KerasLayer)       {'input_word_ids':   0           ['text[0][0]']                   \n",
      "                                (None, 128),                                                      \n",
      "                                 'input_type_ids':                                                \n",
      "                                (None, 128),                                                      \n",
      "                                 'input_mask': (Non                                               \n",
      "                                e, 128)}                                                          \n",
      "                                                                                                  \n",
      " keras_layer_1 (KerasLayer)     {'pooled_output': (  124644096   ['keras_layer[0][0]',            \n",
      "                                None, 768),                       'keras_layer[0][1]',            \n",
      "                                 'sequence_output':               'keras_layer[0][2]']            \n",
      "                                 (None, 128, 768),                                                \n",
      "                                 'encoder_outputs':                                               \n",
      "                                 [(None, 128, 768),                                               \n",
      "                                 (None, 128, 768),                                                \n",
      "                                 (None, 128, 768),                                                \n",
      "                                 (None, 128, 768),                                                \n",
      "                                 (None, 128, 768),                                                \n",
      "                                 (None, 128, 768),                                                \n",
      "                                 (None, 128, 768),                                                \n",
      "                                 (None, 128, 768),                                                \n",
      "                                 (None, 128, 768),                                                \n",
      "                                 (None, 128, 768),                                                \n",
      "                                 (None, 128, 768),                                                \n",
      "                                 (None, 128, 768)]}                                               \n",
      "                                                                                                  \n",
      " soft_output (Dense)            (None, 5)            3845        ['keras_layer_1[0][12]']         \n",
      "                                                                                                  \n",
      "==================================================================================================\n",
      "Total params: 124,647,941\n",
      "Trainable params: 124,647,941\n",
      "Non-trainable params: 0\n",
      "__________________________________________________________________________________________________\n"
     ]
    }
   ],
   "source": [
    "model.summary()"
   ]
  },
  {
   "cell_type": "code",
   "execution_count": 12,
   "metadata": {
    "executionInfo": {
     "elapsed": 363,
     "status": "ok",
     "timestamp": 1686607273014,
     "user": {
      "displayName": "Shivam Mathur",
      "userId": "13996464205483377357"
     },
     "user_tz": 420
    },
    "id": "6ydnPOcfLgTU"
   },
   "outputs": [],
   "source": [
    "import keras\n",
    "\n",
    "def get_lr_metric(optimizer):\n",
    "    def lr(y_true, y_pred):\n",
    "        return optimizer.learning_rate # I use ._decayed_lr method instead of .lr\n",
    "    return lr\n",
    "\n",
    "\n",
    "callback = tf.keras.callbacks.EarlyStopping(monitor='val_loss', patience=5, min_delta=0.01, restore_best_weights=True)\n",
    "\n",
    "initial_learning_rate = 0.00003\n",
    "lr_schedule = tf.keras.optimizers.schedules.ExponentialDecay(\n",
    "    initial_learning_rate,\n",
    "    decay_steps=10000,\n",
    "    decay_rate=0.96,\n",
    "    staircase=True)\n",
    "\n",
    "optimizer = tf.keras.optimizers.Adam(learning_rate=lr_schedule)\n",
    "\n",
    "lr_metric = get_lr_metric(optimizer)\n",
    "\n",
    "METRICS = [\n",
    "      tf.keras.metrics.CategoricalAccuracy(name='accuracy'),\n",
    "      tf.keras.metrics.Precision(name='precision'),\n",
    "      tf.keras.metrics.Recall(name='recall'),\n",
    "      lr_metric\n",
    "]\n",
    "\n",
    "# optimizer.learning_rate.assign(0.00002)\n",
    "model.compile(optimizer=optimizer,\n",
    "              loss='CategoricalCrossentropy',\n",
    "              metrics=METRICS)"
   ]
  },
  {
   "cell_type": "code",
   "execution_count": 13,
   "metadata": {
    "colab": {
     "base_uri": "https://localhost:8080/"
    },
    "executionInfo": {
     "elapsed": 1480912,
     "status": "ok",
     "timestamp": 1686608757151,
     "user": {
      "displayName": "Shivam Mathur",
      "userId": "13996464205483377357"
     },
     "user_tz": 420
    },
    "id": "UkivWuuILpzl",
    "outputId": "3b94245a-3245-4590-eeb5-edfbd0c6c355"
   },
   "outputs": [
    {
     "name": "stdout",
     "output_type": "stream",
     "text": [
      "Epoch 1/200\n",
      "208/208 [==============================] - 227s 1s/step - loss: 1.2534 - accuracy: 0.4531 - precision: 0.6949 - recall: 0.1807 - lr: 3.0000e-05 - val_loss: 1.0937 - val_accuracy: 0.5483 - val_precision: 0.7937 - val_recall: 0.2950 - val_lr: 3.0000e-05\n",
      "Epoch 2/200\n",
      "208/208 [==============================] - 209s 1s/step - loss: 1.0080 - accuracy: 0.5861 - precision: 0.7671 - recall: 0.3964 - lr: 3.0000e-05 - val_loss: 1.0659 - val_accuracy: 0.5417 - val_precision: 0.6918 - val_recall: 0.3817 - val_lr: 3.0000e-05\n",
      "Epoch 3/200\n",
      "208/208 [==============================] - 209s 1s/step - loss: 0.8437 - accuracy: 0.6549 - precision: 0.7721 - recall: 0.5294 - lr: 3.0000e-05 - val_loss: 1.0749 - val_accuracy: 0.5933 - val_precision: 0.6889 - val_recall: 0.4650 - val_lr: 3.0000e-05\n",
      "Epoch 4/200\n",
      "208/208 [==============================] - 209s 1s/step - loss: 0.6328 - accuracy: 0.7566 - precision: 0.8206 - recall: 0.6817 - lr: 3.0000e-05 - val_loss: 1.3004 - val_accuracy: 0.5617 - val_precision: 0.5901 - val_recall: 0.5183 - val_lr: 3.0000e-05\n",
      "Epoch 5/200\n",
      "208/208 [==============================] - 209s 1s/step - loss: 0.4157 - accuracy: 0.8537 - precision: 0.8822 - recall: 0.8178 - lr: 3.0000e-05 - val_loss: 1.3973 - val_accuracy: 0.5583 - val_precision: 0.5925 - val_recall: 0.5283 - val_lr: 3.0000e-05\n",
      "Epoch 6/200\n",
      "208/208 [==============================] - 209s 1s/step - loss: 0.2570 - accuracy: 0.9089 - precision: 0.9252 - recall: 0.8950 - lr: 3.0000e-05 - val_loss: 1.8203 - val_accuracy: 0.5750 - val_precision: 0.5889 - val_recall: 0.5633 - val_lr: 3.0000e-05\n",
      "Epoch 7/200\n",
      "208/208 [==============================] - 209s 1s/step - loss: 0.1637 - accuracy: 0.9451 - precision: 0.9537 - recall: 0.9379 - lr: 3.0000e-05 - val_loss: 1.9843 - val_accuracy: 0.5733 - val_precision: 0.5841 - val_recall: 0.5617 - val_lr: 3.0000e-05\n"
     ]
    },
    {
     "data": {
      "text/plain": [
       "<keras.callbacks.History at 0x7f5faa886da0>"
      ]
     },
     "execution_count": 13,
     "metadata": {},
     "output_type": "execute_result"
    }
   ],
   "source": [
    "model.fit(df_train['Reply_tweet'], y, epochs=200, batch_size=16, callbacks=[callback], validation_data=(df_dev['Reply_tweet'], y_dev))"
   ]
  },
  {
   "cell_type": "markdown",
   "metadata": {
    "id": "mQOhkwQCwG_x"
   },
   "source": [
    "Dev set"
   ]
  },
  {
   "cell_type": "code",
   "execution_count": 14,
   "metadata": {
    "colab": {
     "base_uri": "https://localhost:8080/"
    },
    "executionInfo": {
     "elapsed": 19364,
     "status": "ok",
     "timestamp": 1686608776513,
     "user": {
      "displayName": "Shivam Mathur",
      "userId": "13996464205483377357"
     },
     "user_tz": 420
    },
    "id": "n5daD7ZtTgiV",
    "outputId": "2ad3413f-6579-414e-bb1e-9b505bb65848"
   },
   "outputs": [
    {
     "name": "stdout",
     "output_type": "stream",
     "text": [
      "19/19 [==============================] - 9s 488ms/step - loss: 1.0659 - accuracy: 0.5417 - precision: 0.6918 - recall: 0.3817 - lr: 3.0000e-05\n",
      "[1.0658618211746216, 0.5416666865348816, 0.6918429136276245, 0.3816666603088379, 2.9999999242136255e-05]\n",
      "19/19 [==============================] - 9s 470ms/step\n",
      "DEV\n",
      "              precision    recall  f1-score   support\n",
      "\n",
      "           n       0.45      0.72      0.55       166\n",
      "          pn       0.50      0.05      0.10        19\n",
      "          py       0.47      0.46      0.46        61\n",
      "          uk       0.76      0.25      0.37       113\n",
      "           y       0.63      0.61      0.62       241\n",
      "\n",
      "    accuracy                           0.54       600\n",
      "   macro avg       0.56      0.42      0.42       600\n",
      "weighted avg       0.58      0.54      0.52       600\n",
      "\n"
     ]
    }
   ],
   "source": [
    "y_dev = pd.get_dummies(df_dev.gold, prefix = 'gold')\n",
    "print(model.evaluate(df_dev['Reply_tweet'], y_dev))\n",
    "y_predicted = model.predict(df_dev['Reply_tweet'])\n",
    "\n",
    "pred_results = tf.cast(tf.equal(y_predicted, tf.reduce_max(y_predicted, axis = 1, keepdims=True)), tf.float32)\n",
    "\n",
    "pred_results = pd.DataFrame(pred_results.numpy(), columns = ['gold_n', \n",
    "                                       'gold_pn',\n",
    "                                       'gold_py',                     \t\n",
    "                                       'gold_uk',\t\n",
    "                                       'gold_y'])\n",
    "\n",
    "pred_results.shape\n",
    "pred_results.to_numpy()\n",
    "pred_results = [np.where(r==1)[0][0] for r in pred_results.to_numpy()]\n",
    "pred_results = pd.DataFrame(pred_results, columns=['gold'])\n",
    "\n",
    "pred_results['gold'] = pred_results['gold'].map({0:'n', \n",
    "                                                   1:'pn',\n",
    "                                                   2:'py',\n",
    "                                                   3:'uk',\n",
    "                                                   4:'y'})\n",
    "\n",
    "dev_gtruths = [np.where(r==1)[0][0] for r in y_dev.to_numpy()]\n",
    "dev_gtruths = pd.DataFrame(dev_gtruths, columns=['gold'])\n",
    "\n",
    "dev_gtruths['gold'] = dev_gtruths['gold'].map({0:'n', \n",
    "                                                   1:'pn',\n",
    "                                                   2:'py',\n",
    "                                                   3:'uk',\n",
    "                                                   4:'y'})\n",
    "\n",
    "print('DEV')\n",
    "from sklearn.metrics import classification_report\n",
    "print(classification_report(y_true = dev_gtruths['gold'], y_pred = pred_results['gold']))"
   ]
  },
  {
   "cell_type": "markdown",
   "metadata": {
    "id": "lTyWJmr5pARe"
   },
   "source": [
    "Test Set"
   ]
  },
  {
   "cell_type": "code",
   "execution_count": 15,
   "metadata": {
    "colab": {
     "base_uri": "https://localhost:8080/"
    },
    "executionInfo": {
     "elapsed": 15938,
     "status": "ok",
     "timestamp": 1686608792431,
     "user": {
      "displayName": "Shivam Mathur",
      "userId": "13996464205483377357"
     },
     "user_tz": 420
    },
    "id": "eLU-_h6tWNpj",
    "outputId": "f9fee089-68e1-4104-eb45-1173ad83e516"
   },
   "outputs": [
    {
     "name": "stdout",
     "output_type": "stream",
     "text": [
      "17/17 [==============================] - 8s 485ms/step - loss: 1.1414 - accuracy: 0.5560 - precision: 0.6845 - recall: 0.4118 - lr: 3.0000e-05\n",
      "[1.1413651704788208, 0.5559772253036499, 0.6845425963401794, 0.4117647111415863, 2.9999999242136255e-05]\n",
      "17/17 [==============================] - 8s 465ms/step\n",
      "TEST\n",
      "              precision    recall  f1-score   support\n",
      "\n",
      "           n       0.48      0.71      0.58       157\n",
      "          pn       0.60      0.10      0.18        29\n",
      "          py       0.40      0.29      0.33        49\n",
      "          uk       0.65      0.21      0.32        80\n",
      "           y       0.64      0.69      0.67       212\n",
      "\n",
      "    accuracy                           0.56       527\n",
      "   macro avg       0.56      0.40      0.41       527\n",
      "weighted avg       0.57      0.56      0.53       527\n",
      "\n"
     ]
    }
   ],
   "source": [
    "df_test= df_test.rename(columns={\"gold_adj\": \"gold\"})\n",
    "y_test = pd.get_dummies(df_test.gold, prefix = 'gold')\n",
    "print(model.evaluate(df_test['Reply_tweet'], y_test))\n",
    "y_predicted = model.predict(df_test['Reply_tweet'])\n",
    "\n",
    "pred_results = tf.cast(tf.equal(y_predicted, tf.reduce_max(y_predicted, axis = 1, keepdims=True)), tf.float32)\n",
    "\n",
    "pred_results = pd.DataFrame(pred_results.numpy(), columns = ['gold_n', \n",
    "                                       'gold_pn',\n",
    "                                       'gold_py',                     \t\n",
    "                                       'gold_uk',\t\n",
    "                                       'gold_y'])\n",
    "\n",
    "pred_results.shape\n",
    "pred_results.to_numpy()\n",
    "pred_results = [np.where(r==1)[0][0] for r in pred_results.to_numpy()]\n",
    "pred_results = pd.DataFrame(pred_results, columns=['gold'])\n",
    "\n",
    "pred_results['gold'] = pred_results['gold'].map({0:'n', \n",
    "                                                   1:'pn',\n",
    "                                                   2:'py',\n",
    "                                                   3:'uk',\n",
    "                                                   4:'y'})\n",
    "\n",
    "test_gtruths = [np.where(r==1)[0][0] for r in y_test.to_numpy()]\n",
    "test_gtruths = pd.DataFrame(test_gtruths, columns=['gold'])\n",
    "\n",
    "test_gtruths['gold'] = test_gtruths['gold'].map({0:'n', \n",
    "                                                   1:'pn',\n",
    "                                                   2:'py',\n",
    "                                                   3:'uk',\n",
    "                                                   4:'y'})\n",
    "\n",
    "print('TEST')\n",
    "from sklearn.metrics import classification_report\n",
    "print(classification_report(y_true = test_gtruths['gold'], y_pred = pred_results['gold']))"
   ]
  },
  {
   "cell_type": "code",
   "execution_count": 16,
   "metadata": {
    "colab": {
     "base_uri": "https://localhost:8080/",
     "height": 0
    },
    "executionInfo": {
     "elapsed": 580,
     "status": "ok",
     "timestamp": 1686608792987,
     "user": {
      "displayName": "Shivam Mathur",
      "userId": "13996464205483377357"
     },
     "user_tz": 420
    },
    "id": "OgszQsXPWfO0",
    "outputId": "ae226c53-dcf2-4bd5-935e-d7982e23c8d6"
   },
   "outputs": [
    {
     "data": {
      "image/png": "[encoded data removed]",
      "text/plain": [
       "<Figure size 640x480 with 2 Axes>"
      ]
     },
     "metadata": {},
     "output_type": "display_data"
    },
    {
     "name": "stdout",
     "output_type": "stream",
     "text": [
      "gold         n  pn  py  uk    y\n",
      "predicted                      \n",
      "n          112  14  17  36   53\n",
      "pn           2   3   0   0    0\n",
      "py           5   6  14   3    7\n",
      "uk           3   1   0  17    5\n",
      "y           35   5  18  24  147\n"
     ]
    }
   ],
   "source": [
    "import seaborn as sns\n",
    "import matplotlib.pyplot as plt\n",
    "\n",
    "confusion_matrix = pd.crosstab(pred_results['gold'],test_gtruths['gold'],rownames=['predicted'], colnames=['gold'])\n",
    "\n",
    "sns.heatmap(confusion_matrix,annot=True,cmap='Blues', fmt='g')\n",
    "plt.show()\n",
    "print(confusion_matrix)"
   ]
  },
  {
   "cell_type": "code",
   "execution_count": 17,
   "metadata": {
    "executionInfo": {
     "elapsed": 4,
     "status": "ok",
     "timestamp": 1686608792987,
     "user": {
      "displayName": "Shivam Mathur",
      "userId": "13996464205483377357"
     },
     "user_tz": 420
    },
    "id": "5WnyElTHmWx7"
   },
   "outputs": [],
   "source": [
    "pred_results = pred_results.rename(columns={\"gold\": \"predict\"})\n",
    "pred_results['Main_Tweet_ID'] = df_test['Main_Tweet_ID']\n",
    "pred_results['Reply_id'] = df_test['Reply_id']"
   ]
  },
  {
   "cell_type": "code",
   "execution_count": 18,
   "metadata": {
    "colab": {
     "base_uri": "https://localhost:8080/"
    },
    "executionInfo": {
     "elapsed": 383,
     "status": "ok",
     "timestamp": 1686608793367,
     "user": {
      "displayName": "Shivam Mathur",
      "userId": "13996464205483377357"
     },
     "user_tz": 420
    },
    "id": "1VZtuiJx4lBH",
    "outputId": "b6db088c-5df1-4877-d7c6-29ada0ad2fd2"
   },
   "outputs": [
    {
     "data": {
      "text/plain": [
       "n     232\n",
       "y     229\n",
       "py     35\n",
       "uk     26\n",
       "pn      5\n",
       "Name: predict, dtype: int64"
      ]
     },
     "execution_count": 18,
     "metadata": {},
     "output_type": "execute_result"
    }
   ],
   "source": [
    "pred_results['predict'].value_counts()"
   ]
  },
  {
   "cell_type": "code",
   "execution_count": 19,
   "metadata": {
    "colab": {
     "base_uri": "https://localhost:8080/",
     "height": 0
    },
    "executionInfo": {
     "elapsed": 11,
     "status": "ok",
     "timestamp": 1686608793368,
     "user": {
      "displayName": "Shivam Mathur",
      "userId": "13996464205483377357"
     },
     "user_tz": 420
    },
    "id": "J1lqkNrLmpPZ",
    "outputId": "25f8774f-229f-4ef1-b6f6-60d87f82c3d4"
   },
   "outputs": [
    {
     "data": {
      "text/html": [
       "\n",
       "  <div id=\"df-456798e2-8490-4f92-8770-8141d5288c8c\">\n",
       "    <div class=\"colab-df-container\">\n",
       "      <div>\n",
       "<style scoped>\n",
       "    .dataframe tbody tr th:only-of-type {\n",
       "        vertical-align: middle;\n",
       "    }\n",
       "\n",
       "    .dataframe tbody tr th {\n",
       "        vertical-align: top;\n",
       "    }\n",
       "\n",
       "    .dataframe thead th {\n",
       "        text-align: right;\n",
       "    }\n",
       "</style>\n",
       "<table border=\"1\" class=\"dataframe\">\n",
       "  <thead>\n",
       "    <tr style=\"text-align: right;\">\n",
       "      <th></th>\n",
       "      <th>predict</th>\n",
       "      <th>Main_Tweet_ID</th>\n",
       "      <th>Reply_id</th>\n",
       "    </tr>\n",
       "  </thead>\n",
       "  <tbody>\n",
       "    <tr>\n",
       "      <th>0</th>\n",
       "      <td>py</td>\n",
       "      <td>1505591204783734785</td>\n",
       "      <td>1505605176140472320</td>\n",
       "    </tr>\n",
       "    <tr>\n",
       "      <th>1</th>\n",
       "      <td>uk</td>\n",
       "      <td>1471985146891059206</td>\n",
       "      <td>1471985474621173763</td>\n",
       "    </tr>\n",
       "    <tr>\n",
       "      <th>2</th>\n",
       "      <td>n</td>\n",
       "      <td>1465064127399870467</td>\n",
       "      <td>1465229350660284417</td>\n",
       "    </tr>\n",
       "    <tr>\n",
       "      <th>3</th>\n",
       "      <td>y</td>\n",
       "      <td>1524647970611863553</td>\n",
       "      <td>1524648652886757376</td>\n",
       "    </tr>\n",
       "    <tr>\n",
       "      <th>4</th>\n",
       "      <td>y</td>\n",
       "      <td>1506565419313868802</td>\n",
       "      <td>1506577193626918918</td>\n",
       "    </tr>\n",
       "    <tr>\n",
       "      <th>...</th>\n",
       "      <td>...</td>\n",
       "      <td>...</td>\n",
       "      <td>...</td>\n",
       "    </tr>\n",
       "    <tr>\n",
       "      <th>522</th>\n",
       "      <td>n</td>\n",
       "      <td>1532024495308939265</td>\n",
       "      <td>1532030543788916737</td>\n",
       "    </tr>\n",
       "    <tr>\n",
       "      <th>523</th>\n",
       "      <td>y</td>\n",
       "      <td>1471985146891059206</td>\n",
       "      <td>1471985557656031235</td>\n",
       "    </tr>\n",
       "    <tr>\n",
       "      <th>524</th>\n",
       "      <td>n</td>\n",
       "      <td>1451009236423565312</td>\n",
       "      <td>1451015270584233985</td>\n",
       "    </tr>\n",
       "    <tr>\n",
       "      <th>525</th>\n",
       "      <td>y</td>\n",
       "      <td>1426184209153118214</td>\n",
       "      <td>1426312272079736832</td>\n",
       "    </tr>\n",
       "    <tr>\n",
       "      <th>526</th>\n",
       "      <td>n</td>\n",
       "      <td>1522910344838008833</td>\n",
       "      <td>1522916131065016321</td>\n",
       "    </tr>\n",
       "  </tbody>\n",
       "</table>\n",
       "<p>527 rows × 3 columns</p>\n",
       "</div>\n",
       "      <button class=\"colab-df-convert\" onclick=\"convertToInteractive('df-456798e2-8490-4f92-8770-8141d5288c8c')\"\n",
       "              title=\"Convert this dataframe to an interactive table.\"\n",
       "              style=\"display:none;\">\n",
       "        \n",
       "  <svg xmlns=\"http://www.w3.org/2000/svg\" height=\"24px\"viewBox=\"0 0 24 24\"\n",
       "       width=\"24px\">\n",
       "    <path d=\"M0 0h24v24H0V0z\" fill=\"none\"/>\n",
       "    <path d=\"M18.56 5.44l.94 2.06.94-2.06 2.06-.94-2.06-.94-.94-2.06-.94 2.06-2.06.94zm-11 1L8.5 8.5l.94-2.06 2.06-.94-2.06-.94L8.5 2.5l-.94 2.06-2.06.94zm10 10l.94 2.06.94-2.06 2.06-.94-2.06-.94-.94-2.06-.94 2.06-2.06.94z\"/><path d=\"M17.41 7.96l-1.37-1.37c-.4-.4-.92-.59-1.43-.59-.52 0-1.04.2-1.43.59L10.3 9.45l-7.72 7.72c-.78.78-.78 2.05 0 2.83L4 21.41c.39.39.9.59 1.41.59.51 0 1.02-.2 1.41-.59l7.78-7.78 2.81-2.81c.8-.78.8-2.07 0-2.86zM5.41 20L4 18.59l7.72-7.72 1.47 1.35L5.41 20z\"/>\n",
       "  </svg>\n",
       "      </button>\n",
       "      \n",
       "  <style>\n",
       "    .colab-df-container {\n",
       "      display:flex;\n",
       "      flex-wrap:wrap;\n",
       "      gap: 12px;\n",
       "    }\n",
       "\n",
       "    .colab-df-convert {\n",
       "      background-color: #E8F0FE;\n",
       "      border: none;\n",
       "      border-radius: 50%;\n",
       "      cursor: pointer;\n",
       "      display: none;\n",
       "      fill: #1967D2;\n",
       "      height: 32px;\n",
       "      padding: 0 0 0 0;\n",
       "      width: 32px;\n",
       "    }\n",
       "\n",
       "    .colab-df-convert:hover {\n",
       "      background-color: #E2EBFA;\n",
       "      box-shadow: 0px 1px 2px rgba(60, 64, 67, 0.3), 0px 1px 3px 1px rgba(60, 64, 67, 0.15);\n",
       "      fill: #174EA6;\n",
       "    }\n",
       "\n",
       "    [theme=dark] .colab-df-convert {\n",
       "      background-color: #3B4455;\n",
       "      fill: #D2E3FC;\n",
       "    }\n",
       "\n",
       "    [theme=dark] .colab-df-convert:hover {\n",
       "      background-color: #434B5C;\n",
       "      box-shadow: 0px 1px 3px 1px rgba(0, 0, 0, 0.15);\n",
       "      filter: drop-shadow(0px 1px 2px rgba(0, 0, 0, 0.3));\n",
       "      fill: #FFFFFF;\n",
       "    }\n",
       "  </style>\n",
       "\n",
       "      <script>\n",
       "        const buttonEl =\n",
       "          document.querySelector('#df-456798e2-8490-4f92-8770-8141d5288c8c button.colab-df-convert');\n",
       "        buttonEl.style.display =\n",
       "          google.colab.kernel.accessAllowed ? 'block' : 'none';\n",
       "\n",
       "        async function convertToInteractive(key) {\n",
       "          const element = document.querySelector('#df-456798e2-8490-4f92-8770-8141d5288c8c');\n",
       "          const dataTable =\n",
       "            await google.colab.kernel.invokeFunction('convertToInteractive',\n",
       "                                                     [key], {});\n",
       "          if (!dataTable) return;\n",
       "\n",
       "          const docLinkHtml = 'Like what you see? Visit the ' +\n",
       "            '<a target=\"_blank\" href=https://colab.research.google.com/notebooks/data_table.ipynb>data table notebook</a>'\n",
       "            + ' to learn more about interactive tables.';\n",
       "          element.innerHTML = '';\n",
       "          dataTable['output_type'] = 'display_data';\n",
       "          await google.colab.output.renderOutput(dataTable, element);\n",
       "          const docLink = document.createElement('div');\n",
       "          docLink.innerHTML = docLinkHtml;\n",
       "          element.appendChild(docLink);\n",
       "        }\n",
       "      </script>\n",
       "    </div>\n",
       "  </div>\n",
       "  "
      ],
      "text/plain": [
       "    predict        Main_Tweet_ID             Reply_id\n",
       "0        py  1505591204783734785  1505605176140472320\n",
       "1        uk  1471985146891059206  1471985474621173763\n",
       "2         n  1465064127399870467  1465229350660284417\n",
       "3         y  1524647970611863553  1524648652886757376\n",
       "4         y  1506565419313868802  1506577193626918918\n",
       "..      ...                  ...                  ...\n",
       "522       n  1532024495308939265  1532030543788916737\n",
       "523       y  1471985146891059206  1471985557656031235\n",
       "524       n  1451009236423565312  1451015270584233985\n",
       "525       y  1426184209153118214  1426312272079736832\n",
       "526       n  1522910344838008833  1522916131065016321\n",
       "\n",
       "[527 rows x 3 columns]"
      ]
     },
     "execution_count": 19,
     "metadata": {},
     "output_type": "execute_result"
    }
   ],
   "source": [
    "pred_results"
   ]
  },
  {
   "cell_type": "code",
   "execution_count": 20,
   "metadata": {
    "executionInfo": {
     "elapsed": 10,
     "status": "ok",
     "timestamp": 1686608793369,
     "user": {
      "displayName": "Shivam Mathur",
      "userId": "13996464205483377357"
     },
     "user_tz": 420
    },
    "id": "cpX5qr6A_yZL"
   },
   "outputs": [],
   "source": [
    "pred_results.to_csv('/content/drive/MyDrive/expts_emnlp23/results/A_twiiter_a.csv')"
   ]
  }
 ],
 "metadata": {
  "accelerator": "GPU",
  "colab": {
   "authorship_tag": "ABX9TyORfQlr0XPHVr9LPTykuRZj",
   "gpuType": "T4",
   "machine_shape": "hm",
   "mount_file_id": "1RwQewQhagstOKM57nN6eJr-tC7Rq3Z8F",
   "provenance": []
  },
  "kernelspec": {
   "display_name": "Python 3 (ipykernel)",
   "language": "python",
   "name": "python3"
  },
  "language_info": {
   "codemirror_mode": {
    "name": "ipython",
    "version": 3
   },
   "file_extension": ".py",
   "mimetype": "text/x-python",
   "name": "python",
   "nbconvert_exporter": "python",
   "pygments_lexer": "ipython3",
   "version": "3.9.7"
  }
 },
 "nbformat": 4,
 "nbformat_minor": 1
}
