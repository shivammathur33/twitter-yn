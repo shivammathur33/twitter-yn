{
 "cells": [
  {
   "cell_type": "code",
   "execution_count": 1,
   "metadata": {
    "colab": {
     "base_uri": "https://localhost:8080/"
    },
    "executionInfo": {
     "elapsed": 6014,
     "status": "ok",
     "timestamp": 1686681806950,
     "user": {
      "displayName": "Shivam Mathur",
      "userId": "13996464205483377357"
     },
     "user_tz": 420
    },
    "id": "fpyGx8MCcm-A",
    "outputId": "ee65ff34-546f-418e-a0bd-8a6969e6df30"
   },
   "outputs": [
    {
     "name": "stdout",
     "output_type": "stream",
     "text": [
      "Looking in indexes: https://pypi.org/simple, https://us-python.pkg.dev/colab-wheels/public/simple/\n",
      "Collecting tensorflow_text\n",
      "  Downloading tensorflow_text-2.12.1-cp310-cp310-manylinux_2_17_x86_64.manylinux2014_x86_64.whl (6.0 MB)\n",
      "\u001b[2K     \u001b[90m━━━━━━━━━━━━━━━━━━━━━━━━━━━━━━━━━━━━━━━━\u001b[0m \u001b[32m6.0/6.0 MB\u001b[0m \u001b[31m96.4 MB/s\u001b[0m eta \u001b[36m0:00:00\u001b[0m\n",
      "\u001b[?25hRequirement already satisfied: tensorflow-hub>=0.8.0 in /usr/local/lib/python3.10/dist-packages (from tensorflow_text) (0.13.0)\n",
      "Requirement already satisfied: tensorflow<2.13,>=2.12.0 in /usr/local/lib/python3.10/dist-packages (from tensorflow_text) (2.12.0)\n",
      "Requirement already satisfied: absl-py>=1.0.0 in /usr/local/lib/python3.10/dist-packages (from tensorflow<2.13,>=2.12.0->tensorflow_text) (1.4.0)\n",
      "Requirement already satisfied: astunparse>=1.6.0 in /usr/local/lib/python3.10/dist-packages (from tensorflow<2.13,>=2.12.0->tensorflow_text) (1.6.3)\n",
      "Requirement already satisfied: flatbuffers>=2.0 in /usr/local/lib/python3.10/dist-packages (from tensorflow<2.13,>=2.12.0->tensorflow_text) (23.3.3)\n",
      "Requirement already satisfied: gast<=0.4.0,>=0.2.1 in /usr/local/lib/python3.10/dist-packages (from tensorflow<2.13,>=2.12.0->tensorflow_text) (0.4.0)\n",
      "Requirement already satisfied: google-pasta>=0.1.1 in /usr/local/lib/python3.10/dist-packages (from tensorflow<2.13,>=2.12.0->tensorflow_text) (0.2.0)\n",
      "Requirement already satisfied: grpcio<2.0,>=1.24.3 in /usr/local/lib/python3.10/dist-packages (from tensorflow<2.13,>=2.12.0->tensorflow_text) (1.54.0)\n",
      "Requirement already satisfied: h5py>=2.9.0 in /usr/local/lib/python3.10/dist-packages (from tensorflow<2.13,>=2.12.0->tensorflow_text) (3.8.0)\n",
      "Requirement already satisfied: jax>=0.3.15 in /usr/local/lib/python3.10/dist-packages (from tensorflow<2.13,>=2.12.0->tensorflow_text) (0.4.10)\n",
      "Requirement already satisfied: keras<2.13,>=2.12.0 in /usr/local/lib/python3.10/dist-packages (from tensorflow<2.13,>=2.12.0->tensorflow_text) (2.12.0)\n",
      "Requirement already satisfied: libclang>=13.0.0 in /usr/local/lib/python3.10/dist-packages (from tensorflow<2.13,>=2.12.0->tensorflow_text) (16.0.0)\n",
      "Requirement already satisfied: numpy<1.24,>=1.22 in /usr/local/lib/python3.10/dist-packages (from tensorflow<2.13,>=2.12.0->tensorflow_text) (1.22.4)\n",
      "Requirement already satisfied: opt-einsum>=2.3.2 in /usr/local/lib/python3.10/dist-packages (from tensorflow<2.13,>=2.12.0->tensorflow_text) (3.3.0)\n",
      "Requirement already satisfied: packaging in /usr/local/lib/python3.10/dist-packages (from tensorflow<2.13,>=2.12.0->tensorflow_text) (23.1)\n",
      "Requirement already satisfied: protobuf!=4.21.0,!=4.21.1,!=4.21.2,!=4.21.3,!=4.21.4,!=4.21.5,<5.0.0dev,>=3.20.3 in /usr/local/lib/python3.10/dist-packages (from tensorflow<2.13,>=2.12.0->tensorflow_text) (3.20.3)\n",
      "Requirement already satisfied: setuptools in /usr/local/lib/python3.10/dist-packages (from tensorflow<2.13,>=2.12.0->tensorflow_text) (67.7.2)\n",
      "Requirement already satisfied: six>=1.12.0 in /usr/local/lib/python3.10/dist-packages (from tensorflow<2.13,>=2.12.0->tensorflow_text) (1.16.0)\n",
      "Requirement already satisfied: tensorboard<2.13,>=2.12 in /usr/local/lib/python3.10/dist-packages (from tensorflow<2.13,>=2.12.0->tensorflow_text) (2.12.2)\n",
      "Requirement already satisfied: tensorflow-estimator<2.13,>=2.12.0 in /usr/local/lib/python3.10/dist-packages (from tensorflow<2.13,>=2.12.0->tensorflow_text) (2.12.0)\n",
      "Requirement already satisfied: termcolor>=1.1.0 in /usr/local/lib/python3.10/dist-packages (from tensorflow<2.13,>=2.12.0->tensorflow_text) (2.3.0)\n",
      "Requirement already satisfied: typing-extensions>=3.6.6 in /usr/local/lib/python3.10/dist-packages (from tensorflow<2.13,>=2.12.0->tensorflow_text) (4.5.0)\n",
      "Requirement already satisfied: wrapt<1.15,>=1.11.0 in /usr/local/lib/python3.10/dist-packages (from tensorflow<2.13,>=2.12.0->tensorflow_text) (1.14.1)\n",
      "Requirement already satisfied: tensorflow-io-gcs-filesystem>=0.23.1 in /usr/local/lib/python3.10/dist-packages (from tensorflow<2.13,>=2.12.0->tensorflow_text) (0.32.0)\n",
      "Requirement already satisfied: wheel<1.0,>=0.23.0 in /usr/local/lib/python3.10/dist-packages (from astunparse>=1.6.0->tensorflow<2.13,>=2.12.0->tensorflow_text) (0.40.0)\n",
      "Requirement already satisfied: ml-dtypes>=0.1.0 in /usr/local/lib/python3.10/dist-packages (from jax>=0.3.15->tensorflow<2.13,>=2.12.0->tensorflow_text) (0.1.0)\n",
      "Requirement already satisfied: scipy>=1.7 in /usr/local/lib/python3.10/dist-packages (from jax>=0.3.15->tensorflow<2.13,>=2.12.0->tensorflow_text) (1.10.1)\n",
      "Requirement already satisfied: google-auth<3,>=1.6.3 in /usr/local/lib/python3.10/dist-packages (from tensorboard<2.13,>=2.12->tensorflow<2.13,>=2.12.0->tensorflow_text) (2.17.3)\n",
      "Requirement already satisfied: google-auth-oauthlib<1.1,>=0.5 in /usr/local/lib/python3.10/dist-packages (from tensorboard<2.13,>=2.12->tensorflow<2.13,>=2.12.0->tensorflow_text) (1.0.0)\n",
      "Requirement already satisfied: markdown>=2.6.8 in /usr/local/lib/python3.10/dist-packages (from tensorboard<2.13,>=2.12->tensorflow<2.13,>=2.12.0->tensorflow_text) (3.4.3)\n",
      "Requirement already satisfied: requests<3,>=2.21.0 in /usr/local/lib/python3.10/dist-packages (from tensorboard<2.13,>=2.12->tensorflow<2.13,>=2.12.0->tensorflow_text) (2.27.1)\n",
      "Requirement already satisfied: tensorboard-data-server<0.8.0,>=0.7.0 in /usr/local/lib/python3.10/dist-packages (from tensorboard<2.13,>=2.12->tensorflow<2.13,>=2.12.0->tensorflow_text) (0.7.0)\n",
      "Requirement already satisfied: tensorboard-plugin-wit>=1.6.0 in /usr/local/lib/python3.10/dist-packages (from tensorboard<2.13,>=2.12->tensorflow<2.13,>=2.12.0->tensorflow_text) (1.8.1)\n",
      "Requirement already satisfied: werkzeug>=1.0.1 in /usr/local/lib/python3.10/dist-packages (from tensorboard<2.13,>=2.12->tensorflow<2.13,>=2.12.0->tensorflow_text) (2.3.0)\n",
      "Requirement already satisfied: cachetools<6.0,>=2.0.0 in /usr/local/lib/python3.10/dist-packages (from google-auth<3,>=1.6.3->tensorboard<2.13,>=2.12->tensorflow<2.13,>=2.12.0->tensorflow_text) (5.3.0)\n",
      "Requirement already satisfied: pyasn1-modules>=0.2.1 in /usr/local/lib/python3.10/dist-packages (from google-auth<3,>=1.6.3->tensorboard<2.13,>=2.12->tensorflow<2.13,>=2.12.0->tensorflow_text) (0.3.0)\n",
      "Requirement already satisfied: rsa<5,>=3.1.4 in /usr/local/lib/python3.10/dist-packages (from google-auth<3,>=1.6.3->tensorboard<2.13,>=2.12->tensorflow<2.13,>=2.12.0->tensorflow_text) (4.9)\n",
      "Requirement already satisfied: requests-oauthlib>=0.7.0 in /usr/local/lib/python3.10/dist-packages (from google-auth-oauthlib<1.1,>=0.5->tensorboard<2.13,>=2.12->tensorflow<2.13,>=2.12.0->tensorflow_text) (1.3.1)\n",
      "Requirement already satisfied: urllib3<1.27,>=1.21.1 in /usr/local/lib/python3.10/dist-packages (from requests<3,>=2.21.0->tensorboard<2.13,>=2.12->tensorflow<2.13,>=2.12.0->tensorflow_text) (1.26.15)\n",
      "Requirement already satisfied: certifi>=2017.4.17 in /usr/local/lib/python3.10/dist-packages (from requests<3,>=2.21.0->tensorboard<2.13,>=2.12->tensorflow<2.13,>=2.12.0->tensorflow_text) (2022.12.7)\n",
      "Requirement already satisfied: charset-normalizer~=2.0.0 in /usr/local/lib/python3.10/dist-packages (from requests<3,>=2.21.0->tensorboard<2.13,>=2.12->tensorflow<2.13,>=2.12.0->tensorflow_text) (2.0.12)\n",
      "Requirement already satisfied: idna<4,>=2.5 in /usr/local/lib/python3.10/dist-packages (from requests<3,>=2.21.0->tensorboard<2.13,>=2.12->tensorflow<2.13,>=2.12.0->tensorflow_text) (3.4)\n",
      "Requirement already satisfied: MarkupSafe>=2.1.1 in /usr/local/lib/python3.10/dist-packages (from werkzeug>=1.0.1->tensorboard<2.13,>=2.12->tensorflow<2.13,>=2.12.0->tensorflow_text) (2.1.2)\n",
      "Requirement already satisfied: pyasn1<0.6.0,>=0.4.6 in /usr/local/lib/python3.10/dist-packages (from pyasn1-modules>=0.2.1->google-auth<3,>=1.6.3->tensorboard<2.13,>=2.12->tensorflow<2.13,>=2.12.0->tensorflow_text) (0.5.0)\n",
      "Requirement already satisfied: oauthlib>=3.0.0 in /usr/local/lib/python3.10/dist-packages (from requests-oauthlib>=0.7.0->google-auth-oauthlib<1.1,>=0.5->tensorboard<2.13,>=2.12->tensorflow<2.13,>=2.12.0->tensorflow_text) (3.2.2)\n",
      "Installing collected packages: tensorflow_text\n",
      "Successfully installed tensorflow_text-2.12.1\n"
     ]
    }
   ],
   "source": [
    "pip install tensorflow_text\n"
   ]
  },
  {
   "cell_type": "code",
   "execution_count": 2,
   "metadata": {
    "executionInfo": {
     "elapsed": 3113,
     "status": "ok",
     "timestamp": 1686681810059,
     "user": {
      "displayName": "Shivam Mathur",
      "userId": "13996464205483377357"
     },
     "user_tz": 420
    },
    "id": "7xX_JBwtc2Z7"
   },
   "outputs": [],
   "source": [
    "import tensorflow as tf\n",
    "tf.config.run_functions_eagerly(True)\n",
    "tf.data.experimental.enable_debug_mode()\n",
    "\n",
    "import keras\n",
    "import tensorflow_hub as hub\n",
    "import tensorflow_text as text"
   ]
  },
  {
   "cell_type": "code",
   "execution_count": 3,
   "metadata": {
    "executionInfo": {
     "elapsed": 2,
     "status": "ok",
     "timestamp": 1686681810059,
     "user": {
      "displayName": "Shivam Mathur",
      "userId": "13996464205483377357"
     },
     "user_tz": 420
    },
    "id": "1iFU3QxAc8PF"
   },
   "outputs": [],
   "source": [
    "import pandas as pd\n",
    "import numpy as np"
   ]
  },
  {
   "cell_type": "code",
   "execution_count": 4,
   "metadata": {
    "executionInfo": {
     "elapsed": 6367,
     "status": "ok",
     "timestamp": 1686681816424,
     "user": {
      "displayName": "Shivam Mathur",
      "userId": "13996464205483377357"
     },
     "user_tz": 420
    },
    "id": "qORgRCEBeANa"
   },
   "outputs": [],
   "source": [
    "# get pretraining corpus data\n",
    "df_circa_train = pd.read_excel(r'circa_train.xlsx')\n",
    "df_circa_validate = pd.read_excel(r'circa_validate.xlsx')\n",
    "df_circa_test = pd.read_excel(r'circa_test.xlsx')\n",
    "\n",
    "# Question+[SEP]+Answer\n",
    "df_circa_train['QA'] = df_circa_train['question-X'] + '[SEP]' + df_circa_train['answer-Y']\n",
    "df_circa_validate['QA'] = df_circa_validate['question-X'] + '[SEP]' + df_circa_validate['answer-Y']\n",
    "df_circa_test['QA'] = df_circa_test['question-X'] + '[SEP]' + df_circa_test['answer-Y']\n",
    "\n"
   ]
  },
  {
   "cell_type": "code",
   "execution_count": 5,
   "metadata": {
    "executionInfo": {
     "elapsed": 2533,
     "status": "ok",
     "timestamp": 1686681818955,
     "user": {
      "displayName": "Shivam Mathur",
      "userId": "13996464205483377357"
     },
     "user_tz": 420
    },
    "id": "XlqX2gpFGxfm"
   },
   "outputs": [],
   "source": [
    "# Also get the finetunning dataset\n",
    "\n",
    "# setting A\n",
    "df_train = pd.read_csv('TR_b.csv')\n",
    "df_train=df_train.rename(columns={\"gold_adj\": \"gold\"})\n",
    "\n",
    "df_dev = pd.read_csv('TD_b.csv')\n",
    "df_dev=df_dev.rename(columns={\"gold_adj\": \"gold\"})\n",
    "\n",
    "df_test = pd.read_csv('TE_b.csv')\n",
    "df_test=df_test.rename(columns={\"gold_adj\": \"gold\"})\n",
    "\n",
    "df_train['QA'] = df_train['Main_tweet'] + '[SEP]' + df_train['Reply_tweet']\n",
    "\n",
    "df_dev['QA'] = df_dev['Main_tweet'] + '[SEP]' + df_dev['Reply_tweet']\n",
    "df_dev = df_dev.rename(columns={\"gold_adj\": \"gold\"})\n",
    "\n",
    "df_test['QA'] = df_test['Main_tweet'] + '[SEP]' + df_test['Reply_tweet']\n",
    "df_test = df_test.rename(columns={\"gold_adj\": \"gold\"})"
   ]
  },
  {
   "cell_type": "code",
   "execution_count": 6,
   "metadata": {
    "executionInfo": {
     "elapsed": 459,
     "status": "ok",
     "timestamp": 1686681819411,
     "user": {
      "displayName": "Shivam Mathur",
      "userId": "13996464205483377357"
     },
     "user_tz": 420
    },
    "id": "Fww1M8oqeSJG"
   },
   "outputs": [],
   "source": [
    "# pretrain datasets have different labels. We replace them appropriatly as per our task\n",
    "def mapping(df):\n",
    "  df['goldstandard1'] = df['goldstandard1'].replace(np.nan, 'N/A')\n",
    "  df['goldstandard1'] = df['goldstandard1'].astype(str)\n",
    "\n",
    "  df['goldstandard1'] = df['goldstandard1'].str.replace('Yes, subject to some conditions', 'py')\n",
    "  df['goldstandard1'] = df['goldstandard1'].str.replace('Probably yes / sometimes yes','py')\n",
    "  df['goldstandard1'] = df['goldstandard1'].str.replace('Probably no','pn')\n",
    "\n",
    "  df['goldstandard1'] = df['goldstandard1'].str.replace('In the middle, neither yes nor no','uk')\n",
    "  df['goldstandard1'] = df['goldstandard1'].str.replace('I am not sure how X will interpret Y’s answer','uk')\n",
    "  df['goldstandard1'] = df['goldstandard1'].str.replace('N/A','uk')\n",
    "  df['goldstandard1'] = df['goldstandard1'].str.replace('Other','uk')\n",
    "\n",
    "  df['goldstandard1'] = df['goldstandard1'].str.replace('No','n')\n",
    "  df['goldstandard1'] = df['goldstandard1'].str.replace('Yes','y')\n",
    "\n",
    "  df = df.rename(columns={\"goldstandard1\": \"gold\"})\n",
    "\n",
    "  return df\n",
    "\n",
    "df_circa_train = mapping(df_circa_train)\n",
    "df_circa_validate = mapping(df_circa_validate)\n",
    "df_circa_test = mapping(df_circa_test)"
   ]
  },
  {
   "cell_type": "code",
   "execution_count": 7,
   "metadata": {
    "colab": {
     "base_uri": "https://localhost:8080/",
     "height": 1000
    },
    "executionInfo": {
     "elapsed": 3,
     "status": "ok",
     "timestamp": 1686681819411,
     "user": {
      "displayName": "Shivam Mathur",
      "userId": "13996464205483377357"
     },
     "user_tz": 420
    },
    "id": "n0xa0gF80nVG",
    "outputId": "2cee18fa-8760-4399-dcc7-a88befa6eb7e"
   },
   "outputs": [
    {
     "data": {
      "text/html": [
       "\n",
       "  <div id=\"df-bdc0f9f2-7158-4f40-a7dc-da9a72830717\">\n",
       "    <div class=\"colab-df-container\">\n",
       "      <div>\n",
       "<style scoped>\n",
       "    .dataframe tbody tr th:only-of-type {\n",
       "        vertical-align: middle;\n",
       "    }\n",
       "\n",
       "    .dataframe tbody tr th {\n",
       "        vertical-align: top;\n",
       "    }\n",
       "\n",
       "    .dataframe thead th {\n",
       "        text-align: right;\n",
       "    }\n",
       "</style>\n",
       "<table border=\"1\" class=\"dataframe\">\n",
       "  <thead>\n",
       "    <tr style=\"text-align: right;\">\n",
       "      <th></th>\n",
       "      <th>Unnamed: 0</th>\n",
       "      <th>id</th>\n",
       "      <th>context</th>\n",
       "      <th>question-X</th>\n",
       "      <th>canquestion-X</th>\n",
       "      <th>answer-Y</th>\n",
       "      <th>judgements</th>\n",
       "      <th>gold</th>\n",
       "      <th>goldstandard2</th>\n",
       "      <th>QA</th>\n",
       "    </tr>\n",
       "  </thead>\n",
       "  <tbody>\n",
       "    <tr>\n",
       "      <th>0</th>\n",
       "      <td>30411</td>\n",
       "      <td>30411</td>\n",
       "      <td>X wants to know about Y's music preferences.</td>\n",
       "      <td>Do you have a Spotify account?</td>\n",
       "      <td>I have a Spotify account .</td>\n",
       "      <td>I don't know what I would do without it.</td>\n",
       "      <td>Yes#Yes#Yes#Yes#Yes</td>\n",
       "      <td>y</td>\n",
       "      <td>Yes</td>\n",
       "      <td>Do you have a Spotify account?[SEP]I don't kno...</td>\n",
       "    </tr>\n",
       "    <tr>\n",
       "      <th>1</th>\n",
       "      <td>33629</td>\n",
       "      <td>33629</td>\n",
       "      <td>Y has just told X that he/she is considering s...</td>\n",
       "      <td>How long have you been at your job?</td>\n",
       "      <td>I have have I been at my job .</td>\n",
       "      <td>It's been 5 years since I switched roles.</td>\n",
       "      <td>Other#Other#Yes#Other#Other</td>\n",
       "      <td>uk</td>\n",
       "      <td>Other</td>\n",
       "      <td>How long have you been at your job?[SEP]It's b...</td>\n",
       "    </tr>\n",
       "    <tr>\n",
       "      <th>2</th>\n",
       "      <td>14622</td>\n",
       "      <td>14622</td>\n",
       "      <td>X wants to know what sorts of books Y likes to...</td>\n",
       "      <td>Do you watch a lot of romance movies?</td>\n",
       "      <td>I watch a lot of romance movies .</td>\n",
       "      <td>Only the ones that are based on books.</td>\n",
       "      <td>Yes, subject to some conditions#Yes, subject t...</td>\n",
       "      <td>py</td>\n",
       "      <td>Yes, subject to some conditions</td>\n",
       "      <td>Do you watch a lot of romance movies?[SEP]Only...</td>\n",
       "    </tr>\n",
       "    <tr>\n",
       "      <th>3</th>\n",
       "      <td>29307</td>\n",
       "      <td>29307</td>\n",
       "      <td>Y has just told X that he/she is considering s...</td>\n",
       "      <td>Are you looking for the same kind of position ...</td>\n",
       "      <td>I am looking for the same kind of position as ...</td>\n",
       "      <td>I would like something new.</td>\n",
       "      <td>No#No#No#No#No</td>\n",
       "      <td>n</td>\n",
       "      <td>No</td>\n",
       "      <td>Are you looking for the same kind of position ...</td>\n",
       "    </tr>\n",
       "    <tr>\n",
       "      <th>4</th>\n",
       "      <td>25732</td>\n",
       "      <td>25732</td>\n",
       "      <td>X and Y are childhood neighbours who unexpecte...</td>\n",
       "      <td>Did you get your dream job?</td>\n",
       "      <td>I did get my dream job .</td>\n",
       "      <td>I;m working in a different field for the time ...</td>\n",
       "      <td>No#No#No#No#No</td>\n",
       "      <td>n</td>\n",
       "      <td>No</td>\n",
       "      <td>Did you get your dream job?[SEP]I;m working in...</td>\n",
       "    </tr>\n",
       "    <tr>\n",
       "      <th>...</th>\n",
       "      <td>...</td>\n",
       "      <td>...</td>\n",
       "      <td>...</td>\n",
       "      <td>...</td>\n",
       "      <td>...</td>\n",
       "      <td>...</td>\n",
       "      <td>...</td>\n",
       "      <td>...</td>\n",
       "      <td>...</td>\n",
       "      <td>...</td>\n",
       "    </tr>\n",
       "    <tr>\n",
       "      <th>6849</th>\n",
       "      <td>24637</td>\n",
       "      <td>24637</td>\n",
       "      <td>Y has just told X that he/she is thinking of b...</td>\n",
       "      <td>Is it crowded and busy in that area?</td>\n",
       "      <td>It is crowded and busy in that area .</td>\n",
       "      <td>It's always bustling.</td>\n",
       "      <td>Yes#Yes#Yes#Yes#Yes</td>\n",
       "      <td>y</td>\n",
       "      <td>Yes</td>\n",
       "      <td>Is it crowded and busy in that area?[SEP]It's ...</td>\n",
       "    </tr>\n",
       "    <tr>\n",
       "      <th>6850</th>\n",
       "      <td>28626</td>\n",
       "      <td>28626</td>\n",
       "      <td>X wants to know what activities Y likes to do ...</td>\n",
       "      <td>Are you an outdoorsy type?</td>\n",
       "      <td>I am an outdoorsy type .</td>\n",
       "      <td>I would say I am</td>\n",
       "      <td>Yes#Yes#Yes#Yes#Yes</td>\n",
       "      <td>y</td>\n",
       "      <td>Yes</td>\n",
       "      <td>Are you an outdoorsy type?[SEP]I would say I am</td>\n",
       "    </tr>\n",
       "    <tr>\n",
       "      <th>6851</th>\n",
       "      <td>11592</td>\n",
       "      <td>11592</td>\n",
       "      <td>Y has just travelled from a different city to ...</td>\n",
       "      <td>Are you staying some days?</td>\n",
       "      <td>I am staying days .</td>\n",
       "      <td>I'm stay for a couple of weeks.</td>\n",
       "      <td>Yes#Yes#Yes#Yes#Yes</td>\n",
       "      <td>y</td>\n",
       "      <td>Yes</td>\n",
       "      <td>Are you staying some days?[SEP]I'm stay for a ...</td>\n",
       "    </tr>\n",
       "    <tr>\n",
       "      <th>6852</th>\n",
       "      <td>24553</td>\n",
       "      <td>24553</td>\n",
       "      <td>X wants to know about Y's music preferences.</td>\n",
       "      <td>Do you have a CD collection?</td>\n",
       "      <td>I have a CD collection .</td>\n",
       "      <td>I uploaded all of my music to a flash drive.</td>\n",
       "      <td>No#No#In the middle, neither yes nor no#Probab...</td>\n",
       "      <td>n</td>\n",
       "      <td>No</td>\n",
       "      <td>Do you have a CD collection?[SEP]I uploaded al...</td>\n",
       "    </tr>\n",
       "    <tr>\n",
       "      <th>6853</th>\n",
       "      <td>8280</td>\n",
       "      <td>8280</td>\n",
       "      <td>Y has just moved into a neighbourhood and meet...</td>\n",
       "      <td>Can I invite you over tomorrow?</td>\n",
       "      <td>You can invite I over tomorrow .</td>\n",
       "      <td>I'd love to come over tomorrow.</td>\n",
       "      <td>Yes#Yes#Yes#Yes#Yes</td>\n",
       "      <td>y</td>\n",
       "      <td>Yes</td>\n",
       "      <td>Can I invite you over tomorrow?[SEP]I'd love t...</td>\n",
       "    </tr>\n",
       "  </tbody>\n",
       "</table>\n",
       "<p>6854 rows × 10 columns</p>\n",
       "</div>\n",
       "      <button class=\"colab-df-convert\" onclick=\"convertToInteractive('df-bdc0f9f2-7158-4f40-a7dc-da9a72830717')\"\n",
       "              title=\"Convert this dataframe to an interactive table.\"\n",
       "              style=\"display:none;\">\n",
       "        \n",
       "  <svg xmlns=\"http://www.w3.org/2000/svg\" height=\"24px\"viewBox=\"0 0 24 24\"\n",
       "       width=\"24px\">\n",
       "    <path d=\"M0 0h24v24H0V0z\" fill=\"none\"/>\n",
       "    <path d=\"M18.56 5.44l.94 2.06.94-2.06 2.06-.94-2.06-.94-.94-2.06-.94 2.06-2.06.94zm-11 1L8.5 8.5l.94-2.06 2.06-.94-2.06-.94L8.5 2.5l-.94 2.06-2.06.94zm10 10l.94 2.06.94-2.06 2.06-.94-2.06-.94-.94-2.06-.94 2.06-2.06.94z\"/><path d=\"M17.41 7.96l-1.37-1.37c-.4-.4-.92-.59-1.43-.59-.52 0-1.04.2-1.43.59L10.3 9.45l-7.72 7.72c-.78.78-.78 2.05 0 2.83L4 21.41c.39.39.9.59 1.41.59.51 0 1.02-.2 1.41-.59l7.78-7.78 2.81-2.81c.8-.78.8-2.07 0-2.86zM5.41 20L4 18.59l7.72-7.72 1.47 1.35L5.41 20z\"/>\n",
       "  </svg>\n",
       "      </button>\n",
       "      \n",
       "  <style>\n",
       "    .colab-df-container {\n",
       "      display:flex;\n",
       "      flex-wrap:wrap;\n",
       "      gap: 12px;\n",
       "    }\n",
       "\n",
       "    .colab-df-convert {\n",
       "      background-color: #E8F0FE;\n",
       "      border: none;\n",
       "      border-radius: 50%;\n",
       "      cursor: pointer;\n",
       "      display: none;\n",
       "      fill: #1967D2;\n",
       "      height: 32px;\n",
       "      padding: 0 0 0 0;\n",
       "      width: 32px;\n",
       "    }\n",
       "\n",
       "    .colab-df-convert:hover {\n",
       "      background-color: #E2EBFA;\n",
       "      box-shadow: 0px 1px 2px rgba(60, 64, 67, 0.3), 0px 1px 3px 1px rgba(60, 64, 67, 0.15);\n",
       "      fill: #174EA6;\n",
       "    }\n",
       "\n",
       "    [theme=dark] .colab-df-convert {\n",
       "      background-color: #3B4455;\n",
       "      fill: #D2E3FC;\n",
       "    }\n",
       "\n",
       "    [theme=dark] .colab-df-convert:hover {\n",
       "      background-color: #434B5C;\n",
       "      box-shadow: 0px 1px 3px 1px rgba(0, 0, 0, 0.15);\n",
       "      filter: drop-shadow(0px 1px 2px rgba(0, 0, 0, 0.3));\n",
       "      fill: #FFFFFF;\n",
       "    }\n",
       "  </style>\n",
       "\n",
       "      <script>\n",
       "        const buttonEl =\n",
       "          document.querySelector('#df-bdc0f9f2-7158-4f40-a7dc-da9a72830717 button.colab-df-convert');\n",
       "        buttonEl.style.display =\n",
       "          google.colab.kernel.accessAllowed ? 'block' : 'none';\n",
       "\n",
       "        async function convertToInteractive(key) {\n",
       "          const element = document.querySelector('#df-bdc0f9f2-7158-4f40-a7dc-da9a72830717');\n",
       "          const dataTable =\n",
       "            await google.colab.kernel.invokeFunction('convertToInteractive',\n",
       "                                                     [key], {});\n",
       "          if (!dataTable) return;\n",
       "\n",
       "          const docLinkHtml = 'Like what you see? Visit the ' +\n",
       "            '<a target=\"_blank\" href=https://colab.research.google.com/notebooks/data_table.ipynb>data table notebook</a>'\n",
       "            + ' to learn more about interactive tables.';\n",
       "          element.innerHTML = '';\n",
       "          dataTable['output_type'] = 'display_data';\n",
       "          await google.colab.output.renderOutput(dataTable, element);\n",
       "          const docLink = document.createElement('div');\n",
       "          docLink.innerHTML = docLinkHtml;\n",
       "          element.appendChild(docLink);\n",
       "        }\n",
       "      </script>\n",
       "    </div>\n",
       "  </div>\n",
       "  "
      ],
      "text/plain": [
       "      Unnamed: 0     id                                            context  \\\n",
       "0          30411  30411       X wants to know about Y's music preferences.   \n",
       "1          33629  33629  Y has just told X that he/she is considering s...   \n",
       "2          14622  14622  X wants to know what sorts of books Y likes to...   \n",
       "3          29307  29307  Y has just told X that he/she is considering s...   \n",
       "4          25732  25732  X and Y are childhood neighbours who unexpecte...   \n",
       "...          ...    ...                                                ...   \n",
       "6849       24637  24637  Y has just told X that he/she is thinking of b...   \n",
       "6850       28626  28626  X wants to know what activities Y likes to do ...   \n",
       "6851       11592  11592  Y has just travelled from a different city to ...   \n",
       "6852       24553  24553       X wants to know about Y's music preferences.   \n",
       "6853        8280   8280  Y has just moved into a neighbourhood and meet...   \n",
       "\n",
       "                                             question-X  \\\n",
       "0                        Do you have a Spotify account?   \n",
       "1                   How long have you been at your job?   \n",
       "2                 Do you watch a lot of romance movies?   \n",
       "3     Are you looking for the same kind of position ...   \n",
       "4                           Did you get your dream job?   \n",
       "...                                                 ...   \n",
       "6849               Is it crowded and busy in that area?   \n",
       "6850                         Are you an outdoorsy type?   \n",
       "6851                         Are you staying some days?   \n",
       "6852                       Do you have a CD collection?   \n",
       "6853                    Can I invite you over tomorrow?   \n",
       "\n",
       "                                          canquestion-X  \\\n",
       "0                            I have a Spotify account .   \n",
       "1                        I have have I been at my job .   \n",
       "2                     I watch a lot of romance movies .   \n",
       "3     I am looking for the same kind of position as ...   \n",
       "4                              I did get my dream job .   \n",
       "...                                                 ...   \n",
       "6849              It is crowded and busy in that area .   \n",
       "6850                           I am an outdoorsy type .   \n",
       "6851                                I am staying days .   \n",
       "6852                           I have a CD collection .   \n",
       "6853                   You can invite I over tomorrow .   \n",
       "\n",
       "                                               answer-Y  \\\n",
       "0              I don't know what I would do without it.   \n",
       "1             It's been 5 years since I switched roles.   \n",
       "2                Only the ones that are based on books.   \n",
       "3                           I would like something new.   \n",
       "4     I;m working in a different field for the time ...   \n",
       "...                                                 ...   \n",
       "6849                              It's always bustling.   \n",
       "6850                                   I would say I am   \n",
       "6851                    I'm stay for a couple of weeks.   \n",
       "6852       I uploaded all of my music to a flash drive.   \n",
       "6853                    I'd love to come over tomorrow.   \n",
       "\n",
       "                                             judgements gold  \\\n",
       "0                                   Yes#Yes#Yes#Yes#Yes    y   \n",
       "1                           Other#Other#Yes#Other#Other   uk   \n",
       "2     Yes, subject to some conditions#Yes, subject t...   py   \n",
       "3                                        No#No#No#No#No    n   \n",
       "4                                        No#No#No#No#No    n   \n",
       "...                                                 ...  ...   \n",
       "6849                                Yes#Yes#Yes#Yes#Yes    y   \n",
       "6850                                Yes#Yes#Yes#Yes#Yes    y   \n",
       "6851                                Yes#Yes#Yes#Yes#Yes    y   \n",
       "6852  No#No#In the middle, neither yes nor no#Probab...    n   \n",
       "6853                                Yes#Yes#Yes#Yes#Yes    y   \n",
       "\n",
       "                        goldstandard2  \\\n",
       "0                                 Yes   \n",
       "1                               Other   \n",
       "2     Yes, subject to some conditions   \n",
       "3                                  No   \n",
       "4                                  No   \n",
       "...                               ...   \n",
       "6849                              Yes   \n",
       "6850                              Yes   \n",
       "6851                              Yes   \n",
       "6852                               No   \n",
       "6853                              Yes   \n",
       "\n",
       "                                                     QA  \n",
       "0     Do you have a Spotify account?[SEP]I don't kno...  \n",
       "1     How long have you been at your job?[SEP]It's b...  \n",
       "2     Do you watch a lot of romance movies?[SEP]Only...  \n",
       "3     Are you looking for the same kind of position ...  \n",
       "4     Did you get your dream job?[SEP]I;m working in...  \n",
       "...                                                 ...  \n",
       "6849  Is it crowded and busy in that area?[SEP]It's ...  \n",
       "6850    Are you an outdoorsy type?[SEP]I would say I am  \n",
       "6851  Are you staying some days?[SEP]I'm stay for a ...  \n",
       "6852  Do you have a CD collection?[SEP]I uploaded al...  \n",
       "6853  Can I invite you over tomorrow?[SEP]I'd love t...  \n",
       "\n",
       "[6854 rows x 10 columns]"
      ]
     },
     "execution_count": 7,
     "metadata": {},
     "output_type": "execute_result"
    }
   ],
   "source": [
    "df_circa_test"
   ]
  },
  {
   "cell_type": "code",
   "execution_count": 8,
   "metadata": {
    "executionInfo": {
     "elapsed": 3,
     "status": "ok",
     "timestamp": 1686681819411,
     "user": {
      "displayName": "Shivam Mathur",
      "userId": "13996464205483377357"
     },
     "user_tz": 420
    },
    "id": "G6xIK8PvgcJa"
   },
   "outputs": [],
   "source": [
    "# One hot encoding of pretrain corpora\n",
    "y_circa_train = pd.get_dummies(df_circa_train.gold, prefix='gold')\n",
    "y_circa_validate = pd.get_dummies(df_circa_validate.gold, prefix='gold')\n",
    "y_circa_test = pd.get_dummies(df_circa_test.gold, prefix='gold')"
   ]
  },
  {
   "cell_type": "code",
   "execution_count": 9,
   "metadata": {
    "executionInfo": {
     "elapsed": 32503,
     "status": "ok",
     "timestamp": 1686681851912,
     "user": {
      "displayName": "Shivam Mathur",
      "userId": "13996464205483377357"
     },
     "user_tz": 420
    },
    "id": "B8_NOYqMhkVP"
   },
   "outputs": [],
   "source": [
    "# roberta initialization\n",
    "bert_preprocess = hub.KerasLayer(\"https://tfhub.dev/jeongukjae/roberta_en_cased_preprocess/1\", trainable=True)\n",
    "bert_encoder = hub.KerasLayer(\"https://tfhub.dev/jeongukjae/roberta_en_cased_L-12_H-768_A-12/1\", trainable=True)"
   ]
  },
  {
   "cell_type": "code",
   "execution_count": 10,
   "metadata": {
    "colab": {
     "base_uri": "https://localhost:8080/"
    },
    "executionInfo": {
     "elapsed": 1061,
     "status": "ok",
     "timestamp": 1686681852966,
     "user": {
      "displayName": "Shivam Mathur",
      "userId": "13996464205483377357"
     },
     "user_tz": 420
    },
    "id": "4Ru5kNBkhrgH",
    "outputId": "a4f9341e-7564-4807-fcf8-7cbcf837f562"
   },
   "outputs": [
    {
     "name": "stderr",
     "output_type": "stream",
     "text": [
      "ERROR:absl:hub.KerasLayer is trainable but has zero trainable weights.\n"
     ]
    }
   ],
   "source": [
    "# RoBerta layers\n",
    "text_input = tf.keras.layers.Input(shape=(), dtype=tf.string, name='text') # Textual input layer\n",
    "preprocessed_text = bert_preprocess(text_input) # The preprocessing of text\n",
    "outputs = bert_encoder(preprocessed_text) # Encoded o/p\n",
    "\n",
    "# softmax layers\n",
    "l = tf.keras.layers.Dense(5, activation='softmax', name=\"soft_output\")(outputs['pooled_output'])\n",
    "\n",
    "# Use inputs and outputs to construct a final model\n",
    "model = tf.keras.Model(inputs=[text_input], outputs = [l])"
   ]
  },
  {
   "cell_type": "code",
   "execution_count": 11,
   "metadata": {
    "colab": {
     "base_uri": "https://localhost:8080/"
    },
    "executionInfo": {
     "elapsed": 22,
     "status": "ok",
     "timestamp": 1686681852967,
     "user": {
      "displayName": "Shivam Mathur",
      "userId": "13996464205483377357"
     },
     "user_tz": 420
    },
    "id": "no36pn3Gi3mN",
    "outputId": "dd7e517f-0e27-413d-e8d5-2548e94d1a43"
   },
   "outputs": [
    {
     "name": "stdout",
     "output_type": "stream",
     "text": [
      "Model: \"model\"\n",
      "__________________________________________________________________________________________________\n",
      " Layer (type)                   Output Shape         Param #     Connected to                     \n",
      "==================================================================================================\n",
      " text (InputLayer)              [(None,)]            0           []                               \n",
      "                                                                                                  \n",
      " keras_layer (KerasLayer)       {'input_mask': (Non  0           ['text[0][0]']                   \n",
      "                                e, 128),                                                          \n",
      "                                 'input_type_ids':                                                \n",
      "                                (None, 128),                                                      \n",
      "                                 'input_word_ids':                                                \n",
      "                                (None, 128)}                                                      \n",
      "                                                                                                  \n",
      " keras_layer_1 (KerasLayer)     {'encoder_outputs':  124644096   ['keras_layer[0][0]',            \n",
      "                                 [(None, 128, 768),               'keras_layer[0][1]',            \n",
      "                                 (None, 128, 768),                'keras_layer[0][2]']            \n",
      "                                 (None, 128, 768),                                                \n",
      "                                 (None, 128, 768),                                                \n",
      "                                 (None, 128, 768),                                                \n",
      "                                 (None, 128, 768),                                                \n",
      "                                 (None, 128, 768),                                                \n",
      "                                 (None, 128, 768),                                                \n",
      "                                 (None, 128, 768),                                                \n",
      "                                 (None, 128, 768),                                                \n",
      "                                 (None, 128, 768),                                                \n",
      "                                 (None, 128, 768)],                                               \n",
      "                                 'pooled_output': (                                               \n",
      "                                None, 768),                                                       \n",
      "                                 'sequence_output':                                               \n",
      "                                 (None, 128, 768)}                                                \n",
      "                                                                                                  \n",
      " soft_output (Dense)            (None, 5)            3845        ['keras_layer_1[0][12]']         \n",
      "                                                                                                  \n",
      "==================================================================================================\n",
      "Total params: 124,647,941\n",
      "Trainable params: 124,647,941\n",
      "Non-trainable params: 0\n",
      "__________________________________________________________________________________________________\n"
     ]
    }
   ],
   "source": [
    "model.summary()"
   ]
  },
  {
   "cell_type": "code",
   "execution_count": 12,
   "metadata": {
    "executionInfo": {
     "elapsed": 7,
     "status": "ok",
     "timestamp": 1686681852967,
     "user": {
      "displayName": "Shivam Mathur",
      "userId": "13996464205483377357"
     },
     "user_tz": 420
    },
    "id": "8hEuXcNEi6aK"
   },
   "outputs": [],
   "source": [
    "import keras\n",
    "\n",
    "def get_lr_metric(optimizer):\n",
    "    def lr(y_true, y_pred):\n",
    "        return optimizer.learning_rate # I use ._decayed_lr method instead of .lr\n",
    "    return lr\n",
    "\n",
    "\n",
    "callback = tf.keras.callbacks.EarlyStopping(monitor='val_loss', patience=3, min_delta=0.01, restore_best_weights=True)\n",
    "\n",
    "initial_learning_rate = 0.00003\n",
    "lr_schedule = tf.keras.optimizers.schedules.ExponentialDecay(\n",
    "    initial_learning_rate,\n",
    "    decay_steps=10000,\n",
    "    decay_rate=0.96,\n",
    "    staircase=True)\n",
    "\n",
    "optimizer = tf.keras.optimizers.Adam(learning_rate=lr_schedule)\n",
    "\n",
    "lr_metric = get_lr_metric(optimizer)\n",
    "\n",
    "METRICS = [\n",
    "      tf.keras.metrics.CategoricalAccuracy(name='accuracy'),\n",
    "      tf.keras.metrics.Precision(name='precision'),\n",
    "      tf.keras.metrics.Recall(name='recall'),\n",
    "      lr_metric\n",
    "]\n",
    "\n",
    "# optimizer.learning_rate.assign(0.00002)\n",
    "model.compile(optimizer=optimizer,\n",
    "              loss='CategoricalCrossentropy',\n",
    "              metrics=METRICS)"
   ]
  },
  {
   "cell_type": "code",
   "execution_count": 13,
   "metadata": {
    "colab": {
     "base_uri": "https://localhost:8080/"
    },
    "executionInfo": {
     "elapsed": 4078966,
     "status": "ok",
     "timestamp": 1686685931926,
     "user": {
      "displayName": "Shivam Mathur",
      "userId": "13996464205483377357"
     },
     "user_tz": 420
    },
    "id": "Ui75kWjCiwfQ",
    "outputId": "bc4ea2a9-a393-4a0d-b3ae-9614016acd54"
   },
   "outputs": [
    {
     "name": "stdout",
     "output_type": "stream",
     "text": [
      "Epoch 1/200\n",
      "1285/1285 [==============================] - 1037s 794ms/step - loss: 0.7703 - accuracy: 0.7390 - precision: 0.8010 - recall: 0.6668 - lr: 3.0000e-05 - val_loss: 0.6407 - val_accuracy: 0.7793 - val_precision: 0.8385 - val_recall: 0.7180 - val_lr: 3.0000e-05\n",
      "Epoch 2/200\n",
      "1285/1285 [==============================] - 1016s 791ms/step - loss: 0.5555 - accuracy: 0.8123 - precision: 0.8549 - recall: 0.7676 - lr: 3.0000e-05 - val_loss: 0.6446 - val_accuracy: 0.8020 - val_precision: 0.8332 - val_recall: 0.7781 - val_lr: 3.0000e-05\n",
      "Epoch 3/200\n",
      "1285/1285 [==============================] - 1013s 789ms/step - loss: 0.4567 - accuracy: 0.8419 - precision: 0.8827 - recall: 0.8043 - lr: 3.0000e-05 - val_loss: 0.6308 - val_accuracy: 0.7981 - val_precision: 0.8386 - val_recall: 0.7674 - val_lr: 3.0000e-05\n",
      "Epoch 4/200\n",
      "1285/1285 [==============================] - 1012s 788ms/step - loss: 0.3667 - accuracy: 0.8699 - precision: 0.9018 - recall: 0.8394 - lr: 3.0000e-05 - val_loss: 0.7251 - val_accuracy: 0.8010 - val_precision: 0.8224 - val_recall: 0.7835 - val_lr: 3.0000e-05\n"
     ]
    },
    {
     "data": {
      "text/plain": [
       "<keras.callbacks.History at 0x7f266b773b50>"
      ]
     },
     "execution_count": 13,
     "metadata": {},
     "output_type": "execute_result"
    }
   ],
   "source": [
    "from pandas.compat.numpy.function import validate_take_with_convert\n",
    "# pretraining\n",
    "model.fit(df_circa_train['QA'], y_circa_train, epochs=200, batch_size=16, callbacks=[callback], validation_data = (df_circa_validate['QA'],y_circa_validate))"
   ]
  },
  {
   "cell_type": "code",
   "execution_count": 14,
   "metadata": {
    "colab": {
     "base_uri": "https://localhost:8080/"
    },
    "executionInfo": {
     "elapsed": 147443,
     "status": "ok",
     "timestamp": 1686686079368,
     "user": {
      "displayName": "Shivam Mathur",
      "userId": "13996464205483377357"
     },
     "user_tz": 420
    },
    "id": "8IU0XDyBAbbw",
    "outputId": "baf50168-7b4f-4cb6-c520-78ac2601f89d"
   },
   "outputs": [
    {
     "name": "stdout",
     "output_type": "stream",
     "text": [
      "215/215 [==============================] - 76s 354ms/step - loss: 0.6478 - accuracy: 0.7771 - precision: 0.8404 - recall: 0.7184 - lr: 3.0000e-05\n",
      "[0.6477856040000916, 0.7770645022392273, 0.840416431427002, 0.7184125781059265, 3.000008837261703e-05]\n",
      "215/215 [==============================] - 70s 326ms/step\n",
      "CIRCA TEST\n",
      "              precision    recall  f1-score   support\n",
      "\n",
      "           n       0.81      0.84      0.82      2201\n",
      "          pn       0.26      0.17      0.21       229\n",
      "          py       0.71      0.79      0.75       715\n",
      "          uk       0.72      0.27      0.40       797\n",
      "           y       0.80      0.91      0.85      2912\n",
      "\n",
      "    accuracy                           0.78      6854\n",
      "   macro avg       0.66      0.60      0.60      6854\n",
      "weighted avg       0.77      0.78      0.76      6854\n",
      "\n"
     ]
    }
   ],
   "source": [
    "y_circa_test = pd.get_dummies(df_circa_test.gold, prefix = 'gold')\n",
    "print(model.evaluate(df_circa_test['QA'], y_circa_test))\n",
    "y_predicted = model.predict(df_circa_test['QA'])\n",
    "\n",
    "pred_results = tf.cast(tf.equal(y_predicted, tf.reduce_max(y_predicted, axis = 1, keepdims=True)), tf.float32)\n",
    "\n",
    "pred_results = pd.DataFrame(pred_results.numpy(), columns = ['gold_n',\n",
    "                                       'gold_pn',\n",
    "                                       'gold_py',\n",
    "                                       'gold_uk',\n",
    "                                       'gold_y'])\n",
    "\n",
    "pred_results.shape\n",
    "pred_results.to_numpy()\n",
    "pred_results = [np.where(r==1)[0][0] for r in pred_results.to_numpy()]\n",
    "pred_results = pd.DataFrame(pred_results, columns=['gold'])\n",
    "\n",
    "pred_results['gold'] = pred_results['gold'].map({0:'n',\n",
    "                                                   1:'pn',\n",
    "                                                   2:'py',\n",
    "                                                   3:'uk',\n",
    "                                                   4:'y'})\n",
    "\n",
    "dev_gtruths = [np.where(r==1)[0][0] for r in y_circa_test.to_numpy()]\n",
    "dev_gtruths = pd.DataFrame(dev_gtruths, columns=['gold'])\n",
    "\n",
    "dev_gtruths['gold'] = dev_gtruths['gold'].map({0:'n',\n",
    "                                                   1:'pn',\n",
    "                                                   2:'py',\n",
    "                                                   3:'uk',\n",
    "                                                   4:'y'})\n",
    "\n",
    "print('CIRCA TEST')\n",
    "from sklearn.metrics import classification_report\n",
    "print(classification_report(y_true = dev_gtruths['gold'], y_pred = pred_results['gold']))"
   ]
  },
  {
   "cell_type": "code",
   "execution_count": 15,
   "metadata": {
    "colab": {
     "base_uri": "https://localhost:8080/"
    },
    "executionInfo": {
     "elapsed": 22095,
     "status": "ok",
     "timestamp": 1686686101439,
     "user": {
      "displayName": "Shivam Mathur",
      "userId": "13996464205483377357"
     },
     "user_tz": 420
    },
    "id": "M2VSImQW6lhf",
    "outputId": "6518a981-9c78-4400-e975-35466631b171"
   },
   "outputs": [
    {
     "name": "stdout",
     "output_type": "stream",
     "text": [
      "17/17 [==============================] - 11s 645ms/step - loss: 1.1933 - accuracy: 0.5522 - precision: 0.6527 - recall: 0.4421 - lr: 3.0000e-05\n",
      "[1.1933274269104004, 0.552182137966156, 0.6526610851287842, 0.44212523102760315, 2.9999999242136255e-05]\n",
      "17/17 [==============================] - 11s 621ms/step\n",
      "TWITTER TEST\n",
      "              precision    recall  f1-score   support\n",
      "\n",
      "           n       0.70      0.49      0.58       157\n",
      "          pn       0.00      0.00      0.00        29\n",
      "          py       0.38      0.27      0.31        49\n",
      "          uk       0.42      0.17      0.25        80\n",
      "           y       0.54      0.88      0.67       212\n",
      "\n",
      "    accuracy                           0.55       527\n",
      "   macro avg       0.41      0.36      0.36       527\n",
      "weighted avg       0.52      0.55      0.51       527\n",
      "\n"
     ]
    }
   ],
   "source": [
    "y_test = pd.get_dummies(df_test.gold, prefix = 'gold')\n",
    "print(model.evaluate(df_test['QA'], y_test))\n",
    "y_predicted = model.predict(df_test['QA'])\n",
    "\n",
    "pred_results = tf.cast(tf.equal(y_predicted, tf.reduce_max(y_predicted, axis = 1, keepdims=True)), tf.float32)\n",
    "\n",
    "pred_results = pd.DataFrame(pred_results.numpy(), columns = ['gold_n',\n",
    "                                       'gold_pn',\n",
    "                                       'gold_py',\n",
    "                                       'gold_uk',\n",
    "                                       'gold_y'])\n",
    "\n",
    "pred_results.shape\n",
    "pred_results.to_numpy()\n",
    "pred_results = [np.where(r==1)[0][0] for r in pred_results.to_numpy()]\n",
    "pred_results = pd.DataFrame(pred_results, columns=['gold'])\n",
    "\n",
    "pred_results['gold'] = pred_results['gold'].map({0:'n',\n",
    "                                                   1:'pn',\n",
    "                                                   2:'py',\n",
    "                                                   3:'uk',\n",
    "                                                   4:'y'})\n",
    "\n",
    "test_gtruths = [np.where(r==1)[0][0] for r in y_test.to_numpy()]\n",
    "test_gtruths = pd.DataFrame(test_gtruths, columns=['gold'])\n",
    "\n",
    "test_gtruths['gold'] = test_gtruths['gold'].map({0:'n',\n",
    "                                                   1:'pn',\n",
    "                                                   2:'py',\n",
    "                                                   3:'uk',\n",
    "                                                   4:'y'})\n",
    "\n",
    "print('TWITTER TEST')\n",
    "from sklearn.metrics import classification_report\n",
    "print(classification_report(y_true = test_gtruths['gold'], y_pred = pred_results['gold']))"
   ]
  },
  {
   "cell_type": "code",
   "execution_count": 16,
   "metadata": {
    "colab": {
     "base_uri": "https://localhost:8080/",
     "height": 574
    },
    "executionInfo": {
     "elapsed": 29,
     "status": "ok",
     "timestamp": 1686686101440,
     "user": {
      "displayName": "Shivam Mathur",
      "userId": "13996464205483377357"
     },
     "user_tz": 420
    },
    "id": "2a-LwSpXWk5w",
    "outputId": "451a2395-7d71-4de0-b5d2-8474839babe7"
   },
   "outputs": [
    {
     "data": {
      "image/png": "[encoded data removed]",
      "text/plain": [
       "<Figure size 640x480 with 2 Axes>"
      ]
     },
     "metadata": {},
     "output_type": "display_data"
    },
    {
     "name": "stdout",
     "output_type": "stream",
     "text": [
      "gold        n  pn  py  uk    y\n",
      "predicted                     \n",
      "n          77   6   4   9   14\n",
      "pn          1   0   0   0    0\n",
      "py          3   8  13   4    6\n",
      "uk          7   3   4  14    5\n",
      "y          69  12  28  53  187\n"
     ]
    }
   ],
   "source": [
    "import seaborn as sns\n",
    "import matplotlib.pyplot as plt\n",
    "\n",
    "confusion_matrix = pd.crosstab(pred_results['gold'],test_gtruths['gold'],rownames=['predicted'], colnames=['gold'])\n",
    "\n",
    "sns.heatmap(confusion_matrix,annot=True,cmap='Blues', fmt='g')\n",
    "plt.show()\n",
    "print(confusion_matrix)"
   ]
  },
  {
   "cell_type": "code",
   "execution_count": 17,
   "metadata": {
    "executionInfo": {
     "elapsed": 1284,
     "status": "ok",
     "timestamp": 1686686102719,
     "user": {
      "displayName": "Shivam Mathur",
      "userId": "13996464205483377357"
     },
     "user_tz": 420
    },
    "id": "gHdAZF3pLM8N"
   },
   "outputs": [],
   "source": [
    "pred_results.to_csv('/content/drive/MyDrive/expts_emnlp23/results/A_circa.csv')"
   ]
  },
  {
   "cell_type": "code",
   "execution_count": 18,
   "metadata": {
    "executionInfo": {
     "elapsed": 11,
     "status": "ok",
     "timestamp": 1686686102719,
     "user": {
      "displayName": "Shivam Mathur",
      "userId": "13996464205483377357"
     },
     "user_tz": 420
    },
    "id": "D54ZgCgRCTio"
   },
   "outputs": [],
   "source": [
    "df_train['QA'] = df_train['Main_tweet'] + '[SEP]' + df_train['Reply_tweet']\n",
    "y_train = pd.get_dummies(df_train.gold, prefix='gold')\n",
    "y_dev = pd.get_dummies(df_dev.gold, prefix='gold')\n",
    "y_test = pd.get_dummies(df_test.gold, prefix='gold')"
   ]
  },
  {
   "cell_type": "code",
   "execution_count": 18,
   "metadata": {
    "executionInfo": {
     "elapsed": 10,
     "status": "ok",
     "timestamp": 1686686102720,
     "user": {
      "displayName": "Shivam Mathur",
      "userId": "13996464205483377357"
     },
     "user_tz": 420
    },
    "id": "o_LDrRZVIDrT"
   },
   "outputs": [],
   "source": []
  },
  {
   "cell_type": "code",
   "execution_count": 19,
   "metadata": {
    "colab": {
     "base_uri": "https://localhost:8080/"
    },
    "executionInfo": {
     "elapsed": 997136,
     "status": "ok",
     "timestamp": 1686687099847,
     "user": {
      "displayName": "Shivam Mathur",
      "userId": "13996464205483377357"
     },
     "user_tz": 420
    },
    "id": "aSdr27_pFQAd",
    "outputId": "b21face3-d0de-4d2c-fb24-417bb5d7b23e"
   },
   "outputs": [
    {
     "name": "stdout",
     "output_type": "stream",
     "text": [
      "Epoch 1/200\n",
      "208/208 [==============================] - 203s 978ms/step - loss: 1.0097 - accuracy: 0.6051 - precision: 0.7576 - recall: 0.4449 - lr: 3.0000e-05 - val_loss: 1.0521 - val_accuracy: 0.5650 - val_precision: 0.7545 - val_recall: 0.4200 - val_lr: 3.0000e-05\n",
      "Epoch 2/200\n",
      "208/208 [==============================] - 199s 955ms/step - loss: 0.7909 - accuracy: 0.7080 - precision: 0.8064 - recall: 0.6018 - lr: 3.0000e-05 - val_loss: 0.9711 - val_accuracy: 0.6233 - val_precision: 0.7338 - val_recall: 0.5283 - val_lr: 3.0000e-05\n",
      "Epoch 3/200\n",
      "208/208 [==============================] - 198s 953ms/step - loss: 0.5889 - accuracy: 0.7946 - precision: 0.8519 - recall: 0.7270 - lr: 3.0000e-05 - val_loss: 1.1177 - val_accuracy: 0.6283 - val_precision: 0.6787 - val_recall: 0.5633 - val_lr: 3.0000e-05\n",
      "Epoch 4/200\n",
      "208/208 [==============================] - 199s 955ms/step - loss: 0.4138 - accuracy: 0.8582 - precision: 0.8935 - recall: 0.8223 - lr: 3.0000e-05 - val_loss: 1.2823 - val_accuracy: 0.6033 - val_precision: 0.6506 - val_recall: 0.5867 - val_lr: 3.0000e-05\n",
      "Epoch 5/200\n",
      "208/208 [==============================] - 198s 954ms/step - loss: 0.2930 - accuracy: 0.9050 - precision: 0.9258 - recall: 0.8842 - lr: 3.0000e-05 - val_loss: 1.3840 - val_accuracy: 0.6317 - val_precision: 0.6649 - val_recall: 0.6117 - val_lr: 3.0000e-05\n"
     ]
    },
    {
     "data": {
      "text/plain": [
       "<keras.callbacks.History at 0x7f26596c2e60>"
      ]
     },
     "execution_count": 19,
     "metadata": {},
     "output_type": "execute_result"
    }
   ],
   "source": [
    "# optimizer.learning_rate.assign(0.00002)\n",
    "model.fit(df_train['QA'], y_train, epochs=200, batch_size=16, callbacks=[callback], validation_data = (df_dev['QA'], y_dev))"
   ]
  },
  {
   "cell_type": "code",
   "execution_count": 20,
   "metadata": {
    "colab": {
     "base_uri": "https://localhost:8080/"
    },
    "executionInfo": {
     "elapsed": 26291,
     "status": "ok",
     "timestamp": 1686687126115,
     "user": {
      "displayName": "Shivam Mathur",
      "userId": "13996464205483377357"
     },
     "user_tz": 420
    },
    "id": "_kGHPL6SFjDe",
    "outputId": "846b6c35-b8f5-4b71-d9ec-e3952509716a"
   },
   "outputs": [
    {
     "name": "stdout",
     "output_type": "stream",
     "text": [
      "19/19 [==============================] - 13s 710ms/step - loss: 0.9711 - accuracy: 0.6233 - precision: 0.7338 - recall: 0.5283 - lr: 3.0000e-05\n",
      "[0.9711270332336426, 0.6233333349227905, 0.7337962985038757, 0.528333306312561, 2.9999999242136255e-05]\n",
      "19/19 [==============================] - 13s 681ms/step\n",
      "DEV\n",
      "              precision    recall  f1-score   support\n",
      "\n",
      "           n       0.62      0.64      0.63       166\n",
      "          pn       0.50      0.11      0.17        19\n",
      "          py       0.44      0.46      0.45        61\n",
      "          uk       0.73      0.47      0.57       113\n",
      "           y       0.64      0.76      0.70       241\n",
      "\n",
      "    accuracy                           0.62       600\n",
      "   macro avg       0.59      0.49      0.50       600\n",
      "weighted avg       0.63      0.62      0.61       600\n",
      "\n"
     ]
    }
   ],
   "source": [
    "print(model.evaluate(df_dev['QA'], y_dev))\n",
    "y_predicted = model.predict(df_dev['QA'])\n",
    "\n",
    "pred_results = tf.cast(tf.equal(y_predicted, tf.reduce_max(y_predicted, axis = 1, keepdims=True)), tf.float32)\n",
    "\n",
    "pred_results = pd.DataFrame(pred_results.numpy(), columns = ['gold_n',\n",
    "                                       'gold_pn',\n",
    "                                       'gold_py',\n",
    "                                       'gold_uk',\n",
    "                                       'gold_y'])\n",
    "\n",
    "pred_results.shape\n",
    "pred_results.to_numpy()\n",
    "pred_results = [np.where(r==1)[0][0] for r in pred_results.to_numpy()]\n",
    "pred_results = pd.DataFrame(pred_results, columns=['gold'])\n",
    "\n",
    "pred_results['gold'] = pred_results['gold'].map({0:'n',\n",
    "                                                   1:'pn',\n",
    "                                                   2:'py',\n",
    "                                                   3:'uk',\n",
    "                                                   4:'y'})\n",
    "\n",
    "dev_gtruths = [np.where(r==1)[0][0] for r in y_dev.to_numpy()]\n",
    "dev_gtruths = pd.DataFrame(dev_gtruths, columns=['gold'])\n",
    "\n",
    "dev_gtruths['gold'] = dev_gtruths['gold'].map({0:'n',\n",
    "                                                   1:'pn',\n",
    "                                                   2:'py',\n",
    "                                                   3:'uk',\n",
    "                                                   4:'y'})\n",
    "\n",
    "print('DEV')\n",
    "from sklearn.metrics import classification_report\n",
    "print(classification_report(y_true = dev_gtruths['gold'], y_pred = pred_results['gold']))"
   ]
  },
  {
   "cell_type": "code",
   "execution_count": 21,
   "metadata": {
    "colab": {
     "base_uri": "https://localhost:8080/"
    },
    "executionInfo": {
     "elapsed": 22000,
     "status": "ok",
     "timestamp": 1686687148092,
     "user": {
      "displayName": "Shivam Mathur",
      "userId": "13996464205483377357"
     },
     "user_tz": 420
    },
    "id": "nRjol-xFFoIf",
    "outputId": "bce85f64-00d1-4cf8-be4c-070aa1bf453f"
   },
   "outputs": [
    {
     "name": "stdout",
     "output_type": "stream",
     "text": [
      "17/17 [==============================] - 11s 648ms/step - loss: 0.9920 - accuracy: 0.6376 - precision: 0.7275 - recall: 0.5218 - lr: 3.0000e-05\n",
      "[0.992045521736145, 0.6375711560249329, 0.7275132536888123, 0.5218216180801392, 2.9999999242136255e-05]\n",
      "17/17 [==============================] - 11s 619ms/step\n",
      "TEST\n",
      "              precision    recall  f1-score   support\n",
      "\n",
      "           n       0.66      0.76      0.71       157\n",
      "          pn       0.60      0.10      0.18        29\n",
      "          py       0.44      0.31      0.36        49\n",
      "          uk       0.53      0.42      0.47        80\n",
      "           y       0.68      0.78      0.72       212\n",
      "\n",
      "    accuracy                           0.64       527\n",
      "   macro avg       0.58      0.47      0.49       527\n",
      "weighted avg       0.62      0.64      0.62       527\n",
      "\n"
     ]
    }
   ],
   "source": [
    "print(model.evaluate(df_test['QA'], y_test))\n",
    "y_predicted = model.predict(df_test['QA'])\n",
    "\n",
    "pred_results = tf.cast(tf.equal(y_predicted, tf.reduce_max(y_predicted, axis = 1, keepdims=True)), tf.float32)\n",
    "\n",
    "pred_results = pd.DataFrame(pred_results.numpy(), columns = ['gold_n',\n",
    "                                       'gold_pn',\n",
    "                                       'gold_py',\n",
    "                                       'gold_uk',\n",
    "                                       'gold_y'])\n",
    "\n",
    "pred_results.shape\n",
    "pred_results.to_numpy()\n",
    "pred_results = [np.where(r==1)[0][0] for r in pred_results.to_numpy()]\n",
    "pred_results = pd.DataFrame(pred_results, columns=['gold'])\n",
    "\n",
    "pred_results['gold'] = pred_results['gold'].map({0:'n',\n",
    "                                                   1:'pn',\n",
    "                                                   2:'py',\n",
    "                                                   3:'uk',\n",
    "                                                   4:'y'})\n",
    "\n",
    "test_gtruths = [np.where(r==1)[0][0] for r in y_test.to_numpy()]\n",
    "test_gtruths = pd.DataFrame(test_gtruths, columns=['gold'])\n",
    "\n",
    "test_gtruths['gold'] = test_gtruths['gold'].map({0:'n',\n",
    "                                                   1:'pn',\n",
    "                                                   2:'py',\n",
    "                                                   3:'uk',\n",
    "                                                   4:'y'})\n",
    "\n",
    "print('TEST')\n",
    "from sklearn.metrics import classification_report\n",
    "print(classification_report(y_true = test_gtruths['gold'], y_pred = pred_results['gold']))"
   ]
  },
  {
   "cell_type": "code",
   "execution_count": 22,
   "metadata": {
    "colab": {
     "base_uri": "https://localhost:8080/",
     "height": 574
    },
    "executionInfo": {
     "elapsed": 28,
     "status": "ok",
     "timestamp": 1686687148092,
     "user": {
      "displayName": "Shivam Mathur",
      "userId": "13996464205483377357"
     },
     "user_tz": 420
    },
    "id": "CP0sgARSFq0V",
    "outputId": "279ee970-ebb8-4692-aa64-b93406172776"
   },
   "outputs": [
    {
     "data": {
      "image/png": "[encoded data removed]",
      "text/plain": [
       "<Figure size 640x480 with 2 Axes>"
      ]
     },
     "metadata": {},
     "output_type": "display_data"
    },
    {
     "name": "stdout",
     "output_type": "stream",
     "text": [
      "gold         n  pn  py  uk    y\n",
      "predicted                      \n",
      "n          119  12   9  19   21\n",
      "pn           1   3   0   0    1\n",
      "py           2   5  15   3    9\n",
      "uk          10   3   1  34   16\n",
      "y           25   6  24  24  165\n"
     ]
    }
   ],
   "source": [
    "import seaborn as sns\n",
    "import matplotlib.pyplot as plt\n",
    "\n",
    "confusion_matrix = pd.crosstab(pred_results['gold'],test_gtruths['gold'],rownames=['predicted'], colnames=['gold'])\n",
    "\n",
    "sns.heatmap(confusion_matrix,annot=True,cmap='Blues', fmt='g')\n",
    "plt.show()\n",
    "print(confusion_matrix)"
   ]
  },
  {
   "cell_type": "code",
   "execution_count": 23,
   "metadata": {
    "executionInfo": {
     "elapsed": 6,
     "status": "ok",
     "timestamp": 1686687148092,
     "user": {
      "displayName": "Shivam Mathur",
      "userId": "13996464205483377357"
     },
     "user_tz": 420
    },
    "id": "aUPVtHSYLsXY"
   },
   "outputs": [],
   "source": [
    "pred_results.to_csv('/content/drive/MyDrive/expts_emnlp23/results/A_circa+tuning.csv')"
   ]
  }
 ],
 "metadata": {
  "accelerator": "GPU",
  "colab": {
   "authorship_tag": "ABX9TyPNFNFLULE51YnGpKiXsbaM",
   "gpuType": "A100",
   "machine_shape": "hm",
   "mount_file_id": "1BGZITeQXB2p4hOD8IxDdeXGXclHB-51D",
   "provenance": []
  },
  "kernelspec": {
   "display_name": "Python 3 (ipykernel)",
   "language": "python",
   "name": "python3"
  },
  "language_info": {
   "codemirror_mode": {
    "name": "ipython",
    "version": 3
   },
   "file_extension": ".py",
   "mimetype": "text/x-python",
   "name": "python",
   "nbconvert_exporter": "python",
   "pygments_lexer": "ipython3",
   "version": "3.9.7"
  }
 },
 "nbformat": 4,
 "nbformat_minor": 1
}
