{
 "cells": [
  {
   "cell_type": "code",
   "execution_count": 1,
   "metadata": {
    "colab": {
     "base_uri": "https://localhost:8080/"
    },
    "executionInfo": {
     "elapsed": 5822,
     "status": "ok",
     "timestamp": 1686625876602,
     "user": {
      "displayName": "Shivam Mathur",
      "userId": "13996464205483377357"
     },
     "user_tz": 420
    },
    "id": "k26gV5Sk8WzG",
    "outputId": "63d50747-03fe-48e6-fa9b-a1c6f5edfe52"
   },
   "outputs": [
    {
     "name": "stdout",
     "output_type": "stream",
     "text": [
      "Looking in indexes: https://pypi.org/simple, https://us-python.pkg.dev/colab-wheels/public/simple/\n",
      "Collecting tensorflow_text\n",
      "  Downloading tensorflow_text-2.12.1-cp310-cp310-manylinux_2_17_x86_64.manylinux2014_x86_64.whl (6.0 MB)\n",
      "\u001b[2K     \u001b[90m━━━━━━━━━━━━━━━━━━━━━━━━━━━━━━━━━━━━━━━━\u001b[0m \u001b[32m6.0/6.0 MB\u001b[0m \u001b[31m82.0 MB/s\u001b[0m eta \u001b[36m0:00:00\u001b[0m\n",
      "\u001b[?25hRequirement already satisfied: tensorflow-hub>=0.8.0 in /usr/local/lib/python3.10/dist-packages (from tensorflow_text) (0.13.0)\n",
      "Requirement already satisfied: tensorflow<2.13,>=2.12.0 in /usr/local/lib/python3.10/dist-packages (from tensorflow_text) (2.12.0)\n",
      "Requirement already satisfied: absl-py>=1.0.0 in /usr/local/lib/python3.10/dist-packages (from tensorflow<2.13,>=2.12.0->tensorflow_text) (1.4.0)\n",
      "Requirement already satisfied: astunparse>=1.6.0 in /usr/local/lib/python3.10/dist-packages (from tensorflow<2.13,>=2.12.0->tensorflow_text) (1.6.3)\n",
      "Requirement already satisfied: flatbuffers>=2.0 in /usr/local/lib/python3.10/dist-packages (from tensorflow<2.13,>=2.12.0->tensorflow_text) (23.3.3)\n",
      "Requirement already satisfied: gast<=0.4.0,>=0.2.1 in /usr/local/lib/python3.10/dist-packages (from tensorflow<2.13,>=2.12.0->tensorflow_text) (0.4.0)\n",
      "Requirement already satisfied: google-pasta>=0.1.1 in /usr/local/lib/python3.10/dist-packages (from tensorflow<2.13,>=2.12.0->tensorflow_text) (0.2.0)\n",
      "Requirement already satisfied: grpcio<2.0,>=1.24.3 in /usr/local/lib/python3.10/dist-packages (from tensorflow<2.13,>=2.12.0->tensorflow_text) (1.54.0)\n",
      "Requirement already satisfied: h5py>=2.9.0 in /usr/local/lib/python3.10/dist-packages (from tensorflow<2.13,>=2.12.0->tensorflow_text) (3.8.0)\n",
      "Requirement already satisfied: jax>=0.3.15 in /usr/local/lib/python3.10/dist-packages (from tensorflow<2.13,>=2.12.0->tensorflow_text) (0.4.10)\n",
      "Requirement already satisfied: keras<2.13,>=2.12.0 in /usr/local/lib/python3.10/dist-packages (from tensorflow<2.13,>=2.12.0->tensorflow_text) (2.12.0)\n",
      "Requirement already satisfied: libclang>=13.0.0 in /usr/local/lib/python3.10/dist-packages (from tensorflow<2.13,>=2.12.0->tensorflow_text) (16.0.0)\n",
      "Requirement already satisfied: numpy<1.24,>=1.22 in /usr/local/lib/python3.10/dist-packages (from tensorflow<2.13,>=2.12.0->tensorflow_text) (1.22.4)\n",
      "Requirement already satisfied: opt-einsum>=2.3.2 in /usr/local/lib/python3.10/dist-packages (from tensorflow<2.13,>=2.12.0->tensorflow_text) (3.3.0)\n",
      "Requirement already satisfied: packaging in /usr/local/lib/python3.10/dist-packages (from tensorflow<2.13,>=2.12.0->tensorflow_text) (23.1)\n",
      "Requirement already satisfied: protobuf!=4.21.0,!=4.21.1,!=4.21.2,!=4.21.3,!=4.21.4,!=4.21.5,<5.0.0dev,>=3.20.3 in /usr/local/lib/python3.10/dist-packages (from tensorflow<2.13,>=2.12.0->tensorflow_text) (3.20.3)\n",
      "Requirement already satisfied: setuptools in /usr/local/lib/python3.10/dist-packages (from tensorflow<2.13,>=2.12.0->tensorflow_text) (67.7.2)\n",
      "Requirement already satisfied: six>=1.12.0 in /usr/local/lib/python3.10/dist-packages (from tensorflow<2.13,>=2.12.0->tensorflow_text) (1.16.0)\n",
      "Requirement already satisfied: tensorboard<2.13,>=2.12 in /usr/local/lib/python3.10/dist-packages (from tensorflow<2.13,>=2.12.0->tensorflow_text) (2.12.2)\n",
      "Requirement already satisfied: tensorflow-estimator<2.13,>=2.12.0 in /usr/local/lib/python3.10/dist-packages (from tensorflow<2.13,>=2.12.0->tensorflow_text) (2.12.0)\n",
      "Requirement already satisfied: termcolor>=1.1.0 in /usr/local/lib/python3.10/dist-packages (from tensorflow<2.13,>=2.12.0->tensorflow_text) (2.3.0)\n",
      "Requirement already satisfied: typing-extensions>=3.6.6 in /usr/local/lib/python3.10/dist-packages (from tensorflow<2.13,>=2.12.0->tensorflow_text) (4.5.0)\n",
      "Requirement already satisfied: wrapt<1.15,>=1.11.0 in /usr/local/lib/python3.10/dist-packages (from tensorflow<2.13,>=2.12.0->tensorflow_text) (1.14.1)\n",
      "Requirement already satisfied: tensorflow-io-gcs-filesystem>=0.23.1 in /usr/local/lib/python3.10/dist-packages (from tensorflow<2.13,>=2.12.0->tensorflow_text) (0.32.0)\n",
      "Requirement already satisfied: wheel<1.0,>=0.23.0 in /usr/local/lib/python3.10/dist-packages (from astunparse>=1.6.0->tensorflow<2.13,>=2.12.0->tensorflow_text) (0.40.0)\n",
      "Requirement already satisfied: ml-dtypes>=0.1.0 in /usr/local/lib/python3.10/dist-packages (from jax>=0.3.15->tensorflow<2.13,>=2.12.0->tensorflow_text) (0.1.0)\n",
      "Requirement already satisfied: scipy>=1.7 in /usr/local/lib/python3.10/dist-packages (from jax>=0.3.15->tensorflow<2.13,>=2.12.0->tensorflow_text) (1.10.1)\n",
      "Requirement already satisfied: google-auth<3,>=1.6.3 in /usr/local/lib/python3.10/dist-packages (from tensorboard<2.13,>=2.12->tensorflow<2.13,>=2.12.0->tensorflow_text) (2.17.3)\n",
      "Requirement already satisfied: google-auth-oauthlib<1.1,>=0.5 in /usr/local/lib/python3.10/dist-packages (from tensorboard<2.13,>=2.12->tensorflow<2.13,>=2.12.0->tensorflow_text) (1.0.0)\n",
      "Requirement already satisfied: markdown>=2.6.8 in /usr/local/lib/python3.10/dist-packages (from tensorboard<2.13,>=2.12->tensorflow<2.13,>=2.12.0->tensorflow_text) (3.4.3)\n",
      "Requirement already satisfied: requests<3,>=2.21.0 in /usr/local/lib/python3.10/dist-packages (from tensorboard<2.13,>=2.12->tensorflow<2.13,>=2.12.0->tensorflow_text) (2.27.1)\n",
      "Requirement already satisfied: tensorboard-data-server<0.8.0,>=0.7.0 in /usr/local/lib/python3.10/dist-packages (from tensorboard<2.13,>=2.12->tensorflow<2.13,>=2.12.0->tensorflow_text) (0.7.0)\n",
      "Requirement already satisfied: tensorboard-plugin-wit>=1.6.0 in /usr/local/lib/python3.10/dist-packages (from tensorboard<2.13,>=2.12->tensorflow<2.13,>=2.12.0->tensorflow_text) (1.8.1)\n",
      "Requirement already satisfied: werkzeug>=1.0.1 in /usr/local/lib/python3.10/dist-packages (from tensorboard<2.13,>=2.12->tensorflow<2.13,>=2.12.0->tensorflow_text) (2.3.0)\n",
      "Requirement already satisfied: cachetools<6.0,>=2.0.0 in /usr/local/lib/python3.10/dist-packages (from google-auth<3,>=1.6.3->tensorboard<2.13,>=2.12->tensorflow<2.13,>=2.12.0->tensorflow_text) (5.3.0)\n",
      "Requirement already satisfied: pyasn1-modules>=0.2.1 in /usr/local/lib/python3.10/dist-packages (from google-auth<3,>=1.6.3->tensorboard<2.13,>=2.12->tensorflow<2.13,>=2.12.0->tensorflow_text) (0.3.0)\n",
      "Requirement already satisfied: rsa<5,>=3.1.4 in /usr/local/lib/python3.10/dist-packages (from google-auth<3,>=1.6.3->tensorboard<2.13,>=2.12->tensorflow<2.13,>=2.12.0->tensorflow_text) (4.9)\n",
      "Requirement already satisfied: requests-oauthlib>=0.7.0 in /usr/local/lib/python3.10/dist-packages (from google-auth-oauthlib<1.1,>=0.5->tensorboard<2.13,>=2.12->tensorflow<2.13,>=2.12.0->tensorflow_text) (1.3.1)\n",
      "Requirement already satisfied: urllib3<1.27,>=1.21.1 in /usr/local/lib/python3.10/dist-packages (from requests<3,>=2.21.0->tensorboard<2.13,>=2.12->tensorflow<2.13,>=2.12.0->tensorflow_text) (1.26.15)\n",
      "Requirement already satisfied: certifi>=2017.4.17 in /usr/local/lib/python3.10/dist-packages (from requests<3,>=2.21.0->tensorboard<2.13,>=2.12->tensorflow<2.13,>=2.12.0->tensorflow_text) (2022.12.7)\n",
      "Requirement already satisfied: charset-normalizer~=2.0.0 in /usr/local/lib/python3.10/dist-packages (from requests<3,>=2.21.0->tensorboard<2.13,>=2.12->tensorflow<2.13,>=2.12.0->tensorflow_text) (2.0.12)\n",
      "Requirement already satisfied: idna<4,>=2.5 in /usr/local/lib/python3.10/dist-packages (from requests<3,>=2.21.0->tensorboard<2.13,>=2.12->tensorflow<2.13,>=2.12.0->tensorflow_text) (3.4)\n",
      "Requirement already satisfied: MarkupSafe>=2.1.1 in /usr/local/lib/python3.10/dist-packages (from werkzeug>=1.0.1->tensorboard<2.13,>=2.12->tensorflow<2.13,>=2.12.0->tensorflow_text) (2.1.2)\n",
      "Requirement already satisfied: pyasn1<0.6.0,>=0.4.6 in /usr/local/lib/python3.10/dist-packages (from pyasn1-modules>=0.2.1->google-auth<3,>=1.6.3->tensorboard<2.13,>=2.12->tensorflow<2.13,>=2.12.0->tensorflow_text) (0.5.0)\n",
      "Requirement already satisfied: oauthlib>=3.0.0 in /usr/local/lib/python3.10/dist-packages (from requests-oauthlib>=0.7.0->google-auth-oauthlib<1.1,>=0.5->tensorboard<2.13,>=2.12->tensorflow<2.13,>=2.12.0->tensorflow_text) (3.2.2)\n",
      "Installing collected packages: tensorflow_text\n",
      "Successfully installed tensorflow_text-2.12.1\n"
     ]
    }
   ],
   "source": [
    "pip install tensorflow_text"
   ]
  },
  {
   "cell_type": "code",
   "execution_count": 2,
   "metadata": {
    "colab": {
     "base_uri": "https://localhost:8080/"
    },
    "executionInfo": {
     "elapsed": 20696,
     "status": "ok",
     "timestamp": 1686625901486,
     "user": {
      "displayName": "Shivam Mathur",
      "userId": "13996464205483377357"
     },
     "user_tz": 420
    },
    "id": "eBgrtJV7QH-q",
    "outputId": "3c07a29e-bfc7-492a-b30c-aec8040c4a96"
   },
   "outputs": [
    {
     "name": "stdout",
     "output_type": "stream",
     "text": [
      "Mounted at /content/drive\n"
     ]
    }
   ],
   "source": [
    "from google.colab import drive\n",
    "drive.mount('/content/drive')"
   ]
  },
  {
   "cell_type": "code",
   "execution_count": 3,
   "metadata": {
    "executionInfo": {
     "elapsed": 3735,
     "status": "ok",
     "timestamp": 1686625905220,
     "user": {
      "displayName": "Shivam Mathur",
      "userId": "13996464205483377357"
     },
     "user_tz": 420
    },
    "id": "7T0ZxAsrIkOL"
   },
   "outputs": [],
   "source": [
    "import tensorflow as tf\n",
    "tf.config.run_functions_eagerly(True)\n",
    "tf.data.experimental.enable_debug_mode()\n",
    "\n",
    "import keras\n",
    "import tensorflow_hub as hub\n",
    "import tensorflow_text as text"
   ]
  },
  {
   "cell_type": "code",
   "execution_count": 4,
   "metadata": {
    "executionInfo": {
     "elapsed": 2,
     "status": "ok",
     "timestamp": 1686625905220,
     "user": {
      "displayName": "Shivam Mathur",
      "userId": "13996464205483377357"
     },
     "user_tz": 420
    },
    "id": "y9LKOVa1Irvs"
   },
   "outputs": [],
   "source": [
    "import pandas as pd\n",
    "import numpy as np"
   ]
  },
  {
   "cell_type": "code",
   "execution_count": 5,
   "metadata": {
    "executionInfo": {
     "elapsed": 2312,
     "status": "ok",
     "timestamp": 1686625927839,
     "user": {
      "displayName": "Shivam Mathur",
      "userId": "13996464205483377357"
     },
     "user_tz": 420
    },
    "id": "a0EneFQYJMU6"
   },
   "outputs": [],
   "source": [
    "# setting A\n",
    "df_train = pd.read_csv('TR_a.csv')\n",
    "df_train=df_train.rename(columns={\"gold_adj\": \"gold\"})\n",
    "\n",
    "df_dev = pd.read_csv('TD_a.csv')\n",
    "df_dev=df_dev.rename(columns={\"gold_adj\": \"gold\"})\n",
    "\n",
    "df_test = pd.read_csv('TE_a.csv')\n",
    "df_test=df_test.rename(columns={\"gold_adj\": \"gold\"})"
   ]
  },
  {
   "cell_type": "code",
   "execution_count": 6,
   "metadata": {
    "executionInfo": {
     "elapsed": 512,
     "status": "ok",
     "timestamp": 1686625929904,
     "user": {
      "displayName": "Shivam Mathur",
      "userId": "13996464205483377357"
     },
     "user_tz": 420
    },
    "id": "T88OdXSI39Hm"
   },
   "outputs": [],
   "source": [
    "df_train['QA'] = df_train['Main_tweet'] + '[SEP]' + df_train['Reply_tweet']\n",
    "df_dev['QA'] = df_dev['Main_tweet'] + '[SEP]' + df_dev['Reply_tweet']\n",
    "df_test['QA'] = df_test['Main_tweet'] + '[SEP]' + df_test['Reply_tweet']\n"
   ]
  },
  {
   "cell_type": "code",
   "execution_count": 7,
   "metadata": {
    "colab": {
     "base_uri": "https://localhost:8080/"
    },
    "executionInfo": {
     "elapsed": 1,
     "status": "ok",
     "timestamp": 1686625929904,
     "user": {
      "displayName": "Shivam Mathur",
      "userId": "13996464205483377357"
     },
     "user_tz": 420
    },
    "id": "YUARNa3iJMdN",
    "outputId": "f52fca79-1d64-4b75-e013-9168c068e848"
   },
   "outputs": [
    {
     "data": {
      "text/plain": [
       "y     212\n",
       "n     157\n",
       "uk     80\n",
       "py     49\n",
       "pn     29\n",
       "Name: gold, dtype: int64"
      ]
     },
     "execution_count": 7,
     "metadata": {},
     "output_type": "execute_result"
    }
   ],
   "source": [
    "df_test['gold'].value_counts()"
   ]
  },
  {
   "cell_type": "code",
   "execution_count": 8,
   "metadata": {
    "colab": {
     "base_uri": "https://localhost:8080/",
     "height": 424
    },
    "executionInfo": {
     "elapsed": 3,
     "status": "ok",
     "timestamp": 1686625930695,
     "user": {
      "displayName": "Shivam Mathur",
      "userId": "13996464205483377357"
     },
     "user_tz": 420
    },
    "id": "-YhdRdMwK4P-",
    "outputId": "4ffadeb8-9962-4c00-c07f-afd3941b9fc5"
   },
   "outputs": [
    {
     "data": {
      "text/html": [
       "\n",
       "  <div id=\"df-a1dadfd1-616f-471a-b2a0-7e95a2a68f01\">\n",
       "    <div class=\"colab-df-container\">\n",
       "      <div>\n",
       "<style scoped>\n",
       "    .dataframe tbody tr th:only-of-type {\n",
       "        vertical-align: middle;\n",
       "    }\n",
       "\n",
       "    .dataframe tbody tr th {\n",
       "        vertical-align: top;\n",
       "    }\n",
       "\n",
       "    .dataframe thead th {\n",
       "        text-align: right;\n",
       "    }\n",
       "</style>\n",
       "<table border=\"1\" class=\"dataframe\">\n",
       "  <thead>\n",
       "    <tr style=\"text-align: right;\">\n",
       "      <th></th>\n",
       "      <th>gold_n</th>\n",
       "      <th>gold_pn</th>\n",
       "      <th>gold_py</th>\n",
       "      <th>gold_uk</th>\n",
       "      <th>gold_y</th>\n",
       "    </tr>\n",
       "  </thead>\n",
       "  <tbody>\n",
       "    <tr>\n",
       "      <th>0</th>\n",
       "      <td>0</td>\n",
       "      <td>0</td>\n",
       "      <td>0</td>\n",
       "      <td>0</td>\n",
       "      <td>1</td>\n",
       "    </tr>\n",
       "    <tr>\n",
       "      <th>1</th>\n",
       "      <td>0</td>\n",
       "      <td>0</td>\n",
       "      <td>0</td>\n",
       "      <td>0</td>\n",
       "      <td>1</td>\n",
       "    </tr>\n",
       "    <tr>\n",
       "      <th>2</th>\n",
       "      <td>1</td>\n",
       "      <td>0</td>\n",
       "      <td>0</td>\n",
       "      <td>0</td>\n",
       "      <td>0</td>\n",
       "    </tr>\n",
       "    <tr>\n",
       "      <th>3</th>\n",
       "      <td>1</td>\n",
       "      <td>0</td>\n",
       "      <td>0</td>\n",
       "      <td>0</td>\n",
       "      <td>0</td>\n",
       "    </tr>\n",
       "    <tr>\n",
       "      <th>4</th>\n",
       "      <td>0</td>\n",
       "      <td>0</td>\n",
       "      <td>0</td>\n",
       "      <td>0</td>\n",
       "      <td>1</td>\n",
       "    </tr>\n",
       "    <tr>\n",
       "      <th>...</th>\n",
       "      <td>...</td>\n",
       "      <td>...</td>\n",
       "      <td>...</td>\n",
       "      <td>...</td>\n",
       "      <td>...</td>\n",
       "    </tr>\n",
       "    <tr>\n",
       "      <th>3310</th>\n",
       "      <td>0</td>\n",
       "      <td>0</td>\n",
       "      <td>1</td>\n",
       "      <td>0</td>\n",
       "      <td>0</td>\n",
       "    </tr>\n",
       "    <tr>\n",
       "      <th>3311</th>\n",
       "      <td>1</td>\n",
       "      <td>0</td>\n",
       "      <td>0</td>\n",
       "      <td>0</td>\n",
       "      <td>0</td>\n",
       "    </tr>\n",
       "    <tr>\n",
       "      <th>3312</th>\n",
       "      <td>1</td>\n",
       "      <td>0</td>\n",
       "      <td>0</td>\n",
       "      <td>0</td>\n",
       "      <td>0</td>\n",
       "    </tr>\n",
       "    <tr>\n",
       "      <th>3313</th>\n",
       "      <td>0</td>\n",
       "      <td>0</td>\n",
       "      <td>0</td>\n",
       "      <td>1</td>\n",
       "      <td>0</td>\n",
       "    </tr>\n",
       "    <tr>\n",
       "      <th>3314</th>\n",
       "      <td>0</td>\n",
       "      <td>0</td>\n",
       "      <td>0</td>\n",
       "      <td>1</td>\n",
       "      <td>0</td>\n",
       "    </tr>\n",
       "  </tbody>\n",
       "</table>\n",
       "<p>3315 rows × 5 columns</p>\n",
       "</div>\n",
       "      <button class=\"colab-df-convert\" onclick=\"convertToInteractive('df-a1dadfd1-616f-471a-b2a0-7e95a2a68f01')\"\n",
       "              title=\"Convert this dataframe to an interactive table.\"\n",
       "              style=\"display:none;\">\n",
       "        \n",
       "  <svg xmlns=\"http://www.w3.org/2000/svg\" height=\"24px\"viewBox=\"0 0 24 24\"\n",
       "       width=\"24px\">\n",
       "    <path d=\"M0 0h24v24H0V0z\" fill=\"none\"/>\n",
       "    <path d=\"M18.56 5.44l.94 2.06.94-2.06 2.06-.94-2.06-.94-.94-2.06-.94 2.06-2.06.94zm-11 1L8.5 8.5l.94-2.06 2.06-.94-2.06-.94L8.5 2.5l-.94 2.06-2.06.94zm10 10l.94 2.06.94-2.06 2.06-.94-2.06-.94-.94-2.06-.94 2.06-2.06.94z\"/><path d=\"M17.41 7.96l-1.37-1.37c-.4-.4-.92-.59-1.43-.59-.52 0-1.04.2-1.43.59L10.3 9.45l-7.72 7.72c-.78.78-.78 2.05 0 2.83L4 21.41c.39.39.9.59 1.41.59.51 0 1.02-.2 1.41-.59l7.78-7.78 2.81-2.81c.8-.78.8-2.07 0-2.86zM5.41 20L4 18.59l7.72-7.72 1.47 1.35L5.41 20z\"/>\n",
       "  </svg>\n",
       "      </button>\n",
       "      \n",
       "  <style>\n",
       "    .colab-df-container {\n",
       "      display:flex;\n",
       "      flex-wrap:wrap;\n",
       "      gap: 12px;\n",
       "    }\n",
       "\n",
       "    .colab-df-convert {\n",
       "      background-color: #E8F0FE;\n",
       "      border: none;\n",
       "      border-radius: 50%;\n",
       "      cursor: pointer;\n",
       "      display: none;\n",
       "      fill: #1967D2;\n",
       "      height: 32px;\n",
       "      padding: 0 0 0 0;\n",
       "      width: 32px;\n",
       "    }\n",
       "\n",
       "    .colab-df-convert:hover {\n",
       "      background-color: #E2EBFA;\n",
       "      box-shadow: 0px 1px 2px rgba(60, 64, 67, 0.3), 0px 1px 3px 1px rgba(60, 64, 67, 0.15);\n",
       "      fill: #174EA6;\n",
       "    }\n",
       "\n",
       "    [theme=dark] .colab-df-convert {\n",
       "      background-color: #3B4455;\n",
       "      fill: #D2E3FC;\n",
       "    }\n",
       "\n",
       "    [theme=dark] .colab-df-convert:hover {\n",
       "      background-color: #434B5C;\n",
       "      box-shadow: 0px 1px 3px 1px rgba(0, 0, 0, 0.15);\n",
       "      filter: drop-shadow(0px 1px 2px rgba(0, 0, 0, 0.3));\n",
       "      fill: #FFFFFF;\n",
       "    }\n",
       "  </style>\n",
       "\n",
       "      <script>\n",
       "        const buttonEl =\n",
       "          document.querySelector('#df-a1dadfd1-616f-471a-b2a0-7e95a2a68f01 button.colab-df-convert');\n",
       "        buttonEl.style.display =\n",
       "          google.colab.kernel.accessAllowed ? 'block' : 'none';\n",
       "\n",
       "        async function convertToInteractive(key) {\n",
       "          const element = document.querySelector('#df-a1dadfd1-616f-471a-b2a0-7e95a2a68f01');\n",
       "          const dataTable =\n",
       "            await google.colab.kernel.invokeFunction('convertToInteractive',\n",
       "                                                     [key], {});\n",
       "          if (!dataTable) return;\n",
       "\n",
       "          const docLinkHtml = 'Like what you see? Visit the ' +\n",
       "            '<a target=\"_blank\" href=https://colab.research.google.com/notebooks/data_table.ipynb>data table notebook</a>'\n",
       "            + ' to learn more about interactive tables.';\n",
       "          element.innerHTML = '';\n",
       "          dataTable['output_type'] = 'display_data';\n",
       "          await google.colab.output.renderOutput(dataTable, element);\n",
       "          const docLink = document.createElement('div');\n",
       "          docLink.innerHTML = docLinkHtml;\n",
       "          element.appendChild(docLink);\n",
       "        }\n",
       "      </script>\n",
       "    </div>\n",
       "  </div>\n",
       "  "
      ],
      "text/plain": [
       "      gold_n  gold_pn  gold_py  gold_uk  gold_y\n",
       "0          0        0        0        0       1\n",
       "1          0        0        0        0       1\n",
       "2          1        0        0        0       0\n",
       "3          1        0        0        0       0\n",
       "4          0        0        0        0       1\n",
       "...      ...      ...      ...      ...     ...\n",
       "3310       0        0        1        0       0\n",
       "3311       1        0        0        0       0\n",
       "3312       1        0        0        0       0\n",
       "3313       0        0        0        1       0\n",
       "3314       0        0        0        1       0\n",
       "\n",
       "[3315 rows x 5 columns]"
      ]
     },
     "execution_count": 8,
     "metadata": {},
     "output_type": "execute_result"
    }
   ],
   "source": [
    "y = pd.get_dummies(df_train.gold, prefix='gold')\n",
    "y"
   ]
  },
  {
   "cell_type": "code",
   "execution_count": 9,
   "metadata": {
    "colab": {
     "base_uri": "https://localhost:8080/",
     "height": 424
    },
    "executionInfo": {
     "elapsed": 3,
     "status": "ok",
     "timestamp": 1686625932085,
     "user": {
      "displayName": "Shivam Mathur",
      "userId": "13996464205483377357"
     },
     "user_tz": 420
    },
    "id": "EV2fBI3iMMom",
    "outputId": "eab64dd7-770d-4543-8c3d-3bb684100fcb"
   },
   "outputs": [
    {
     "data": {
      "text/html": [
       "\n",
       "  <div id=\"df-8809a320-e4b1-4cef-9726-6d3589997ddc\">\n",
       "    <div class=\"colab-df-container\">\n",
       "      <div>\n",
       "<style scoped>\n",
       "    .dataframe tbody tr th:only-of-type {\n",
       "        vertical-align: middle;\n",
       "    }\n",
       "\n",
       "    .dataframe tbody tr th {\n",
       "        vertical-align: top;\n",
       "    }\n",
       "\n",
       "    .dataframe thead th {\n",
       "        text-align: right;\n",
       "    }\n",
       "</style>\n",
       "<table border=\"1\" class=\"dataframe\">\n",
       "  <thead>\n",
       "    <tr style=\"text-align: right;\">\n",
       "      <th></th>\n",
       "      <th>gold_n</th>\n",
       "      <th>gold_pn</th>\n",
       "      <th>gold_py</th>\n",
       "      <th>gold_uk</th>\n",
       "      <th>gold_y</th>\n",
       "    </tr>\n",
       "  </thead>\n",
       "  <tbody>\n",
       "    <tr>\n",
       "      <th>0</th>\n",
       "      <td>0</td>\n",
       "      <td>0</td>\n",
       "      <td>0</td>\n",
       "      <td>0</td>\n",
       "      <td>1</td>\n",
       "    </tr>\n",
       "    <tr>\n",
       "      <th>1</th>\n",
       "      <td>0</td>\n",
       "      <td>0</td>\n",
       "      <td>0</td>\n",
       "      <td>0</td>\n",
       "      <td>1</td>\n",
       "    </tr>\n",
       "    <tr>\n",
       "      <th>2</th>\n",
       "      <td>0</td>\n",
       "      <td>0</td>\n",
       "      <td>0</td>\n",
       "      <td>0</td>\n",
       "      <td>1</td>\n",
       "    </tr>\n",
       "    <tr>\n",
       "      <th>3</th>\n",
       "      <td>1</td>\n",
       "      <td>0</td>\n",
       "      <td>0</td>\n",
       "      <td>0</td>\n",
       "      <td>0</td>\n",
       "    </tr>\n",
       "    <tr>\n",
       "      <th>4</th>\n",
       "      <td>0</td>\n",
       "      <td>0</td>\n",
       "      <td>0</td>\n",
       "      <td>0</td>\n",
       "      <td>1</td>\n",
       "    </tr>\n",
       "    <tr>\n",
       "      <th>...</th>\n",
       "      <td>...</td>\n",
       "      <td>...</td>\n",
       "      <td>...</td>\n",
       "      <td>...</td>\n",
       "      <td>...</td>\n",
       "    </tr>\n",
       "    <tr>\n",
       "      <th>595</th>\n",
       "      <td>1</td>\n",
       "      <td>0</td>\n",
       "      <td>0</td>\n",
       "      <td>0</td>\n",
       "      <td>0</td>\n",
       "    </tr>\n",
       "    <tr>\n",
       "      <th>596</th>\n",
       "      <td>0</td>\n",
       "      <td>0</td>\n",
       "      <td>1</td>\n",
       "      <td>0</td>\n",
       "      <td>0</td>\n",
       "    </tr>\n",
       "    <tr>\n",
       "      <th>597</th>\n",
       "      <td>0</td>\n",
       "      <td>0</td>\n",
       "      <td>0</td>\n",
       "      <td>1</td>\n",
       "      <td>0</td>\n",
       "    </tr>\n",
       "    <tr>\n",
       "      <th>598</th>\n",
       "      <td>0</td>\n",
       "      <td>0</td>\n",
       "      <td>1</td>\n",
       "      <td>0</td>\n",
       "      <td>0</td>\n",
       "    </tr>\n",
       "    <tr>\n",
       "      <th>599</th>\n",
       "      <td>0</td>\n",
       "      <td>0</td>\n",
       "      <td>1</td>\n",
       "      <td>0</td>\n",
       "      <td>0</td>\n",
       "    </tr>\n",
       "  </tbody>\n",
       "</table>\n",
       "<p>600 rows × 5 columns</p>\n",
       "</div>\n",
       "      <button class=\"colab-df-convert\" onclick=\"convertToInteractive('df-8809a320-e4b1-4cef-9726-6d3589997ddc')\"\n",
       "              title=\"Convert this dataframe to an interactive table.\"\n",
       "              style=\"display:none;\">\n",
       "        \n",
       "  <svg xmlns=\"http://www.w3.org/2000/svg\" height=\"24px\"viewBox=\"0 0 24 24\"\n",
       "       width=\"24px\">\n",
       "    <path d=\"M0 0h24v24H0V0z\" fill=\"none\"/>\n",
       "    <path d=\"M18.56 5.44l.94 2.06.94-2.06 2.06-.94-2.06-.94-.94-2.06-.94 2.06-2.06.94zm-11 1L8.5 8.5l.94-2.06 2.06-.94-2.06-.94L8.5 2.5l-.94 2.06-2.06.94zm10 10l.94 2.06.94-2.06 2.06-.94-2.06-.94-.94-2.06-.94 2.06-2.06.94z\"/><path d=\"M17.41 7.96l-1.37-1.37c-.4-.4-.92-.59-1.43-.59-.52 0-1.04.2-1.43.59L10.3 9.45l-7.72 7.72c-.78.78-.78 2.05 0 2.83L4 21.41c.39.39.9.59 1.41.59.51 0 1.02-.2 1.41-.59l7.78-7.78 2.81-2.81c.8-.78.8-2.07 0-2.86zM5.41 20L4 18.59l7.72-7.72 1.47 1.35L5.41 20z\"/>\n",
       "  </svg>\n",
       "      </button>\n",
       "      \n",
       "  <style>\n",
       "    .colab-df-container {\n",
       "      display:flex;\n",
       "      flex-wrap:wrap;\n",
       "      gap: 12px;\n",
       "    }\n",
       "\n",
       "    .colab-df-convert {\n",
       "      background-color: #E8F0FE;\n",
       "      border: none;\n",
       "      border-radius: 50%;\n",
       "      cursor: pointer;\n",
       "      display: none;\n",
       "      fill: #1967D2;\n",
       "      height: 32px;\n",
       "      padding: 0 0 0 0;\n",
       "      width: 32px;\n",
       "    }\n",
       "\n",
       "    .colab-df-convert:hover {\n",
       "      background-color: #E2EBFA;\n",
       "      box-shadow: 0px 1px 2px rgba(60, 64, 67, 0.3), 0px 1px 3px 1px rgba(60, 64, 67, 0.15);\n",
       "      fill: #174EA6;\n",
       "    }\n",
       "\n",
       "    [theme=dark] .colab-df-convert {\n",
       "      background-color: #3B4455;\n",
       "      fill: #D2E3FC;\n",
       "    }\n",
       "\n",
       "    [theme=dark] .colab-df-convert:hover {\n",
       "      background-color: #434B5C;\n",
       "      box-shadow: 0px 1px 3px 1px rgba(0, 0, 0, 0.15);\n",
       "      filter: drop-shadow(0px 1px 2px rgba(0, 0, 0, 0.3));\n",
       "      fill: #FFFFFF;\n",
       "    }\n",
       "  </style>\n",
       "\n",
       "      <script>\n",
       "        const buttonEl =\n",
       "          document.querySelector('#df-8809a320-e4b1-4cef-9726-6d3589997ddc button.colab-df-convert');\n",
       "        buttonEl.style.display =\n",
       "          google.colab.kernel.accessAllowed ? 'block' : 'none';\n",
       "\n",
       "        async function convertToInteractive(key) {\n",
       "          const element = document.querySelector('#df-8809a320-e4b1-4cef-9726-6d3589997ddc');\n",
       "          const dataTable =\n",
       "            await google.colab.kernel.invokeFunction('convertToInteractive',\n",
       "                                                     [key], {});\n",
       "          if (!dataTable) return;\n",
       "\n",
       "          const docLinkHtml = 'Like what you see? Visit the ' +\n",
       "            '<a target=\"_blank\" href=https://colab.research.google.com/notebooks/data_table.ipynb>data table notebook</a>'\n",
       "            + ' to learn more about interactive tables.';\n",
       "          element.innerHTML = '';\n",
       "          dataTable['output_type'] = 'display_data';\n",
       "          await google.colab.output.renderOutput(dataTable, element);\n",
       "          const docLink = document.createElement('div');\n",
       "          docLink.innerHTML = docLinkHtml;\n",
       "          element.appendChild(docLink);\n",
       "        }\n",
       "      </script>\n",
       "    </div>\n",
       "  </div>\n",
       "  "
      ],
      "text/plain": [
       "     gold_n  gold_pn  gold_py  gold_uk  gold_y\n",
       "0         0        0        0        0       1\n",
       "1         0        0        0        0       1\n",
       "2         0        0        0        0       1\n",
       "3         1        0        0        0       0\n",
       "4         0        0        0        0       1\n",
       "..      ...      ...      ...      ...     ...\n",
       "595       1        0        0        0       0\n",
       "596       0        0        1        0       0\n",
       "597       0        0        0        1       0\n",
       "598       0        0        1        0       0\n",
       "599       0        0        1        0       0\n",
       "\n",
       "[600 rows x 5 columns]"
      ]
     },
     "execution_count": 9,
     "metadata": {},
     "output_type": "execute_result"
    }
   ],
   "source": [
    "y_dev = pd.get_dummies(df_dev.gold, prefix='gold')\n",
    "y_dev"
   ]
  },
  {
   "cell_type": "markdown",
   "metadata": {
    "id": "rN9cqeh2LQ2_"
   },
   "source": [
    "Roberta Init"
   ]
  },
  {
   "cell_type": "code",
   "execution_count": 10,
   "metadata": {
    "executionInfo": {
     "elapsed": 23053,
     "status": "ok",
     "timestamp": 1686625957452,
     "user": {
      "displayName": "Shivam Mathur",
      "userId": "13996464205483377357"
     },
     "user_tz": 420
    },
    "id": "CudBiqE0LNRU"
   },
   "outputs": [],
   "source": [
    "# Changed to roberta\n",
    "\n",
    "bert_preprocess = hub.KerasLayer(\"https://tfhub.dev/jeongukjae/roberta_en_cased_preprocess/1\", trainable=True)\n",
    "bert_encoder = hub.KerasLayer(\"https://tfhub.dev/jeongukjae/roberta_en_cased_L-12_H-768_A-12/1\", trainable=True)"
   ]
  },
  {
   "cell_type": "code",
   "execution_count": 11,
   "metadata": {
    "colab": {
     "base_uri": "https://localhost:8080/"
    },
    "executionInfo": {
     "elapsed": 819,
     "status": "ok",
     "timestamp": 1686625958261,
     "user": {
      "displayName": "Shivam Mathur",
      "userId": "13996464205483377357"
     },
     "user_tz": 420
    },
    "id": "4QxXfAuVLXLs",
    "outputId": "5c1e586d-a2cc-432f-fd8c-fbeaa81831d0"
   },
   "outputs": [
    {
     "name": "stderr",
     "output_type": "stream",
     "text": [
      "ERROR:absl:hub.KerasLayer is trainable but has zero trainable weights.\n"
     ]
    }
   ],
   "source": [
    "# RoBerta layers\n",
    "text_input = tf.keras.layers.Input(shape=(), dtype=tf.string, name='text') # Textual input layer\n",
    "preprocessed_text = bert_preprocess(text_input) # The preprocessing of text\n",
    "outputs = bert_encoder(preprocessed_text) # Encoded o/p\n",
    "\n",
    "# Neural network layers\n",
    "# l = tf.keras.layers.Dense(50, activation='sigmoid', name=\"output\")(outputs['pooled_output'])\n",
    "# l = tf.keras.layers.Dense(6, activation='softmax', name=\"soft_output\")(l)\n",
    "\n",
    "# # adding drop out layer\n",
    "# l = tf.keras.layers.Dropout(0.2, name=\"dropout\")(outputs['pooled_output'])\n",
    "# l = tf.keras.layers.Dense(5, activation='softmax', name=\"soft_output\")(l)\n",
    "\n",
    "#use this if without dropout, instead of the two layers above\n",
    "l = tf.keras.layers.Dense(5, activation='softmax', name=\"soft_output\")(outputs['pooled_output'])\n",
    "\n",
    "# Use inputs and outputs to construct a final model\n",
    "model = tf.keras.Model(inputs=[text_input], outputs = [l])"
   ]
  },
  {
   "cell_type": "code",
   "execution_count": 12,
   "metadata": {
    "colab": {
     "base_uri": "https://localhost:8080/"
    },
    "executionInfo": {
     "elapsed": 8,
     "status": "ok",
     "timestamp": 1686625958261,
     "user": {
      "displayName": "Shivam Mathur",
      "userId": "13996464205483377357"
     },
     "user_tz": 420
    },
    "id": "zPPz7n5DLZ-0",
    "outputId": "17193eec-e50b-4792-9824-e7d2469c660e"
   },
   "outputs": [
    {
     "name": "stdout",
     "output_type": "stream",
     "text": [
      "Model: \"model\"\n",
      "__________________________________________________________________________________________________\n",
      " Layer (type)                   Output Shape         Param #     Connected to                     \n",
      "==================================================================================================\n",
      " text (InputLayer)              [(None,)]            0           []                               \n",
      "                                                                                                  \n",
      " keras_layer (KerasLayer)       {'input_word_ids':   0           ['text[0][0]']                   \n",
      "                                (None, 128),                                                      \n",
      "                                 'input_mask': (Non                                               \n",
      "                                e, 128),                                                          \n",
      "                                 'input_type_ids':                                                \n",
      "                                (None, 128)}                                                      \n",
      "                                                                                                  \n",
      " keras_layer_1 (KerasLayer)     {'sequence_output':  124644096   ['keras_layer[0][0]',            \n",
      "                                 (None, 128, 768),                'keras_layer[0][1]',            \n",
      "                                 'pooled_output': (               'keras_layer[0][2]']            \n",
      "                                None, 768),                                                       \n",
      "                                 'encoder_outputs':                                               \n",
      "                                 [(None, 128, 768),                                               \n",
      "                                 (None, 128, 768),                                                \n",
      "                                 (None, 128, 768),                                                \n",
      "                                 (None, 128, 768),                                                \n",
      "                                 (None, 128, 768),                                                \n",
      "                                 (None, 128, 768),                                                \n",
      "                                 (None, 128, 768),                                                \n",
      "                                 (None, 128, 768),                                                \n",
      "                                 (None, 128, 768),                                                \n",
      "                                 (None, 128, 768),                                                \n",
      "                                 (None, 128, 768),                                                \n",
      "                                 (None, 128, 768)]}                                               \n",
      "                                                                                                  \n",
      " soft_output (Dense)            (None, 5)            3845        ['keras_layer_1[0][12]']         \n",
      "                                                                                                  \n",
      "==================================================================================================\n",
      "Total params: 124,647,941\n",
      "Trainable params: 124,647,941\n",
      "Non-trainable params: 0\n",
      "__________________________________________________________________________________________________\n"
     ]
    }
   ],
   "source": [
    "model.summary()"
   ]
  },
  {
   "cell_type": "code",
   "execution_count": 13,
   "metadata": {
    "executionInfo": {
     "elapsed": 757,
     "status": "ok",
     "timestamp": 1686625965246,
     "user": {
      "displayName": "Shivam Mathur",
      "userId": "13996464205483377357"
     },
     "user_tz": 420
    },
    "id": "6ydnPOcfLgTU"
   },
   "outputs": [],
   "source": [
    "import keras\n",
    "\n",
    "def get_lr_metric(optimizer):\n",
    "    def lr(y_true, y_pred):\n",
    "        return optimizer.learning_rate # I use ._decayed_lr method instead of .lr\n",
    "    return lr\n",
    "\n",
    "\n",
    "callback = tf.keras.callbacks.EarlyStopping(monitor='val_loss', patience=5, min_delta=0.01, restore_best_weights=True)\n",
    "\n",
    "initial_learning_rate = 0.00002\n",
    "lr_schedule = tf.keras.optimizers.schedules.ExponentialDecay(\n",
    "    initial_learning_rate,\n",
    "    decay_steps=10000,\n",
    "    decay_rate=0.96,\n",
    "    staircase=True)\n",
    "\n",
    "optimizer = tf.keras.optimizers.Adam(learning_rate=lr_schedule)\n",
    "\n",
    "lr_metric = get_lr_metric(optimizer)\n",
    "\n",
    "METRICS = [\n",
    "      tf.keras.metrics.CategoricalAccuracy(name='accuracy'),\n",
    "      tf.keras.metrics.Precision(name='precision'),\n",
    "      tf.keras.metrics.Recall(name='recall'),\n",
    "      lr_metric\n",
    "]\n",
    "\n",
    "# optimizer.learning_rate.assign(0.00002)\n",
    "model.compile(optimizer=optimizer,\n",
    "              loss='CategoricalCrossentropy',\n",
    "              metrics=METRICS)"
   ]
  },
  {
   "cell_type": "code",
   "execution_count": 14,
   "metadata": {
    "executionInfo": {
     "elapsed": 4115,
     "status": "ok",
     "timestamp": 1686625990051,
     "user": {
      "displayName": "Shivam Mathur",
      "userId": "13996464205483377357"
     },
     "user_tz": 420
    },
    "id": "cXxKNHxRIkTY"
   },
   "outputs": [],
   "source": [
    "df_circa = pd.read_excel(r'circa_train.xlsx')\n",
    "\n",
    "df_twitter=pd.read_csv('TR_a.csv')\n",
    "\n",
    "df_twitter=df_twitter.rename(columns={\"gold_adj\": \"gold\"})"
   ]
  },
  {
   "cell_type": "code",
   "execution_count": 15,
   "metadata": {
    "colab": {
     "base_uri": "https://localhost:8080/"
    },
    "executionInfo": {
     "elapsed": 2,
     "status": "ok",
     "timestamp": 1686625990052,
     "user": {
      "displayName": "Shivam Mathur",
      "userId": "13996464205483377357"
     },
     "user_tz": 420
    },
    "id": "MI7qGRFmUScm",
    "outputId": "9640efc4-7882-430b-c495-1edd809339ce"
   },
   "outputs": [
    {
     "data": {
      "text/plain": [
       "Index(['Unnamed: 0', 'id', 'context', 'question-X', 'canquestion-X',\n",
       "       'answer-Y', 'judgements', 'goldstandard1', 'goldstandard2'],\n",
       "      dtype='object')"
      ]
     },
     "execution_count": 15,
     "metadata": {},
     "output_type": "execute_result"
    }
   ],
   "source": [
    "df_circa.columns"
   ]
  },
  {
   "cell_type": "code",
   "execution_count": 16,
   "metadata": {
    "executionInfo": {
     "elapsed": 1,
     "status": "ok",
     "timestamp": 1686625990052,
     "user": {
      "displayName": "Shivam Mathur",
      "userId": "13996464205483377357"
     },
     "user_tz": 420
    },
    "id": "DtPft-XRwA0f"
   },
   "outputs": [],
   "source": [
    "df_circa['goldstandard1'] = df_circa['goldstandard1'].replace(np.nan, 'N/A')\n",
    "df_circa['goldstandard1'] = df_circa['goldstandard1'].astype(str)\n",
    "\n",
    "df_circa['goldstandard1'] = df_circa['goldstandard1'].str.replace('Yes, subject to some conditions', 'py')\n",
    "df_circa['goldstandard1'] = df_circa['goldstandard1'].str.replace('Probably yes / sometimes yes','py')\n",
    "df_circa['goldstandard1'] = df_circa['goldstandard1'].str.replace('Probably no','pn')\n",
    "\n",
    "df_circa['goldstandard1'] = df_circa['goldstandard1'].str.replace('In the middle, neither yes nor no','uk')\n",
    "df_circa['goldstandard1'] = df_circa['goldstandard1'].str.replace('I am not sure how X will interpret Y’s answer','uk')\n",
    "df_circa['goldstandard1'] = df_circa['goldstandard1'].str.replace('N/A','uk')\n",
    "df_circa['goldstandard1'] = df_circa['goldstandard1'].str.replace('Other','uk')\n",
    "\n",
    "df_circa['goldstandard1'] = df_circa['goldstandard1'].str.replace('No','n')\n",
    "df_circa['goldstandard1'] = df_circa['goldstandard1'].str.replace('Yes','y')\n",
    "\n"
   ]
  },
  {
   "cell_type": "code",
   "execution_count": 17,
   "metadata": {
    "executionInfo": {
     "elapsed": 1,
     "status": "ok",
     "timestamp": 1686625991670,
     "user": {
      "displayName": "Shivam Mathur",
      "userId": "13996464205483377357"
     },
     "user_tz": 420
    },
    "id": "dcBCrNkIEuxJ"
   },
   "outputs": [],
   "source": [
    "# blend corpus\n",
    "df_circa = df_circa.rename(columns={\"goldstandard1\": \"gold\"})\n",
    "df_circa['QA'] = df_circa['question-X'] + '[SEP]' + df_circa['answer-Y']\n",
    "df_circa = df_circa[['QA','gold']].copy()\n",
    "\n",
    "\n",
    "df_circa = df_circa.rename(columns={\"Goldstandard\": \"gold\"})\n",
    "df_circa['corpus_type'] = 'circa'\n",
    "\n",
    "# main corpus\n",
    "df_twitter['QA'] = df_twitter['Main_tweet'] + '[SEP]' + df_twitter['Reply_tweet']\n",
    "df_twitter = df_twitter[['QA','gold']].copy()\n",
    "df_twitter['corpus_type'] = 'twitter'"
   ]
  },
  {
   "cell_type": "code",
   "execution_count": 18,
   "metadata": {
    "colab": {
     "base_uri": "https://localhost:8080/"
    },
    "executionInfo": {
     "elapsed": 3550791,
     "status": "ok",
     "timestamp": 1686629545826,
     "user": {
      "displayName": "Shivam Mathur",
      "userId": "13996464205483377357"
     },
     "user_tz": 420
    },
    "id": "X8jNhYkBWCqX",
    "outputId": "267d2202-1549-438c-9965-53815d2f9d8b"
   },
   "outputs": [
    {
     "name": "stdout",
     "output_type": "stream",
     "text": [
      "(23875, 3)\n",
      "(23875, 5)\n",
      "1493/1493 [==============================] - 1160s 766ms/step - loss: 0.7911 - accuracy: 0.7197 - precision: 0.8014 - recall: 0.6311 - lr: 2.0000e-05 - val_loss: 1.0655 - val_accuracy: 0.6167 - val_precision: 0.7032 - val_recall: 0.4817 - val_lr: 2.0000e-05\n",
      "patience: 0\n",
      "epoch: 0\n",
      "(13595, 3)\n",
      "(13595, 5)\n",
      "850/850 [==============================] - 678s 798ms/step - loss: 0.6029 - accuracy: 0.7859 - precision: 0.8485 - recall: 0.7264 - lr: 2.0000e-05 - val_loss: 1.0590 - val_accuracy: 0.6417 - val_precision: 0.7304 - val_recall: 0.5600 - val_lr: 2.0000e-05\n",
      "patience: 0\n",
      "epoch: 1\n",
      "(8455, 3)\n",
      "(8455, 5)\n",
      "529/529 [==============================] - 445s 842ms/step - loss: 0.5546 - accuracy: 0.8076 - precision: 0.8588 - recall: 0.7581 - lr: 2.0000e-05 - val_loss: 1.0686 - val_accuracy: 0.6233 - val_precision: 0.7126 - val_recall: 0.5167 - val_lr: 2.0000e-05\n",
      "patience: 0\n",
      "epoch: 2\n",
      "(5885, 3)\n",
      "(5885, 5)\n",
      "368/368 [==============================] - 326s 887ms/step - loss: 0.4422 - accuracy: 0.8505 - precision: 0.8891 - recall: 0.8131 - lr: 2.0000e-05 - val_loss: 1.2044 - val_accuracy: 0.6150 - val_precision: 0.6824 - val_recall: 0.5800 - val_lr: 2.0000e-05\n",
      "patience: 1\n",
      "epoch: 3\n",
      "(4600, 3)\n",
      "(4600, 5)\n",
      "288/288 [==============================] - 268s 932ms/step - loss: 0.3310 - accuracy: 0.8857 - precision: 0.9121 - recall: 0.8665 - lr: 2.0000e-05 - val_loss: 1.4536 - val_accuracy: 0.6383 - val_precision: 0.6745 - val_recall: 0.6250 - val_lr: 2.0000e-05\n",
      "patience: 2\n",
      "epoch: 4\n",
      "(3957, 3)\n",
      "(3957, 5)\n",
      "248/248 [==============================] - 238s 959ms/step - loss: 0.2347 - accuracy: 0.9196 - precision: 0.9351 - recall: 0.9100 - lr: 2.0000e-05 - val_loss: 1.6326 - val_accuracy: 0.5933 - val_precision: 0.6128 - val_recall: 0.5750 - val_lr: 2.0000e-05\n",
      "patience: 3\n",
      "epoch: 5\n",
      "(3636, 3)\n",
      "(3636, 5)\n",
      "228/228 [==============================] - 223s 978ms/step - loss: 0.1662 - accuracy: 0.9431 - precision: 0.9503 - recall: 0.9367 - lr: 2.0000e-05 - val_loss: 1.7707 - val_accuracy: 0.6200 - val_precision: 0.6283 - val_recall: 0.6000 - val_lr: 2.0000e-05\n",
      "patience: 4\n",
      "epoch: 6\n",
      "(3476, 3)\n",
      "(3476, 5)\n",
      "218/218 [==============================] - 210s 964ms/step - loss: 0.0927 - accuracy: 0.9701 - precision: 0.9731 - recall: 0.9669 - lr: 2.0000e-05 - val_loss: 2.0378 - val_accuracy: 0.6350 - val_precision: 0.6395 - val_recall: 0.6267 - val_lr: 2.0000e-05\n",
      "breaking now.....\n"
     ]
    }
   ],
   "source": [
    "epochs = 200\n",
    "val_loss = 100\n",
    "patience = 0\n",
    "alpha = 0.5\n",
    "corpus_frac = 1 # initially\n",
    "for e in range(epochs):\n",
    "\n",
    "  df_train = pd.concat([df_twitter, df_circa.sample(frac = corpus_frac)])\n",
    "  df_train = df_train.sample(frac = 1)\n",
    "  y_train = pd.get_dummies(df_train.gold, prefix='gold')\n",
    "  print(df_train.shape)\n",
    "  print(y_train.shape)\n",
    "\n",
    "  # shortening blending corpus for quick sanity results\n",
    "  # df_train = df_train.iloc[0:100]\n",
    "  # y_train = y_train.iloc[0:100]\n",
    "  # df_dev = df_dev.iloc[0:100]\n",
    "  # y_dev = y_dev.iloc[0:100]\n",
    "\n",
    "  corpus_frac = alpha * corpus_frac\n",
    "\n",
    "  model.fit(df_train['QA'], y_train, epochs=1, batch_size=16, callbacks=[callback], validation_data = (df_dev['QA'], y_dev))\n",
    "  if model.history.history['val_loss'][0] - val_loss <= 0.01:\n",
    "    val_loss = model.history.history['val_loss'][0]\n",
    "    saved_model = model\n",
    "    patience = 0\n",
    "  else:\n",
    "    patience +=1\n",
    "  if patience == 5:\n",
    "    print('breaking now.....')\n",
    "    break\n",
    "  print('patience:',patience)\n",
    "  print('epoch:',e)"
   ]
  },
  {
   "cell_type": "markdown",
   "metadata": {
    "id": "mQOhkwQCwG_x"
   },
   "source": [
    "Dev set"
   ]
  },
  {
   "cell_type": "code",
   "execution_count": 19,
   "metadata": {
    "colab": {
     "base_uri": "https://localhost:8080/"
    },
    "executionInfo": {
     "elapsed": 28238,
     "status": "ok",
     "timestamp": 1686629575029,
     "user": {
      "displayName": "Shivam Mathur",
      "userId": "13996464205483377357"
     },
     "user_tz": 420
    },
    "id": "n5daD7ZtTgiV",
    "outputId": "c1aef9dd-2109-418c-eee1-eb4393aec72c"
   },
   "outputs": [
    {
     "name": "stdout",
     "output_type": "stream",
     "text": [
      "19/19 [==============================] - 14s 740ms/step - loss: 2.0378 - accuracy: 0.6350 - precision: 0.6395 - recall: 0.6267 - lr: 2.0000e-05\n",
      "[2.0377907752990723, 0.6349999904632568, 0.6394557952880859, 0.6266666650772095, 2.000000313273631e-05]\n",
      "19/19 [==============================] - 14s 714ms/step\n",
      "DEV\n",
      "              precision    recall  f1-score   support\n",
      "\n",
      "           n       0.65      0.65      0.65       166\n",
      "          pn       0.28      0.26      0.27        19\n",
      "          py       0.44      0.46      0.45        61\n",
      "          uk       0.66      0.43      0.52       113\n",
      "           y       0.68      0.79      0.73       241\n",
      "\n",
      "    accuracy                           0.64       600\n",
      "   macro avg       0.54      0.52      0.53       600\n",
      "weighted avg       0.63      0.64      0.63       600\n",
      "\n"
     ]
    }
   ],
   "source": [
    "y_dev = pd.get_dummies(df_dev.gold, prefix = 'gold')\n",
    "print(saved_model.evaluate(df_dev['QA'], y_dev))\n",
    "y_predicted = saved_model.predict(df_dev['QA'])\n",
    "\n",
    "pred_results = tf.cast(tf.equal(y_predicted, tf.reduce_max(y_predicted, axis = 1, keepdims=True)), tf.float32)\n",
    "\n",
    "pred_results = pd.DataFrame(pred_results.numpy(), columns = ['gold_n',\n",
    "                                       'gold_pn',\n",
    "                                       'gold_py',\n",
    "                                       'gold_uk',\n",
    "                                       'gold_y'])\n",
    "\n",
    "pred_results.shape\n",
    "pred_results.to_numpy()\n",
    "pred_results = [np.where(r==1)[0][0] for r in pred_results.to_numpy()]\n",
    "pred_results = pd.DataFrame(pred_results, columns=['gold'])\n",
    "\n",
    "pred_results['gold'] = pred_results['gold'].map({0:'n',\n",
    "                                                   1:'pn',\n",
    "                                                   2:'py',\n",
    "                                                   3:'uk',\n",
    "                                                   4:'y'})\n",
    "\n",
    "dev_gtruths = [np.where(r==1)[0][0] for r in y_dev.to_numpy()]\n",
    "dev_gtruths = pd.DataFrame(dev_gtruths, columns=['gold'])\n",
    "\n",
    "dev_gtruths['gold'] = dev_gtruths['gold'].map({0:'n',\n",
    "                                                   1:'pn',\n",
    "                                                   2:'py',\n",
    "                                                   3:'uk',\n",
    "                                                   4:'y'})\n",
    "\n",
    "print('DEV')\n",
    "from sklearn.metrics import classification_report\n",
    "print(classification_report(y_true = dev_gtruths['gold'], y_pred = pred_results['gold']))"
   ]
  },
  {
   "cell_type": "markdown",
   "metadata": {
    "id": "lTyWJmr5pARe"
   },
   "source": [
    "Test Set"
   ]
  },
  {
   "cell_type": "code",
   "execution_count": 20,
   "metadata": {
    "colab": {
     "base_uri": "https://localhost:8080/"
    },
    "executionInfo": {
     "elapsed": 22698,
     "status": "ok",
     "timestamp": 1686629597704,
     "user": {
      "displayName": "Shivam Mathur",
      "userId": "13996464205483377357"
     },
     "user_tz": 420
    },
    "id": "eLU-_h6tWNpj",
    "outputId": "7f0086e9-97ac-47d1-9902-b314ac071e5f"
   },
   "outputs": [
    {
     "name": "stdout",
     "output_type": "stream",
     "text": [
      "17/17 [==============================] - 11s 669ms/step - loss: 1.9991 - accuracy: 0.6357 - precision: 0.6447 - recall: 0.6300 - lr: 2.0000e-05\n",
      "[1.9990789890289307, 0.6356736421585083, 0.6446601748466492, 0.6299810409545898, 2.000000313273631e-05]\n",
      "17/17 [==============================] - 11s 644ms/step\n",
      "TEST\n",
      "              precision    recall  f1-score   support\n",
      "\n",
      "           n       0.65      0.76      0.70       157\n",
      "          pn       0.21      0.10      0.14        29\n",
      "          py       0.37      0.29      0.32        49\n",
      "          uk       0.53      0.39      0.45        80\n",
      "           y       0.72      0.79      0.76       212\n",
      "\n",
      "    accuracy                           0.64       527\n",
      "   macro avg       0.50      0.47      0.47       527\n",
      "weighted avg       0.61      0.64      0.62       527\n",
      "\n"
     ]
    }
   ],
   "source": [
    "df_test= df_test.rename(columns={\"gold_adj\": \"gold\"})\n",
    "y_test = pd.get_dummies(df_test.gold, prefix = 'gold')\n",
    "print(saved_model.evaluate(df_test['QA'], y_test))\n",
    "y_predicted = saved_model.predict(df_test['QA'])\n",
    "\n",
    "pred_results = tf.cast(tf.equal(y_predicted, tf.reduce_max(y_predicted, axis = 1, keepdims=True)), tf.float32)\n",
    "\n",
    "pred_results = pd.DataFrame(pred_results.numpy(), columns = ['gold_n',\n",
    "                                       'gold_pn',\n",
    "                                       'gold_py',\n",
    "                                       'gold_uk',\n",
    "                                       'gold_y'])\n",
    "\n",
    "pred_results.shape\n",
    "pred_results.to_numpy()\n",
    "pred_results = [np.where(r==1)[0][0] for r in pred_results.to_numpy()]\n",
    "pred_results = pd.DataFrame(pred_results, columns=['gold'])\n",
    "\n",
    "pred_results['gold'] = pred_results['gold'].map({0:'n',\n",
    "                                                   1:'pn',\n",
    "                                                   2:'py',\n",
    "                                                   3:'uk',\n",
    "                                                   4:'y'})\n",
    "\n",
    "test_gtruths = [np.where(r==1)[0][0] for r in y_test.to_numpy()]\n",
    "test_gtruths = pd.DataFrame(test_gtruths, columns=['gold'])\n",
    "\n",
    "test_gtruths['gold'] = test_gtruths['gold'].map({0:'n',\n",
    "                                                   1:'pn',\n",
    "                                                   2:'py',\n",
    "                                                   3:'uk',\n",
    "                                                   4:'y'})\n",
    "\n",
    "print('TEST')\n",
    "from sklearn.metrics import classification_report\n",
    "print(classification_report(y_true = test_gtruths['gold'], y_pred = pred_results['gold']))"
   ]
  },
  {
   "cell_type": "code",
   "execution_count": 21,
   "metadata": {
    "colab": {
     "base_uri": "https://localhost:8080/",
     "height": 0
    },
    "executionInfo": {
     "elapsed": 468,
     "status": "ok",
     "timestamp": 1686629598149,
     "user": {
      "displayName": "Shivam Mathur",
      "userId": "13996464205483377357"
     },
     "user_tz": 420
    },
    "id": "OgszQsXPWfO0",
    "outputId": "82448b89-f64d-4b50-ff2b-8556b259d18f"
   },
   "outputs": [
    {
     "data": {
      "image/png": "[encoded data removed]",
      "text/plain": [
       "<Figure size 640x480 with 2 Axes>"
      ]
     },
     "metadata": {},
     "output_type": "display_data"
    },
    {
     "name": "stdout",
     "output_type": "stream",
     "text": [
      "gold         n  pn  py  uk    y\n",
      "predicted                      \n",
      "n          119  10  12  21   22\n",
      "pn           4   3   1   3    3\n",
      "py           6   6  14   5    7\n",
      "uk           7   5   4  31   12\n",
      "y           21   5  18  20  168\n"
     ]
    }
   ],
   "source": [
    "import seaborn as sns\n",
    "import matplotlib.pyplot as plt\n",
    "\n",
    "confusion_matrix = pd.crosstab(pred_results['gold'],test_gtruths['gold'],rownames=['predicted'], colnames=['gold'])\n",
    "\n",
    "sns.heatmap(confusion_matrix,annot=True,cmap='Blues', fmt='g')\n",
    "plt.show()\n",
    "print(confusion_matrix)"
   ]
  },
  {
   "cell_type": "code",
   "execution_count": 22,
   "metadata": {
    "executionInfo": {
     "elapsed": 15,
     "status": "ok",
     "timestamp": 1686629598150,
     "user": {
      "displayName": "Shivam Mathur",
      "userId": "13996464205483377357"
     },
     "user_tz": 420
    },
    "id": "dvMDtli5KNsy"
   },
   "outputs": [],
   "source": [
    "pred_results = pred_results.rename(columns={\"gold\": \"predict\"})\n",
    "pred_results['Main_Tweet_ID'] = df_test['Main_Tweet_ID']\n",
    "pred_results['Reply_id'] = df_test['Reply_id']"
   ]
  },
  {
   "cell_type": "code",
   "execution_count": 23,
   "metadata": {
    "colab": {
     "base_uri": "https://localhost:8080/"
    },
    "executionInfo": {
     "elapsed": 14,
     "status": "ok",
     "timestamp": 1686629598150,
     "user": {
      "displayName": "Shivam Mathur",
      "userId": "13996464205483377357"
     },
     "user_tz": 420
    },
    "id": "1VZtuiJx4lBH",
    "outputId": "cd9f4d31-1ba0-4c02-9c9b-c3b0db1f7109"
   },
   "outputs": [
    {
     "data": {
      "text/plain": [
       "y     232\n",
       "n     184\n",
       "uk     59\n",
       "py     38\n",
       "pn     14\n",
       "Name: predict, dtype: int64"
      ]
     },
     "execution_count": 23,
     "metadata": {},
     "output_type": "execute_result"
    }
   ],
   "source": [
    "pred_results['predict'].value_counts()"
   ]
  },
  {
   "cell_type": "code",
   "execution_count": 24,
   "metadata": {
    "executionInfo": {
     "elapsed": 368,
     "status": "ok",
     "timestamp": 1686629598512,
     "user": {
      "displayName": "Shivam Mathur",
      "userId": "13996464205483377357"
     },
     "user_tz": 420
    },
    "id": "cpX5qr6A_yZL"
   },
   "outputs": [],
   "source": [
    "pred_results.to_csv('/content/drive/MyDrive/expts_emnlp23/results/A_circa_blend.csv')"
   ]
  }
 ],
 "metadata": {
  "accelerator": "GPU",
  "colab": {
   "authorship_tag": "ABX9TyNN0NqLaTonjVr3vsCB+M53",
   "gpuType": "A100",
   "machine_shape": "hm",
   "mount_file_id": "1ELKNFlYRPlZpAayUh0eVjyNUcrqiNcm7",
   "provenance": []
  },
  "kernelspec": {
   "display_name": "Python 3 (ipykernel)",
   "language": "python",
   "name": "python3"
  },
  "language_info": {
   "codemirror_mode": {
    "name": "ipython",
    "version": 3
   },
   "file_extension": ".py",
   "mimetype": "text/x-python",
   "name": "python",
   "nbconvert_exporter": "python",
   "pygments_lexer": "ipython3",
   "version": "3.9.7"
  }
 },
 "nbformat": 4,
 "nbformat_minor": 1
}
