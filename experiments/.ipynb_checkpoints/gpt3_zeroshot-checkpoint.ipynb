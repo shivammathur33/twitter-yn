{
 "cells": [
  {
   "cell_type": "code",
   "execution_count": null,
   "metadata": {
    "colab": {
     "base_uri": "https://localhost:8080/"
    },
    "id": "po66LO3YF_mk",
    "outputId": "96b5a2e7-0c8f-45d7-b080-e9c7ceb34bf7"
   },
   "outputs": [
    {
     "name": "stdout",
     "output_type": "stream",
     "text": [
      "Looking in indexes: https://pypi.org/simple, https://us-python.pkg.dev/colab-wheels/public/simple/\n",
      "Requirement already satisfied: openai in /usr/local/lib/python3.9/dist-packages (0.27.4)\n",
      "Requirement already satisfied: requests>=2.20 in /usr/local/lib/python3.9/dist-packages (from openai) (2.27.1)\n",
      "Requirement already satisfied: tqdm in /usr/local/lib/python3.9/dist-packages (from openai) (4.65.0)\n",
      "Requirement already satisfied: aiohttp in /usr/local/lib/python3.9/dist-packages (from openai) (3.8.4)\n",
      "Requirement already satisfied: certifi>=2017.4.17 in /usr/local/lib/python3.9/dist-packages (from requests>=2.20->openai) (2022.12.7)\n",
      "Requirement already satisfied: urllib3<1.27,>=1.21.1 in /usr/local/lib/python3.9/dist-packages (from requests>=2.20->openai) (1.26.15)\n",
      "Requirement already satisfied: charset-normalizer~=2.0.0 in /usr/local/lib/python3.9/dist-packages (from requests>=2.20->openai) (2.0.12)\n",
      "Requirement already satisfied: idna<4,>=2.5 in /usr/local/lib/python3.9/dist-packages (from requests>=2.20->openai) (3.4)\n",
      "Requirement already satisfied: multidict<7.0,>=4.5 in /usr/local/lib/python3.9/dist-packages (from aiohttp->openai) (6.0.4)\n",
      "Requirement already satisfied: frozenlist>=1.1.1 in /usr/local/lib/python3.9/dist-packages (from aiohttp->openai) (1.3.3)\n",
      "Requirement already satisfied: attrs>=17.3.0 in /usr/local/lib/python3.9/dist-packages (from aiohttp->openai) (22.2.0)\n",
      "Requirement already satisfied: aiosignal>=1.1.2 in /usr/local/lib/python3.9/dist-packages (from aiohttp->openai) (1.3.1)\n",
      "Requirement already satisfied: yarl<2.0,>=1.0 in /usr/local/lib/python3.9/dist-packages (from aiohttp->openai) (1.8.2)\n",
      "Requirement already satisfied: async-timeout<5.0,>=4.0.0a3 in /usr/local/lib/python3.9/dist-packages (from aiohttp->openai) (4.0.2)\n"
     ]
    }
   ],
   "source": [
    "pip install openai"
   ]
  },
  {
   "cell_type": "code",
   "execution_count": null,
   "metadata": {
    "id": "xqTWHp3UPAcG"
   },
   "outputs": [],
   "source": [
    "import os\n",
    "import openai\n",
    "openai.api_key = os.getenv(\"blah\")\n",
    "openai.api_key = \"blah\""
   ]
  },
  {
   "cell_type": "code",
   "execution_count": null,
   "metadata": {
    "id": "CsROWZwzHSg_"
   },
   "outputs": [],
   "source": [
    "prompt_text= \"\\nQuestion: Is it okay to read a book at a bar?\\nAnswer: Sure, unless you do not mind getting beaten up.\\nChoose the correct interpretation: yes, no, probably yes, probably no, unknown.\"\n"
   ]
  },
  {
   "cell_type": "code",
   "execution_count": null,
   "metadata": {
    "colab": {
     "base_uri": "https://localhost:8080/"
    },
    "id": "2hR6IBxExY2Q",
    "outputId": "2033d4ac-d68b-4917-ee11-8429a134eb1f"
   },
   "outputs": [
    {
     "name": "stdout",
     "output_type": "stream",
     "text": [
      "\n",
      "Question: Is it okay to read a book at a bar?\n",
      "Answer: Sure, unless you do not mind getting beaten up.\n",
      "Choose the correct interpretation: yes, no, probably yes, probably, unknown.\n"
     ]
    }
   ],
   "source": [
    "# temp_text=few_shots+'\\n'+prompt_text\n",
    "# print(temp_text)\n",
    "print(prompt_text)"
   ]
  },
  {
   "cell_type": "code",
   "execution_count": null,
   "metadata": {
    "colab": {
     "base_uri": "https://localhost:8080/"
    },
    "id": "jQ5fhsPZFtZ6",
    "outputId": "0f926e46-d024-4952-d691-4e9a9c13e9cc"
   },
   "outputs": [
    {
     "name": "stdout",
     "output_type": "stream",
     "text": [
      "\n",
      "\n",
      "Yes\n"
     ]
    }
   ],
   "source": [
    "response = openai.Completion.create(\n",
    "engine=\"text-davinci-002\",\n",
    "# engine=\"davinci\",\n",
    "# engine=\"gpt-3.5-turbo\",\n",
    "prompt=prompt_text,\n",
    "temperature=0.7,\n",
    "max_tokens=32,\n",
    "top_p=1,\n",
    "frequency_penalty=0,\n",
    "presence_penalty=0\n",
    ")\n",
    "\n",
    "print(response.choices[0].text)"
   ]
  },
  {
   "cell_type": "code",
   "execution_count": null,
   "metadata": {
    "id": "aCFJNswZWnIE"
   },
   "outputs": [],
   "source": [
    "import pandas as pd\n",
    "df=pd.read_csv(\"TE_a.csv\")\n",
    "df=df.astype(str)"
   ]
  },
  {
   "cell_type": "code",
   "execution_count": null,
   "metadata": {
    "id": "S3uHETkYXA0X"
   },
   "outputs": [],
   "source": [
    "df['prompt']='Question: ' + df['Main_tweet'] + '\\n' + 'Answer:'+df['Reply_tweet'] + '\\nWhat does the given answer mean? Choose only from the following options: yes, probably yes, no, probably no, unknown.'"
   ]
  },
  {
   "cell_type": "code",
   "execution_count": null,
   "metadata": {
    "colab": {
     "base_uri": "https://localhost:8080/"
    },
    "id": "jle8u12rZEg0",
    "outputId": "753bdafc-bbf5-40a8-fbbb-e8722a047f69"
   },
   "outputs": [
    {
     "name": "stdout",
     "output_type": "stream",
     "text": [
      "Question: Do you think student loans should be forgiven?\n",
      "Answer: no, unless there is a period of service to uncle sam in return.\n",
      "What does the given answer mean? Choose only from the following options: yes, probably yes, no, probably no, unknown.\n"
     ]
    }
   ],
   "source": [
    "print(df['prompt'][0])"
   ]
  },
  {
   "cell_type": "code",
   "execution_count": 1,
   "metadata": {
    "colab": {
     "base_uri": "https://localhost:8080/"
    },
    "id": "KXJ8iYVOOyta",
    "outputId": "330d35ca-8c94-421f-af10-7e99c204b418"
   },
   "outputs": [],
   "source": [
    "def get_gen_text(prompt_text):\n",
    "\n",
    "  response = openai.Completion.create(\n",
    "  engine=\"text-davinci-002\",\n",
    "  prompt=prompt_text,\n",
    "  temperature=0.7,\n",
    "  max_tokens=32,\n",
    "  top_p=1,\n",
    "  frequency_penalty=0,\n",
    "  presence_penalty=0)\n",
    "\n",
    "\n",
    "\n",
    "#   print(len(prompt_text))\n",
    "#   print(response.choices[0].text)\n",
    "#    print(response.choices[0].text)\n",
    "\n",
    "  return response.choices[0].text\n",
    "\n",
    "df['gpt3_out'] = df['prompt'].apply(lambda x: get_gen_text(x))\n"
   ]
  },
  {
   "cell_type": "code",
   "execution_count": null,
   "metadata": {
    "colab": {
     "base_uri": "https://localhost:8080/"
    },
    "id": "_B2n6IMRr-R9",
    "outputId": "768bc495-e6ce-432f-8ce3-0680610e586b"
   },
   "outputs": [
    {
     "data": {
      "text/plain": [
       "y     236\n",
       "n     155\n",
       "uk    109\n",
       "py     69\n",
       "pn     31\n",
       "Name: gold_adj, dtype: int64"
      ]
     },
     "execution_count": 41,
     "metadata": {},
     "output_type": "execute_result"
    }
   ],
   "source": [
    "df['gold_adj'].value_counts()"
   ]
  },
  {
   "cell_type": "code",
   "execution_count": null,
   "metadata": {
    "id": "OH1g5JN7ecCJ"
   },
   "outputs": [],
   "source": [
    "import re"
   ]
  },
  {
   "cell_type": "code",
   "execution_count": null,
   "metadata": {
    "id": "mQLudVilZpEW"
   },
   "outputs": [],
   "source": [
    "df['gpt3_out'] = df['gpt3_out'].str.lower()\n",
    "df['gpt3_out'] = df['gpt3_out'].str.replace('\\n','')"
   ]
  },
  {
   "cell_type": "code",
   "execution_count": null,
   "metadata": {
    "colab": {
     "base_uri": "https://localhost:8080/"
    },
    "id": "jN8GxHRKwURV",
    "outputId": "b04ab878-fa90-4b39-9ad3-f3f72baa7fc9"
   },
   "outputs": [
    {
     "data": {
      "text/plain": [
       "no                                                                                                                                                                 214\n",
       "unknown                                                                                                                                                            143\n",
       "yes                                                                                                                                                                 65\n",
       " probably yes                                                                                                                                                       23\n",
       " probably no                                                                                                                                                        22\n",
       "probably yes                                                                                                                                                        18\n",
       "the given answer means \"yes.\"                                                                                                                                       17\n",
       "the answer means \"yes.\"                                                                                                                                             13\n",
       "probably no                                                                                                                                                         12\n",
       "probably no.                                                                                                                                                        12\n",
       "probably yes.                                                                                                                                                        9\n",
       "unknown.                                                                                                                                                             5\n",
       "the given answer probably means \"yes.\"                                                                                                                               5\n",
       "yes.                                                                                                                                                                 3\n",
       "the answer is probably yes.                                                                                                                                          3\n",
       "the given answer means \"probably yes.\"                                                                                                                               3\n",
       "the answer means \"no.\"                                                                                                                                               3\n",
       "the given answer means \"unknown.\"                                                                                                                                    3\n",
       "the given answer means \"no.\"                                                                                                                                         2\n",
       "the given answer probably means \"no.\"                                                                                                                                2\n",
       "the answer probably means \"yes.\"                                                                                                                                     2\n",
       "the answer is probably no.                                                                                                                                           2\n",
       " unknown                                                                                                                                                             2\n",
       "the answer given is \"yes.\"                                                                                                                                           1\n",
       "the answer most likely means \"yes.\"                                                                                                                                  1\n",
       "the answer given means \"yes.\"                                                                                                                                        1\n",
       "if the answer is \"yes\" or \"probably yes,\" then the person thinks it is unethical to go around marketplace fees and do a private sale for                             1\n",
       "the person probably believes in soulmates, but it is unknown for sure.                                                                                               1\n",
       "the given answer means \"probably no.\"                                                                                                                                1\n",
       "the given answer is probably yes.                                                                                                                                    1\n",
       "the given answer means \"unknown\"                                                                                                                                     1\n",
       "the answer given is \"unknown.\" this means that the person being asked does not know whether or not they trust the corporate media to deliver the facts on            1\n",
       "the given answer could mean any number of things, so \"unknown\" is the best response.                                                                                 1\n",
       "given that the person has been binge watching sex education on netflix, it is likely that they do not know the answer to the question and are instead referring      1\n",
       "the answer means probably yes.                                                                                                                                       1\n",
       "it is unknown whether or not the person sees the tweets.                                                                                                             1\n",
       "paws are better, they don't break your heart.no                                                                                                                      1\n",
       "the given answer means no.                                                                                                                                           1\n",
       "most likely, the person got a tattoo when they were younger and it has since faded away.                                                                             1\n",
       "the given answer means yes.                                                                                                                                          1\n",
       "Name: gpt3_out, dtype: int64"
      ]
     },
     "execution_count": 45,
     "metadata": {},
     "output_type": "execute_result"
    }
   ],
   "source": [
    "df['gpt3_out'].value_counts()"
   ]
  },
  {
   "cell_type": "code",
   "execution_count": null,
   "metadata": {
    "id": "AwIosMbbgv3q"
   },
   "outputs": [],
   "source": [
    "def ans_eng(gpt3_out):\n",
    "  if len(re.findall('probably yes', gpt3_out)):\n",
    "    return 'py'\n",
    "  if len(re.findall('probably no', gpt3_out)):\n",
    "    return 'pn'\n",
    "  if len(re.findall('yes', gpt3_out)):\n",
    "    return 'y'\n",
    "  if len(re.findall('unknown', gpt3_out)):\n",
    "    return 'uk'\n",
    "  if len(re.findall('no', gpt3_out)):\n",
    "    return 'n'\n",
    "  else:\n",
    "    return 'uk'"
   ]
  },
  {
   "cell_type": "code",
   "execution_count": null,
   "metadata": {
    "id": "pkaypAPdhMFW"
   },
   "outputs": [],
   "source": [
    "df['gpt3_ans_eng'] = df['gpt3_out'].apply(lambda x: ans_eng(x))\n"
   ]
  },
  {
   "cell_type": "code",
   "execution_count": null,
   "metadata": {
    "colab": {
     "base_uri": "https://localhost:8080/"
    },
    "id": "qDlzL5RahlWW",
    "outputId": "a3e743c2-1139-4593-b82d-13ab53b60cfb"
   },
   "outputs": [
    {
     "data": {
      "text/plain": [
       "n     224\n",
       "uk    159\n",
       "y     109\n",
       "py     59\n",
       "pn     49\n",
       "Name: gpt3_ans_eng, dtype: int64"
      ]
     },
     "execution_count": 49,
     "metadata": {},
     "output_type": "execute_result"
    }
   ],
   "source": [
    "df['gpt3_ans_eng'].value_counts()"
   ]
  },
  {
   "cell_type": "code",
   "execution_count": null,
   "metadata": {
    "colab": {
     "base_uri": "https://localhost:8080/"
    },
    "id": "roaIpY6Ehxab",
    "outputId": "c2b67461-4e77-40cd-ec55-c72ddb9bbdc1"
   },
   "outputs": [
    {
     "name": "stdout",
     "output_type": "stream",
     "text": [
      "Model: GPT3 (3.5) (text-davinci-002) few-shot\n",
      "              precision    recall  f1-score   support\n",
      "\n",
      "           n       0.43      0.63      0.51       155\n",
      "          pn       0.10      0.16      0.13        31\n",
      "          py       0.17      0.14      0.16        69\n",
      "          uk       0.36      0.52      0.43       109\n",
      "           y       0.89      0.41      0.56       236\n",
      "\n",
      "    accuracy                           0.44       600\n",
      "   macro avg       0.39      0.37      0.36       600\n",
      "weighted avg       0.55      0.44      0.46       600\n",
      "\n"
     ]
    }
   ],
   "source": [
    "from sklearn.metrics import classification_report\n",
    "print('Model: GPT3 (text-davinci-002) few-shot')\n",
    "print(classification_report(y_true = df['gold_adj'], y_pred = df['gpt3_ans_eng']))\n"
   ]
  },
  {
   "cell_type": "code",
   "execution_count": null,
   "metadata": {
    "colab": {
     "base_uri": "https://localhost:8080/",
     "height": 574
    },
    "id": "-qzTeeB7MidX",
    "outputId": "063afeda-485f-4bfd-aed8-f435bac76e92"
   },
   "outputs": [
    {
     "data": {
      "image/png": "[encoded data removed]",
      "text/plain": [
       "<Figure size 640x480 with 2 Axes>"
      ]
     },
     "metadata": {},
     "output_type": "display_data"
    },
    {
     "name": "stdout",
     "output_type": "stream",
     "text": [
      "gold        n  pn  py  uk   y\n",
      "predicted                    \n",
      "n          97  12  29  34  52\n",
      "pn         22   5   5  10   7\n",
      "py          7   2  10   6  34\n",
      "uk         27  10  19  57  46\n",
      "y           2   2   6   2  97\n"
     ]
    }
   ],
   "source": [
    "import seaborn as sns\n",
    "import matplotlib.pyplot as plt\n",
    "\n",
    "confusion_matrix = pd.crosstab(df['gpt3_ans_eng'],df['gold_adj'],rownames=['predicted'], colnames=['gold'])\n",
    "\n",
    "sns.heatmap(confusion_matrix,annot=True,cmap='Blues', fmt='g')\n",
    "plt.show()\n",
    "print(confusion_matrix)"
   ]
  },
  {
   "cell_type": "code",
   "execution_count": null,
   "metadata": {
    "id": "KQs3kv0ervPL"
   },
   "outputs": [],
   "source": [
    "df['result']=df['gpt3_ans_eng']"
   ]
  },
  {
   "cell_type": "code",
   "execution_count": null,
   "metadata": {
    "colab": {
     "base_uri": "https://localhost:8080/",
     "height": 1000
    },
    "id": "ByRSfM64Z6TS",
    "outputId": "db5b8059-3786-4762-fc5d-a601d93334b2"
   },
   "outputs": [
    {
     "data": {
      "text/html": [
       "\n",
       "  <div id=\"df-51fe97b0-2579-4a5c-994e-4a056a8f497c\">\n",
       "    <div class=\"colab-df-container\">\n",
       "      <div>\n",
       "<style scoped>\n",
       "    .dataframe tbody tr th:only-of-type {\n",
       "        vertical-align: middle;\n",
       "    }\n",
       "\n",
       "    .dataframe tbody tr th {\n",
       "        vertical-align: top;\n",
       "    }\n",
       "\n",
       "    .dataframe thead th {\n",
       "        text-align: right;\n",
       "    }\n",
       "</style>\n",
       "<table border=\"1\" class=\"dataframe\">\n",
       "  <thead>\n",
       "    <tr style=\"text-align: right;\">\n",
       "      <th></th>\n",
       "      <th>Unnamed: 0</th>\n",
       "      <th>Main_Tweet_ID</th>\n",
       "      <th>Reply_id</th>\n",
       "      <th>temporal_setting</th>\n",
       "      <th>Main_tweet</th>\n",
       "      <th>Reply_tweet</th>\n",
       "      <th>gold_1</th>\n",
       "      <th>gold_2</th>\n",
       "      <th>gold_adj</th>\n",
       "      <th>prompt</th>\n",
       "      <th>gpt3_out</th>\n",
       "      <th>gpt3_ans_eng</th>\n",
       "      <th>result</th>\n",
       "    </tr>\n",
       "  </thead>\n",
       "  <tbody>\n",
       "    <tr>\n",
       "      <th>0</th>\n",
       "      <td>0</td>\n",
       "      <td>1529794531897614337</td>\n",
       "      <td>1529797807695138816</td>\n",
       "      <td>new</td>\n",
       "      <td>Do you think student loans should be forgiven?</td>\n",
       "      <td>no, unless there is a period of service to un...</td>\n",
       "      <td>pn</td>\n",
       "      <td>n</td>\n",
       "      <td>pn</td>\n",
       "      <td>Question: Do you think student loans should be...</td>\n",
       "      <td>no</td>\n",
       "      <td>n</td>\n",
       "      <td>n</td>\n",
       "    </tr>\n",
       "    <tr>\n",
       "      <th>1</th>\n",
       "      <td>1</td>\n",
       "      <td>1529578923331358722</td>\n",
       "      <td>1529584546102095872</td>\n",
       "      <td>new</td>\n",
       "      <td>Is it bad if your fart sounds gurgly?</td>\n",
       "      <td>don't know about bad...dangerous...yup</td>\n",
       "      <td>py</td>\n",
       "      <td>uk</td>\n",
       "      <td>py</td>\n",
       "      <td>Question: Is it bad if your fart sounds gurgly...</td>\n",
       "      <td>unknown</td>\n",
       "      <td>uk</td>\n",
       "      <td>uk</td>\n",
       "    </tr>\n",
       "    <tr>\n",
       "      <th>2</th>\n",
       "      <td>2</td>\n",
       "      <td>1533912514131640321</td>\n",
       "      <td>1533933413840961536</td>\n",
       "      <td>new</td>\n",
       "      <td>Do you have confidence in the Prime Minister?</td>\n",
       "      <td>move on gmb. time to let our country heal.</td>\n",
       "      <td>py</td>\n",
       "      <td>py</td>\n",
       "      <td>py</td>\n",
       "      <td>Question: Do you have confidence in the Prime ...</td>\n",
       "      <td>no</td>\n",
       "      <td>n</td>\n",
       "      <td>n</td>\n",
       "    </tr>\n",
       "    <tr>\n",
       "      <th>3</th>\n",
       "      <td>3</td>\n",
       "      <td>1506565419313868802</td>\n",
       "      <td>1506566897428582406</td>\n",
       "      <td>new</td>\n",
       "      <td>My name regularly gets autocorrected to \"Satan...</td>\n",
       "      <td>i once had a boss who autocorrected to piglet</td>\n",
       "      <td>y</td>\n",
       "      <td>y</td>\n",
       "      <td>y</td>\n",
       "      <td>Question: My name regularly gets autocorrected...</td>\n",
       "      <td>unknown</td>\n",
       "      <td>uk</td>\n",
       "      <td>uk</td>\n",
       "    </tr>\n",
       "    <tr>\n",
       "      <th>4</th>\n",
       "      <td>4</td>\n",
       "      <td>1517175103682973697</td>\n",
       "      <td>1517182016730517509</td>\n",
       "      <td>new</td>\n",
       "      <td>Do you have a calling in your life?</td>\n",
       "      <td>well i should hope so, otherwise there'd be b...</td>\n",
       "      <td>py</td>\n",
       "      <td>py</td>\n",
       "      <td>py</td>\n",
       "      <td>Question: Do you have a calling in your life?\\...</td>\n",
       "      <td>no</td>\n",
       "      <td>n</td>\n",
       "      <td>n</td>\n",
       "    </tr>\n",
       "    <tr>\n",
       "      <th>...</th>\n",
       "      <td>...</td>\n",
       "      <td>...</td>\n",
       "      <td>...</td>\n",
       "      <td>...</td>\n",
       "      <td>...</td>\n",
       "      <td>...</td>\n",
       "      <td>...</td>\n",
       "      <td>...</td>\n",
       "      <td>...</td>\n",
       "      <td>...</td>\n",
       "      <td>...</td>\n",
       "      <td>...</td>\n",
       "      <td>...</td>\n",
       "    </tr>\n",
       "    <tr>\n",
       "      <th>595</th>\n",
       "      <td>595</td>\n",
       "      <td>1522018378998853633</td>\n",
       "      <td>1522020091482689536</td>\n",
       "      <td>new</td>\n",
       "      <td>I tend to go back and forth on this, do you li...</td>\n",
       "      <td>honestly, portal + nil is probably donu’s bes...</td>\n",
       "      <td>py</td>\n",
       "      <td>py</td>\n",
       "      <td>py</td>\n",
       "      <td>Question: I tend to go back and forth on this,...</td>\n",
       "      <td>no</td>\n",
       "      <td>n</td>\n",
       "      <td>n</td>\n",
       "    </tr>\n",
       "    <tr>\n",
       "      <th>596</th>\n",
       "      <td>596</td>\n",
       "      <td>1509976642575212544</td>\n",
       "      <td>1510013316726501382</td>\n",
       "      <td>new</td>\n",
       "      <td>Is it ever okay to reject a job offer after ac...</td>\n",
       "      <td>yes, but you have to do it correctly.</td>\n",
       "      <td>py</td>\n",
       "      <td>y</td>\n",
       "      <td>y</td>\n",
       "      <td>Question: Is it ever okay to reject a job offe...</td>\n",
       "      <td>the answer means \"yes.\"</td>\n",
       "      <td>y</td>\n",
       "      <td>y</td>\n",
       "    </tr>\n",
       "    <tr>\n",
       "      <th>597</th>\n",
       "      <td>597</td>\n",
       "      <td>1509627464292704256</td>\n",
       "      <td>1509685227047718914</td>\n",
       "      <td>new</td>\n",
       "      <td>Do you, on a deep level, feel loved?</td>\n",
       "      <td>who are the no's 😭 let me love you!</td>\n",
       "      <td>y</td>\n",
       "      <td>uk</td>\n",
       "      <td>uk</td>\n",
       "      <td>Question: Do you, on a deep level, feel loved?...</td>\n",
       "      <td>the answer is probably yes.</td>\n",
       "      <td>py</td>\n",
       "      <td>py</td>\n",
       "    </tr>\n",
       "    <tr>\n",
       "      <th>598</th>\n",
       "      <td>598</td>\n",
       "      <td>1528328624385974272</td>\n",
       "      <td>1528330816069292035</td>\n",
       "      <td>new</td>\n",
       "      <td>Don't offer advice unless you were asked. Can'...</td>\n",
       "      <td>but, i did not ask for your advice.</td>\n",
       "      <td>y</td>\n",
       "      <td>uk</td>\n",
       "      <td>uk</td>\n",
       "      <td>Question: Don't offer advice unless you were a...</td>\n",
       "      <td>no</td>\n",
       "      <td>n</td>\n",
       "      <td>n</td>\n",
       "    </tr>\n",
       "    <tr>\n",
       "      <th>599</th>\n",
       "      <td>599</td>\n",
       "      <td>1532024495308939265</td>\n",
       "      <td>1532025237897986049</td>\n",
       "      <td>new</td>\n",
       "      <td>Do you like rift?</td>\n",
       "      <td>interesting that you would put “no” as the fi...</td>\n",
       "      <td>y</td>\n",
       "      <td>py</td>\n",
       "      <td>y</td>\n",
       "      <td>Question: Do you like rift?\\nAnswer: interesti...</td>\n",
       "      <td>unknown</td>\n",
       "      <td>uk</td>\n",
       "      <td>uk</td>\n",
       "    </tr>\n",
       "  </tbody>\n",
       "</table>\n",
       "<p>600 rows × 13 columns</p>\n",
       "</div>\n",
       "      <button class=\"colab-df-convert\" onclick=\"convertToInteractive('df-51fe97b0-2579-4a5c-994e-4a056a8f497c')\"\n",
       "              title=\"Convert this dataframe to an interactive table.\"\n",
       "              style=\"display:none;\">\n",
       "        \n",
       "  <svg xmlns=\"http://www.w3.org/2000/svg\" height=\"24px\"viewBox=\"0 0 24 24\"\n",
       "       width=\"24px\">\n",
       "    <path d=\"M0 0h24v24H0V0z\" fill=\"none\"/>\n",
       "    <path d=\"M18.56 5.44l.94 2.06.94-2.06 2.06-.94-2.06-.94-.94-2.06-.94 2.06-2.06.94zm-11 1L8.5 8.5l.94-2.06 2.06-.94-2.06-.94L8.5 2.5l-.94 2.06-2.06.94zm10 10l.94 2.06.94-2.06 2.06-.94-2.06-.94-.94-2.06-.94 2.06-2.06.94z\"/><path d=\"M17.41 7.96l-1.37-1.37c-.4-.4-.92-.59-1.43-.59-.52 0-1.04.2-1.43.59L10.3 9.45l-7.72 7.72c-.78.78-.78 2.05 0 2.83L4 21.41c.39.39.9.59 1.41.59.51 0 1.02-.2 1.41-.59l7.78-7.78 2.81-2.81c.8-.78.8-2.07 0-2.86zM5.41 20L4 18.59l7.72-7.72 1.47 1.35L5.41 20z\"/>\n",
       "  </svg>\n",
       "      </button>\n",
       "      \n",
       "  <style>\n",
       "    .colab-df-container {\n",
       "      display:flex;\n",
       "      flex-wrap:wrap;\n",
       "      gap: 12px;\n",
       "    }\n",
       "\n",
       "    .colab-df-convert {\n",
       "      background-color: #E8F0FE;\n",
       "      border: none;\n",
       "      border-radius: 50%;\n",
       "      cursor: pointer;\n",
       "      display: none;\n",
       "      fill: #1967D2;\n",
       "      height: 32px;\n",
       "      padding: 0 0 0 0;\n",
       "      width: 32px;\n",
       "    }\n",
       "\n",
       "    .colab-df-convert:hover {\n",
       "      background-color: #E2EBFA;\n",
       "      box-shadow: 0px 1px 2px rgba(60, 64, 67, 0.3), 0px 1px 3px 1px rgba(60, 64, 67, 0.15);\n",
       "      fill: #174EA6;\n",
       "    }\n",
       "\n",
       "    [theme=dark] .colab-df-convert {\n",
       "      background-color: #3B4455;\n",
       "      fill: #D2E3FC;\n",
       "    }\n",
       "\n",
       "    [theme=dark] .colab-df-convert:hover {\n",
       "      background-color: #434B5C;\n",
       "      box-shadow: 0px 1px 3px 1px rgba(0, 0, 0, 0.15);\n",
       "      filter: drop-shadow(0px 1px 2px rgba(0, 0, 0, 0.3));\n",
       "      fill: #FFFFFF;\n",
       "    }\n",
       "  </style>\n",
       "\n",
       "      <script>\n",
       "        const buttonEl =\n",
       "          document.querySelector('#df-51fe97b0-2579-4a5c-994e-4a056a8f497c button.colab-df-convert');\n",
       "        buttonEl.style.display =\n",
       "          google.colab.kernel.accessAllowed ? 'block' : 'none';\n",
       "\n",
       "        async function convertToInteractive(key) {\n",
       "          const element = document.querySelector('#df-51fe97b0-2579-4a5c-994e-4a056a8f497c');\n",
       "          const dataTable =\n",
       "            await google.colab.kernel.invokeFunction('convertToInteractive',\n",
       "                                                     [key], {});\n",
       "          if (!dataTable) return;\n",
       "\n",
       "          const docLinkHtml = 'Like what you see? Visit the ' +\n",
       "            '<a target=\"_blank\" href=https://colab.research.google.com/notebooks/data_table.ipynb>data table notebook</a>'\n",
       "            + ' to learn more about interactive tables.';\n",
       "          element.innerHTML = '';\n",
       "          dataTable['output_type'] = 'display_data';\n",
       "          await google.colab.output.renderOutput(dataTable, element);\n",
       "          const docLink = document.createElement('div');\n",
       "          docLink.innerHTML = docLinkHtml;\n",
       "          element.appendChild(docLink);\n",
       "        }\n",
       "      </script>\n",
       "    </div>\n",
       "  </div>\n",
       "  "
      ],
      "text/plain": [
       "    Unnamed: 0        Main_Tweet_ID             Reply_id temporal_setting  \\\n",
       "0            0  1529794531897614337  1529797807695138816              new   \n",
       "1            1  1529578923331358722  1529584546102095872              new   \n",
       "2            2  1533912514131640321  1533933413840961536              new   \n",
       "3            3  1506565419313868802  1506566897428582406              new   \n",
       "4            4  1517175103682973697  1517182016730517509              new   \n",
       "..         ...                  ...                  ...              ...   \n",
       "595        595  1522018378998853633  1522020091482689536              new   \n",
       "596        596  1509976642575212544  1510013316726501382              new   \n",
       "597        597  1509627464292704256  1509685227047718914              new   \n",
       "598        598  1528328624385974272  1528330816069292035              new   \n",
       "599        599  1532024495308939265  1532025237897986049              new   \n",
       "\n",
       "                                            Main_tweet  \\\n",
       "0       Do you think student loans should be forgiven?   \n",
       "1                Is it bad if your fart sounds gurgly?   \n",
       "2        Do you have confidence in the Prime Minister?   \n",
       "3    My name regularly gets autocorrected to \"Satan...   \n",
       "4                  Do you have a calling in your life?   \n",
       "..                                                 ...   \n",
       "595  I tend to go back and forth on this, do you li...   \n",
       "596  Is it ever okay to reject a job offer after ac...   \n",
       "597               Do you, on a deep level, feel loved?   \n",
       "598  Don't offer advice unless you were asked. Can'...   \n",
       "599                                  Do you like rift?   \n",
       "\n",
       "                                           Reply_tweet gold_1 gold_2 gold_adj  \\\n",
       "0     no, unless there is a period of service to un...     pn      n       pn   \n",
       "1               don't know about bad...dangerous...yup     py     uk       py   \n",
       "2           move on gmb. time to let our country heal.     py     py       py   \n",
       "3        i once had a boss who autocorrected to piglet      y      y        y   \n",
       "4     well i should hope so, otherwise there'd be b...     py     py       py   \n",
       "..                                                 ...    ...    ...      ...   \n",
       "595   honestly, portal + nil is probably donu’s bes...     py     py       py   \n",
       "596              yes, but you have to do it correctly.     py      y        y   \n",
       "597                who are the no's 😭 let me love you!      y     uk       uk   \n",
       "598                but, i did not ask for your advice.      y     uk       uk   \n",
       "599   interesting that you would put “no” as the fi...      y     py        y   \n",
       "\n",
       "                                                prompt  \\\n",
       "0    Question: Do you think student loans should be...   \n",
       "1    Question: Is it bad if your fart sounds gurgly...   \n",
       "2    Question: Do you have confidence in the Prime ...   \n",
       "3    Question: My name regularly gets autocorrected...   \n",
       "4    Question: Do you have a calling in your life?\\...   \n",
       "..                                                 ...   \n",
       "595  Question: I tend to go back and forth on this,...   \n",
       "596  Question: Is it ever okay to reject a job offe...   \n",
       "597  Question: Do you, on a deep level, feel loved?...   \n",
       "598  Question: Don't offer advice unless you were a...   \n",
       "599  Question: Do you like rift?\\nAnswer: interesti...   \n",
       "\n",
       "                        gpt3_out gpt3_ans_eng result  \n",
       "0                             no            n      n  \n",
       "1                        unknown           uk     uk  \n",
       "2                             no            n      n  \n",
       "3                        unknown           uk     uk  \n",
       "4                             no            n      n  \n",
       "..                           ...          ...    ...  \n",
       "595                           no            n      n  \n",
       "596      the answer means \"yes.\"            y      y  \n",
       "597  the answer is probably yes.           py     py  \n",
       "598                           no            n      n  \n",
       "599                      unknown           uk     uk  \n",
       "\n",
       "[600 rows x 13 columns]"
      ]
     },
     "execution_count": 53,
     "metadata": {},
     "output_type": "execute_result"
    }
   ],
   "source": [
    "df"
   ]
  }
 ],
 "metadata": {
  "colab": {
   "machine_shape": "hm",
   "provenance": []
  },
  "gpuClass": "standard",
  "kernelspec": {
   "display_name": "Python 3 (ipykernel)",
   "language": "python",
   "name": "python3"
  },
  "language_info": {
   "codemirror_mode": {
    "name": "ipython",
    "version": 3
   },
   "file_extension": ".py",
   "mimetype": "text/x-python",
   "name": "python",
   "nbconvert_exporter": "python",
   "pygments_lexer": "ipython3",
   "version": "3.9.7"
  }
 },
 "nbformat": 4,
 "nbformat_minor": 1
}
