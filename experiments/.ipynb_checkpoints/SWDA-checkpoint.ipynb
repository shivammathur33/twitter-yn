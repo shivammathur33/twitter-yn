{
 "cells": [
  {
   "cell_type": "code",
   "execution_count": 1,
   "metadata": {
    "colab": {
     "base_uri": "https://localhost:8080/"
    },
    "executionInfo": {
     "elapsed": 5788,
     "status": "ok",
     "timestamp": 1686614119888,
     "user": {
      "displayName": "Shivam Mathur",
      "userId": "13996464205483377357"
     },
     "user_tz": 420
    },
    "id": "fpyGx8MCcm-A",
    "outputId": "9d7401fa-3741-430d-f315-3435c211a4dd"
   },
   "outputs": [
    {
     "name": "stdout",
     "output_type": "stream",
     "text": [
      "Looking in indexes: https://pypi.org/simple, https://us-python.pkg.dev/colab-wheels/public/simple/\n",
      "Collecting tensorflow_text\n",
      "  Downloading tensorflow_text-2.12.1-cp310-cp310-manylinux_2_17_x86_64.manylinux2014_x86_64.whl (6.0 MB)\n",
      "\u001b[2K     \u001b[90m━━━━━━━━━━━━━━━━━━━━━━━━━━━━━━━━━━━━━━━━\u001b[0m \u001b[32m6.0/6.0 MB\u001b[0m \u001b[31m71.6 MB/s\u001b[0m eta \u001b[36m0:00:00\u001b[0m\n",
      "\u001b[?25hRequirement already satisfied: tensorflow-hub>=0.8.0 in /usr/local/lib/python3.10/dist-packages (from tensorflow_text) (0.13.0)\n",
      "Requirement already satisfied: tensorflow<2.13,>=2.12.0 in /usr/local/lib/python3.10/dist-packages (from tensorflow_text) (2.12.0)\n",
      "Requirement already satisfied: absl-py>=1.0.0 in /usr/local/lib/python3.10/dist-packages (from tensorflow<2.13,>=2.12.0->tensorflow_text) (1.4.0)\n",
      "Requirement already satisfied: astunparse>=1.6.0 in /usr/local/lib/python3.10/dist-packages (from tensorflow<2.13,>=2.12.0->tensorflow_text) (1.6.3)\n",
      "Requirement already satisfied: flatbuffers>=2.0 in /usr/local/lib/python3.10/dist-packages (from tensorflow<2.13,>=2.12.0->tensorflow_text) (23.3.3)\n",
      "Requirement already satisfied: gast<=0.4.0,>=0.2.1 in /usr/local/lib/python3.10/dist-packages (from tensorflow<2.13,>=2.12.0->tensorflow_text) (0.4.0)\n",
      "Requirement already satisfied: google-pasta>=0.1.1 in /usr/local/lib/python3.10/dist-packages (from tensorflow<2.13,>=2.12.0->tensorflow_text) (0.2.0)\n",
      "Requirement already satisfied: grpcio<2.0,>=1.24.3 in /usr/local/lib/python3.10/dist-packages (from tensorflow<2.13,>=2.12.0->tensorflow_text) (1.54.0)\n",
      "Requirement already satisfied: h5py>=2.9.0 in /usr/local/lib/python3.10/dist-packages (from tensorflow<2.13,>=2.12.0->tensorflow_text) (3.8.0)\n",
      "Requirement already satisfied: jax>=0.3.15 in /usr/local/lib/python3.10/dist-packages (from tensorflow<2.13,>=2.12.0->tensorflow_text) (0.4.10)\n",
      "Requirement already satisfied: keras<2.13,>=2.12.0 in /usr/local/lib/python3.10/dist-packages (from tensorflow<2.13,>=2.12.0->tensorflow_text) (2.12.0)\n",
      "Requirement already satisfied: libclang>=13.0.0 in /usr/local/lib/python3.10/dist-packages (from tensorflow<2.13,>=2.12.0->tensorflow_text) (16.0.0)\n",
      "Requirement already satisfied: numpy<1.24,>=1.22 in /usr/local/lib/python3.10/dist-packages (from tensorflow<2.13,>=2.12.0->tensorflow_text) (1.22.4)\n",
      "Requirement already satisfied: opt-einsum>=2.3.2 in /usr/local/lib/python3.10/dist-packages (from tensorflow<2.13,>=2.12.0->tensorflow_text) (3.3.0)\n",
      "Requirement already satisfied: packaging in /usr/local/lib/python3.10/dist-packages (from tensorflow<2.13,>=2.12.0->tensorflow_text) (23.1)\n",
      "Requirement already satisfied: protobuf!=4.21.0,!=4.21.1,!=4.21.2,!=4.21.3,!=4.21.4,!=4.21.5,<5.0.0dev,>=3.20.3 in /usr/local/lib/python3.10/dist-packages (from tensorflow<2.13,>=2.12.0->tensorflow_text) (3.20.3)\n",
      "Requirement already satisfied: setuptools in /usr/local/lib/python3.10/dist-packages (from tensorflow<2.13,>=2.12.0->tensorflow_text) (67.7.2)\n",
      "Requirement already satisfied: six>=1.12.0 in /usr/local/lib/python3.10/dist-packages (from tensorflow<2.13,>=2.12.0->tensorflow_text) (1.16.0)\n",
      "Requirement already satisfied: tensorboard<2.13,>=2.12 in /usr/local/lib/python3.10/dist-packages (from tensorflow<2.13,>=2.12.0->tensorflow_text) (2.12.2)\n",
      "Requirement already satisfied: tensorflow-estimator<2.13,>=2.12.0 in /usr/local/lib/python3.10/dist-packages (from tensorflow<2.13,>=2.12.0->tensorflow_text) (2.12.0)\n",
      "Requirement already satisfied: termcolor>=1.1.0 in /usr/local/lib/python3.10/dist-packages (from tensorflow<2.13,>=2.12.0->tensorflow_text) (2.3.0)\n",
      "Requirement already satisfied: typing-extensions>=3.6.6 in /usr/local/lib/python3.10/dist-packages (from tensorflow<2.13,>=2.12.0->tensorflow_text) (4.5.0)\n",
      "Requirement already satisfied: wrapt<1.15,>=1.11.0 in /usr/local/lib/python3.10/dist-packages (from tensorflow<2.13,>=2.12.0->tensorflow_text) (1.14.1)\n",
      "Requirement already satisfied: tensorflow-io-gcs-filesystem>=0.23.1 in /usr/local/lib/python3.10/dist-packages (from tensorflow<2.13,>=2.12.0->tensorflow_text) (0.32.0)\n",
      "Requirement already satisfied: wheel<1.0,>=0.23.0 in /usr/local/lib/python3.10/dist-packages (from astunparse>=1.6.0->tensorflow<2.13,>=2.12.0->tensorflow_text) (0.40.0)\n",
      "Requirement already satisfied: ml-dtypes>=0.1.0 in /usr/local/lib/python3.10/dist-packages (from jax>=0.3.15->tensorflow<2.13,>=2.12.0->tensorflow_text) (0.1.0)\n",
      "Requirement already satisfied: scipy>=1.7 in /usr/local/lib/python3.10/dist-packages (from jax>=0.3.15->tensorflow<2.13,>=2.12.0->tensorflow_text) (1.10.1)\n",
      "Requirement already satisfied: google-auth<3,>=1.6.3 in /usr/local/lib/python3.10/dist-packages (from tensorboard<2.13,>=2.12->tensorflow<2.13,>=2.12.0->tensorflow_text) (2.17.3)\n",
      "Requirement already satisfied: google-auth-oauthlib<1.1,>=0.5 in /usr/local/lib/python3.10/dist-packages (from tensorboard<2.13,>=2.12->tensorflow<2.13,>=2.12.0->tensorflow_text) (1.0.0)\n",
      "Requirement already satisfied: markdown>=2.6.8 in /usr/local/lib/python3.10/dist-packages (from tensorboard<2.13,>=2.12->tensorflow<2.13,>=2.12.0->tensorflow_text) (3.4.3)\n",
      "Requirement already satisfied: requests<3,>=2.21.0 in /usr/local/lib/python3.10/dist-packages (from tensorboard<2.13,>=2.12->tensorflow<2.13,>=2.12.0->tensorflow_text) (2.27.1)\n",
      "Requirement already satisfied: tensorboard-data-server<0.8.0,>=0.7.0 in /usr/local/lib/python3.10/dist-packages (from tensorboard<2.13,>=2.12->tensorflow<2.13,>=2.12.0->tensorflow_text) (0.7.0)\n",
      "Requirement already satisfied: tensorboard-plugin-wit>=1.6.0 in /usr/local/lib/python3.10/dist-packages (from tensorboard<2.13,>=2.12->tensorflow<2.13,>=2.12.0->tensorflow_text) (1.8.1)\n",
      "Requirement already satisfied: werkzeug>=1.0.1 in /usr/local/lib/python3.10/dist-packages (from tensorboard<2.13,>=2.12->tensorflow<2.13,>=2.12.0->tensorflow_text) (2.3.0)\n",
      "Requirement already satisfied: cachetools<6.0,>=2.0.0 in /usr/local/lib/python3.10/dist-packages (from google-auth<3,>=1.6.3->tensorboard<2.13,>=2.12->tensorflow<2.13,>=2.12.0->tensorflow_text) (5.3.0)\n",
      "Requirement already satisfied: pyasn1-modules>=0.2.1 in /usr/local/lib/python3.10/dist-packages (from google-auth<3,>=1.6.3->tensorboard<2.13,>=2.12->tensorflow<2.13,>=2.12.0->tensorflow_text) (0.3.0)\n",
      "Requirement already satisfied: rsa<5,>=3.1.4 in /usr/local/lib/python3.10/dist-packages (from google-auth<3,>=1.6.3->tensorboard<2.13,>=2.12->tensorflow<2.13,>=2.12.0->tensorflow_text) (4.9)\n",
      "Requirement already satisfied: requests-oauthlib>=0.7.0 in /usr/local/lib/python3.10/dist-packages (from google-auth-oauthlib<1.1,>=0.5->tensorboard<2.13,>=2.12->tensorflow<2.13,>=2.12.0->tensorflow_text) (1.3.1)\n",
      "Requirement already satisfied: urllib3<1.27,>=1.21.1 in /usr/local/lib/python3.10/dist-packages (from requests<3,>=2.21.0->tensorboard<2.13,>=2.12->tensorflow<2.13,>=2.12.0->tensorflow_text) (1.26.15)\n",
      "Requirement already satisfied: certifi>=2017.4.17 in /usr/local/lib/python3.10/dist-packages (from requests<3,>=2.21.0->tensorboard<2.13,>=2.12->tensorflow<2.13,>=2.12.0->tensorflow_text) (2022.12.7)\n",
      "Requirement already satisfied: charset-normalizer~=2.0.0 in /usr/local/lib/python3.10/dist-packages (from requests<3,>=2.21.0->tensorboard<2.13,>=2.12->tensorflow<2.13,>=2.12.0->tensorflow_text) (2.0.12)\n",
      "Requirement already satisfied: idna<4,>=2.5 in /usr/local/lib/python3.10/dist-packages (from requests<3,>=2.21.0->tensorboard<2.13,>=2.12->tensorflow<2.13,>=2.12.0->tensorflow_text) (3.4)\n",
      "Requirement already satisfied: MarkupSafe>=2.1.1 in /usr/local/lib/python3.10/dist-packages (from werkzeug>=1.0.1->tensorboard<2.13,>=2.12->tensorflow<2.13,>=2.12.0->tensorflow_text) (2.1.2)\n",
      "Requirement already satisfied: pyasn1<0.6.0,>=0.4.6 in /usr/local/lib/python3.10/dist-packages (from pyasn1-modules>=0.2.1->google-auth<3,>=1.6.3->tensorboard<2.13,>=2.12->tensorflow<2.13,>=2.12.0->tensorflow_text) (0.5.0)\n",
      "Requirement already satisfied: oauthlib>=3.0.0 in /usr/local/lib/python3.10/dist-packages (from requests-oauthlib>=0.7.0->google-auth-oauthlib<1.1,>=0.5->tensorboard<2.13,>=2.12->tensorflow<2.13,>=2.12.0->tensorflow_text) (3.2.2)\n",
      "Installing collected packages: tensorflow_text\n",
      "Successfully installed tensorflow_text-2.12.1\n"
     ]
    }
   ],
   "source": [
    "pip install tensorflow_text\n"
   ]
  },
  {
   "cell_type": "code",
   "execution_count": 2,
   "metadata": {
    "executionInfo": {
     "elapsed": 3424,
     "status": "ok",
     "timestamp": 1686614123307,
     "user": {
      "displayName": "Shivam Mathur",
      "userId": "13996464205483377357"
     },
     "user_tz": 420
    },
    "id": "7xX_JBwtc2Z7"
   },
   "outputs": [],
   "source": [
    "import tensorflow as tf\n",
    "tf.config.run_functions_eagerly(True)\n",
    "tf.data.experimental.enable_debug_mode()\n",
    "\n",
    "import keras\n",
    "import tensorflow_hub as hub\n",
    "import tensorflow_text as text"
   ]
  },
  {
   "cell_type": "code",
   "execution_count": 3,
   "metadata": {
    "executionInfo": {
     "elapsed": 7,
     "status": "ok",
     "timestamp": 1686614123307,
     "user": {
      "displayName": "Shivam Mathur",
      "userId": "13996464205483377357"
     },
     "user_tz": 420
    },
    "id": "1iFU3QxAc8PF"
   },
   "outputs": [],
   "source": [
    "import pandas as pd\n",
    "import numpy as np"
   ]
  },
  {
   "cell_type": "code",
   "execution_count": 4,
   "metadata": {
    "executionInfo": {
     "elapsed": 1777,
     "status": "ok",
     "timestamp": 1686614125079,
     "user": {
      "displayName": "Shivam Mathur",
      "userId": "13996464205483377357"
     },
     "user_tz": 420
    },
    "id": "qORgRCEBeANa"
   },
   "outputs": [],
   "source": [
    "# get pretraining corpus data\n",
    "#change paths here\n",
    "df_swda_train = pd.read_excel(r'SWDA_train.xlsx')\n",
    "df_swda_dev = pd.read_excel(r'SWDA_valid.xlsx')\n",
    "df_swda_test = pd.read_excel(r'SWDA_test.xlsx')\n",
    "\n",
    "# Question+[SEP]+Answer\n",
    "df_swda_train['QA'] = df_swda_train['Speaker_A_Question'] + '[SEP]' + df_swda_train['Speaker_B_Answer']\n",
    "df_swda_dev['QA'] = df_swda_dev['Speaker_A_Question'] + '[SEP]' + df_swda_dev['Speaker_B_Answer']\n",
    "df_swda_test['QA'] = df_swda_test['Speaker_A_Question'] + '[SEP]' + df_swda_test['Speaker_B_Answer']\n",
    "\n"
   ]
  },
  {
   "cell_type": "code",
   "execution_count": 5,
   "metadata": {
    "colab": {
     "base_uri": "https://localhost:8080/",
     "height": 774
    },
    "executionInfo": {
     "elapsed": 17,
     "status": "ok",
     "timestamp": 1686614125079,
     "user": {
      "displayName": "Shivam Mathur",
      "userId": "13996464205483377357"
     },
     "user_tz": 420
    },
    "id": "zhc24FlXsqRf",
    "outputId": "120e74bd-124f-4793-cee7-069869099f54"
   },
   "outputs": [
    {
     "data": {
      "text/html": [
       "\n",
       "  <div id=\"df-fa8bd2cf-ff30-4c61-ab0d-21e31b8f312b\">\n",
       "    <div class=\"colab-df-container\">\n",
       "      <div>\n",
       "<style scoped>\n",
       "    .dataframe tbody tr th:only-of-type {\n",
       "        vertical-align: middle;\n",
       "    }\n",
       "\n",
       "    .dataframe tbody tr th {\n",
       "        vertical-align: top;\n",
       "    }\n",
       "\n",
       "    .dataframe thead th {\n",
       "        text-align: right;\n",
       "    }\n",
       "</style>\n",
       "<table border=\"1\" class=\"dataframe\">\n",
       "  <thead>\n",
       "    <tr style=\"text-align: right;\">\n",
       "      <th></th>\n",
       "      <th>Unnamed: 0</th>\n",
       "      <th>S_No</th>\n",
       "      <th>Key</th>\n",
       "      <th>Prev_3</th>\n",
       "      <th>Prev_2</th>\n",
       "      <th>Prev_1</th>\n",
       "      <th>Speaker_A_Utterance</th>\n",
       "      <th>Speaker_A_Question</th>\n",
       "      <th>Speaker_B_Answer</th>\n",
       "      <th>After_2</th>\n",
       "      <th>After_3</th>\n",
       "      <th>Gold_label</th>\n",
       "      <th>QA</th>\n",
       "    </tr>\n",
       "  </thead>\n",
       "  <tbody>\n",
       "    <tr>\n",
       "      <th>0</th>\n",
       "      <td>554</td>\n",
       "      <td>554</td>\n",
       "      <td>4376-43</td>\n",
       "      <td>Uh, and,</td>\n",
       "      <td>Was he murdered? Did they find who killed him?</td>\n",
       "      <td>Oh, yes. They found him and he is on trial for...</td>\n",
       "      <td>So it hasn't been a long time ago. Just recently.</td>\n",
       "      <td>Just recently.</td>\n",
       "      <td>Uh, well, actually he has, I, I'm sorry. He wa...</td>\n",
       "      <td>Yeah, yeah. That appeals process, I mean, it'...</td>\n",
       "      <td>other_conv</td>\n",
       "      <td>pyes</td>\n",
       "      <td>Just recently.[SEP]Uh, well, actually he has, ...</td>\n",
       "    </tr>\n",
       "    <tr>\n",
       "      <th>1</th>\n",
       "      <td>246</td>\n",
       "      <td>246</td>\n",
       "      <td>4048-61</td>\n",
       "      <td>Yeah. Well, especially around, uh, you know, e...</td>\n",
       "      <td>Huh. That's true.</td>\n",
       "      <td>You know, I've, I've gone out and had a, had a...</td>\n",
       "      <td>Uh huh. Do they give any limits on alcohol, or...</td>\n",
       "      <td>Do they give any limits on alcohol,</td>\n",
       "      <td>Uh, I don't remember, to tell you the truth. I...</td>\n",
       "      <td>.</td>\n",
       "      <td>I'll have to go into work tomorrow and ask.</td>\n",
       "      <td>middle</td>\n",
       "      <td>Do they give any limits on alcohol,[SEP]Uh, I ...</td>\n",
       "    </tr>\n",
       "    <tr>\n",
       "      <th>2</th>\n",
       "      <td>1</td>\n",
       "      <td>1</td>\n",
       "      <td>3543-47</td>\n",
       "      <td>Well, I, I've it, it seems like it's gone, got...</td>\n",
       "      <td>Yeah. You kind of hate to,</td>\n",
       "      <td>No, wh , what about the argument where, where ...</td>\n",
       "      <td>You mean</td>\n",
       "      <td>You mean</td>\n",
       "      <td>Uh,</td>\n",
       "      <td>uh, violence?</td>\n",
       "      <td>More. Doesn't this, yeah, I mean, doesn't this...</td>\n",
       "      <td>middle</td>\n",
       "      <td>You mean[SEP]Uh,</td>\n",
       "    </tr>\n",
       "    <tr>\n",
       "      <th>3</th>\n",
       "      <td>101</td>\n",
       "      <td>101</td>\n",
       "      <td>2634-52</td>\n",
       "      <td>as a, as a pistol.</td>\n",
       "      <td>Well, I have a bicycle because I've been run o...</td>\n",
       "      <td>Well there's,</td>\n",
       "      <td>If it's not going to cut the supply of illegal...</td>\n",
       "      <td>does that, uh, mean advantage?</td>\n",
       "      <td>Uh, not necessarily a price thing. What is hap...</td>\n",
       "      <td>Uh huh.</td>\n",
       "      <td>myself, has not committed a felony and has com...</td>\n",
       "      <td>no</td>\n",
       "      <td>does that, uh, mean advantage?[SEP]Uh, not nec...</td>\n",
       "    </tr>\n",
       "    <tr>\n",
       "      <th>4</th>\n",
       "      <td>1891</td>\n",
       "      <td>1891</td>\n",
       "      <td>3956-1</td>\n",
       "      <td>other_conv</td>\n",
       "      <td>other_conv</td>\n",
       "      <td>Okay. Well, what do you think about the govern...</td>\n",
       "      <td>Good grief. That's just almost unaffordable, i...</td>\n",
       "      <td>That's just almost unaffordable, isn't it?</td>\n",
       "      <td>Right, it really is, and I think, you know, I ...</td>\n",
       "      <td>Well, I wonder if they couldn't just provide, ...</td>\n",
       "      <td>Well, the thing is, you know, jobs are so hard...</td>\n",
       "      <td>yes</td>\n",
       "      <td>That's just almost unaffordable, isn't it?[SEP...</td>\n",
       "    </tr>\n",
       "  </tbody>\n",
       "</table>\n",
       "</div>\n",
       "      <button class=\"colab-df-convert\" onclick=\"convertToInteractive('df-fa8bd2cf-ff30-4c61-ab0d-21e31b8f312b')\"\n",
       "              title=\"Convert this dataframe to an interactive table.\"\n",
       "              style=\"display:none;\">\n",
       "        \n",
       "  <svg xmlns=\"http://www.w3.org/2000/svg\" height=\"24px\"viewBox=\"0 0 24 24\"\n",
       "       width=\"24px\">\n",
       "    <path d=\"M0 0h24v24H0V0z\" fill=\"none\"/>\n",
       "    <path d=\"M18.56 5.44l.94 2.06.94-2.06 2.06-.94-2.06-.94-.94-2.06-.94 2.06-2.06.94zm-11 1L8.5 8.5l.94-2.06 2.06-.94-2.06-.94L8.5 2.5l-.94 2.06-2.06.94zm10 10l.94 2.06.94-2.06 2.06-.94-2.06-.94-.94-2.06-.94 2.06-2.06.94z\"/><path d=\"M17.41 7.96l-1.37-1.37c-.4-.4-.92-.59-1.43-.59-.52 0-1.04.2-1.43.59L10.3 9.45l-7.72 7.72c-.78.78-.78 2.05 0 2.83L4 21.41c.39.39.9.59 1.41.59.51 0 1.02-.2 1.41-.59l7.78-7.78 2.81-2.81c.8-.78.8-2.07 0-2.86zM5.41 20L4 18.59l7.72-7.72 1.47 1.35L5.41 20z\"/>\n",
       "  </svg>\n",
       "      </button>\n",
       "      \n",
       "  <style>\n",
       "    .colab-df-container {\n",
       "      display:flex;\n",
       "      flex-wrap:wrap;\n",
       "      gap: 12px;\n",
       "    }\n",
       "\n",
       "    .colab-df-convert {\n",
       "      background-color: #E8F0FE;\n",
       "      border: none;\n",
       "      border-radius: 50%;\n",
       "      cursor: pointer;\n",
       "      display: none;\n",
       "      fill: #1967D2;\n",
       "      height: 32px;\n",
       "      padding: 0 0 0 0;\n",
       "      width: 32px;\n",
       "    }\n",
       "\n",
       "    .colab-df-convert:hover {\n",
       "      background-color: #E2EBFA;\n",
       "      box-shadow: 0px 1px 2px rgba(60, 64, 67, 0.3), 0px 1px 3px 1px rgba(60, 64, 67, 0.15);\n",
       "      fill: #174EA6;\n",
       "    }\n",
       "\n",
       "    [theme=dark] .colab-df-convert {\n",
       "      background-color: #3B4455;\n",
       "      fill: #D2E3FC;\n",
       "    }\n",
       "\n",
       "    [theme=dark] .colab-df-convert:hover {\n",
       "      background-color: #434B5C;\n",
       "      box-shadow: 0px 1px 3px 1px rgba(0, 0, 0, 0.15);\n",
       "      filter: drop-shadow(0px 1px 2px rgba(0, 0, 0, 0.3));\n",
       "      fill: #FFFFFF;\n",
       "    }\n",
       "  </style>\n",
       "\n",
       "      <script>\n",
       "        const buttonEl =\n",
       "          document.querySelector('#df-fa8bd2cf-ff30-4c61-ab0d-21e31b8f312b button.colab-df-convert');\n",
       "        buttonEl.style.display =\n",
       "          google.colab.kernel.accessAllowed ? 'block' : 'none';\n",
       "\n",
       "        async function convertToInteractive(key) {\n",
       "          const element = document.querySelector('#df-fa8bd2cf-ff30-4c61-ab0d-21e31b8f312b');\n",
       "          const dataTable =\n",
       "            await google.colab.kernel.invokeFunction('convertToInteractive',\n",
       "                                                     [key], {});\n",
       "          if (!dataTable) return;\n",
       "\n",
       "          const docLinkHtml = 'Like what you see? Visit the ' +\n",
       "            '<a target=\"_blank\" href=https://colab.research.google.com/notebooks/data_table.ipynb>data table notebook</a>'\n",
       "            + ' to learn more about interactive tables.';\n",
       "          element.innerHTML = '';\n",
       "          dataTable['output_type'] = 'display_data';\n",
       "          await google.colab.output.renderOutput(dataTable, element);\n",
       "          const docLink = document.createElement('div');\n",
       "          docLink.innerHTML = docLinkHtml;\n",
       "          element.appendChild(docLink);\n",
       "        }\n",
       "      </script>\n",
       "    </div>\n",
       "  </div>\n",
       "  "
      ],
      "text/plain": [
       "   Unnamed: 0  S_No      Key  \\\n",
       "0         554   554  4376-43   \n",
       "1         246   246  4048-61   \n",
       "2           1     1  3543-47   \n",
       "3         101   101  2634-52   \n",
       "4        1891  1891   3956-1   \n",
       "\n",
       "                                              Prev_3  \\\n",
       "0                                           Uh, and,   \n",
       "1  Yeah. Well, especially around, uh, you know, e...   \n",
       "2  Well, I, I've it, it seems like it's gone, got...   \n",
       "3                                 as a, as a pistol.   \n",
       "4                                         other_conv   \n",
       "\n",
       "                                              Prev_2  \\\n",
       "0     Was he murdered? Did they find who killed him?   \n",
       "1                                  Huh. That's true.   \n",
       "2                         Yeah. You kind of hate to,   \n",
       "3  Well, I have a bicycle because I've been run o...   \n",
       "4                                         other_conv   \n",
       "\n",
       "                                              Prev_1  \\\n",
       "0  Oh, yes. They found him and he is on trial for...   \n",
       "1  You know, I've, I've gone out and had a, had a...   \n",
       "2  No, wh , what about the argument where, where ...   \n",
       "3                                      Well there's,   \n",
       "4  Okay. Well, what do you think about the govern...   \n",
       "\n",
       "                                 Speaker_A_Utterance  \\\n",
       "0  So it hasn't been a long time ago. Just recently.   \n",
       "1  Uh huh. Do they give any limits on alcohol, or...   \n",
       "2                                           You mean   \n",
       "3  If it's not going to cut the supply of illegal...   \n",
       "4  Good grief. That's just almost unaffordable, i...   \n",
       "\n",
       "                           Speaker_A_Question  \\\n",
       "0                              Just recently.   \n",
       "1         Do they give any limits on alcohol,   \n",
       "2                                    You mean   \n",
       "3              does that, uh, mean advantage?   \n",
       "4  That's just almost unaffordable, isn't it?   \n",
       "\n",
       "                                    Speaker_B_Answer  \\\n",
       "0  Uh, well, actually he has, I, I'm sorry. He wa...   \n",
       "1  Uh, I don't remember, to tell you the truth. I...   \n",
       "2                                                Uh,   \n",
       "3  Uh, not necessarily a price thing. What is hap...   \n",
       "4  Right, it really is, and I think, you know, I ...   \n",
       "\n",
       "                                             After_2  \\\n",
       "0   Yeah, yeah. That appeals process, I mean, it'...   \n",
       "1                                                  .   \n",
       "2                                      uh, violence?   \n",
       "3                                            Uh huh.   \n",
       "4  Well, I wonder if they couldn't just provide, ...   \n",
       "\n",
       "                                             After_3 Gold_label  \\\n",
       "0                                         other_conv       pyes   \n",
       "1        I'll have to go into work tomorrow and ask.     middle   \n",
       "2  More. Doesn't this, yeah, I mean, doesn't this...     middle   \n",
       "3  myself, has not committed a felony and has com...         no   \n",
       "4  Well, the thing is, you know, jobs are so hard...        yes   \n",
       "\n",
       "                                                  QA  \n",
       "0  Just recently.[SEP]Uh, well, actually he has, ...  \n",
       "1  Do they give any limits on alcohol,[SEP]Uh, I ...  \n",
       "2                                   You mean[SEP]Uh,  \n",
       "3  does that, uh, mean advantage?[SEP]Uh, not nec...  \n",
       "4  That's just almost unaffordable, isn't it?[SEP...  "
      ]
     },
     "execution_count": 5,
     "metadata": {},
     "output_type": "execute_result"
    }
   ],
   "source": [
    "df_swda_train.head(5)"
   ]
  },
  {
   "cell_type": "code",
   "execution_count": 6,
   "metadata": {
    "executionInfo": {
     "elapsed": 13,
     "status": "ok",
     "timestamp": 1686614125079,
     "user": {
      "displayName": "Shivam Mathur",
      "userId": "13996464205483377357"
     },
     "user_tz": 420
    },
    "id": "Fww1M8oqeSJG"
   },
   "outputs": [],
   "source": [
    "# pretrain datasets have different labels. We replace them appropriatly as per our task\n",
    "\n",
    "df_swda_train['Gold_label'] = df_swda_train['Gold_label'].astype(str)\n",
    "df_swda_train['Gold_label'] = df_swda_train['Gold_label'].str.replace('pyes','py')\n",
    "df_swda_train['Gold_label'] = df_swda_train['Gold_label'].str.replace('pno','pn')\n",
    "df_swda_train['Gold_label'] = df_swda_train['Gold_label'].str.replace('yes','y')\n",
    "df_swda_train['Gold_label'] = df_swda_train['Gold_label'].str.replace('no','n')\n",
    "df_swda_train['Gold_label'] = df_swda_train['Gold_label'].str.replace('middle','uk')\n",
    "\n",
    "df_swda_dev['Gold_label'] = df_swda_dev['Gold_label'].astype(str)\n",
    "df_swda_dev['Gold_label'] = df_swda_dev['Gold_label'].str.replace('pyes','py')\n",
    "df_swda_dev['Gold_label'] = df_swda_dev['Gold_label'].str.replace('pno','pn')\n",
    "df_swda_dev['Gold_label'] = df_swda_dev['Gold_label'].str.replace('yes','y')\n",
    "df_swda_dev['Gold_label'] = df_swda_dev['Gold_label'].str.replace('no','n')\n",
    "df_swda_dev['Gold_label'] = df_swda_dev['Gold_label'].str.replace('middle','uk')\n",
    "\n",
    "df_swda_test['Gold_label'] = df_swda_test['Gold_label'].astype(str)\n",
    "df_swda_test['Gold_label'] = df_swda_test['Gold_label'].str.replace('pyes','py')\n",
    "df_swda_test['Gold_label'] = df_swda_test['Gold_label'].str.replace('pno','pn')\n",
    "df_swda_test['Gold_label'] = df_swda_test['Gold_label'].str.replace('yes','y')\n",
    "df_swda_test['Gold_label'] = df_swda_test['Gold_label'].str.replace('no','n')\n",
    "df_swda_test['Gold_label'] = df_swda_test['Gold_label'].str.replace('middle','uk')"
   ]
  },
  {
   "cell_type": "code",
   "execution_count": 7,
   "metadata": {
    "colab": {
     "base_uri": "https://localhost:8080/"
    },
    "executionInfo": {
     "elapsed": 14,
     "status": "ok",
     "timestamp": 1686614125080,
     "user": {
      "displayName": "Shivam Mathur",
      "userId": "13996464205483377357"
     },
     "user_tz": 420
    },
    "id": "modAD93jkjUt",
    "outputId": "07bb0663-1a8b-4706-a4f5-fb3fdcf6d8d1"
   },
   "outputs": [
    {
     "data": {
      "text/plain": [
       "y     767\n",
       "py    343\n",
       "uk    267\n",
       "n     234\n",
       "pn    169\n",
       "Name: Gold_label, dtype: int64"
      ]
     },
     "execution_count": 7,
     "metadata": {},
     "output_type": "execute_result"
    }
   ],
   "source": [
    "df_swda_train['Gold_label'].value_counts()"
   ]
  },
  {
   "cell_type": "code",
   "execution_count": 8,
   "metadata": {
    "executionInfo": {
     "elapsed": 11,
     "status": "ok",
     "timestamp": 1686614125080,
     "user": {
      "displayName": "Shivam Mathur",
      "userId": "13996464205483377357"
     },
     "user_tz": 420
    },
    "id": "zPGsumCKfnN6"
   },
   "outputs": [],
   "source": [
    "# rename the ground truth column to gold - match with Twitter-IA\n",
    "df_swda_train = df_swda_train.rename(columns={\"Gold_label\": \"gold\"})\n",
    "df_swda_dev = df_swda_dev.rename(columns={\"Gold_label\": \"gold\"})\n",
    "df_swda_test = df_swda_test.rename(columns={\"Gold_label\": \"gold\"})"
   ]
  },
  {
   "cell_type": "code",
   "execution_count": 9,
   "metadata": {
    "executionInfo": {
     "elapsed": 11,
     "status": "ok",
     "timestamp": 1686614125080,
     "user": {
      "displayName": "Shivam Mathur",
      "userId": "13996464205483377357"
     },
     "user_tz": 420
    },
    "id": "G6xIK8PvgcJa"
   },
   "outputs": [],
   "source": [
    "# One hot encoding of pretrain corpora\n",
    "y_swda_train = pd.get_dummies(df_swda_train.gold, prefix='gold')\n",
    "y_swda_dev = pd.get_dummies(df_swda_dev.gold, prefix='gold')\n",
    "y_swda_test = pd.get_dummies(df_swda_test.gold, prefix='gold')\n"
   ]
  },
  {
   "cell_type": "code",
   "execution_count": 10,
   "metadata": {
    "colab": {
     "base_uri": "https://localhost:8080/",
     "height": 363
    },
    "executionInfo": {
     "elapsed": 10,
     "status": "ok",
     "timestamp": 1686614125080,
     "user": {
      "displayName": "Shivam Mathur",
      "userId": "13996464205483377357"
     },
     "user_tz": 420
    },
    "id": "jiPjM-i3tXhW",
    "outputId": "5b920152-bc7a-4a14-f9c3-f0b46355f8f9"
   },
   "outputs": [
    {
     "data": {
      "text/html": [
       "\n",
       "  <div id=\"df-9586e57c-b564-4ff6-be37-5dd3e3a0b31c\">\n",
       "    <div class=\"colab-df-container\">\n",
       "      <div>\n",
       "<style scoped>\n",
       "    .dataframe tbody tr th:only-of-type {\n",
       "        vertical-align: middle;\n",
       "    }\n",
       "\n",
       "    .dataframe tbody tr th {\n",
       "        vertical-align: top;\n",
       "    }\n",
       "\n",
       "    .dataframe thead th {\n",
       "        text-align: right;\n",
       "    }\n",
       "</style>\n",
       "<table border=\"1\" class=\"dataframe\">\n",
       "  <thead>\n",
       "    <tr style=\"text-align: right;\">\n",
       "      <th></th>\n",
       "      <th>gold_n</th>\n",
       "      <th>gold_pn</th>\n",
       "      <th>gold_py</th>\n",
       "      <th>gold_uk</th>\n",
       "      <th>gold_y</th>\n",
       "    </tr>\n",
       "  </thead>\n",
       "  <tbody>\n",
       "    <tr>\n",
       "      <th>0</th>\n",
       "      <td>1</td>\n",
       "      <td>0</td>\n",
       "      <td>0</td>\n",
       "      <td>0</td>\n",
       "      <td>0</td>\n",
       "    </tr>\n",
       "    <tr>\n",
       "      <th>1</th>\n",
       "      <td>0</td>\n",
       "      <td>0</td>\n",
       "      <td>0</td>\n",
       "      <td>1</td>\n",
       "      <td>0</td>\n",
       "    </tr>\n",
       "    <tr>\n",
       "      <th>2</th>\n",
       "      <td>0</td>\n",
       "      <td>1</td>\n",
       "      <td>0</td>\n",
       "      <td>0</td>\n",
       "      <td>0</td>\n",
       "    </tr>\n",
       "    <tr>\n",
       "      <th>3</th>\n",
       "      <td>1</td>\n",
       "      <td>0</td>\n",
       "      <td>0</td>\n",
       "      <td>0</td>\n",
       "      <td>0</td>\n",
       "    </tr>\n",
       "    <tr>\n",
       "      <th>4</th>\n",
       "      <td>0</td>\n",
       "      <td>0</td>\n",
       "      <td>0</td>\n",
       "      <td>0</td>\n",
       "      <td>1</td>\n",
       "    </tr>\n",
       "    <tr>\n",
       "      <th>5</th>\n",
       "      <td>0</td>\n",
       "      <td>1</td>\n",
       "      <td>0</td>\n",
       "      <td>0</td>\n",
       "      <td>0</td>\n",
       "    </tr>\n",
       "    <tr>\n",
       "      <th>6</th>\n",
       "      <td>0</td>\n",
       "      <td>1</td>\n",
       "      <td>0</td>\n",
       "      <td>0</td>\n",
       "      <td>0</td>\n",
       "    </tr>\n",
       "    <tr>\n",
       "      <th>7</th>\n",
       "      <td>1</td>\n",
       "      <td>0</td>\n",
       "      <td>0</td>\n",
       "      <td>0</td>\n",
       "      <td>0</td>\n",
       "    </tr>\n",
       "    <tr>\n",
       "      <th>8</th>\n",
       "      <td>0</td>\n",
       "      <td>0</td>\n",
       "      <td>0</td>\n",
       "      <td>1</td>\n",
       "      <td>0</td>\n",
       "    </tr>\n",
       "    <tr>\n",
       "      <th>9</th>\n",
       "      <td>0</td>\n",
       "      <td>0</td>\n",
       "      <td>0</td>\n",
       "      <td>0</td>\n",
       "      <td>1</td>\n",
       "    </tr>\n",
       "  </tbody>\n",
       "</table>\n",
       "</div>\n",
       "      <button class=\"colab-df-convert\" onclick=\"convertToInteractive('df-9586e57c-b564-4ff6-be37-5dd3e3a0b31c')\"\n",
       "              title=\"Convert this dataframe to an interactive table.\"\n",
       "              style=\"display:none;\">\n",
       "        \n",
       "  <svg xmlns=\"http://www.w3.org/2000/svg\" height=\"24px\"viewBox=\"0 0 24 24\"\n",
       "       width=\"24px\">\n",
       "    <path d=\"M0 0h24v24H0V0z\" fill=\"none\"/>\n",
       "    <path d=\"M18.56 5.44l.94 2.06.94-2.06 2.06-.94-2.06-.94-.94-2.06-.94 2.06-2.06.94zm-11 1L8.5 8.5l.94-2.06 2.06-.94-2.06-.94L8.5 2.5l-.94 2.06-2.06.94zm10 10l.94 2.06.94-2.06 2.06-.94-2.06-.94-.94-2.06-.94 2.06-2.06.94z\"/><path d=\"M17.41 7.96l-1.37-1.37c-.4-.4-.92-.59-1.43-.59-.52 0-1.04.2-1.43.59L10.3 9.45l-7.72 7.72c-.78.78-.78 2.05 0 2.83L4 21.41c.39.39.9.59 1.41.59.51 0 1.02-.2 1.41-.59l7.78-7.78 2.81-2.81c.8-.78.8-2.07 0-2.86zM5.41 20L4 18.59l7.72-7.72 1.47 1.35L5.41 20z\"/>\n",
       "  </svg>\n",
       "      </button>\n",
       "      \n",
       "  <style>\n",
       "    .colab-df-container {\n",
       "      display:flex;\n",
       "      flex-wrap:wrap;\n",
       "      gap: 12px;\n",
       "    }\n",
       "\n",
       "    .colab-df-convert {\n",
       "      background-color: #E8F0FE;\n",
       "      border: none;\n",
       "      border-radius: 50%;\n",
       "      cursor: pointer;\n",
       "      display: none;\n",
       "      fill: #1967D2;\n",
       "      height: 32px;\n",
       "      padding: 0 0 0 0;\n",
       "      width: 32px;\n",
       "    }\n",
       "\n",
       "    .colab-df-convert:hover {\n",
       "      background-color: #E2EBFA;\n",
       "      box-shadow: 0px 1px 2px rgba(60, 64, 67, 0.3), 0px 1px 3px 1px rgba(60, 64, 67, 0.15);\n",
       "      fill: #174EA6;\n",
       "    }\n",
       "\n",
       "    [theme=dark] .colab-df-convert {\n",
       "      background-color: #3B4455;\n",
       "      fill: #D2E3FC;\n",
       "    }\n",
       "\n",
       "    [theme=dark] .colab-df-convert:hover {\n",
       "      background-color: #434B5C;\n",
       "      box-shadow: 0px 1px 3px 1px rgba(0, 0, 0, 0.15);\n",
       "      filter: drop-shadow(0px 1px 2px rgba(0, 0, 0, 0.3));\n",
       "      fill: #FFFFFF;\n",
       "    }\n",
       "  </style>\n",
       "\n",
       "      <script>\n",
       "        const buttonEl =\n",
       "          document.querySelector('#df-9586e57c-b564-4ff6-be37-5dd3e3a0b31c button.colab-df-convert');\n",
       "        buttonEl.style.display =\n",
       "          google.colab.kernel.accessAllowed ? 'block' : 'none';\n",
       "\n",
       "        async function convertToInteractive(key) {\n",
       "          const element = document.querySelector('#df-9586e57c-b564-4ff6-be37-5dd3e3a0b31c');\n",
       "          const dataTable =\n",
       "            await google.colab.kernel.invokeFunction('convertToInteractive',\n",
       "                                                     [key], {});\n",
       "          if (!dataTable) return;\n",
       "\n",
       "          const docLinkHtml = 'Like what you see? Visit the ' +\n",
       "            '<a target=\"_blank\" href=https://colab.research.google.com/notebooks/data_table.ipynb>data table notebook</a>'\n",
       "            + ' to learn more about interactive tables.';\n",
       "          element.innerHTML = '';\n",
       "          dataTable['output_type'] = 'display_data';\n",
       "          await google.colab.output.renderOutput(dataTable, element);\n",
       "          const docLink = document.createElement('div');\n",
       "          docLink.innerHTML = docLinkHtml;\n",
       "          element.appendChild(docLink);\n",
       "        }\n",
       "      </script>\n",
       "    </div>\n",
       "  </div>\n",
       "  "
      ],
      "text/plain": [
       "   gold_n  gold_pn  gold_py  gold_uk  gold_y\n",
       "0       1        0        0        0       0\n",
       "1       0        0        0        1       0\n",
       "2       0        1        0        0       0\n",
       "3       1        0        0        0       0\n",
       "4       0        0        0        0       1\n",
       "5       0        1        0        0       0\n",
       "6       0        1        0        0       0\n",
       "7       1        0        0        0       0\n",
       "8       0        0        0        1       0\n",
       "9       0        0        0        0       1"
      ]
     },
     "execution_count": 10,
     "metadata": {},
     "output_type": "execute_result"
    }
   ],
   "source": [
    "y_swda_test.head(10)"
   ]
  },
  {
   "cell_type": "code",
   "execution_count": 11,
   "metadata": {
    "executionInfo": {
     "elapsed": 2111,
     "status": "ok",
     "timestamp": 1686614127182,
     "user": {
      "displayName": "Shivam Mathur",
      "userId": "13996464205483377357"
     },
     "user_tz": 420
    },
    "id": "XlqX2gpFGxfm"
   },
   "outputs": [],
   "source": [
    "# Also get the finetunning dataset\n",
    "\n",
    "# setting A\n",
    "df_train = pd.read_csv('TR_a.csv')\n",
    "df_train=df_train.rename(columns={\"gold_adj\": \"gold\"})\n",
    "\n",
    "df_dev = pd.read_csv('TD_a.csv')\n",
    "df_dev=df_dev.rename(columns={\"gold_adj\": \"gold\"})\n",
    "\n",
    "df_test = pd.read_csv('TE_a.csv')\n",
    "df_test=df_test.rename(columns={\"gold_adj\": \"gold\"})\n",
    "\n",
    "df_train['QA'] = df_train['Main_tweet'] + '[SEP]' + df_train['Reply_tweet']\n",
    "\n",
    "df_dev['QA'] = df_dev['Main_tweet'] + '[SEP]' + df_dev['Reply_tweet']\n",
    "df_dev = df_dev.rename(columns={\"gold_adj\": \"gold\"})\n",
    "\n",
    "df_test['QA'] = df_test['Main_tweet'] + '[SEP]' + df_test['Reply_tweet']\n",
    "df_test = df_test.rename(columns={\"gold_adj\": \"gold\"})"
   ]
  },
  {
   "cell_type": "code",
   "execution_count": 12,
   "metadata": {
    "colab": {
     "base_uri": "https://localhost:8080/",
     "height": 424
    },
    "executionInfo": {
     "elapsed": 4,
     "status": "ok",
     "timestamp": 1686614127182,
     "user": {
      "displayName": "Shivam Mathur",
      "userId": "13996464205483377357"
     },
     "user_tz": 420
    },
    "id": "PMdjgIOgBC5c",
    "outputId": "cea7a05a-797e-4468-c0d2-d7cb9bb6ae99"
   },
   "outputs": [
    {
     "data": {
      "text/html": [
       "\n",
       "  <div id=\"df-8f2b27a2-3f4d-42fa-8863-a14a78b4a361\">\n",
       "    <div class=\"colab-df-container\">\n",
       "      <div>\n",
       "<style scoped>\n",
       "    .dataframe tbody tr th:only-of-type {\n",
       "        vertical-align: middle;\n",
       "    }\n",
       "\n",
       "    .dataframe tbody tr th {\n",
       "        vertical-align: top;\n",
       "    }\n",
       "\n",
       "    .dataframe thead th {\n",
       "        text-align: right;\n",
       "    }\n",
       "</style>\n",
       "<table border=\"1\" class=\"dataframe\">\n",
       "  <thead>\n",
       "    <tr style=\"text-align: right;\">\n",
       "      <th></th>\n",
       "      <th>gold_n</th>\n",
       "      <th>gold_pn</th>\n",
       "      <th>gold_py</th>\n",
       "      <th>gold_uk</th>\n",
       "      <th>gold_y</th>\n",
       "    </tr>\n",
       "  </thead>\n",
       "  <tbody>\n",
       "    <tr>\n",
       "      <th>0</th>\n",
       "      <td>0</td>\n",
       "      <td>0</td>\n",
       "      <td>0</td>\n",
       "      <td>0</td>\n",
       "      <td>1</td>\n",
       "    </tr>\n",
       "    <tr>\n",
       "      <th>1</th>\n",
       "      <td>0</td>\n",
       "      <td>0</td>\n",
       "      <td>0</td>\n",
       "      <td>0</td>\n",
       "      <td>1</td>\n",
       "    </tr>\n",
       "    <tr>\n",
       "      <th>2</th>\n",
       "      <td>0</td>\n",
       "      <td>0</td>\n",
       "      <td>0</td>\n",
       "      <td>0</td>\n",
       "      <td>1</td>\n",
       "    </tr>\n",
       "    <tr>\n",
       "      <th>3</th>\n",
       "      <td>1</td>\n",
       "      <td>0</td>\n",
       "      <td>0</td>\n",
       "      <td>0</td>\n",
       "      <td>0</td>\n",
       "    </tr>\n",
       "    <tr>\n",
       "      <th>4</th>\n",
       "      <td>0</td>\n",
       "      <td>0</td>\n",
       "      <td>0</td>\n",
       "      <td>0</td>\n",
       "      <td>1</td>\n",
       "    </tr>\n",
       "    <tr>\n",
       "      <th>...</th>\n",
       "      <td>...</td>\n",
       "      <td>...</td>\n",
       "      <td>...</td>\n",
       "      <td>...</td>\n",
       "      <td>...</td>\n",
       "    </tr>\n",
       "    <tr>\n",
       "      <th>595</th>\n",
       "      <td>1</td>\n",
       "      <td>0</td>\n",
       "      <td>0</td>\n",
       "      <td>0</td>\n",
       "      <td>0</td>\n",
       "    </tr>\n",
       "    <tr>\n",
       "      <th>596</th>\n",
       "      <td>0</td>\n",
       "      <td>0</td>\n",
       "      <td>1</td>\n",
       "      <td>0</td>\n",
       "      <td>0</td>\n",
       "    </tr>\n",
       "    <tr>\n",
       "      <th>597</th>\n",
       "      <td>0</td>\n",
       "      <td>0</td>\n",
       "      <td>0</td>\n",
       "      <td>1</td>\n",
       "      <td>0</td>\n",
       "    </tr>\n",
       "    <tr>\n",
       "      <th>598</th>\n",
       "      <td>0</td>\n",
       "      <td>0</td>\n",
       "      <td>1</td>\n",
       "      <td>0</td>\n",
       "      <td>0</td>\n",
       "    </tr>\n",
       "    <tr>\n",
       "      <th>599</th>\n",
       "      <td>0</td>\n",
       "      <td>0</td>\n",
       "      <td>1</td>\n",
       "      <td>0</td>\n",
       "      <td>0</td>\n",
       "    </tr>\n",
       "  </tbody>\n",
       "</table>\n",
       "<p>600 rows × 5 columns</p>\n",
       "</div>\n",
       "      <button class=\"colab-df-convert\" onclick=\"convertToInteractive('df-8f2b27a2-3f4d-42fa-8863-a14a78b4a361')\"\n",
       "              title=\"Convert this dataframe to an interactive table.\"\n",
       "              style=\"display:none;\">\n",
       "        \n",
       "  <svg xmlns=\"http://www.w3.org/2000/svg\" height=\"24px\"viewBox=\"0 0 24 24\"\n",
       "       width=\"24px\">\n",
       "    <path d=\"M0 0h24v24H0V0z\" fill=\"none\"/>\n",
       "    <path d=\"M18.56 5.44l.94 2.06.94-2.06 2.06-.94-2.06-.94-.94-2.06-.94 2.06-2.06.94zm-11 1L8.5 8.5l.94-2.06 2.06-.94-2.06-.94L8.5 2.5l-.94 2.06-2.06.94zm10 10l.94 2.06.94-2.06 2.06-.94-2.06-.94-.94-2.06-.94 2.06-2.06.94z\"/><path d=\"M17.41 7.96l-1.37-1.37c-.4-.4-.92-.59-1.43-.59-.52 0-1.04.2-1.43.59L10.3 9.45l-7.72 7.72c-.78.78-.78 2.05 0 2.83L4 21.41c.39.39.9.59 1.41.59.51 0 1.02-.2 1.41-.59l7.78-7.78 2.81-2.81c.8-.78.8-2.07 0-2.86zM5.41 20L4 18.59l7.72-7.72 1.47 1.35L5.41 20z\"/>\n",
       "  </svg>\n",
       "      </button>\n",
       "      \n",
       "  <style>\n",
       "    .colab-df-container {\n",
       "      display:flex;\n",
       "      flex-wrap:wrap;\n",
       "      gap: 12px;\n",
       "    }\n",
       "\n",
       "    .colab-df-convert {\n",
       "      background-color: #E8F0FE;\n",
       "      border: none;\n",
       "      border-radius: 50%;\n",
       "      cursor: pointer;\n",
       "      display: none;\n",
       "      fill: #1967D2;\n",
       "      height: 32px;\n",
       "      padding: 0 0 0 0;\n",
       "      width: 32px;\n",
       "    }\n",
       "\n",
       "    .colab-df-convert:hover {\n",
       "      background-color: #E2EBFA;\n",
       "      box-shadow: 0px 1px 2px rgba(60, 64, 67, 0.3), 0px 1px 3px 1px rgba(60, 64, 67, 0.15);\n",
       "      fill: #174EA6;\n",
       "    }\n",
       "\n",
       "    [theme=dark] .colab-df-convert {\n",
       "      background-color: #3B4455;\n",
       "      fill: #D2E3FC;\n",
       "    }\n",
       "\n",
       "    [theme=dark] .colab-df-convert:hover {\n",
       "      background-color: #434B5C;\n",
       "      box-shadow: 0px 1px 3px 1px rgba(0, 0, 0, 0.15);\n",
       "      filter: drop-shadow(0px 1px 2px rgba(0, 0, 0, 0.3));\n",
       "      fill: #FFFFFF;\n",
       "    }\n",
       "  </style>\n",
       "\n",
       "      <script>\n",
       "        const buttonEl =\n",
       "          document.querySelector('#df-8f2b27a2-3f4d-42fa-8863-a14a78b4a361 button.colab-df-convert');\n",
       "        buttonEl.style.display =\n",
       "          google.colab.kernel.accessAllowed ? 'block' : 'none';\n",
       "\n",
       "        async function convertToInteractive(key) {\n",
       "          const element = document.querySelector('#df-8f2b27a2-3f4d-42fa-8863-a14a78b4a361');\n",
       "          const dataTable =\n",
       "            await google.colab.kernel.invokeFunction('convertToInteractive',\n",
       "                                                     [key], {});\n",
       "          if (!dataTable) return;\n",
       "\n",
       "          const docLinkHtml = 'Like what you see? Visit the ' +\n",
       "            '<a target=\"_blank\" href=https://colab.research.google.com/notebooks/data_table.ipynb>data table notebook</a>'\n",
       "            + ' to learn more about interactive tables.';\n",
       "          element.innerHTML = '';\n",
       "          dataTable['output_type'] = 'display_data';\n",
       "          await google.colab.output.renderOutput(dataTable, element);\n",
       "          const docLink = document.createElement('div');\n",
       "          docLink.innerHTML = docLinkHtml;\n",
       "          element.appendChild(docLink);\n",
       "        }\n",
       "      </script>\n",
       "    </div>\n",
       "  </div>\n",
       "  "
      ],
      "text/plain": [
       "     gold_n  gold_pn  gold_py  gold_uk  gold_y\n",
       "0         0        0        0        0       1\n",
       "1         0        0        0        0       1\n",
       "2         0        0        0        0       1\n",
       "3         1        0        0        0       0\n",
       "4         0        0        0        0       1\n",
       "..      ...      ...      ...      ...     ...\n",
       "595       1        0        0        0       0\n",
       "596       0        0        1        0       0\n",
       "597       0        0        0        1       0\n",
       "598       0        0        1        0       0\n",
       "599       0        0        1        0       0\n",
       "\n",
       "[600 rows x 5 columns]"
      ]
     },
     "execution_count": 12,
     "metadata": {},
     "output_type": "execute_result"
    }
   ],
   "source": [
    "y_dev = pd.get_dummies(df_dev.gold, prefix = 'gold')\n",
    "y_dev"
   ]
  },
  {
   "cell_type": "code",
   "execution_count": 13,
   "metadata": {
    "executionInfo": {
     "elapsed": 23661,
     "status": "ok",
     "timestamp": 1686614150840,
     "user": {
      "displayName": "Shivam Mathur",
      "userId": "13996464205483377357"
     },
     "user_tz": 420
    },
    "id": "B8_NOYqMhkVP"
   },
   "outputs": [],
   "source": [
    "# roberta initialization\n",
    "bert_preprocess = hub.KerasLayer(\"https://tfhub.dev/jeongukjae/roberta_en_cased_preprocess/1\", trainable=True)\n",
    "bert_encoder = hub.KerasLayer(\"https://tfhub.dev/jeongukjae/roberta_en_cased_L-12_H-768_A-12/1\", trainable=True)"
   ]
  },
  {
   "cell_type": "code",
   "execution_count": 14,
   "metadata": {
    "colab": {
     "base_uri": "https://localhost:8080/"
    },
    "executionInfo": {
     "elapsed": 1218,
     "status": "ok",
     "timestamp": 1686614152033,
     "user": {
      "displayName": "Shivam Mathur",
      "userId": "13996464205483377357"
     },
     "user_tz": 420
    },
    "id": "4Ru5kNBkhrgH",
    "outputId": "8cbe5d97-ffeb-40c6-98a8-b791ed1f104a"
   },
   "outputs": [
    {
     "name": "stderr",
     "output_type": "stream",
     "text": [
      "ERROR:absl:hub.KerasLayer is trainable but has zero trainable weights.\n"
     ]
    }
   ],
   "source": [
    "# RoBerta layers\n",
    "text_input = tf.keras.layers.Input(shape=(), dtype=tf.string, name='text') # Textual input layer\n",
    "preprocessed_text = bert_preprocess(text_input) # The preprocessing of text\n",
    "outputs = bert_encoder(preprocessed_text) # Encoded o/p\n",
    "\n",
    "# Neural network layers\n",
    "# l = tf.keras.layers.Dense(50, activation='sigmoid', name=\"output\")(outputs['pooled_output'])\n",
    "# l = tf.keras.layers.Dense(6, activation='softmax', name=\"soft_output\")(l)\n",
    "\n",
    "# softmax layers\n",
    "l = tf.keras.layers.Dense(5, activation='softmax', name=\"soft_output\")(outputs['pooled_output'])\n",
    "\n",
    "# Use inputs and outputs to construct a final model\n",
    "model = tf.keras.Model(inputs=[text_input], outputs = [l])"
   ]
  },
  {
   "cell_type": "code",
   "execution_count": 15,
   "metadata": {
    "colab": {
     "base_uri": "https://localhost:8080/"
    },
    "executionInfo": {
     "elapsed": 19,
     "status": "ok",
     "timestamp": 1686614152033,
     "user": {
      "displayName": "Shivam Mathur",
      "userId": "13996464205483377357"
     },
     "user_tz": 420
    },
    "id": "no36pn3Gi3mN",
    "outputId": "249e1480-4e3c-40bf-f66e-198150f5b6d4"
   },
   "outputs": [
    {
     "name": "stdout",
     "output_type": "stream",
     "text": [
      "Model: \"model\"\n",
      "__________________________________________________________________________________________________\n",
      " Layer (type)                   Output Shape         Param #     Connected to                     \n",
      "==================================================================================================\n",
      " text (InputLayer)              [(None,)]            0           []                               \n",
      "                                                                                                  \n",
      " keras_layer (KerasLayer)       {'input_mask': (Non  0           ['text[0][0]']                   \n",
      "                                e, 128),                                                          \n",
      "                                 'input_word_ids':                                                \n",
      "                                (None, 128),                                                      \n",
      "                                 'input_type_ids':                                                \n",
      "                                (None, 128)}                                                      \n",
      "                                                                                                  \n",
      " keras_layer_1 (KerasLayer)     {'encoder_outputs':  124644096   ['keras_layer[0][0]',            \n",
      "                                 [(None, 128, 768),               'keras_layer[0][1]',            \n",
      "                                 (None, 128, 768),                'keras_layer[0][2]']            \n",
      "                                 (None, 128, 768),                                                \n",
      "                                 (None, 128, 768),                                                \n",
      "                                 (None, 128, 768),                                                \n",
      "                                 (None, 128, 768),                                                \n",
      "                                 (None, 128, 768),                                                \n",
      "                                 (None, 128, 768),                                                \n",
      "                                 (None, 128, 768),                                                \n",
      "                                 (None, 128, 768),                                                \n",
      "                                 (None, 128, 768),                                                \n",
      "                                 (None, 128, 768)],                                               \n",
      "                                 'pooled_output': (                                               \n",
      "                                None, 768),                                                       \n",
      "                                 'sequence_output':                                               \n",
      "                                 (None, 128, 768)}                                                \n",
      "                                                                                                  \n",
      " soft_output (Dense)            (None, 5)            3845        ['keras_layer_1[0][12]']         \n",
      "                                                                                                  \n",
      "==================================================================================================\n",
      "Total params: 124,647,941\n",
      "Trainable params: 124,647,941\n",
      "Non-trainable params: 0\n",
      "__________________________________________________________________________________________________\n"
     ]
    }
   ],
   "source": [
    "model.summary()"
   ]
  },
  {
   "cell_type": "code",
   "execution_count": 16,
   "metadata": {
    "colab": {
     "base_uri": "https://localhost:8080/"
    },
    "executionInfo": {
     "elapsed": 7,
     "status": "ok",
     "timestamp": 1686614152034,
     "user": {
      "displayName": "Shivam Mathur",
      "userId": "13996464205483377357"
     },
     "user_tz": 420
    },
    "id": "m5No8ZcN1lAh",
    "outputId": "b10ab692-80af-4cb1-9966-54570e9e35b6"
   },
   "outputs": [
    {
     "name": "stdout",
     "output_type": "stream",
     "text": [
      "Empty DataFrame\n",
      "Columns: [Unnamed: 0_x, Main_Tweet_ID_x, Reply_id, temporal_setting_x, Main_tweet_x, Reply_tweet_x, gold_1_x, gold_2_x, gold_x, QA_x, Unnamed: 0_y, Main_Tweet_ID_y, temporal_setting_y, Main_tweet_y, Reply_tweet_y, gold_1_y, gold_2_y, gold_y, QA_y]\n",
      "Index: []\n",
      "Empty DataFrame\n",
      "Columns: [Unnamed: 0_x, Main_Tweet_ID_x, Reply_id, temporal_setting_x, Main_tweet_x, Reply_tweet_x, gold_1_x, gold_2_x, gold_x, QA_x, Unnamed: 0_y, Main_Tweet_ID_y, temporal_setting_y, Main_tweet_y, Reply_tweet_y, gold_1_y, gold_2_y, gold_y, QA_y]\n",
      "Index: []\n",
      "(3315,)\n",
      "(527,)\n"
     ]
    }
   ],
   "source": [
    "print(pd.merge(df_train, df_test, on = 'Reply_id'))\n",
    "print(pd.merge(df_train, df_dev, on = 'Reply_id'))\n",
    "print(df_train['gold'].shape)\n",
    "print(df_test['gold'].shape)"
   ]
  },
  {
   "cell_type": "code",
   "execution_count": 17,
   "metadata": {
    "executionInfo": {
     "elapsed": 362,
     "status": "ok",
     "timestamp": 1686614152393,
     "user": {
      "displayName": "Shivam Mathur",
      "userId": "13996464205483377357"
     },
     "user_tz": 420
    },
    "id": "8hEuXcNEi6aK"
   },
   "outputs": [],
   "source": [
    "import keras\n",
    "\n",
    "def get_lr_metric(optimizer):\n",
    "    def lr(y_true, y_pred):\n",
    "        return optimizer.learning_rate # I use ._decayed_lr method instead of .lr\n",
    "    return lr\n",
    "\n",
    "\n",
    "callback = tf.keras.callbacks.EarlyStopping(monitor='val_loss', patience=5, min_delta=0.01, restore_best_weights=True)\n",
    "\n",
    "initial_learning_rate = 0.00002\n",
    "lr_schedule = tf.keras.optimizers.schedules.ExponentialDecay(\n",
    "    initial_learning_rate,\n",
    "    decay_steps=10000,\n",
    "    decay_rate=0.96,\n",
    "    staircase=True)\n",
    "\n",
    "optimizer = tf.keras.optimizers.Adam(learning_rate=lr_schedule)\n",
    "\n",
    "lr_metric = get_lr_metric(optimizer)\n",
    "\n",
    "METRICS = [\n",
    "      tf.keras.metrics.CategoricalAccuracy(name='accuracy'),\n",
    "      tf.keras.metrics.Precision(name='precision'),\n",
    "      tf.keras.metrics.Recall(name='recall'),\n",
    "      lr_metric\n",
    "]\n",
    "\n",
    "# optimizer.learning_rate.assign(0.00002)\n",
    "model.compile(optimizer=optimizer,\n",
    "              loss='CategoricalCrossentropy',\n",
    "              metrics=METRICS)"
   ]
  },
  {
   "cell_type": "code",
   "execution_count": 18,
   "metadata": {
    "colab": {
     "base_uri": "https://localhost:8080/"
    },
    "executionInfo": {
     "elapsed": 1183134,
     "status": "ok",
     "timestamp": 1686615335523,
     "user": {
      "displayName": "Shivam Mathur",
      "userId": "13996464205483377357"
     },
     "user_tz": 420
    },
    "id": "Ui75kWjCiwfQ",
    "outputId": "379a2e0a-6130-4825-ae15-5b87b7f91f4d"
   },
   "outputs": [
    {
     "name": "stdout",
     "output_type": "stream",
     "text": [
      "Epoch 1/200\n",
      "112/112 [==============================] - 169s 1s/step - loss: 1.4774 - accuracy: 0.4208 - precision: 0.4773 - recall: 0.0826 - lr: 2.0000e-05 - val_loss: 1.4261 - val_accuracy: 0.4136 - val_precision: 0.5213 - val_recall: 0.1283 - val_lr: 2.0000e-05\n",
      "Epoch 2/200\n",
      "112/112 [==============================] - 145s 1s/step - loss: 1.2942 - accuracy: 0.4792 - precision: 0.6564 - recall: 0.2511 - lr: 2.0000e-05 - val_loss: 1.3658 - val_accuracy: 0.4921 - val_precision: 0.5238 - val_recall: 0.4031 - val_lr: 2.0000e-05\n",
      "Epoch 3/200\n",
      "112/112 [==============================] - 145s 1s/step - loss: 1.0799 - accuracy: 0.5607 - precision: 0.7222 - recall: 0.3871 - lr: 2.0000e-05 - val_loss: 1.3020 - val_accuracy: 0.4424 - val_precision: 0.6224 - val_recall: 0.3194 - val_lr: 2.0000e-05\n",
      "Epoch 4/200\n",
      "112/112 [==============================] - 145s 1s/step - loss: 0.8732 - accuracy: 0.6410 - precision: 0.7551 - recall: 0.5197 - lr: 2.0000e-05 - val_loss: 1.4066 - val_accuracy: 0.4738 - val_precision: 0.5390 - val_recall: 0.3796 - val_lr: 2.0000e-05\n",
      "Epoch 5/200\n",
      "112/112 [==============================] - 145s 1s/step - loss: 0.6296 - accuracy: 0.7708 - precision: 0.8215 - recall: 0.6904 - lr: 2.0000e-05 - val_loss: 1.6543 - val_accuracy: 0.4869 - val_precision: 0.5260 - val_recall: 0.4503 - val_lr: 2.0000e-05\n",
      "Epoch 6/200\n",
      "112/112 [==============================] - 145s 1s/step - loss: 0.4411 - accuracy: 0.8365 - precision: 0.8746 - recall: 0.8034 - lr: 2.0000e-05 - val_loss: 1.9547 - val_accuracy: 0.4607 - val_precision: 0.4663 - val_recall: 0.4162 - val_lr: 2.0000e-05\n",
      "Epoch 7/200\n",
      "112/112 [==============================] - 145s 1s/step - loss: 0.2477 - accuracy: 0.9152 - precision: 0.9242 - recall: 0.9039 - lr: 2.0000e-05 - val_loss: 2.3873 - val_accuracy: 0.4529 - val_precision: 0.4540 - val_recall: 0.4267 - val_lr: 2.0000e-05\n",
      "Epoch 8/200\n",
      "112/112 [==============================] - 145s 1s/step - loss: 0.1839 - accuracy: 0.9360 - precision: 0.9457 - recall: 0.9287 - lr: 2.0000e-05 - val_loss: 2.6190 - val_accuracy: 0.4634 - val_precision: 0.4701 - val_recall: 0.4529 - val_lr: 2.0000e-05\n"
     ]
    },
    {
     "data": {
      "text/plain": [
       "<keras.callbacks.History at 0x7f5c3a0f8400>"
      ]
     },
     "execution_count": 18,
     "metadata": {},
     "output_type": "execute_result"
    }
   ],
   "source": [
    "# pretraining\n",
    "model.fit(df_swda_train['QA'], y_swda_train, epochs=200, batch_size=16, callbacks=[callback], validation_data=(df_swda_dev['QA'], y_swda_dev))"
   ]
  },
  {
   "cell_type": "code",
   "execution_count": 19,
   "metadata": {
    "colab": {
     "base_uri": "https://localhost:8080/"
    },
    "executionInfo": {
     "elapsed": 29867,
     "status": "ok",
     "timestamp": 1686615365372,
     "user": {
      "displayName": "Shivam Mathur",
      "userId": "13996464205483377357"
     },
     "user_tz": 420
    },
    "id": "vFdLYILhmN9Q",
    "outputId": "d3addf99-0b8d-43c5-9aa7-796f51f27824"
   },
   "outputs": [
    {
     "name": "stdout",
     "output_type": "stream",
     "text": [
      "12/12 [==============================] - 15s 1s/step - loss: 1.2150 - accuracy: 0.5131 - precision: 0.6491 - recall: 0.3874 - lr: 2.0000e-05\n",
      "[1.214958906173706, 0.5130890011787415, 0.6491228342056274, 0.38743454217910767, 2.0000001313746907e-05]\n",
      "12/12 [==============================] - 14s 1s/step\n",
      "TEST-(of Pretrain)\n",
      "              precision    recall  f1-score   support\n",
      "\n",
      "           n       0.51      0.47      0.49        51\n",
      "          pn       0.50      0.02      0.04        49\n",
      "          py       0.29      0.27      0.28        71\n",
      "          uk       0.45      0.67      0.54        57\n",
      "           y       0.62      0.74      0.68       154\n",
      "\n",
      "    accuracy                           0.51       382\n",
      "   macro avg       0.47      0.43      0.40       382\n",
      "weighted avg       0.50      0.51      0.48       382\n",
      "\n"
     ]
    }
   ],
   "source": [
    "print(model.evaluate(df_swda_test['QA'], y_swda_test))\n",
    "y_predicted = model.predict(df_swda_test['QA'])\n",
    "\n",
    "pred_results = tf.cast(tf.equal(y_predicted, tf.reduce_max(y_predicted, axis = 1, keepdims=True)), tf.float32)\n",
    "\n",
    "pred_results = pd.DataFrame(pred_results.numpy(), columns = ['gold_n',\n",
    "                                       'gold_pn',\n",
    "                                       'gold_py',\n",
    "                                       'gold_uk',\n",
    "                                       'gold_y'])\n",
    "\n",
    "pred_results.shape\n",
    "pred_results.to_numpy()\n",
    "pred_results = [np.where(r==1)[0][0] for r in pred_results.to_numpy()]\n",
    "pred_results = pd.DataFrame(pred_results, columns=['gold'])\n",
    "\n",
    "pred_results['gold'] = pred_results['gold'].map({0:'n',\n",
    "                                                   1:'pn',\n",
    "                                                   2:'py',\n",
    "                                                   3:'uk',\n",
    "                                                   4:'y'})\n",
    "\n",
    "test_gtruths = [np.where(r==1)[0][0] for r in y_swda_test.to_numpy()]\n",
    "test_gtruths = pd.DataFrame(test_gtruths, columns=['gold'])\n",
    "\n",
    "test_gtruths['gold'] = test_gtruths['gold'].map({0:'n',\n",
    "                                                   1:'pn',\n",
    "                                                   2:'py',\n",
    "                                                   3:'uk',\n",
    "                                                   4:'y'})\n",
    "\n",
    "print('TEST-(of Pretrain)')\n",
    "from sklearn.metrics import classification_report\n",
    "print(classification_report(y_true = test_gtruths['gold'], y_pred = pred_results['gold']))"
   ]
  },
  {
   "cell_type": "code",
   "execution_count": 20,
   "metadata": {
    "colab": {
     "base_uri": "https://localhost:8080/"
    },
    "executionInfo": {
     "elapsed": 26049,
     "status": "ok",
     "timestamp": 1686615391416,
     "user": {
      "displayName": "Shivam Mathur",
      "userId": "13996464205483377357"
     },
     "user_tz": 420
    },
    "id": "8IU0XDyBAbbw",
    "outputId": "59c60431-bca2-4776-e1a9-fb26f2e69d0e"
   },
   "outputs": [
    {
     "name": "stdout",
     "output_type": "stream",
     "text": [
      "19/19 [==============================] - 13s 698ms/step - loss: 1.3687 - accuracy: 0.4600 - precision: 0.8000 - recall: 0.3133 - lr: 2.0000e-05\n",
      "[1.3686875104904175, 0.46000000834465027, 0.800000011920929, 0.31333333253860474, 2.000000313273631e-05]\n",
      "19/19 [==============================] - 13s 672ms/step\n",
      "DEV\n",
      "              precision    recall  f1-score   support\n",
      "\n",
      "           n       0.74      0.39      0.51       166\n",
      "          pn       0.00      0.00      0.00        19\n",
      "          py       0.16      0.48      0.23        61\n",
      "          uk       0.58      0.22      0.32       113\n",
      "           y       0.56      0.66      0.61       241\n",
      "\n",
      "    accuracy                           0.46       600\n",
      "   macro avg       0.41      0.35      0.33       600\n",
      "weighted avg       0.56      0.46      0.47       600\n",
      "\n"
     ]
    }
   ],
   "source": [
    "y_dev = pd.get_dummies(df_dev.gold, prefix = 'gold')\n",
    "print(model.evaluate(df_dev['QA'], y_dev))\n",
    "y_predicted = model.predict(df_dev['QA'])\n",
    "\n",
    "pred_results = tf.cast(tf.equal(y_predicted, tf.reduce_max(y_predicted, axis = 1, keepdims=True)), tf.float32)\n",
    "\n",
    "pred_results = pd.DataFrame(pred_results.numpy(), columns = ['gold_n',\n",
    "                                       'gold_pn',\n",
    "                                       'gold_py',\n",
    "                                       'gold_uk',\n",
    "                                       'gold_y'])\n",
    "\n",
    "pred_results.shape\n",
    "pred_results.to_numpy()\n",
    "pred_results = [np.where(r==1)[0][0] for r in pred_results.to_numpy()]\n",
    "pred_results = pd.DataFrame(pred_results, columns=['gold'])\n",
    "\n",
    "pred_results['gold'] = pred_results['gold'].map({0:'n',\n",
    "                                                   1:'pn',\n",
    "                                                   2:'py',\n",
    "                                                   3:'uk',\n",
    "                                                   4:'y'})\n",
    "\n",
    "dev_gtruths = [np.where(r==1)[0][0] for r in y_dev.to_numpy()]\n",
    "dev_gtruths = pd.DataFrame(dev_gtruths, columns=['gold'])\n",
    "\n",
    "dev_gtruths['gold'] = dev_gtruths['gold'].map({0:'n',\n",
    "                                                   1:'pn',\n",
    "                                                   2:'py',\n",
    "                                                   3:'uk',\n",
    "                                                   4:'y'})\n",
    "\n",
    "print('DEV')\n",
    "from sklearn.metrics import classification_report\n",
    "print(classification_report(y_true = dev_gtruths['gold'], y_pred = pred_results['gold']))"
   ]
  },
  {
   "cell_type": "code",
   "execution_count": 21,
   "metadata": {
    "colab": {
     "base_uri": "https://localhost:8080/"
    },
    "executionInfo": {
     "elapsed": 21834,
     "status": "ok",
     "timestamp": 1686615413227,
     "user": {
      "displayName": "Shivam Mathur",
      "userId": "13996464205483377357"
     },
     "user_tz": 420
    },
    "id": "M2VSImQW6lhf",
    "outputId": "8a9bd40f-51b8-4412-f54e-c56c8fe3d660"
   },
   "outputs": [
    {
     "name": "stdout",
     "output_type": "stream",
     "text": [
      "17/17 [==============================] - 11s 650ms/step - loss: 1.3190 - accuracy: 0.5180 - precision: 0.7412 - recall: 0.3586 - lr: 2.0000e-05\n",
      "[1.319042682647705, 0.51802659034729, 0.7411764860153198, 0.35863378643989563, 2.000000313273631e-05]\n",
      "17/17 [==============================] - 11s 618ms/step\n",
      "TEST\n",
      "              precision    recall  f1-score   support\n",
      "\n",
      "           n       0.76      0.48      0.59       157\n",
      "          pn       1.00      0.07      0.13        29\n",
      "          py       0.14      0.35      0.20        49\n",
      "          uk       0.41      0.19      0.26        80\n",
      "           y       0.61      0.77      0.68       212\n",
      "\n",
      "    accuracy                           0.52       527\n",
      "   macro avg       0.58      0.37      0.37       527\n",
      "weighted avg       0.60      0.52      0.52       527\n",
      "\n"
     ]
    }
   ],
   "source": [
    "y_test = pd.get_dummies(df_test.gold, prefix = 'gold')\n",
    "print(model.evaluate(df_test['QA'], y_test))\n",
    "y_predicted = model.predict(df_test['QA'])\n",
    "\n",
    "pred_results = tf.cast(tf.equal(y_predicted, tf.reduce_max(y_predicted, axis = 1, keepdims=True)), tf.float32)\n",
    "\n",
    "pred_results = pd.DataFrame(pred_results.numpy(), columns = ['gold_n',\n",
    "                                       'gold_pn',\n",
    "                                       'gold_py',\n",
    "                                       'gold_uk',\n",
    "                                       'gold_y'])\n",
    "\n",
    "pred_results.shape\n",
    "pred_results.to_numpy()\n",
    "pred_results = [np.where(r==1)[0][0] for r in pred_results.to_numpy()]\n",
    "pred_results = pd.DataFrame(pred_results, columns=['gold'])\n",
    "\n",
    "pred_results['gold'] = pred_results['gold'].map({0:'n',\n",
    "                                                   1:'pn',\n",
    "                                                   2:'py',\n",
    "                                                   3:'uk',\n",
    "                                                   4:'y'})\n",
    "\n",
    "test_gtruths = [np.where(r==1)[0][0] for r in y_test.to_numpy()]\n",
    "test_gtruths = pd.DataFrame(test_gtruths, columns=['gold'])\n",
    "\n",
    "test_gtruths['gold'] = test_gtruths['gold'].map({0:'n',\n",
    "                                                   1:'pn',\n",
    "                                                   2:'py',\n",
    "                                                   3:'uk',\n",
    "                                                   4:'y'})\n",
    "\n",
    "print('TEST')\n",
    "from sklearn.metrics import classification_report\n",
    "print(classification_report(y_true = test_gtruths['gold'], y_pred = pred_results['gold']))"
   ]
  },
  {
   "cell_type": "code",
   "execution_count": 22,
   "metadata": {
    "colab": {
     "base_uri": "https://localhost:8080/",
     "height": 574
    },
    "executionInfo": {
     "elapsed": 511,
     "status": "ok",
     "timestamp": 1686615413715,
     "user": {
      "displayName": "Shivam Mathur",
      "userId": "13996464205483377357"
     },
     "user_tz": 420
    },
    "id": "2a-LwSpXWk5w",
    "outputId": "af88ce0c-c998-4b6d-d4af-3f5abe870dec"
   },
   "outputs": [
    {
     "data": {
      "image/png": "[encoded data removed]",
      "text/plain": [
       "<Figure size 640x480 with 2 Axes>"
      ]
     },
     "metadata": {},
     "output_type": "display_data"
    },
    {
     "name": "stdout",
     "output_type": "stream",
     "text": [
      "gold        n  pn  py  uk    y\n",
      "predicted                     \n",
      "n          76   7   3   6    8\n",
      "pn          0   2   0   0    0\n",
      "py         25  12  17  33   35\n",
      "uk         10   2   4  15    6\n",
      "y          46   6  25  26  163\n"
     ]
    }
   ],
   "source": [
    "import seaborn as sns\n",
    "import matplotlib.pyplot as plt\n",
    "\n",
    "confusion_matrix = pd.crosstab(pred_results['gold'],test_gtruths['gold'],rownames=['predicted'], colnames=['gold'])\n",
    "\n",
    "sns.heatmap(confusion_matrix,annot=True,cmap='Blues', fmt='g')\n",
    "plt.show()\n",
    "print(confusion_matrix)"
   ]
  },
  {
   "cell_type": "code",
   "execution_count": 23,
   "metadata": {
    "executionInfo": {
     "elapsed": 1324,
     "status": "ok",
     "timestamp": 1686615415032,
     "user": {
      "displayName": "Shivam Mathur",
      "userId": "13996464205483377357"
     },
     "user_tz": 420
    },
    "id": "gHdAZF3pLM8N"
   },
   "outputs": [],
   "source": [
    "pred_results.to_csv('/content/drive/MyDrive/expts_emnlp23/results/A_swda.csv')"
   ]
  },
  {
   "cell_type": "code",
   "execution_count": 24,
   "metadata": {
    "colab": {
     "base_uri": "https://localhost:8080/",
     "height": 424
    },
    "executionInfo": {
     "elapsed": 17,
     "status": "ok",
     "timestamp": 1686615415033,
     "user": {
      "displayName": "Shivam Mathur",
      "userId": "13996464205483377357"
     },
     "user_tz": 420
    },
    "id": "D54ZgCgRCTio",
    "outputId": "3cf0b7ca-8820-4ba2-c561-703577d3cf81"
   },
   "outputs": [
    {
     "data": {
      "text/html": [
       "\n",
       "  <div id=\"df-2f976a63-cb5b-4a05-b8d6-d56da9fff11f\">\n",
       "    <div class=\"colab-df-container\">\n",
       "      <div>\n",
       "<style scoped>\n",
       "    .dataframe tbody tr th:only-of-type {\n",
       "        vertical-align: middle;\n",
       "    }\n",
       "\n",
       "    .dataframe tbody tr th {\n",
       "        vertical-align: top;\n",
       "    }\n",
       "\n",
       "    .dataframe thead th {\n",
       "        text-align: right;\n",
       "    }\n",
       "</style>\n",
       "<table border=\"1\" class=\"dataframe\">\n",
       "  <thead>\n",
       "    <tr style=\"text-align: right;\">\n",
       "      <th></th>\n",
       "      <th>gold_n</th>\n",
       "      <th>gold_pn</th>\n",
       "      <th>gold_py</th>\n",
       "      <th>gold_uk</th>\n",
       "      <th>gold_y</th>\n",
       "    </tr>\n",
       "  </thead>\n",
       "  <tbody>\n",
       "    <tr>\n",
       "      <th>0</th>\n",
       "      <td>0</td>\n",
       "      <td>0</td>\n",
       "      <td>0</td>\n",
       "      <td>0</td>\n",
       "      <td>1</td>\n",
       "    </tr>\n",
       "    <tr>\n",
       "      <th>1</th>\n",
       "      <td>0</td>\n",
       "      <td>0</td>\n",
       "      <td>0</td>\n",
       "      <td>0</td>\n",
       "      <td>1</td>\n",
       "    </tr>\n",
       "    <tr>\n",
       "      <th>2</th>\n",
       "      <td>1</td>\n",
       "      <td>0</td>\n",
       "      <td>0</td>\n",
       "      <td>0</td>\n",
       "      <td>0</td>\n",
       "    </tr>\n",
       "    <tr>\n",
       "      <th>3</th>\n",
       "      <td>1</td>\n",
       "      <td>0</td>\n",
       "      <td>0</td>\n",
       "      <td>0</td>\n",
       "      <td>0</td>\n",
       "    </tr>\n",
       "    <tr>\n",
       "      <th>4</th>\n",
       "      <td>0</td>\n",
       "      <td>0</td>\n",
       "      <td>0</td>\n",
       "      <td>0</td>\n",
       "      <td>1</td>\n",
       "    </tr>\n",
       "    <tr>\n",
       "      <th>...</th>\n",
       "      <td>...</td>\n",
       "      <td>...</td>\n",
       "      <td>...</td>\n",
       "      <td>...</td>\n",
       "      <td>...</td>\n",
       "    </tr>\n",
       "    <tr>\n",
       "      <th>3310</th>\n",
       "      <td>0</td>\n",
       "      <td>0</td>\n",
       "      <td>1</td>\n",
       "      <td>0</td>\n",
       "      <td>0</td>\n",
       "    </tr>\n",
       "    <tr>\n",
       "      <th>3311</th>\n",
       "      <td>1</td>\n",
       "      <td>0</td>\n",
       "      <td>0</td>\n",
       "      <td>0</td>\n",
       "      <td>0</td>\n",
       "    </tr>\n",
       "    <tr>\n",
       "      <th>3312</th>\n",
       "      <td>1</td>\n",
       "      <td>0</td>\n",
       "      <td>0</td>\n",
       "      <td>0</td>\n",
       "      <td>0</td>\n",
       "    </tr>\n",
       "    <tr>\n",
       "      <th>3313</th>\n",
       "      <td>0</td>\n",
       "      <td>0</td>\n",
       "      <td>0</td>\n",
       "      <td>1</td>\n",
       "      <td>0</td>\n",
       "    </tr>\n",
       "    <tr>\n",
       "      <th>3314</th>\n",
       "      <td>0</td>\n",
       "      <td>0</td>\n",
       "      <td>0</td>\n",
       "      <td>1</td>\n",
       "      <td>0</td>\n",
       "    </tr>\n",
       "  </tbody>\n",
       "</table>\n",
       "<p>3315 rows × 5 columns</p>\n",
       "</div>\n",
       "      <button class=\"colab-df-convert\" onclick=\"convertToInteractive('df-2f976a63-cb5b-4a05-b8d6-d56da9fff11f')\"\n",
       "              title=\"Convert this dataframe to an interactive table.\"\n",
       "              style=\"display:none;\">\n",
       "        \n",
       "  <svg xmlns=\"http://www.w3.org/2000/svg\" height=\"24px\"viewBox=\"0 0 24 24\"\n",
       "       width=\"24px\">\n",
       "    <path d=\"M0 0h24v24H0V0z\" fill=\"none\"/>\n",
       "    <path d=\"M18.56 5.44l.94 2.06.94-2.06 2.06-.94-2.06-.94-.94-2.06-.94 2.06-2.06.94zm-11 1L8.5 8.5l.94-2.06 2.06-.94-2.06-.94L8.5 2.5l-.94 2.06-2.06.94zm10 10l.94 2.06.94-2.06 2.06-.94-2.06-.94-.94-2.06-.94 2.06-2.06.94z\"/><path d=\"M17.41 7.96l-1.37-1.37c-.4-.4-.92-.59-1.43-.59-.52 0-1.04.2-1.43.59L10.3 9.45l-7.72 7.72c-.78.78-.78 2.05 0 2.83L4 21.41c.39.39.9.59 1.41.59.51 0 1.02-.2 1.41-.59l7.78-7.78 2.81-2.81c.8-.78.8-2.07 0-2.86zM5.41 20L4 18.59l7.72-7.72 1.47 1.35L5.41 20z\"/>\n",
       "  </svg>\n",
       "      </button>\n",
       "      \n",
       "  <style>\n",
       "    .colab-df-container {\n",
       "      display:flex;\n",
       "      flex-wrap:wrap;\n",
       "      gap: 12px;\n",
       "    }\n",
       "\n",
       "    .colab-df-convert {\n",
       "      background-color: #E8F0FE;\n",
       "      border: none;\n",
       "      border-radius: 50%;\n",
       "      cursor: pointer;\n",
       "      display: none;\n",
       "      fill: #1967D2;\n",
       "      height: 32px;\n",
       "      padding: 0 0 0 0;\n",
       "      width: 32px;\n",
       "    }\n",
       "\n",
       "    .colab-df-convert:hover {\n",
       "      background-color: #E2EBFA;\n",
       "      box-shadow: 0px 1px 2px rgba(60, 64, 67, 0.3), 0px 1px 3px 1px rgba(60, 64, 67, 0.15);\n",
       "      fill: #174EA6;\n",
       "    }\n",
       "\n",
       "    [theme=dark] .colab-df-convert {\n",
       "      background-color: #3B4455;\n",
       "      fill: #D2E3FC;\n",
       "    }\n",
       "\n",
       "    [theme=dark] .colab-df-convert:hover {\n",
       "      background-color: #434B5C;\n",
       "      box-shadow: 0px 1px 3px 1px rgba(0, 0, 0, 0.15);\n",
       "      filter: drop-shadow(0px 1px 2px rgba(0, 0, 0, 0.3));\n",
       "      fill: #FFFFFF;\n",
       "    }\n",
       "  </style>\n",
       "\n",
       "      <script>\n",
       "        const buttonEl =\n",
       "          document.querySelector('#df-2f976a63-cb5b-4a05-b8d6-d56da9fff11f button.colab-df-convert');\n",
       "        buttonEl.style.display =\n",
       "          google.colab.kernel.accessAllowed ? 'block' : 'none';\n",
       "\n",
       "        async function convertToInteractive(key) {\n",
       "          const element = document.querySelector('#df-2f976a63-cb5b-4a05-b8d6-d56da9fff11f');\n",
       "          const dataTable =\n",
       "            await google.colab.kernel.invokeFunction('convertToInteractive',\n",
       "                                                     [key], {});\n",
       "          if (!dataTable) return;\n",
       "\n",
       "          const docLinkHtml = 'Like what you see? Visit the ' +\n",
       "            '<a target=\"_blank\" href=https://colab.research.google.com/notebooks/data_table.ipynb>data table notebook</a>'\n",
       "            + ' to learn more about interactive tables.';\n",
       "          element.innerHTML = '';\n",
       "          dataTable['output_type'] = 'display_data';\n",
       "          await google.colab.output.renderOutput(dataTable, element);\n",
       "          const docLink = document.createElement('div');\n",
       "          docLink.innerHTML = docLinkHtml;\n",
       "          element.appendChild(docLink);\n",
       "        }\n",
       "      </script>\n",
       "    </div>\n",
       "  </div>\n",
       "  "
      ],
      "text/plain": [
       "      gold_n  gold_pn  gold_py  gold_uk  gold_y\n",
       "0          0        0        0        0       1\n",
       "1          0        0        0        0       1\n",
       "2          1        0        0        0       0\n",
       "3          1        0        0        0       0\n",
       "4          0        0        0        0       1\n",
       "...      ...      ...      ...      ...     ...\n",
       "3310       0        0        1        0       0\n",
       "3311       1        0        0        0       0\n",
       "3312       1        0        0        0       0\n",
       "3313       0        0        0        1       0\n",
       "3314       0        0        0        1       0\n",
       "\n",
       "[3315 rows x 5 columns]"
      ]
     },
     "execution_count": 24,
     "metadata": {},
     "output_type": "execute_result"
    }
   ],
   "source": [
    "df_train['QA'] = df_train['Main_tweet'] + '[SEP]' + df_train['Reply_tweet']\n",
    "y = pd.get_dummies(df_train.gold, prefix='gold')\n",
    "y"
   ]
  },
  {
   "cell_type": "code",
   "execution_count": 25,
   "metadata": {
    "colab": {
     "base_uri": "https://localhost:8080/",
     "height": 131
    },
    "executionInfo": {
     "elapsed": 14,
     "status": "ok",
     "timestamp": 1686615415033,
     "user": {
      "displayName": "Shivam Mathur",
      "userId": "13996464205483377357"
     },
     "user_tz": 420
    },
    "id": "3d-gkGhG_7AB",
    "outputId": "6828e8fe-cc40-4ffc-8012-89e95043f4dc"
   },
   "outputs": [
    {
     "data": {
      "text/html": [
       "\n",
       "  <div id=\"df-8c8386f4-a18c-4ca9-8d89-7e4c387390a9\">\n",
       "    <div class=\"colab-df-container\">\n",
       "      <div>\n",
       "<style scoped>\n",
       "    .dataframe tbody tr th:only-of-type {\n",
       "        vertical-align: middle;\n",
       "    }\n",
       "\n",
       "    .dataframe tbody tr th {\n",
       "        vertical-align: top;\n",
       "    }\n",
       "\n",
       "    .dataframe thead th {\n",
       "        text-align: right;\n",
       "    }\n",
       "</style>\n",
       "<table border=\"1\" class=\"dataframe\">\n",
       "  <thead>\n",
       "    <tr style=\"text-align: right;\">\n",
       "      <th></th>\n",
       "      <th>Unnamed: 0_x</th>\n",
       "      <th>Main_Tweet_ID_x</th>\n",
       "      <th>Reply_id</th>\n",
       "      <th>temporal_setting_x</th>\n",
       "      <th>Main_tweet_x</th>\n",
       "      <th>Reply_tweet_x</th>\n",
       "      <th>gold_1_x</th>\n",
       "      <th>gold_2_x</th>\n",
       "      <th>gold_x</th>\n",
       "      <th>QA_x</th>\n",
       "      <th>Unnamed: 0_y</th>\n",
       "      <th>Main_Tweet_ID_y</th>\n",
       "      <th>temporal_setting_y</th>\n",
       "      <th>Main_tweet_y</th>\n",
       "      <th>Reply_tweet_y</th>\n",
       "      <th>gold_1_y</th>\n",
       "      <th>gold_2_y</th>\n",
       "      <th>gold_y</th>\n",
       "      <th>QA_y</th>\n",
       "    </tr>\n",
       "  </thead>\n",
       "  <tbody>\n",
       "  </tbody>\n",
       "</table>\n",
       "</div>\n",
       "      <button class=\"colab-df-convert\" onclick=\"convertToInteractive('df-8c8386f4-a18c-4ca9-8d89-7e4c387390a9')\"\n",
       "              title=\"Convert this dataframe to an interactive table.\"\n",
       "              style=\"display:none;\">\n",
       "        \n",
       "  <svg xmlns=\"http://www.w3.org/2000/svg\" height=\"24px\"viewBox=\"0 0 24 24\"\n",
       "       width=\"24px\">\n",
       "    <path d=\"M0 0h24v24H0V0z\" fill=\"none\"/>\n",
       "    <path d=\"M18.56 5.44l.94 2.06.94-2.06 2.06-.94-2.06-.94-.94-2.06-.94 2.06-2.06.94zm-11 1L8.5 8.5l.94-2.06 2.06-.94-2.06-.94L8.5 2.5l-.94 2.06-2.06.94zm10 10l.94 2.06.94-2.06 2.06-.94-2.06-.94-.94-2.06-.94 2.06-2.06.94z\"/><path d=\"M17.41 7.96l-1.37-1.37c-.4-.4-.92-.59-1.43-.59-.52 0-1.04.2-1.43.59L10.3 9.45l-7.72 7.72c-.78.78-.78 2.05 0 2.83L4 21.41c.39.39.9.59 1.41.59.51 0 1.02-.2 1.41-.59l7.78-7.78 2.81-2.81c.8-.78.8-2.07 0-2.86zM5.41 20L4 18.59l7.72-7.72 1.47 1.35L5.41 20z\"/>\n",
       "  </svg>\n",
       "      </button>\n",
       "      \n",
       "  <style>\n",
       "    .colab-df-container {\n",
       "      display:flex;\n",
       "      flex-wrap:wrap;\n",
       "      gap: 12px;\n",
       "    }\n",
       "\n",
       "    .colab-df-convert {\n",
       "      background-color: #E8F0FE;\n",
       "      border: none;\n",
       "      border-radius: 50%;\n",
       "      cursor: pointer;\n",
       "      display: none;\n",
       "      fill: #1967D2;\n",
       "      height: 32px;\n",
       "      padding: 0 0 0 0;\n",
       "      width: 32px;\n",
       "    }\n",
       "\n",
       "    .colab-df-convert:hover {\n",
       "      background-color: #E2EBFA;\n",
       "      box-shadow: 0px 1px 2px rgba(60, 64, 67, 0.3), 0px 1px 3px 1px rgba(60, 64, 67, 0.15);\n",
       "      fill: #174EA6;\n",
       "    }\n",
       "\n",
       "    [theme=dark] .colab-df-convert {\n",
       "      background-color: #3B4455;\n",
       "      fill: #D2E3FC;\n",
       "    }\n",
       "\n",
       "    [theme=dark] .colab-df-convert:hover {\n",
       "      background-color: #434B5C;\n",
       "      box-shadow: 0px 1px 3px 1px rgba(0, 0, 0, 0.15);\n",
       "      filter: drop-shadow(0px 1px 2px rgba(0, 0, 0, 0.3));\n",
       "      fill: #FFFFFF;\n",
       "    }\n",
       "  </style>\n",
       "\n",
       "      <script>\n",
       "        const buttonEl =\n",
       "          document.querySelector('#df-8c8386f4-a18c-4ca9-8d89-7e4c387390a9 button.colab-df-convert');\n",
       "        buttonEl.style.display =\n",
       "          google.colab.kernel.accessAllowed ? 'block' : 'none';\n",
       "\n",
       "        async function convertToInteractive(key) {\n",
       "          const element = document.querySelector('#df-8c8386f4-a18c-4ca9-8d89-7e4c387390a9');\n",
       "          const dataTable =\n",
       "            await google.colab.kernel.invokeFunction('convertToInteractive',\n",
       "                                                     [key], {});\n",
       "          if (!dataTable) return;\n",
       "\n",
       "          const docLinkHtml = 'Like what you see? Visit the ' +\n",
       "            '<a target=\"_blank\" href=https://colab.research.google.com/notebooks/data_table.ipynb>data table notebook</a>'\n",
       "            + ' to learn more about interactive tables.';\n",
       "          element.innerHTML = '';\n",
       "          dataTable['output_type'] = 'display_data';\n",
       "          await google.colab.output.renderOutput(dataTable, element);\n",
       "          const docLink = document.createElement('div');\n",
       "          docLink.innerHTML = docLinkHtml;\n",
       "          element.appendChild(docLink);\n",
       "        }\n",
       "      </script>\n",
       "    </div>\n",
       "  </div>\n",
       "  "
      ],
      "text/plain": [
       "Empty DataFrame\n",
       "Columns: [Unnamed: 0_x, Main_Tweet_ID_x, Reply_id, temporal_setting_x, Main_tweet_x, Reply_tweet_x, gold_1_x, gold_2_x, gold_x, QA_x, Unnamed: 0_y, Main_Tweet_ID_y, temporal_setting_y, Main_tweet_y, Reply_tweet_y, gold_1_y, gold_2_y, gold_y, QA_y]\n",
       "Index: []"
      ]
     },
     "execution_count": 25,
     "metadata": {},
     "output_type": "execute_result"
    }
   ],
   "source": [
    "pd.merge(df_train, df_test, on = 'Reply_id')"
   ]
  },
  {
   "cell_type": "code",
   "execution_count": 26,
   "metadata": {
    "colab": {
     "base_uri": "https://localhost:8080/"
    },
    "executionInfo": {
     "elapsed": 1379759,
     "status": "ok",
     "timestamp": 1686616794779,
     "user": {
      "displayName": "Shivam Mathur",
      "userId": "13996464205483377357"
     },
     "user_tz": 420
    },
    "id": "aSdr27_pFQAd",
    "outputId": "85e560cf-c7ef-45c6-fb14-341c10d4682f"
   },
   "outputs": [
    {
     "name": "stdout",
     "output_type": "stream",
     "text": [
      "Epoch 1/200\n",
      "208/208 [==============================] - 201s 969ms/step - loss: 1.0398 - accuracy: 0.5943 - precision: 0.7574 - recall: 0.4154 - lr: 2.0000e-05 - val_loss: 1.0599 - val_accuracy: 0.5900 - val_precision: 0.7112 - val_recall: 0.4433 - val_lr: 2.0000e-05\n",
      "Epoch 2/200\n",
      "208/208 [==============================] - 197s 945ms/step - loss: 0.8473 - accuracy: 0.6787 - precision: 0.7808 - recall: 0.5674 - lr: 2.0000e-05 - val_loss: 1.0403 - val_accuracy: 0.5883 - val_precision: 0.7378 - val_recall: 0.4550 - val_lr: 2.0000e-05\n",
      "Epoch 3/200\n",
      "208/208 [==============================] - 196s 942ms/step - loss: 0.6586 - accuracy: 0.7683 - precision: 0.8307 - recall: 0.6956 - lr: 2.0000e-05 - val_loss: 1.1488 - val_accuracy: 0.5833 - val_precision: 0.6507 - val_recall: 0.5217 - val_lr: 2.0000e-05\n",
      "Epoch 4/200\n",
      "208/208 [==============================] - 197s 945ms/step - loss: 0.4853 - accuracy: 0.8332 - precision: 0.8729 - recall: 0.7955 - lr: 2.0000e-05 - val_loss: 1.2380 - val_accuracy: 0.6067 - val_precision: 0.6438 - val_recall: 0.5783 - val_lr: 2.0000e-05\n",
      "Epoch 5/200\n",
      "208/208 [==============================] - 196s 943ms/step - loss: 0.3574 - accuracy: 0.8784 - precision: 0.8984 - recall: 0.8612 - lr: 2.0000e-05 - val_loss: 1.3719 - val_accuracy: 0.6033 - val_precision: 0.6297 - val_recall: 0.5867 - val_lr: 2.0000e-05\n",
      "Epoch 6/200\n",
      "208/208 [==============================] - 196s 944ms/step - loss: 0.2237 - accuracy: 0.9240 - precision: 0.9360 - recall: 0.9092 - lr: 2.0000e-05 - val_loss: 1.6610 - val_accuracy: 0.6067 - val_precision: 0.6145 - val_recall: 0.5950 - val_lr: 2.0000e-05\n",
      "Epoch 7/200\n",
      "208/208 [==============================] - 197s 946ms/step - loss: 0.1704 - accuracy: 0.9433 - precision: 0.9513 - recall: 0.9370 - lr: 2.0000e-05 - val_loss: 1.9834 - val_accuracy: 0.5833 - val_precision: 0.5904 - val_recall: 0.5767 - val_lr: 2.0000e-05\n"
     ]
    },
    {
     "data": {
      "text/plain": [
       "<keras.callbacks.History at 0x7f5c159c7160>"
      ]
     },
     "execution_count": 26,
     "metadata": {},
     "output_type": "execute_result"
    }
   ],
   "source": [
    "# optimizer.learning_rate.assign(0.00002)\n",
    "model.fit(df_train['QA'], y, epochs=200, batch_size=16, callbacks=[callback], validation_data=(df_dev['QA'], y_dev))"
   ]
  },
  {
   "cell_type": "code",
   "execution_count": 27,
   "metadata": {
    "colab": {
     "base_uri": "https://localhost:8080/"
    },
    "executionInfo": {
     "elapsed": 26444,
     "status": "ok",
     "timestamp": 1686616821202,
     "user": {
      "displayName": "Shivam Mathur",
      "userId": "13996464205483377357"
     },
     "user_tz": 420
    },
    "id": "_kGHPL6SFjDe",
    "outputId": "3d35a624-b7c5-44e3-8bd8-f12412664ec6"
   },
   "outputs": [
    {
     "name": "stdout",
     "output_type": "stream",
     "text": [
      "19/19 [==============================] - 13s 703ms/step - loss: 1.0403 - accuracy: 0.5883 - precision: 0.7378 - recall: 0.4550 - lr: 2.0000e-05\n",
      "[1.040307879447937, 0.5883333086967468, 0.7378378510475159, 0.45500001311302185, 2.000000313273631e-05]\n",
      "19/19 [==============================] - 13s 676ms/step\n",
      "DEV\n",
      "              precision    recall  f1-score   support\n",
      "\n",
      "           n       0.66      0.66      0.66       166\n",
      "          pn       0.17      0.05      0.08        19\n",
      "          py       0.50      0.44      0.47        61\n",
      "          uk       0.42      0.81      0.56       113\n",
      "           y       0.79      0.51      0.62       241\n",
      "\n",
      "    accuracy                           0.59       600\n",
      "   macro avg       0.51      0.50      0.48       600\n",
      "weighted avg       0.63      0.59      0.59       600\n",
      "\n"
     ]
    }
   ],
   "source": [
    "print(model.evaluate(df_dev['QA'], y_dev))\n",
    "y_predicted = model.predict(df_dev['QA'])\n",
    "\n",
    "pred_results = tf.cast(tf.equal(y_predicted, tf.reduce_max(y_predicted, axis = 1, keepdims=True)), tf.float32)\n",
    "\n",
    "pred_results = pd.DataFrame(pred_results.numpy(), columns = ['gold_n',\n",
    "                                       'gold_pn',\n",
    "                                       'gold_py',\n",
    "                                       'gold_uk',\n",
    "                                       'gold_y'])\n",
    "\n",
    "pred_results.shape\n",
    "pred_results.to_numpy()\n",
    "pred_results = [np.where(r==1)[0][0] for r in pred_results.to_numpy()]\n",
    "pred_results = pd.DataFrame(pred_results, columns=['gold'])\n",
    "\n",
    "pred_results['gold'] = pred_results['gold'].map({0:'n',\n",
    "                                                   1:'pn',\n",
    "                                                   2:'py',\n",
    "                                                   3:'uk',\n",
    "                                                   4:'y'})\n",
    "\n",
    "dev_gtruths = [np.where(r==1)[0][0] for r in y_dev.to_numpy()]\n",
    "dev_gtruths = pd.DataFrame(dev_gtruths, columns=['gold'])\n",
    "\n",
    "dev_gtruths['gold'] = dev_gtruths['gold'].map({0:'n',\n",
    "                                                   1:'pn',\n",
    "                                                   2:'py',\n",
    "                                                   3:'uk',\n",
    "                                                   4:'y'})\n",
    "\n",
    "print('DEV')\n",
    "from sklearn.metrics import classification_report\n",
    "print(classification_report(y_true = dev_gtruths['gold'], y_pred = pred_results['gold']))"
   ]
  },
  {
   "cell_type": "code",
   "execution_count": 28,
   "metadata": {
    "colab": {
     "base_uri": "https://localhost:8080/"
    },
    "executionInfo": {
     "elapsed": 21750,
     "status": "ok",
     "timestamp": 1686616842942,
     "user": {
      "displayName": "Shivam Mathur",
      "userId": "13996464205483377357"
     },
     "user_tz": 420
    },
    "id": "nRjol-xFFoIf",
    "outputId": "89061df0-e2f8-46fd-ad2f-bc9e59ecc277"
   },
   "outputs": [
    {
     "name": "stdout",
     "output_type": "stream",
     "text": [
      "17/17 [==============================] - 11s 641ms/step - loss: 1.0300 - accuracy: 0.6186 - precision: 0.7213 - recall: 0.4763 - lr: 2.0000e-05\n",
      "[1.0300313234329224, 0.6185958385467529, 0.7212643623352051, 0.4762808382511139, 2.000000313273631e-05]\n",
      "17/17 [==============================] - 11s 615ms/step\n",
      "TEST\n",
      "              precision    recall  f1-score   support\n",
      "\n",
      "           n       0.70      0.68      0.69       157\n",
      "          pn       0.00      0.00      0.00        29\n",
      "          py       0.54      0.31      0.39        49\n",
      "          uk       0.37      0.80      0.50        80\n",
      "           y       0.81      0.66      0.73       212\n",
      "\n",
      "    accuracy                           0.62       527\n",
      "   macro avg       0.48      0.49      0.46       527\n",
      "weighted avg       0.64      0.62      0.61       527\n",
      "\n"
     ]
    },
    {
     "name": "stderr",
     "output_type": "stream",
     "text": [
      "/usr/local/lib/python3.10/dist-packages/sklearn/metrics/_classification.py:1344: UndefinedMetricWarning: Precision and F-score are ill-defined and being set to 0.0 in labels with no predicted samples. Use `zero_division` parameter to control this behavior.\n",
      "  _warn_prf(average, modifier, msg_start, len(result))\n",
      "/usr/local/lib/python3.10/dist-packages/sklearn/metrics/_classification.py:1344: UndefinedMetricWarning: Precision and F-score are ill-defined and being set to 0.0 in labels with no predicted samples. Use `zero_division` parameter to control this behavior.\n",
      "  _warn_prf(average, modifier, msg_start, len(result))\n",
      "/usr/local/lib/python3.10/dist-packages/sklearn/metrics/_classification.py:1344: UndefinedMetricWarning: Precision and F-score are ill-defined and being set to 0.0 in labels with no predicted samples. Use `zero_division` parameter to control this behavior.\n",
      "  _warn_prf(average, modifier, msg_start, len(result))\n"
     ]
    }
   ],
   "source": [
    "print(model.evaluate(df_test['QA'], y_test))\n",
    "y_predicted = model.predict(df_test['QA'])\n",
    "\n",
    "pred_results = tf.cast(tf.equal(y_predicted, tf.reduce_max(y_predicted, axis = 1, keepdims=True)), tf.float32)\n",
    "\n",
    "pred_results = pd.DataFrame(pred_results.numpy(), columns = ['gold_n',\n",
    "                                       'gold_pn',\n",
    "                                       'gold_py',\n",
    "                                       'gold_uk',\n",
    "                                       'gold_y'])\n",
    "\n",
    "pred_results.shape\n",
    "pred_results.to_numpy()\n",
    "pred_results = [np.where(r==1)[0][0] for r in pred_results.to_numpy()]\n",
    "pred_results = pd.DataFrame(pred_results, columns=['gold'])\n",
    "\n",
    "pred_results['gold'] = pred_results['gold'].map({0:'n',\n",
    "                                                   1:'pn',\n",
    "                                                   2:'py',\n",
    "                                                   3:'uk',\n",
    "                                                   4:'y'})\n",
    "\n",
    "test_gtruths = [np.where(r==1)[0][0] for r in y_test.to_numpy()]\n",
    "test_gtruths = pd.DataFrame(test_gtruths, columns=['gold'])\n",
    "\n",
    "test_gtruths['gold'] = test_gtruths['gold'].map({0:'n',\n",
    "                                                   1:'pn',\n",
    "                                                   2:'py',\n",
    "                                                   3:'uk',\n",
    "                                                   4:'y'})\n",
    "\n",
    "print('TEST')\n",
    "from sklearn.metrics import classification_report\n",
    "print(classification_report(y_true = test_gtruths['gold'], y_pred = pred_results['gold']))"
   ]
  },
  {
   "cell_type": "code",
   "execution_count": 29,
   "metadata": {
    "colab": {
     "base_uri": "https://localhost:8080/",
     "height": 562
    },
    "executionInfo": {
     "elapsed": 28,
     "status": "ok",
     "timestamp": 1686616842942,
     "user": {
      "displayName": "Shivam Mathur",
      "userId": "13996464205483377357"
     },
     "user_tz": 420
    },
    "id": "CP0sgARSFq0V",
    "outputId": "02678959-3765-47be-efb1-5681585c3c9a"
   },
   "outputs": [
    {
     "data": {
      "image/png": "[encoded data removed]",
      "text/plain": [
       "<Figure size 640x480 with 2 Axes>"
      ]
     },
     "metadata": {},
     "output_type": "display_data"
    },
    {
     "name": "stdout",
     "output_type": "stream",
     "text": [
      "gold         n  pn  py  uk    y\n",
      "predicted                      \n",
      "n          107  10   8   7   20\n",
      "py           2   4  15   1    6\n",
      "uk          36  15  13  64   46\n",
      "y           12   0  13   8  140\n"
     ]
    }
   ],
   "source": [
    "import seaborn as sns\n",
    "import matplotlib.pyplot as plt\n",
    "\n",
    "confusion_matrix = pd.crosstab(pred_results['gold'],test_gtruths['gold'],rownames=['predicted'], colnames=['gold'])\n",
    "\n",
    "sns.heatmap(confusion_matrix,annot=True,cmap='Blues', fmt='g')\n",
    "plt.show()\n",
    "print(confusion_matrix)"
   ]
  },
  {
   "cell_type": "code",
   "execution_count": 30,
   "metadata": {
    "executionInfo": {
     "elapsed": 6,
     "status": "ok",
     "timestamp": 1686616842943,
     "user": {
      "displayName": "Shivam Mathur",
      "userId": "13996464205483377357"
     },
     "user_tz": 420
    },
    "id": "aUPVtHSYLsXY"
   },
   "outputs": [],
   "source": [
    "pred_results.to_csv('/content/drive/MyDrive/expts_emnlp23/results/B_swda+tuning.csv')"
   ]
  }
 ],
 "metadata": {
  "accelerator": "GPU",
  "colab": {
   "authorship_tag": "ABX9TyPqdvWHDgWPfD73z9cMw7ky",
   "gpuType": "A100",
   "machine_shape": "hm",
   "mount_file_id": "1yBuO2NDYTI3chPotn8NfHrogThZRzFQE",
   "provenance": []
  },
  "kernelspec": {
   "display_name": "Python 3 (ipykernel)",
   "language": "python",
   "name": "python3"
  },
  "language_info": {
   "codemirror_mode": {
    "name": "ipython",
    "version": 3
   },
   "file_extension": ".py",
   "mimetype": "text/x-python",
   "name": "python",
   "nbconvert_exporter": "python",
   "pygments_lexer": "ipython3",
   "version": "3.9.7"
  }
 },
 "nbformat": 4,
 "nbformat_minor": 1
}
