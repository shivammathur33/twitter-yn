{
 "cells": [
  {
   "cell_type": "code",
   "execution_count": null,
   "metadata": {
    "colab": {
     "base_uri": "https://localhost:8080/"
    },
    "id": "po66LO3YF_mk",
    "outputId": "6dc7fab2-8287-4512-8f6a-9ed757f989e8"
   },
   "outputs": [
    {
     "name": "stdout",
     "output_type": "stream",
     "text": [
      "Looking in indexes: https://pypi.org/simple, https://us-python.pkg.dev/colab-wheels/public/simple/\n",
      "Requirement already satisfied: openai in /usr/local/lib/python3.9/dist-packages (0.27.4)\n",
      "Requirement already satisfied: aiohttp in /usr/local/lib/python3.9/dist-packages (from openai) (3.8.4)\n",
      "Requirement already satisfied: requests>=2.20 in /usr/local/lib/python3.9/dist-packages (from openai) (2.27.1)\n",
      "Requirement already satisfied: tqdm in /usr/local/lib/python3.9/dist-packages (from openai) (4.65.0)\n",
      "Requirement already satisfied: idna<4,>=2.5 in /usr/local/lib/python3.9/dist-packages (from requests>=2.20->openai) (3.4)\n",
      "Requirement already satisfied: urllib3<1.27,>=1.21.1 in /usr/local/lib/python3.9/dist-packages (from requests>=2.20->openai) (1.26.15)\n",
      "Requirement already satisfied: certifi>=2017.4.17 in /usr/local/lib/python3.9/dist-packages (from requests>=2.20->openai) (2022.12.7)\n",
      "Requirement already satisfied: charset-normalizer~=2.0.0 in /usr/local/lib/python3.9/dist-packages (from requests>=2.20->openai) (2.0.12)\n",
      "Requirement already satisfied: async-timeout<5.0,>=4.0.0a3 in /usr/local/lib/python3.9/dist-packages (from aiohttp->openai) (4.0.2)\n",
      "Requirement already satisfied: aiosignal>=1.1.2 in /usr/local/lib/python3.9/dist-packages (from aiohttp->openai) (1.3.1)\n",
      "Requirement already satisfied: frozenlist>=1.1.1 in /usr/local/lib/python3.9/dist-packages (from aiohttp->openai) (1.3.3)\n",
      "Requirement already satisfied: attrs>=17.3.0 in /usr/local/lib/python3.9/dist-packages (from aiohttp->openai) (22.2.0)\n",
      "Requirement already satisfied: yarl<2.0,>=1.0 in /usr/local/lib/python3.9/dist-packages (from aiohttp->openai) (1.8.2)\n",
      "Requirement already satisfied: multidict<7.0,>=4.5 in /usr/local/lib/python3.9/dist-packages (from aiohttp->openai) (6.0.4)\n"
     ]
    }
   ],
   "source": [
    "pip install openai"
   ]
  },
  {
   "cell_type": "code",
   "execution_count": null,
   "metadata": {
    "id": "xqTWHp3UPAcG"
   },
   "outputs": [],
   "source": [
    "import os\n",
    "import openai\n",
    "openai.api_key = os.getenv(\"blah\")\n",
    "openai.api_key = \"blah\""
   ]
  },
  {
   "cell_type": "code",
   "execution_count": null,
   "metadata": {
    "id": "CsROWZwzHSg_"
   },
   "outputs": [],
   "source": [
    "prompt_text= \"\\nQuestion: Is it okay to read a book at a bar?\\nAnswer: Sure, unless you do not mind getting beaten up.\\nChoose the correct interpretation: yes, no, probably yes, probably no, unknown.\"\n"
   ]
  },
  {
   "cell_type": "code",
   "execution_count": null,
   "metadata": {
    "colab": {
     "base_uri": "https://localhost:8080/"
    },
    "id": "2hR6IBxExY2Q",
    "outputId": "36525467-ea2f-45eb-9012-884b1a5da755"
   },
   "outputs": [
    {
     "name": "stdout",
     "output_type": "stream",
     "text": [
      "Question: Do you have any weird things that you’re really really good at?\n",
      "Answer: i can balance things, like tennis rackets or golf clubs, on my nose. \n",
      "The given answer can be interpreted as yes. \n",
      "\n",
      "Question: Do you guys believe in ghosts?\n",
      "Answer:\ti do believe in ghost and i'm not afraid of ghost.\n",
      "The given answer can be interpreted as yes. \n",
      "\n",
      "Question: Do you think that inmates should get access to free university education while in prison? \n",
      "Answer: if our intent is to rehabilitate, we should absolutely offer higher education to inmates.\n",
      "The given answer can be interpreted as probably yes. \n",
      "\n",
      "Question: Do you like cereal? \n",
      "Answer: sometimes, i have to be in the mood for it.\n",
      "The given answer can be interpreted as probably yes. \n",
      "\n",
      "Question: My boss was surprised I can drive a manual. Is it that unusual for females to be able to drive manuals?\n",
      "Answer: i learnt to drive in a manual.\n",
      "The given answer can be interpreted as no.\n",
      "\n",
      "Question: Is it too early for pizza? \n",
      "Answer: every time of day can be pizza time.\n",
      "The given answer can be interpreted as no. \n",
      "\n",
      "Question: On a work zoom, is it unprofessional to obviously be in your bed? \n",
      "Answer: anyone who would be working with you needs to know you’re a bed boy. \n",
      "The given answer can be interpreted as probably no.\n",
      "\n",
      "Question: Is it a crime to get extra vaccination shots? \n",
      "Answer: we'll all be doing it for the rest of our lives so i hope not. \n",
      "The given answer can be interpreted as probably no. \n",
      "\n",
      "Question: Do you pee in the ocean?\n",
      "Answer: tell gio to cut his hair, he looks like an idiot.\n",
      "The given answer can be interpreted as unknown.\n",
      "\n",
      "Question: Do you believe your phone is listening to you? \n",
      "Answer: even if it does, i don't mind. i've got nothing to hide.\n",
      "The given answer can be interpreted as unknown. \n",
      "\n",
      "Question: Is it okay to read a book at a bar?\n",
      "Answer: Sure, unless you do not mind getting beaten up.\n",
      "Choose the correct interpretation: yes, no, probably yes, probably, unknown.\n"
     ]
    }
   ],
   "source": [
    "temp_text=few_shots+'\\n'+prompt_text\n",
    "print(temp_text)"
   ]
  },
  {
   "cell_type": "code",
   "execution_count": null,
   "metadata": {
    "colab": {
     "base_uri": "https://localhost:8080/"
    },
    "id": "jQ5fhsPZFtZ6",
    "outputId": "642b6e78-6540-42dd-adff-cc8c68f0ea5e"
   },
   "outputs": [
    {
     "name": "stdout",
     "output_type": "stream",
     "text": [
      "\n",
      "\n",
      "The given answer can be interpreted as no.\n"
     ]
    }
   ],
   "source": [
    "response = openai.Completion.create(\n",
    "engine=\"text-davinci-002\",\n",
    "prompt=temp_text,\n",
    "temperature=0.7,\n",
    "max_tokens=32,\n",
    "top_p=1,\n",
    "frequency_penalty=0,\n",
    "presence_penalty=0\n",
    ")\n",
    "\n",
    "print(response.choices[0].text)"
   ]
  },
  {
   "cell_type": "code",
   "execution_count": null,
   "metadata": {
    "id": "aCFJNswZWnIE"
   },
   "outputs": [],
   "source": [
    "import pandas as pd\n",
    "df=pd.read_csv(\"TE_a.csv\")\n",
    "df=df.astype(str)"
   ]
  },
  {
   "cell_type": "code",
   "execution_count": null,
   "metadata": {
    "colab": {
     "base_uri": "https://localhost:8080/"
    },
    "id": "2kLpjRbTW5ch",
    "outputId": "027300e1-2f7e-4fe4-ee84-bcfc7a2fd154"
   },
   "outputs": [
    {
     "name": "stdout",
     "output_type": "stream",
     "text": [
      "Question: Do you have any weird things that you’re really really good at?\n",
      "Answer: i can balance things, like tennis rackets or golf clubs, on my nose. \n",
      "The given answer can be interpreted as yes. \n",
      "\n",
      "Question: Do you guys believe in ghosts?\n",
      "Answer:\ti do believe in ghost and i'm not afraid of ghost.\n",
      "The given answer can be interpreted as yes. \n",
      "\n",
      "Question: Do you think that inmates should get access to free university education while in prison? \n",
      "Answer: if our intent is to rehabilitate, we should absolutely offer higher education to inmates.\n",
      "The given answer can be interpreted as probably yes. \n",
      "\n",
      "Question: Do you like cereal? \n",
      "Answer: sometimes, i have to be in the mood for it.\n",
      "The given answer can be interpreted as probably yes. \n",
      "\n",
      "Question: My boss was surprised I can drive a manual. Is it that unusual for females to be able to drive manuals?\n",
      "Answer: i learnt to drive in a manual.\n",
      "The given answer can be interpreted as no.\n",
      "\n",
      "Question: Is it too early for pizza? \n",
      "Answer: every time of day can be pizza time.\n",
      "The given answer can be interpreted as no. \n",
      "\n",
      "Question: On a work zoom, is it unprofessional to obviously be in your bed? \n",
      "Answer: anyone who would be working with you needs to know you’re a bed boy. \n",
      "The given answer can be interpreted as probably no.\n",
      "\n",
      "Question: Is it a crime to get extra vaccination shots? \n",
      "Answer: we'll all be doing it for the rest of our lives so i hope not. \n",
      "The given answer can be interpreted as probably no. \n",
      "\n",
      "Question: Do you pee in the ocean?\n",
      "Answer: tell gio to cut his hair, he looks like an idiot.\n",
      "The given answer can be interpreted as unknown.\n",
      "\n",
      "Question: Do you believe your phone is listening to you? \n",
      "Answer: even if it does, i don't mind. i've got nothing to hide.\n",
      "The given answer can be interpreted as unknown. \n"
     ]
    }
   ],
   "source": [
    "eg1 = \"Question: Do you have any weird things that you’re really really good at?\\nAnswer: i can balance things, like tennis rackets or golf clubs, on my nose. \\nThe given answer can be interpreted as yes. \"\n",
    "eg1_1 = \"Question: Do you guys believe in ghosts?\\nAnswer:\ti do believe in ghost and i'm not afraid of ghost.\\nThe given answer can be interpreted as yes. \"\n",
    "\n",
    "\n",
    "eg2 = \"Question: Do you think that inmates should get access to free university education while in prison? \\nAnswer: if our intent is to rehabilitate, we should absolutely offer higher education to inmates.\\nThe given answer can be interpreted as probably yes. \"\n",
    "eg2_1 = \"Question: Do you like cereal? \\nAnswer: sometimes, i have to be in the mood for it.\\nThe given answer can be interpreted as probably yes. \"\n",
    "\n",
    "eg3 = \"Question: My boss was surprised I can drive a manual. Is it that unusual for females to be able to drive manuals?\\nAnswer: i learnt to drive in a manual.\\nThe given answer can be interpreted as no.\"\n",
    "eg3_1 = \"Question: Is it too early for pizza? \\nAnswer: every time of day can be pizza time.\\nThe given answer can be interpreted as no. \"\n",
    "\n",
    "\n",
    "eg4 = \"Question: On a work zoom, is it unprofessional to obviously be in your bed? \\nAnswer: anyone who would be working with you needs to know you’re a bed boy. \\nThe given answer can be interpreted as probably no.\"\n",
    "eg4_1 = \"Question: Is it a crime to get extra vaccination shots? \\nAnswer: we'll all be doing it for the rest of our lives so i hope not. \\nThe given answer can be interpreted as probably no. \"\n",
    "\n",
    "eg5 = \"Question: Do you pee in the ocean?\\nAnswer: tell gio to cut his hair, he looks like an idiot.\\nThe given answer can be interpreted as unknown.\"\n",
    "eg5_1 = \"Question: Do you believe your phone is listening to you? \\nAnswer: even if it does, i don't mind. i've got nothing to hide.\\nThe given answer can be interpreted as unknown. \"\n",
    "\n",
    "few_shots=eg1+'\\n\\n'+eg1_1+'\\n\\n'+eg2+'\\n\\n'+eg2_1+'\\n\\n'+eg3+'\\n\\n'+eg3_1+'\\n\\n'+eg4+'\\n\\n'+eg4_1+'\\n\\n'+eg5+'\\n\\n'+eg5_1\n",
    "print(few_shots)"
   ]
  },
  {
   "cell_type": "code",
   "execution_count": null,
   "metadata": {
    "id": "S3uHETkYXA0X"
   },
   "outputs": [],
   "source": [
    "\n",
    "df['prompt']=few_shots+'\\n\\n' 'Question: ' + df['Main_tweet'] + '\\n' + 'Answer:'+df['Reply_tweet'] + '\\nChoose the correct interpretation: yes, no, probably yes, probably, unknown.'\n"
   ]
  },
  {
   "cell_type": "code",
   "execution_count": null,
   "metadata": {
    "colab": {
     "base_uri": "https://localhost:8080/"
    },
    "id": "jle8u12rZEg0",
    "outputId": "59f68778-ff43-423a-bd49-031a0f7cd5f8"
   },
   "outputs": [
    {
     "name": "stdout",
     "output_type": "stream",
     "text": [
      "Question: Do you have any weird things that you’re really really good at?\n",
      "Answer: i can balance things, like tennis rackets or golf clubs, on my nose. \n",
      "The given answer can be interpreted as yes. \n",
      "\n",
      "Question: Do you guys believe in ghosts?\n",
      "Answer:\ti do believe in ghost and i'm not afraid of ghost.\n",
      "The given answer can be interpreted as yes. \n",
      "\n",
      "Question: Do you think that inmates should get access to free university education while in prison? \n",
      "Answer: if our intent is to rehabilitate, we should absolutely offer higher education to inmates.\n",
      "The given answer can be interpreted as probably yes. \n",
      "\n",
      "Question: Do you like cereal? \n",
      "Answer: sometimes, i have to be in the mood for it.\n",
      "The given answer can be interpreted as probably yes. \n",
      "\n",
      "Question: My boss was surprised I can drive a manual. Is it that unusual for females to be able to drive manuals?\n",
      "Answer: i learnt to drive in a manual.\n",
      "The given answer can be interpreted as no.\n",
      "\n",
      "Question: Is it too early for pizza? \n",
      "Answer: every time of day can be pizza time.\n",
      "The given answer can be interpreted as no. \n",
      "\n",
      "Question: On a work zoom, is it unprofessional to obviously be in your bed? \n",
      "Answer: anyone who would be working with you needs to know you’re a bed boy. \n",
      "The given answer can be interpreted as probably no.\n",
      "\n",
      "Question: Is it a crime to get extra vaccination shots? \n",
      "Answer: we'll all be doing it for the rest of our lives so i hope not. \n",
      "The given answer can be interpreted as probably no. \n",
      "\n",
      "Question: Do you pee in the ocean?\n",
      "Answer: tell gio to cut his hair, he looks like an idiot.\n",
      "The given answer can be interpreted as unknown.\n",
      "\n",
      "Question: Do you believe your phone is listening to you? \n",
      "Answer: even if it does, i don't mind. i've got nothing to hide.\n",
      "The given answer can be interpreted as unknown. \n",
      "\n",
      "Question: Do you think student loans should be forgiven?\n",
      "Answer: no, unless there is a period of service to uncle sam in return.\n",
      "Choose the correct interpretation: yes, no, probably yes, probably, unknown.\n"
     ]
    }
   ],
   "source": [
    "print(df['prompt'][0])"
   ]
  },
  {
   "cell_type": "code",
   "execution_count": 1,
   "metadata": {
    "colab": {
     "base_uri": "https://localhost:8080/"
    },
    "id": "KXJ8iYVOOyta",
    "outputId": "0aa3b47d-a6a1-4470-e9ee-9b7666673648"
   },
   "outputs": [],
   "source": [
    "def get_gen_text(prompt_text):\n",
    "\n",
    "  response = openai.Completion.create(\n",
    "  engine=\"text-davinci-002\",\n",
    "  prompt=prompt_text,\n",
    "  temperature=0.7,\n",
    "  max_tokens=32,\n",
    "  top_p=1,\n",
    "  frequency_penalty=0,\n",
    "  presence_penalty=0)\n",
    "\n",
    "\n",
    "\n",
    "#   print(len(prompt_text))\n",
    "#   print(response.choices[0].text)\n",
    "\n",
    "  return response.choices[0].text\n",
    "\n",
    "df['gpt3_out'] = df['prompt'].apply(lambda x: get_gen_text(x))\n"
   ]
  },
  {
   "cell_type": "code",
   "execution_count": null,
   "metadata": {
    "colab": {
     "base_uri": "https://localhost:8080/"
    },
    "id": "Se46M0q5vrMu",
    "outputId": "d3b1ddfe-7d41-4792-88e6-13dc0f9bbac5"
   },
   "outputs": [
    {
     "data": {
      "text/plain": [
       "\\n\\nThe given answer can be interpreted as yes.                 260\n",
       "\\n\\nThe given answer can be interpreted as unknown.              76\n",
       "\\n\\nThe given answer can be interpreted as no.                   70\n",
       "\\n\\nThe given answer can be interpreted as probably yes.         29\n",
       "\\n\\nThe given answer can be interpreted as probably no.          29\n",
       "\\nThe given answer can be interpreted as yes.                    24\n",
       "\\n\\n\\nThe given answer can be interpreted as yes.                14\n",
       "\\n\\n\\n\\nThe given answer can be interpreted as yes.              11\n",
       "\\n\\n\\n\\nUnknown                                                  10\n",
       "\\n\\n\\nThe given answer can be interpreted as unknown.             9\n",
       "\\nThe given answer can be interpreted as no.                      8\n",
       "\\n\\nYes                                                           7\n",
       "\\n\\n\\nUnknown                                                     7\n",
       "\\nThe given answer can be interpreted as probably no.             6\n",
       "\\n\\nThe correct interpretation is unknown.                        5\n",
       "\\n\\nThe correct interpretation is probably yes.                   5\n",
       "\\n\\nUnknown                                                       4\n",
       "\\nThe given answer can be interpreted as probably yes.            4\n",
       "\\nThe given answer can be interpreted as unknown.                 3\n",
       "\\n\\n\\n\\nThe given answer can be interpreted as no.                2\n",
       "\\n\\n\\nThe given answer can be interpreted as no.                  2\n",
       "\\n\\n\\nThe given answer can be interpreted as probably yes.        1\n",
       "\\n\\nno                                                            1\n",
       "\\n\\nThe answer is yes.                                            1\n",
       "\\n\\n\\nUnknown.                                                    1\n",
       "\\n\\n\\nYes                                                         1\n",
       "\\n\\nThe answer is probably yes.                                   1\n",
       "\\n\\nThe correct interpretation is yes.                            1\n",
       "\\n\\nAnswer: probably yes                                          1\n",
       "\\n\\n\\n\\nYes                                                       1\n",
       "\\n\\n\\n\\nunknown                                                   1\n",
       "\\n\\nThe correct interpretation is \"yes.\"                          1\n",
       "\\n\\n\\nNo                                                          1\n",
       "\\n\\nNo                                                            1\n",
       "\\n\\nyes                                                           1\n",
       "\\n\\n\\n\\nThe given answer can be interpreted as probably yes.      1\n",
       "Name: gpt3_out, dtype: int64"
      ]
     },
     "execution_count": 187,
     "metadata": {},
     "output_type": "execute_result"
    }
   ],
   "source": [
    "df['gpt3_out'].value_counts()"
   ]
  },
  {
   "cell_type": "code",
   "execution_count": null,
   "metadata": {
    "colab": {
     "base_uri": "https://localhost:8080/"
    },
    "id": "_B2n6IMRr-R9",
    "outputId": "29031907-e361-41fd-a72c-ca85499b72bc"
   },
   "outputs": [
    {
     "data": {
      "text/plain": [
       "y     236\n",
       "n     155\n",
       "uk    109\n",
       "py     69\n",
       "pn     31\n",
       "Name: gold_adj, dtype: int64"
      ]
     },
     "execution_count": 188,
     "metadata": {},
     "output_type": "execute_result"
    }
   ],
   "source": [
    "df['gold_adj'].value_counts()"
   ]
  },
  {
   "cell_type": "code",
   "execution_count": null,
   "metadata": {
    "id": "OH1g5JN7ecCJ"
   },
   "outputs": [],
   "source": [
    "import re"
   ]
  },
  {
   "cell_type": "code",
   "execution_count": null,
   "metadata": {
    "id": "mQLudVilZpEW"
   },
   "outputs": [],
   "source": [
    "df['gpt3_out'] = df['gpt3_out'].str.lower()\n",
    "df['gpt3_out'] = df['gpt3_out'].str.replace('\\n','')\n"
   ]
  },
  {
   "cell_type": "code",
   "execution_count": null,
   "metadata": {
    "colab": {
     "base_uri": "https://localhost:8080/"
    },
    "id": "jN8GxHRKwURV",
    "outputId": "41a8806d-379b-48d6-d26a-14895f76a5c2"
   },
   "outputs": [
    {
     "data": {
      "text/plain": [
       "the given answer can be interpreted as yes.             309\n",
       "the given answer can be interpreted as unknown.          88\n",
       "the given answer can be interpreted as no.               82\n",
       "the given answer can be interpreted as probably yes.     35\n",
       "the given answer can be interpreted as probably no.      35\n",
       "unknown                                                  22\n",
       "yes                                                      10\n",
       "the correct interpretation is unknown.                    5\n",
       "the correct interpretation is probably yes.               5\n",
       "no                                                        3\n",
       "the correct interpretation is yes.                        1\n",
       "the correct interpretation is \"yes.\"                      1\n",
       "answer: probably yes                                      1\n",
       "the answer is probably yes.                               1\n",
       "unknown.                                                  1\n",
       "the answer is yes.                                        1\n",
       "Name: gpt3_out, dtype: int64"
      ]
     },
     "execution_count": 191,
     "metadata": {},
     "output_type": "execute_result"
    }
   ],
   "source": [
    "df['gpt3_out'].value_counts()"
   ]
  },
  {
   "cell_type": "code",
   "execution_count": null,
   "metadata": {
    "colab": {
     "base_uri": "https://localhost:8080/"
    },
    "id": "hMUPb6vYgOM9",
    "outputId": "80287960-dbba-4f27-ae0c-7f9e7b96e695"
   },
   "outputs": [
    {
     "data": {
      "text/plain": [
       "1"
      ]
     },
     "execution_count": 192,
     "metadata": {},
     "output_type": "execute_result"
    }
   ],
   "source": [
    "len(re.findall('probably yes', 'it is probably yes'))"
   ]
  },
  {
   "cell_type": "code",
   "execution_count": null,
   "metadata": {
    "id": "AwIosMbbgv3q"
   },
   "outputs": [],
   "source": [
    "def ans_eng(gpt3_out):\n",
    "  if len(re.findall('probably yes', gpt3_out)):\n",
    "    return 'py'\n",
    "  if len(re.findall('probably no', gpt3_out)):\n",
    "    return 'pn'\n",
    "  if len(re.findall('yes', gpt3_out)):\n",
    "    return 'y'\n",
    "  if len(re.findall('unknown', gpt3_out)):\n",
    "    return 'uk'\n",
    "  if len(re.findall('no', gpt3_out)):\n",
    "    return 'n'\n",
    "  else:\n",
    "    return 'uk'"
   ]
  },
  {
   "cell_type": "code",
   "execution_count": null,
   "metadata": {
    "id": "pkaypAPdhMFW"
   },
   "outputs": [],
   "source": [
    "df['gpt3_ans_eng'] = df['gpt3_out'].apply(lambda x: ans_eng(x))\n"
   ]
  },
  {
   "cell_type": "code",
   "execution_count": null,
   "metadata": {
    "colab": {
     "base_uri": "https://localhost:8080/"
    },
    "id": "qDlzL5RahlWW",
    "outputId": "84fc6479-0366-4e3c-ac16-c002b9121d85"
   },
   "outputs": [
    {
     "data": {
      "text/plain": [
       "y     322\n",
       "uk    116\n",
       "n      85\n",
       "py     42\n",
       "pn     35\n",
       "Name: gpt3_ans_eng, dtype: int64"
      ]
     },
     "execution_count": 195,
     "metadata": {},
     "output_type": "execute_result"
    }
   ],
   "source": [
    "df['gpt3_ans_eng'].value_counts()"
   ]
  },
  {
   "cell_type": "code",
   "execution_count": null,
   "metadata": {
    "colab": {
     "base_uri": "https://localhost:8080/"
    },
    "id": "roaIpY6Ehxab",
    "outputId": "aa17d729-7fd5-40c0-fbfb-04a3247e5bc0"
   },
   "outputs": [
    {
     "name": "stdout",
     "output_type": "stream",
     "text": [
      "Model: GPT3 (3.5) (text-davinci-002) few-shot\n",
      "              precision    recall  f1-score   support\n",
      "\n",
      "           n       0.78      0.43      0.55       155\n",
      "          pn       0.29      0.32      0.30        31\n",
      "          py       0.19      0.12      0.14        69\n",
      "          uk       0.47      0.50      0.49       109\n",
      "           y       0.58      0.79      0.67       236\n",
      "\n",
      "    accuracy                           0.54       600\n",
      "   macro avg       0.46      0.43      0.43       600\n",
      "weighted avg       0.55      0.54      0.53       600\n",
      "\n"
     ]
    }
   ],
   "source": [
    "from sklearn.metrics import classification_report\n",
    "print('Model: GPT3 (text-davinci-002) few-shot')\n",
    "print(classification_report(y_true = df['gold_adj'], y_pred = df['gpt3_ans_eng']))\n"
   ]
  },
  {
   "cell_type": "code",
   "execution_count": null,
   "metadata": {
    "colab": {
     "base_uri": "https://localhost:8080/",
     "height": 574
    },
    "id": "-qzTeeB7MidX",
    "outputId": "fafc4b51-bd73-439f-e42d-3406b3e8be48"
   },
   "outputs": [
    {
     "data": {
      "image/png": "[encoded data removed]",
      "text/plain": [
       "<Figure size 640x480 with 2 Axes>"
      ]
     },
     "metadata": {},
     "output_type": "display_data"
    },
    {
     "name": "stdout",
     "output_type": "stream",
     "text": [
      "gold        n  pn  py  uk    y\n",
      "predicted                     \n",
      "n          66   6   1   8    4\n",
      "pn         11  10   2   7    5\n",
      "py          9   2   8   6   17\n",
      "uk         18   4  15  55   24\n",
      "y          51   9  43  33  186\n"
     ]
    }
   ],
   "source": [
    "import seaborn as sns\n",
    "import matplotlib.pyplot as plt\n",
    "\n",
    "confusion_matrix = pd.crosstab(df['gpt3_ans_eng'],df['gold_adj'],rownames=['predicted'], colnames=['gold'])\n",
    "\n",
    "sns.heatmap(confusion_matrix,annot=True,cmap='Blues', fmt='g')\n",
    "plt.show()\n",
    "print(confusion_matrix)"
   ]
  },
  {
   "cell_type": "code",
   "execution_count": null,
   "metadata": {
    "id": "KQs3kv0ervPL"
   },
   "outputs": [],
   "source": [
    "df['result']=df['gpt3_ans_eng']"
   ]
  },
  {
   "cell_type": "code",
   "execution_count": null,
   "metadata": {
    "colab": {
     "base_uri": "https://localhost:8080/",
     "height": 1000
    },
    "id": "ByRSfM64Z6TS",
    "outputId": "84a067d2-33ed-4774-8c8c-ea1c11dd050a"
   },
   "outputs": [
    {
     "data": {
      "text/html": [
       "\n",
       "  <div id=\"df-7a745404-85f2-4540-a23b-a65307630ba5\">\n",
       "    <div class=\"colab-df-container\">\n",
       "      <div>\n",
       "<style scoped>\n",
       "    .dataframe tbody tr th:only-of-type {\n",
       "        vertical-align: middle;\n",
       "    }\n",
       "\n",
       "    .dataframe tbody tr th {\n",
       "        vertical-align: top;\n",
       "    }\n",
       "\n",
       "    .dataframe thead th {\n",
       "        text-align: right;\n",
       "    }\n",
       "</style>\n",
       "<table border=\"1\" class=\"dataframe\">\n",
       "  <thead>\n",
       "    <tr style=\"text-align: right;\">\n",
       "      <th></th>\n",
       "      <th>Unnamed: 0</th>\n",
       "      <th>Main_Tweet_ID</th>\n",
       "      <th>Reply_id</th>\n",
       "      <th>temporal_setting</th>\n",
       "      <th>Main_tweet</th>\n",
       "      <th>Reply_tweet</th>\n",
       "      <th>gold_1</th>\n",
       "      <th>gold_2</th>\n",
       "      <th>gold_adj</th>\n",
       "      <th>prompt</th>\n",
       "      <th>gpt3_out</th>\n",
       "      <th>gpt3_ans_eng</th>\n",
       "      <th>result</th>\n",
       "    </tr>\n",
       "  </thead>\n",
       "  <tbody>\n",
       "    <tr>\n",
       "      <th>0</th>\n",
       "      <td>0</td>\n",
       "      <td>1529794531897614337</td>\n",
       "      <td>1529797807695138816</td>\n",
       "      <td>new</td>\n",
       "      <td>Do you think student loans should be forgiven?</td>\n",
       "      <td>no, unless there is a period of service to un...</td>\n",
       "      <td>pn</td>\n",
       "      <td>n</td>\n",
       "      <td>pn</td>\n",
       "      <td>Question: Do you have any weird things that yo...</td>\n",
       "      <td>the given answer can be interpreted as no.</td>\n",
       "      <td>n</td>\n",
       "      <td>n</td>\n",
       "    </tr>\n",
       "    <tr>\n",
       "      <th>1</th>\n",
       "      <td>1</td>\n",
       "      <td>1529578923331358722</td>\n",
       "      <td>1529584546102095872</td>\n",
       "      <td>new</td>\n",
       "      <td>Is it bad if your fart sounds gurgly?</td>\n",
       "      <td>don't know about bad...dangerous...yup</td>\n",
       "      <td>py</td>\n",
       "      <td>uk</td>\n",
       "      <td>py</td>\n",
       "      <td>Question: Do you have any weird things that yo...</td>\n",
       "      <td>the given answer can be interpreted as yes.</td>\n",
       "      <td>y</td>\n",
       "      <td>y</td>\n",
       "    </tr>\n",
       "    <tr>\n",
       "      <th>2</th>\n",
       "      <td>2</td>\n",
       "      <td>1533912514131640321</td>\n",
       "      <td>1533933413840961536</td>\n",
       "      <td>new</td>\n",
       "      <td>Do you have confidence in the Prime Minister?</td>\n",
       "      <td>move on gmb. time to let our country heal.</td>\n",
       "      <td>py</td>\n",
       "      <td>py</td>\n",
       "      <td>py</td>\n",
       "      <td>Question: Do you have any weird things that yo...</td>\n",
       "      <td>unknown</td>\n",
       "      <td>uk</td>\n",
       "      <td>uk</td>\n",
       "    </tr>\n",
       "    <tr>\n",
       "      <th>3</th>\n",
       "      <td>3</td>\n",
       "      <td>1506565419313868802</td>\n",
       "      <td>1506566897428582406</td>\n",
       "      <td>new</td>\n",
       "      <td>My name regularly gets autocorrected to \"Satan...</td>\n",
       "      <td>i once had a boss who autocorrected to piglet</td>\n",
       "      <td>y</td>\n",
       "      <td>y</td>\n",
       "      <td>y</td>\n",
       "      <td>Question: Do you have any weird things that yo...</td>\n",
       "      <td>the given answer can be interpreted as probabl...</td>\n",
       "      <td>py</td>\n",
       "      <td>py</td>\n",
       "    </tr>\n",
       "    <tr>\n",
       "      <th>4</th>\n",
       "      <td>4</td>\n",
       "      <td>1517175103682973697</td>\n",
       "      <td>1517182016730517509</td>\n",
       "      <td>new</td>\n",
       "      <td>Do you have a calling in your life?</td>\n",
       "      <td>well i should hope so, otherwise there'd be b...</td>\n",
       "      <td>py</td>\n",
       "      <td>py</td>\n",
       "      <td>py</td>\n",
       "      <td>Question: Do you have any weird things that yo...</td>\n",
       "      <td>the given answer can be interpreted as yes.</td>\n",
       "      <td>y</td>\n",
       "      <td>y</td>\n",
       "    </tr>\n",
       "    <tr>\n",
       "      <th>...</th>\n",
       "      <td>...</td>\n",
       "      <td>...</td>\n",
       "      <td>...</td>\n",
       "      <td>...</td>\n",
       "      <td>...</td>\n",
       "      <td>...</td>\n",
       "      <td>...</td>\n",
       "      <td>...</td>\n",
       "      <td>...</td>\n",
       "      <td>...</td>\n",
       "      <td>...</td>\n",
       "      <td>...</td>\n",
       "      <td>...</td>\n",
       "    </tr>\n",
       "    <tr>\n",
       "      <th>595</th>\n",
       "      <td>595</td>\n",
       "      <td>1522018378998853633</td>\n",
       "      <td>1522020091482689536</td>\n",
       "      <td>new</td>\n",
       "      <td>I tend to go back and forth on this, do you li...</td>\n",
       "      <td>honestly, portal + nil is probably donu’s bes...</td>\n",
       "      <td>py</td>\n",
       "      <td>py</td>\n",
       "      <td>py</td>\n",
       "      <td>Question: Do you have any weird things that yo...</td>\n",
       "      <td>the given answer can be interpreted as unknown.</td>\n",
       "      <td>uk</td>\n",
       "      <td>uk</td>\n",
       "    </tr>\n",
       "    <tr>\n",
       "      <th>596</th>\n",
       "      <td>596</td>\n",
       "      <td>1509976642575212544</td>\n",
       "      <td>1510013316726501382</td>\n",
       "      <td>new</td>\n",
       "      <td>Is it ever okay to reject a job offer after ac...</td>\n",
       "      <td>yes, but you have to do it correctly.</td>\n",
       "      <td>py</td>\n",
       "      <td>y</td>\n",
       "      <td>y</td>\n",
       "      <td>Question: Do you have any weird things that yo...</td>\n",
       "      <td>the given answer can be interpreted as yes.</td>\n",
       "      <td>y</td>\n",
       "      <td>y</td>\n",
       "    </tr>\n",
       "    <tr>\n",
       "      <th>597</th>\n",
       "      <td>597</td>\n",
       "      <td>1509627464292704256</td>\n",
       "      <td>1509685227047718914</td>\n",
       "      <td>new</td>\n",
       "      <td>Do you, on a deep level, feel loved?</td>\n",
       "      <td>who are the no's 😭 let me love you!</td>\n",
       "      <td>y</td>\n",
       "      <td>uk</td>\n",
       "      <td>uk</td>\n",
       "      <td>Question: Do you have any weird things that yo...</td>\n",
       "      <td>the given answer can be interpreted as yes.</td>\n",
       "      <td>y</td>\n",
       "      <td>y</td>\n",
       "    </tr>\n",
       "    <tr>\n",
       "      <th>598</th>\n",
       "      <td>598</td>\n",
       "      <td>1528328624385974272</td>\n",
       "      <td>1528330816069292035</td>\n",
       "      <td>new</td>\n",
       "      <td>Don't offer advice unless you were asked. Can'...</td>\n",
       "      <td>but, i did not ask for your advice.</td>\n",
       "      <td>y</td>\n",
       "      <td>uk</td>\n",
       "      <td>uk</td>\n",
       "      <td>Question: Do you have any weird things that yo...</td>\n",
       "      <td>the given answer can be interpreted as yes.</td>\n",
       "      <td>y</td>\n",
       "      <td>y</td>\n",
       "    </tr>\n",
       "    <tr>\n",
       "      <th>599</th>\n",
       "      <td>599</td>\n",
       "      <td>1532024495308939265</td>\n",
       "      <td>1532025237897986049</td>\n",
       "      <td>new</td>\n",
       "      <td>Do you like rift?</td>\n",
       "      <td>interesting that you would put “no” as the fi...</td>\n",
       "      <td>y</td>\n",
       "      <td>py</td>\n",
       "      <td>y</td>\n",
       "      <td>Question: Do you have any weird things that yo...</td>\n",
       "      <td>the given answer can be interpreted as yes.</td>\n",
       "      <td>y</td>\n",
       "      <td>y</td>\n",
       "    </tr>\n",
       "  </tbody>\n",
       "</table>\n",
       "<p>600 rows × 13 columns</p>\n",
       "</div>\n",
       "      <button class=\"colab-df-convert\" onclick=\"convertToInteractive('df-7a745404-85f2-4540-a23b-a65307630ba5')\"\n",
       "              title=\"Convert this dataframe to an interactive table.\"\n",
       "              style=\"display:none;\">\n",
       "        \n",
       "  <svg xmlns=\"http://www.w3.org/2000/svg\" height=\"24px\"viewBox=\"0 0 24 24\"\n",
       "       width=\"24px\">\n",
       "    <path d=\"M0 0h24v24H0V0z\" fill=\"none\"/>\n",
       "    <path d=\"M18.56 5.44l.94 2.06.94-2.06 2.06-.94-2.06-.94-.94-2.06-.94 2.06-2.06.94zm-11 1L8.5 8.5l.94-2.06 2.06-.94-2.06-.94L8.5 2.5l-.94 2.06-2.06.94zm10 10l.94 2.06.94-2.06 2.06-.94-2.06-.94-.94-2.06-.94 2.06-2.06.94z\"/><path d=\"M17.41 7.96l-1.37-1.37c-.4-.4-.92-.59-1.43-.59-.52 0-1.04.2-1.43.59L10.3 9.45l-7.72 7.72c-.78.78-.78 2.05 0 2.83L4 21.41c.39.39.9.59 1.41.59.51 0 1.02-.2 1.41-.59l7.78-7.78 2.81-2.81c.8-.78.8-2.07 0-2.86zM5.41 20L4 18.59l7.72-7.72 1.47 1.35L5.41 20z\"/>\n",
       "  </svg>\n",
       "      </button>\n",
       "      \n",
       "  <style>\n",
       "    .colab-df-container {\n",
       "      display:flex;\n",
       "      flex-wrap:wrap;\n",
       "      gap: 12px;\n",
       "    }\n",
       "\n",
       "    .colab-df-convert {\n",
       "      background-color: #E8F0FE;\n",
       "      border: none;\n",
       "      border-radius: 50%;\n",
       "      cursor: pointer;\n",
       "      display: none;\n",
       "      fill: #1967D2;\n",
       "      height: 32px;\n",
       "      padding: 0 0 0 0;\n",
       "      width: 32px;\n",
       "    }\n",
       "\n",
       "    .colab-df-convert:hover {\n",
       "      background-color: #E2EBFA;\n",
       "      box-shadow: 0px 1px 2px rgba(60, 64, 67, 0.3), 0px 1px 3px 1px rgba(60, 64, 67, 0.15);\n",
       "      fill: #174EA6;\n",
       "    }\n",
       "\n",
       "    [theme=dark] .colab-df-convert {\n",
       "      background-color: #3B4455;\n",
       "      fill: #D2E3FC;\n",
       "    }\n",
       "\n",
       "    [theme=dark] .colab-df-convert:hover {\n",
       "      background-color: #434B5C;\n",
       "      box-shadow: 0px 1px 3px 1px rgba(0, 0, 0, 0.15);\n",
       "      filter: drop-shadow(0px 1px 2px rgba(0, 0, 0, 0.3));\n",
       "      fill: #FFFFFF;\n",
       "    }\n",
       "  </style>\n",
       "\n",
       "      <script>\n",
       "        const buttonEl =\n",
       "          document.querySelector('#df-7a745404-85f2-4540-a23b-a65307630ba5 button.colab-df-convert');\n",
       "        buttonEl.style.display =\n",
       "          google.colab.kernel.accessAllowed ? 'block' : 'none';\n",
       "\n",
       "        async function convertToInteractive(key) {\n",
       "          const element = document.querySelector('#df-7a745404-85f2-4540-a23b-a65307630ba5');\n",
       "          const dataTable =\n",
       "            await google.colab.kernel.invokeFunction('convertToInteractive',\n",
       "                                                     [key], {});\n",
       "          if (!dataTable) return;\n",
       "\n",
       "          const docLinkHtml = 'Like what you see? Visit the ' +\n",
       "            '<a target=\"_blank\" href=https://colab.research.google.com/notebooks/data_table.ipynb>data table notebook</a>'\n",
       "            + ' to learn more about interactive tables.';\n",
       "          element.innerHTML = '';\n",
       "          dataTable['output_type'] = 'display_data';\n",
       "          await google.colab.output.renderOutput(dataTable, element);\n",
       "          const docLink = document.createElement('div');\n",
       "          docLink.innerHTML = docLinkHtml;\n",
       "          element.appendChild(docLink);\n",
       "        }\n",
       "      </script>\n",
       "    </div>\n",
       "  </div>\n",
       "  "
      ],
      "text/plain": [
       "    Unnamed: 0        Main_Tweet_ID             Reply_id temporal_setting  \\\n",
       "0            0  1529794531897614337  1529797807695138816              new   \n",
       "1            1  1529578923331358722  1529584546102095872              new   \n",
       "2            2  1533912514131640321  1533933413840961536              new   \n",
       "3            3  1506565419313868802  1506566897428582406              new   \n",
       "4            4  1517175103682973697  1517182016730517509              new   \n",
       "..         ...                  ...                  ...              ...   \n",
       "595        595  1522018378998853633  1522020091482689536              new   \n",
       "596        596  1509976642575212544  1510013316726501382              new   \n",
       "597        597  1509627464292704256  1509685227047718914              new   \n",
       "598        598  1528328624385974272  1528330816069292035              new   \n",
       "599        599  1532024495308939265  1532025237897986049              new   \n",
       "\n",
       "                                            Main_tweet  \\\n",
       "0       Do you think student loans should be forgiven?   \n",
       "1                Is it bad if your fart sounds gurgly?   \n",
       "2        Do you have confidence in the Prime Minister?   \n",
       "3    My name regularly gets autocorrected to \"Satan...   \n",
       "4                  Do you have a calling in your life?   \n",
       "..                                                 ...   \n",
       "595  I tend to go back and forth on this, do you li...   \n",
       "596  Is it ever okay to reject a job offer after ac...   \n",
       "597               Do you, on a deep level, feel loved?   \n",
       "598  Don't offer advice unless you were asked. Can'...   \n",
       "599                                  Do you like rift?   \n",
       "\n",
       "                                           Reply_tweet gold_1 gold_2 gold_adj  \\\n",
       "0     no, unless there is a period of service to un...     pn      n       pn   \n",
       "1               don't know about bad...dangerous...yup     py     uk       py   \n",
       "2           move on gmb. time to let our country heal.     py     py       py   \n",
       "3        i once had a boss who autocorrected to piglet      y      y        y   \n",
       "4     well i should hope so, otherwise there'd be b...     py     py       py   \n",
       "..                                                 ...    ...    ...      ...   \n",
       "595   honestly, portal + nil is probably donu’s bes...     py     py       py   \n",
       "596              yes, but you have to do it correctly.     py      y        y   \n",
       "597                who are the no's 😭 let me love you!      y     uk       uk   \n",
       "598                but, i did not ask for your advice.      y     uk       uk   \n",
       "599   interesting that you would put “no” as the fi...      y     py        y   \n",
       "\n",
       "                                                prompt  \\\n",
       "0    Question: Do you have any weird things that yo...   \n",
       "1    Question: Do you have any weird things that yo...   \n",
       "2    Question: Do you have any weird things that yo...   \n",
       "3    Question: Do you have any weird things that yo...   \n",
       "4    Question: Do you have any weird things that yo...   \n",
       "..                                                 ...   \n",
       "595  Question: Do you have any weird things that yo...   \n",
       "596  Question: Do you have any weird things that yo...   \n",
       "597  Question: Do you have any weird things that yo...   \n",
       "598  Question: Do you have any weird things that yo...   \n",
       "599  Question: Do you have any weird things that yo...   \n",
       "\n",
       "                                              gpt3_out gpt3_ans_eng result  \n",
       "0           the given answer can be interpreted as no.            n      n  \n",
       "1          the given answer can be interpreted as yes.            y      y  \n",
       "2                                              unknown           uk     uk  \n",
       "3    the given answer can be interpreted as probabl...           py     py  \n",
       "4          the given answer can be interpreted as yes.            y      y  \n",
       "..                                                 ...          ...    ...  \n",
       "595    the given answer can be interpreted as unknown.           uk     uk  \n",
       "596        the given answer can be interpreted as yes.            y      y  \n",
       "597        the given answer can be interpreted as yes.            y      y  \n",
       "598        the given answer can be interpreted as yes.            y      y  \n",
       "599        the given answer can be interpreted as yes.            y      y  \n",
       "\n",
       "[600 rows x 13 columns]"
      ]
     },
     "execution_count": 199,
     "metadata": {},
     "output_type": "execute_result"
    }
   ],
   "source": [
    "df"
   ]
  }
 ],
 "metadata": {
  "accelerator": "GPU",
  "colab": {
   "machine_shape": "hm",
   "provenance": []
  },
  "gpuClass": "standard",
  "kernelspec": {
   "display_name": "Python 3 (ipykernel)",
   "language": "python",
   "name": "python3"
  },
  "language_info": {
   "codemirror_mode": {
    "name": "ipython",
    "version": 3
   },
   "file_extension": ".py",
   "mimetype": "text/x-python",
   "name": "python",
   "nbconvert_exporter": "python",
   "pygments_lexer": "ipython3",
   "version": "3.9.7"
  }
 },
 "nbformat": 4,
 "nbformat_minor": 1
}
